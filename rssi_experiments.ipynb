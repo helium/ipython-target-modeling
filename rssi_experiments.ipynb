{
 "cells": [
  {
   "cell_type": "code",
   "execution_count": 1,
   "metadata": {},
   "outputs": [],
   "source": [
    "import statistics"
   ]
  },
  {
   "cell_type": "code",
   "execution_count": 2,
   "metadata": {},
   "outputs": [],
   "source": [
    "definitely_bad = {\n",
    "    28: 6,\n",
    "    -132: 0,\n",
    "    -121: 0,\n",
    "    -111: 0,\n",
    "    -101: 1,\n",
    "    -91: 1,\n",
    "    -81: 6,\n",
    "    -70: 48,\n",
    "    -60: 187,\n",
    "    -50: 558,\n",
    "    -40: 64\n",
    "\n",
    "}\n",
    "\n",
    "questionable_at_best = {-132: 0,\n",
    "     -124: 0,\n",
    "     -116: 0,\n",
    "     -108: 0,\n",
    "     -100: 59,\n",
    "     -92: 80,\n",
    "     -84: 0,\n",
    "     -76: 0,\n",
    "     -68: 0,\n",
    "     -60: 6,\n",
    "     28: 55}\n",
    "\n",
    "maybe_good = {-132: 0,\n",
    "     -124: 0,\n",
    "     -116: 92,\n",
    "     -108: 74,\n",
    "     -100: 1,\n",
    "     -92: 0,\n",
    "     -84: 0,\n",
    "     -76: 0,\n",
    "     -68: 3,\n",
    "     -61: 0,\n",
    "     28: 53}\n",
    "\n",
    "positively_good = {-132: 0,\n",
    "                   -124: 4,\n",
    "                   -116: 78,\n",
    "                   -108: 8,\n",
    "                   -100: 0,\n",
    "                   -92: 1,\n",
    "                   -84: 0,\n",
    "                   -76: 0,\n",
    "                   -68: 0,\n",
    "                   -60: 0,\n",
    "                   28: 4}\n",
    "ideal = {-132: 0,\n",
    "           -124: 40,\n",
    "           -116: 78,\n",
    "           -108: 120,\n",
    "           -100: 10,\n",
    "           -92: 1,\n",
    "           -84: 0,\n",
    "           -76: 0,\n",
    "           -68: 0,\n",
    "           -60: 0,\n",
    "           28: 0}"
   ]
  },
  {
   "cell_type": "code",
   "execution_count": 5,
   "metadata": {},
   "outputs": [],
   "source": [
    "goodbuckethigh = -95\n",
    "goodbucketlow = -140\n",
    "\n",
    "def split(dist):\n",
    "    gb = {}\n",
    "    bb = {}\n",
    "    for (bucket, val) in dist.items():\n",
    "        if bucket in range(goodbucketlow, goodbuckethigh):\n",
    "            gb[bucket] = val\n",
    "        else:\n",
    "            bb[bucket] = val\n",
    "    print('good buckets: {}'.format(gb))\n",
    "    print('bad buckets: {}'.format(bb))\n",
    "    return (gb, bb)"
   ]
  },
  {
   "cell_type": "code",
   "execution_count": 17,
   "metadata": {},
   "outputs": [
    {
     "name": "stdout",
     "output_type": "stream",
     "text": [
      "good buckets: {-132: 0, -121: 0, -111: 0, -101: 1}\n",
      "bad buckets: {28: 6, -91: 1, -81: 6, -70: 48, -60: 187, -50: 558, -40: 64}\n",
      "max_metric: 558.0, mean_metric: 497.14285714285717\n",
      "avg_metric: 0.001148105625717566\n",
      "prob: 276351.5714285714\n",
      "\n",
      "good buckets: {-132: 0, -124: 0, -116: 0, -108: 0, -100: 59}\n",
      "bad buckets: {-92: 80, -84: 0, -76: 0, -68: 0, -60: 6, 28: 55}\n",
      "max_metric: 1.3559322033898304, mean_metric: 1.9915254237288134\n",
      "avg_metric: 0.295\n",
      "prob: 0.3529158287848318\n",
      "\n",
      "good buckets: {-132: 0, -124: 0, -116: 92, -108: 74, -100: 1}\n",
      "bad buckets: {-92: 0, -84: 0, -76: 0, -68: 3, -61: 0, 28: 53}\n",
      "max_metric: 0.5760869565217391, mean_metric: 0.2794411177644711\n",
      "avg_metric: 0.7488789237668162\n",
      "prob: 0.3054543087737568\n",
      "\n",
      "good buckets: {-132: 0, -124: 4, -116: 78, -108: 8, -100: 0}\n",
      "bad buckets: {-92: 1, -84: 0, -76: 0, -68: 0, -60: 0, 28: 4}\n",
      "max_metric: 0.05128205128205128, mean_metric: 0.0462962962962963\n",
      "avg_metric: 0.9473684210526315\n",
      "prob: 0.9047958214624882\n",
      "\n"
     ]
    }
   ],
   "source": [
    "for i in [definitely_bad, questionable_at_best, maybe_good, positively_good]:\n",
    "    (g, b) = split(i)\n",
    "    max_good = max(g.values())\n",
    "    max_bad = max(b.values())\n",
    "    mean_good = statistics.mean(g.values())\n",
    "    mean_bad = statistics.mean(b.values())\n",
    "    maxmetric = max_bad/max_good\n",
    "    meanmetric = mean_bad/mean_good\n",
    "    print('max_metric: {}, mean_metric: {}'.format(maxmetric, meanmetric))\n",
    "    print('avg_metric: {}'.format(sum(g.values()) / (sum(g.values()) + sum(b.values()))))\n",
    "    print('prob: {}'.format((1-maxmetric)*(1-meanmetric)))\n",
    "    print()"
   ]
  },
  {
   "cell_type": "code",
   "execution_count": null,
   "metadata": {},
   "outputs": [],
   "source": []
  }
 ],
 "metadata": {
  "kernelspec": {
   "display_name": "Python [conda env:ipython-target-modeling] *",
   "language": "python",
   "name": "conda-env-ipython-target-modeling-py"
  },
  "language_info": {
   "codemirror_mode": {
    "name": "ipython",
    "version": 3
   },
   "file_extension": ".py",
   "mimetype": "text/x-python",
   "name": "python",
   "nbconvert_exporter": "python",
   "pygments_lexer": "ipython3",
   "version": "3.7.5"
  }
 },
 "nbformat": 4,
 "nbformat_minor": 2
}
