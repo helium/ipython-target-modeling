{
 "cells": [
  {
   "cell_type": "markdown",
   "metadata": {
    "colab_type": "text",
    "id": "LmDXI6JBucNW"
   },
   "source": [
    "### Dont edit this\n",
    "\n"
   ]
  },
  {
   "cell_type": "code",
   "execution_count": 1,
   "metadata": {
    "colab": {},
    "colab_type": "code",
    "id": "ZTMo_K53rfxb"
   },
   "outputs": [],
   "source": [
    "import requests\n",
    "import matplotlib.pylab as plt\n",
    "import json\n",
    "\n",
    "# Helper\n",
    "def name_to_b58(hotspot_name):\n",
    "    return list(filter(lambda x: '-'.join(x['name'].lower().split(' ')) == hotspot_name,\n",
    "                       HOTSPOTS))[0]['address']\n",
    "\n",
    "def b58_to_name(hb58):\n",
    "    return list(filter(lambda x: x['address'] == hb58, HOTSPOTS))[0]['name']\n",
    "\n",
    "def get_witnesses_by_name(hname):\n",
    "    hotspot = name_to_b58(hname)\n",
    "\n",
    "    witness_resp = requests.get('{}/witnesses/{}'.format(API, hotspot))\n",
    "    assert(witness_resp.status_code == 200)\n",
    "\n",
    "    witnesses = witness_resp.json()['data']\n",
    "    return witnesses\n",
    "\n",
    "def get_witnesses(hb58):\n",
    "    witness_resp = requests.get('{}/witnesses/{}'.format(API, hb58))\n",
    "    assert(witness_resp.status_code == 200)\n",
    "\n",
    "    witnesses = witness_resp.json()['data']\n",
    "    return witnesses\n",
    "\n",
    "def get_path(challenge_id):\n",
    "    challenge_resp = requests.get('{}/challenges/{}'.format(API, challenge_id))\n",
    "    assert(challenge_resp.status_code == 200)\n",
    "    \n",
    "    path = challenge_resp.json()['data']['pathElements']\n",
    "    addresses = [p['address'] for p in path]\n",
    "    return addresses\n",
    "\n",
    "def plot_single_witness_by_name(hname, wname):\n",
    "    witnesses = get_witnesses_by_name(hname)\n",
    "    for witness in witnesses:\n",
    "        if '-'.join(witness['name'].lower().split(' ')) == wname:\n",
    "            hist = witness['hist']\n",
    "            address = witness['address']\n",
    "            w_name = witness['name']\n",
    "            print(\"{} has witnessed {} at these RSSI values\".format(wname, hname))\n",
    "            # print(w_name)\n",
    "            # print(hist)\n",
    "            plt.bar(range(len(hist)), list(hist.values()), align='center')\n",
    "            plt.xticks(range(len(hist)), list(hist.keys()))\n",
    "            plt.title('Histogram')\n",
    "            plt.xlabel('Buckets')\n",
    "            plt.ylabel('Counts')\n",
    "            plt.show()\n",
    "    return\n",
    "\n",
    "def plot_single_witness(hb58, wb58):\n",
    "    witnesses = get_witnesses(hb58)\n",
    "    for witness in witnesses:\n",
    "        if witness['address'] == wb58:\n",
    "            hist = witness['hist']\n",
    "            address = witness['address']\n",
    "            w_name = witness['name']\n",
    "            print(\"{} has witnessed {} at these RSSI values\".format(w_name, b58_to_name(hb58)))\n",
    "            # print(w_name)\n",
    "            print(hist)\n",
    "            plt.bar(range(len(hist)), list(hist.values()), align='center')\n",
    "            plt.xticks(range(len(hist)), list(hist.keys()))\n",
    "            plt.title('Histogram')\n",
    "            plt.xlabel('Buckets')\n",
    "            plt.ylabel('Counts')\n",
    "            plt.show()\n",
    "    return\n",
    "\n",
    "# Constants, don't touch this\n",
    "API = 'https://explorer.helium.foundation/api'\n",
    "hotspots_resp = requests.get(\"{}/hotspots\".format(API))\n",
    "assert(hotspots_resp.status_code == 200)\n",
    "HOTSPOTS = hotspots_resp.json()['data']"
   ]
  },
  {
   "cell_type": "markdown",
   "metadata": {
    "colab_type": "text",
    "id": "XDjGOaAueUGK"
   },
   "source": [
    "### Edit challenge_id to get path RSSI histograms"
   ]
  },
  {
   "cell_type": "code",
   "execution_count": 2,
   "metadata": {},
   "outputs": [],
   "source": [
    "challenge_id = 1689995"
   ]
  },
  {
   "cell_type": "code",
   "execution_count": 3,
   "metadata": {},
   "outputs": [],
   "source": [
    "path_b58_addrs = get_path(challenge_id)"
   ]
  },
  {
   "cell_type": "code",
   "execution_count": 4,
   "metadata": {},
   "outputs": [
    {
     "data": {
      "text/plain": [
       "['112D3XJmbB4ouvhLkDcCJLe7HW8Ae4WFPzTcPDGQ4qE2Aiwwsqq3',\n",
       " '116Lq26mCAjEAKH55o6E5BnUQPGwZX1TUv9WrDS8xRyen4N5ct2',\n",
       " '112k9k4VAqfQAtYJGbgnVgvMjdR6FxYy3SmfRTmyeYptAna5ZBYJ',\n",
       " '11a9u2Dkh3LjkbXYiCH3dendQySrdhLGyYWJYUcLMspESnhczsk',\n",
       " '112NpqyB7Jq3SrmG8tbMwW6rwic8ftpkDFPsechdRzuLE59QSNmY',\n",
       " '112m48zP6UC1yCZkBtUn15vRUk38rPBqJQeoZdZvPHjL4a88uxkc',\n",
       " '112TYyiHFxgGa5oC7wuuwfXyKhWh8oeA5HpRKJvwMCUwBHCVjwgk']"
      ]
     },
     "execution_count": 4,
     "metadata": {},
     "output_type": "execute_result"
    }
   ],
   "source": [
    "path_b58_addrs"
   ]
  },
  {
   "cell_type": "code",
   "execution_count": 5,
   "metadata": {},
   "outputs": [
    {
     "data": {
      "text/plain": [
       "['Breezy Tangelo Nuthatch',\n",
       " 'Melodic Cherry Hamster',\n",
       " 'Tangy Shadow Halibut',\n",
       " 'Bubbly Pastel Ant',\n",
       " 'Wonderful Ceramic Wren',\n",
       " 'Joyous Foggy Snail',\n",
       " 'Joyful Rose Wallaby']"
      ]
     },
     "execution_count": 5,
     "metadata": {},
     "output_type": "execute_result"
    }
   ],
   "source": [
    "path_names = [b58_to_name(i) for i in path_b58_addrs]\n",
    "path_names"
   ]
  },
  {
   "cell_type": "code",
   "execution_count": 6,
   "metadata": {},
   "outputs": [],
   "source": [
    "def plot_path_rssi_hist(path):\n",
    "  path_length = len(path)\n",
    "  i = 0\n",
    "  while i < path_length:\n",
    "      if i == path_length - 1:\n",
    "          print('done')\n",
    "      else:\n",
    "          h = path[i]\n",
    "          w = path[i + 1]\n",
    "          plot_single_witness(h, w)\n",
    "      i += 1\n",
    "  return"
   ]
  },
  {
   "cell_type": "code",
   "execution_count": 7,
   "metadata": {
    "scrolled": false
   },
   "outputs": [
    {
     "name": "stdout",
     "output_type": "stream",
     "text": [
      "Melodic Cherry Hamster has witnessed Breezy Tangelo Nuthatch at these RSSI values\n",
      "{'-132': 0, '-123': 0, '-114': 2, '-105': 194, '-96': 298, '-88': 0, '-79': 0, '-70': 0, '-61': 0, '-52': 0, '28': 12}\n"
     ]
    },
    {
     "data": {
      "image/png": "[encoded data removed]",
      "text/plain": [
       "<Figure size 432x288 with 1 Axes>"
      ]
     },
     "metadata": {
      "needs_background": "light"
     },
     "output_type": "display_data"
    },
    {
     "name": "stdout",
     "output_type": "stream",
     "text": [
      "Tangy Shadow Halibut has witnessed Melodic Cherry Hamster at these RSSI values\n",
      "{'-132': 0, '-122': 3, '-113': 0, '-104': 0, '-95': 77, '-86': 343, '-77': 0, '-68': 0, '-59': 0, '-50': 0, '28': 22}\n"
     ]
    },
    {
     "data": {
      "image/png": "[encoded data removed]",
      "text/plain": [
       "<Figure size 432x288 with 1 Axes>"
      ]
     },
     "metadata": {
      "needs_background": "light"
     },
     "output_type": "display_data"
    },
    {
     "name": "stdout",
     "output_type": "stream",
     "text": [
      "Bubbly Pastel Ant has witnessed Tangy Shadow Halibut at these RSSI values\n",
      "{'-132': 0, '-124': 0, '-116': 0, '-108': 11, '-101': 68, '-93': 894, '-85': 36, '-77': 0, '-70': 0, '-62': 0, '28': 15}\n"
     ]
    },
    {
     "data": {
      "image/png": "[encoded data removed]",
      "text/plain": [
       "<Figure size 432x288 with 1 Axes>"
      ]
     },
     "metadata": {
      "needs_background": "light"
     },
     "output_type": "display_data"
    },
    {
     "name": "stdout",
     "output_type": "stream",
     "text": [
      "Wonderful Ceramic Wren has witnessed Bubbly Pastel Ant at these RSSI values\n",
      "{'-132': 0, '-124': 0, '-116': 0, '-108': 75, '-100': 586, '-92': 323, '-84': 4, '-76': 0, '-68': 0, '-60': 0, '28': 44}\n"
     ]
    },
    {
     "data": {
      "image/png": "[encoded data removed]",
      "text/plain": [
       "<Figure size 432x288 with 1 Axes>"
      ]
     },
     "metadata": {
      "needs_background": "light"
     },
     "output_type": "display_data"
    },
    {
     "name": "stdout",
     "output_type": "stream",
     "text": [
      "Joyous Foggy Snail has witnessed Wonderful Ceramic Wren at these RSSI values\n",
      "{'-132': 0, '-123': 0, '-114': 17, '-106': 610, '-97': 580, '-88': 3, '-80': 0, '-71': 0, '-62': 0, '-54': 0, '28': 10}\n"
     ]
    },
    {
     "data": {
      "image/png": "[encoded data removed]",
      "text/plain": [
       "<Figure size 432x288 with 1 Axes>"
      ]
     },
     "metadata": {
      "needs_background": "light"
     },
     "output_type": "display_data"
    },
    {
     "name": "stdout",
     "output_type": "stream",
     "text": [
      "Joyful Rose Wallaby has witnessed Joyous Foggy Snail at these RSSI values\n",
      "{'-132': 0, '-123': 299, '-115': 531, '-106': 75, '-98': 0, '-90': 0, '-81': 0, '-73': 0, '-64': 0, '-56': 0, '28': 43}\n"
     ]
    },
    {
     "data": {
      "image/png": "[encoded data removed]",
      "text/plain": [
       "<Figure size 432x288 with 1 Axes>"
      ]
     },
     "metadata": {
      "needs_background": "light"
     },
     "output_type": "display_data"
    },
    {
     "name": "stdout",
     "output_type": "stream",
     "text": [
      "done\n"
     ]
    }
   ],
   "source": [
    "plot_path_rssi_hist(path_b58_addrs)"
   ]
  },
  {
   "cell_type": "markdown",
   "metadata": {
    "colab_type": "text",
    "id": "VQ7bHBMGt87O"
   },
   "source": [
    "### Edit hotspot_name and witness_name to get RSSI hist"
   ]
  },
  {
   "cell_type": "code",
   "execution_count": 20,
   "metadata": {
    "colab": {
     "base_uri": "https://localhost:8080/",
     "height": 0
    },
    "colab_type": "code",
    "id": "w__-ZEiueN0V",
    "outputId": "10706fa9-19a2-4c7d-ca5a-0365f3dfc8bc"
   },
   "outputs": [
    {
     "name": "stdout",
     "output_type": "stream",
     "text": [
      "zealous-frost-sloth has witnessed daring-citron-newt at these RSSI values\n"
     ]
    },
    {
     "data": {
      "image/png": "[encoded data removed]",
      "text/plain": [
       "<Figure size 432x288 with 1 Axes>"
      ]
     },
     "metadata": {
      "needs_background": "light"
     },
     "output_type": "display_data"
    }
   ],
   "source": [
    "plot_single_witness_by_name(\"daring-citron-newt\", \"zealous-frost-sloth\")"
   ]
  },
  {
   "cell_type": "code",
   "execution_count": 21,
   "metadata": {},
   "outputs": [
    {
     "name": "stdout",
     "output_type": "stream",
     "text": [
      "shaggy-quartz-rook has witnessed daring-citron-newt at these RSSI values\n"
     ]
    },
    {
     "data": {
      "image/png": "[encoded data removed]",
      "text/plain": [
       "<Figure size 432x288 with 1 Axes>"
      ]
     },
     "metadata": {
      "needs_background": "light"
     },
     "output_type": "display_data"
    }
   ],
   "source": [
    "plot_single_witness_by_name(\"daring-citron-newt\", \"shaggy-quartz-rook\")"
   ]
  },
  {
   "cell_type": "code",
   "execution_count": 22,
   "metadata": {},
   "outputs": [
    {
     "name": "stdout",
     "output_type": "stream",
     "text": [
      "shaggy-quartz-rook has witnessed zealous-frost-sloth at these RSSI values\n"
     ]
    },
    {
     "data": {
      "image/png": "[encoded data removed]",
      "text/plain": [
       "<Figure size 432x288 with 1 Axes>"
      ]
     },
     "metadata": {
      "needs_background": "light"
     },
     "output_type": "display_data"
    }
   ],
   "source": [
    "plot_single_witness_by_name(\"zealous-frost-sloth\", \"shaggy-quartz-rook\")"
   ]
  },
  {
   "cell_type": "markdown",
   "metadata": {
    "colab_type": "text",
    "id": "E5FiZZlKuOm7"
   },
   "source": [
    "### For getting ALL witness RSSIs"
   ]
  },
  {
   "cell_type": "code",
   "execution_count": 10,
   "metadata": {},
   "outputs": [
    {
     "data": {
      "text/plain": [
       "['Breezy Tangelo Nuthatch',\n",
       " 'Melodic Cherry Hamster',\n",
       " 'Tangy Shadow Halibut',\n",
       " 'Bubbly Pastel Ant',\n",
       " 'Wonderful Ceramic Wren',\n",
       " 'Joyous Foggy Snail',\n",
       " 'Joyful Rose Wallaby']"
      ]
     },
     "execution_count": 10,
     "metadata": {},
     "output_type": "execute_result"
    }
   ],
   "source": [
    "path_names"
   ]
  },
  {
   "cell_type": "code",
   "execution_count": 12,
   "metadata": {},
   "outputs": [],
   "source": [
    "def plot_witnesses_for(name):\n",
    "    witnesses = get_witnesses_by_name(name)\n",
    "\n",
    "    for w in witnesses:\n",
    "        hist = w['hist']\n",
    "        address = w['address']\n",
    "        name = w['name']\n",
    "        print(hist)\n",
    "        plt.bar(range(len(hist)), list(hist.values()), align='center')\n",
    "        plt.xticks(range(len(hist)), list(hist.keys()))\n",
    "        plt.title(name)\n",
    "        plt.xlabel('Buckets')\n",
    "        plt.ylabel('Counts')\n",
    "        plt.show()"
   ]
  }
 ],
 "metadata": {
  "colab": {
   "collapsed_sections": [
    "LmDXI6JBucNW",
    "evqLLcfBuHUQ",
    "E5FiZZlKuOm7",
    "dCwnQ7nXuSO5"
   ],
   "name": "Inspect_POC.ipynb",
   "provenance": []
  },
  "kernelspec": {
   "display_name": "Python [conda env:poc-inspector]",
   "language": "python",
   "name": "conda-env-poc-inspector-py"
  },
  "language_info": {
   "codemirror_mode": {
    "name": "ipython",
    "version": 3
   },
   "file_extension": ".py",
   "mimetype": "text/x-python",
   "name": "python",
   "nbconvert_exporter": "python",
   "pygments_lexer": "ipython3",
   "version": "3.7.6"
  },
  "widgets": {
   "application/vnd.jupyter.widget-state+json": {
    "state": {},
    "version_major": 2,
    "version_minor": 0
   }
  }
 },
 "nbformat": 4,
 "nbformat_minor": 1
}
