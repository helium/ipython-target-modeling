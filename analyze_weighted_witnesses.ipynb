{
 "cells": [
  {
   "cell_type": "markdown",
   "metadata": {},
   "source": [
    "### Imports"
   ]
  },
  {
   "cell_type": "code",
   "execution_count": 1,
   "metadata": {},
   "outputs": [],
   "source": [
    "import requests\n",
    "import pandas as pd\n",
    "import pickle\n",
    "from os import path\n",
    "import networkx as nx\n",
    "import matplotlib.pyplot as plt\n",
    "import pydot\n",
    "from networkx.drawing.nx_pydot import graphviz_layout\n",
    "from dataclasses import dataclass\n",
    "from joblib import Parallel, delayed\n",
    "pd.set_option('display.max_colwidth', -1)\n",
    "import plotly.graph_objects as go"
   ]
  },
  {
   "cell_type": "markdown",
   "metadata": {},
   "source": [
    "### Constants"
   ]
  },
  {
   "cell_type": "code",
   "execution_count": 2,
   "metadata": {},
   "outputs": [],
   "source": [
    "API = \"https://explorer.helium.foundation/api\""
   ]
  },
  {
   "cell_type": "code",
   "execution_count": 3,
   "metadata": {},
   "outputs": [],
   "source": [
    "def dashed(name):\n",
    "    ''' Convert title name to lower dashed name '''\n",
    "    return \"-\".join(name.lower().split(\" \"))\n",
    "\n",
    "def get_hotspot(hotspots, name):\n",
    "    ''' Get hotspot by name (lower dashed) '''\n",
    "    return next(x for x in hotspots if x['name'] == name) "
   ]
  },
  {
   "cell_type": "code",
   "execution_count": 4,
   "metadata": {},
   "outputs": [],
   "source": [
    "# get hotspots once\n",
    "hr = requests.get(\"{}/hotspots\".format(API))\n",
    "assert(hr.status_code == 200)\n",
    "hotspots0 = hr.json()['data']\n",
    "HOTSPOTS = []\n",
    "for h in hotspots0:\n",
    "    old_name = h['name']\n",
    "    h['name'] = dashed(old_name)\n",
    "    HOTSPOTS.append(h)"
   ]
  },
  {
   "cell_type": "markdown",
   "metadata": {},
   "source": [
    "### Hotspots dataframe"
   ]
  },
  {
   "cell_type": "code",
   "execution_count": 5,
   "metadata": {},
   "outputs": [],
   "source": [
    "df = pd.DataFrame(HOTSPOTS)"
   ]
  },
  {
   "cell_type": "markdown",
   "metadata": {},
   "source": [
    "### Dataframe helpers"
   ]
  },
  {
   "cell_type": "code",
   "execution_count": 6,
   "metadata": {},
   "outputs": [],
   "source": [
    "def get_b58(hdf, name):\n",
    "    ''' Get b58 address for given hotspot name '''\n",
    "    return hdf[hdf['name'] == name].iloc[0]['address']\n",
    "\n",
    "def get_loc_details(hdf, name):\n",
    "    ''' Get location details for a given hotspot name '''\n",
    "    h = hdf[hdf['name'] == name].iloc[0]\n",
    "    return (h['location'], h['long_city'], h['lat'], h['lng'])"
   ]
  },
  {
   "cell_type": "markdown",
   "metadata": {},
   "source": [
    "### Classes"
   ]
  },
  {
   "cell_type": "code",
   "execution_count": 7,
   "metadata": {},
   "outputs": [],
   "source": [
    "@dataclass\n",
    "class Witness:\n",
    "    ''' Dataclass for holding witness information '''\n",
    "    name: str\n",
    "    address: str\n",
    "    cnt: int\n",
    "\n",
    "    def __eq__(self, other):\n",
    "        return self.name == other.name and self.address == other.address\n",
    "    def __hash__(self):\n",
    "        return self.address\n",
    "    def to_dict(self):\n",
    "        return {\n",
    "            'name': self.name,\n",
    "            'address': self.address,\n",
    "            'cnt': self.cnt\n",
    "        }\n",
    "\n",
    "@dataclass\n",
    "class Node:\n",
    "    ''' Class to represent a graph node '''\n",
    "    loc: str\n",
    "    name: str\n",
    "    city: str\n",
    "    lat: float\n",
    "    lng: float\n",
    "\n",
    "    # to make this class hashable\n",
    "    def __eq__(self, other):\n",
    "        return self.loc == other.loc and self.name == other.name\n",
    "    def __hash__(self):\n",
    "        return int(self.loc, 16)\n",
    "    def to_dict(self):\n",
    "        return {\n",
    "            'name': self.name,\n",
    "            'loc': self.loc,\n",
    "            'lat': self.lat,\n",
    "            'lng': self.lng,\n",
    "            'city': self.city\n",
    "        }\n",
    "\n",
    "def new_node(hdf, name):\n",
    "    (h_loc, h_city, h_lat, h_lng) = get_loc_details(hdf, name)\n",
    "    return Node(name=name, loc=h_loc, city=h_city, lat=h_lat, lng=h_lng)"
   ]
  },
  {
   "cell_type": "markdown",
   "metadata": {},
   "source": [
    "### Functions"
   ]
  },
  {
   "cell_type": "code",
   "execution_count": 8,
   "metadata": {},
   "outputs": [],
   "source": [
    "def get_witnesses(hdf, hname):\n",
    "    ''' Get witnesses for given hotspot name '''\n",
    "    b58 = get_b58(hdf, hname)\n",
    "    r = requests.get(\"{}/witnesses/{}\".format(API, b58))\n",
    "    assert(r.status_code == 200)\n",
    "    witnesses_data = r.json()['data']\n",
    "    witnesses = []\n",
    "    for w in witnesses_data:\n",
    "        hist = w['hist']\n",
    "        cnt = sum(hist.values())\n",
    "        w_name = dashed(w['name'])\n",
    "        w_address = w['address']\n",
    "        witnesses.append(Witness(name=w_name, address=w_address, cnt=cnt))\n",
    "    return {\"name\": hname, \"witnesses\": witnesses}\n",
    "\n",
    "def create_or_fetch_weighted_witness_list(hdf, witness_list_pickle_path):\n",
    "    ''' Check if we already have a pickled object for getting witness list faster '''\n",
    "    if path.exists(witness_list_pickle_path):\n",
    "        with open(witness_list_pickle_path, 'rb') as handle:\n",
    "            witness_list = pickle.load(handle)\n",
    "    else:\n",
    "        # make the witness fetching marginally faster by parallelizing requests\n",
    "        witness_list = Parallel(n_jobs=8)(delayed(get_witnesses)(hdf, n) for n in [i for i in hdf.name])\n",
    "        with open(witness_list_pickle_path, 'wb') as handle:\n",
    "            pickle.dump(witness_list, handle, protocol=pickle.HIGHEST_PROTOCOL)\n",
    "    return witness_list\n",
    "\n",
    "def create_or_fetch_weighted_witness_dict(hdf, witness_list, witness_dict_pickle_path):\n",
    "    ''' Check if we already have a pickled object for getting witness dict faster '''\n",
    "    if path.exists(witness_dict_pickle_path):\n",
    "        with open(witness_dict_pickle_path, 'rb') as handle:\n",
    "            witness_dict = pickle.load(handle)\n",
    "    else:\n",
    "        # make the witness fetching marginally faster by parallelizing requests\n",
    "        witness_dict = create_witness_dict(hdf, witness_list)\n",
    "        with open(witness_dict_pickle_path, 'wb') as handle:\n",
    "            pickle.dump(witness_dict, handle, protocol=pickle.HIGHEST_PROTOCOL)\n",
    "    return witness_dict\n",
    "\n",
    "def create_witness_dict(hdf, witness_list):\n",
    "    ''' Create witness dictionary from list of witnesses '''\n",
    "    witnesses = {}\n",
    "    for d in witness_list:\n",
    "        h = d['name']\n",
    "        ws = d['witnesses']\n",
    "        (h_loc, h_city, h_lat, h_lng) = get_loc_details(hdf, h)\n",
    "        if h_loc:\n",
    "            key = Node(name=h, loc=h_loc, city=h_city, lat= h_lat, lng= h_lng)\n",
    "            if len(ws) > 0:\n",
    "                nodes = []\n",
    "                for w in ws:\n",
    "                    (w_loc, w_city, w_lat, w_lng) = get_loc_details(hdf, w.name)\n",
    "                    node = Node(name=w.name, loc=w_loc, city=w_city, lat= w_lat, lng= w_lng)\n",
    "                    nodes.append((node, w.cnt))\n",
    "                witnesses[key] = nodes\n",
    "            else:\n",
    "                witnesses[key] = []\n",
    "    return witnesses\n",
    "\n",
    "def create_or_fetch_graph(witness_dict, graph_pickle_path):\n",
    "    ''' Check if we already have a pickled graph '''\n",
    "    if path.exists(graph_pickle_path):\n",
    "        return nx.read_gpickle(graph_pickle_path)\n",
    "    else:\n",
    "        G = nx.Graph()\n",
    "        G.add_nodes_from(witness_dict.keys())\n",
    "        for k, v in witness_dict.items():\n",
    "            G.add_weighted_edges_from([(k, t, w) for (t, w) in v])\n",
    "        nx.write_gpickle(G, graph_pickle_path, protocol=pickle.HIGHEST_PROTOCOL)\n",
    "    return G\n",
    "\n",
    "def subgraph(big_graph, scc, rank=0):\n",
    "    return big_graph.subgraph(scc[rank])\n",
    "\n",
    "def create_node_df(graph):\n",
    "    return pd.DataFrame.from_records([n.to_dict() for n in list(graph.nodes())])\n",
    "\n",
    "def create_edges_df(graph):\n",
    "    conns = []\n",
    "    for (start, end, data) in graph.edges(data=True):\n",
    "        conns.append({\n",
    "            'from': start.name,\n",
    "            'to': end.name,\n",
    "            'start_lat': start.lat,\n",
    "            'start_lng': start.lng,\n",
    "            'end_lat': end.lat,\n",
    "            'end_lng': end.lng,\n",
    "            'cnt': data['weight']\n",
    "        })\n",
    "    return pd.DataFrame(conns)"
   ]
  },
  {
   "cell_type": "code",
   "execution_count": 9,
   "metadata": {},
   "outputs": [],
   "source": [
    "witness_list = create_or_fetch_weighted_witness_list(df, 'files/weighted_witness_list.pickle')\n",
    "witness_dict = create_or_fetch_weighted_witness_dict(df, witness_list, 'files/weighted_witness_dict.pickle')\n",
    "G = create_or_fetch_graph(witness_dict, 'files/weighted_witness_graph.gpickle')\n",
    "KEEP = G"
   ]
  },
  {
   "cell_type": "code",
   "execution_count": 10,
   "metadata": {},
   "outputs": [
    {
     "data": {
      "text/plain": [
       "True"
      ]
     },
     "execution_count": 10,
     "metadata": {},
     "output_type": "execute_result"
    }
   ],
   "source": [
    "nx.is_weighted(G)"
   ]
  },
  {
   "cell_type": "code",
   "execution_count": 11,
   "metadata": {},
   "outputs": [
    {
     "data": {
      "text/plain": [
       "False"
      ]
     },
     "execution_count": 11,
     "metadata": {},
     "output_type": "execute_result"
    }
   ],
   "source": [
    "nx.is_connected(G)"
   ]
  },
  {
   "cell_type": "code",
   "execution_count": 12,
   "metadata": {},
   "outputs": [
    {
     "data": {
      "text/plain": [
       "0.4045180395173635"
      ]
     },
     "execution_count": 12,
     "metadata": {},
     "output_type": "execute_result"
    }
   ],
   "source": [
    "nx.algorithms.cluster.average_clustering(G)"
   ]
  },
  {
   "cell_type": "code",
   "execution_count": 13,
   "metadata": {},
   "outputs": [
    {
     "name": "stdout",
     "output_type": "stream",
     "text": [
      "Total connected components (sub-graphs): 1226\n",
      "Top 50 biggest sub graphs: \n",
      "[350, 287, 146, 111, 95, 80, 59, 55, 35, 33, 31, 27, 26, 22, 22, 20, 20, 20, 17, 14, 14, 13, 12, 12, 10, 10, 10, 10, 10, 9, 7, 6, 6, 6, 5, 5, 5, 5, 4, 4, 4, 4, 4, 4, 4, 4, 4, 4, 4, 3]\n"
     ]
    }
   ],
   "source": [
    "CC = list(nx.connected_components(G))\n",
    "SCC = sorted(CC, key=len, reverse=True)\n",
    "print('Total connected components (sub-graphs): {}'.format(len(SCC)))\n",
    "print('Top 50 biggest sub graphs: \\n{}'.format([len(i) for i in SCC[:50]]))"
   ]
  },
  {
   "cell_type": "code",
   "execution_count": 16,
   "metadata": {
    "scrolled": false
   },
   "outputs": [
    {
     "data": {
      "application/vnd.plotly.v1+json": {
       "config": {
        "plotlyServerURL": "https://plot.ly"
       },
       "data": [
        {
         "hoverinfo": "text",
         "lat": [
          42.3364329096909,
          42.34564071980456,
          42.33789357023185,
          42.34593746797057,
          42.38249268945399,
          42.34210116337201,
          42.28496167876716,
          42.33490544089794,
          42.399380571985986,
          42.354092679541026,
          42.38692828289797,
          42.334739570392436,
          42.2844350221873,
          42.28479719228265,
          42.39386778194585,
          42.278298298912006,
          42.401900351632094,
          42.35815247910236,
          42.33893588934812,
          42.36425838174556,
          42.39943258898299,
          42.37291776022968,
          42.39290080439988,
          42.26072214523669,
          42.341293212365024,
          42.360863024211085,
          42.284852214384,
          42.284852214384,
          42.284852214384,
          42.284852214384,
          42.284852214384,
          42.284852214384,
          42.372381899935945,
          42.37810709017599,
          42.33077904779031,
          42.35838943093695,
          42.35574132001731,
          42.35459026182861,
          42.35074534382176,
          42.356122370504096,
          42.41024687459465,
          42.284687728152626,
          42.40839032224402,
          42.384822692554906,
          42.36594803677225,
          42.33561081380296,
          42.257711401594214,
          42.41933538851051,
          42.39356586810918,
          42.350143266630866,
          42.354621663299945,
          42.36424454107258,
          42.36617386761112,
          42.387646861728214,
          42.28666100376121,
          42.26483535919734,
          42.416453257988366,
          42.39337618115969,
          42.38924526303799
         ],
         "lon": [
          -71.04835325355748,
          -71.06326905318093,
          -71.13407166420512,
          -71.14997780376456,
          -71.09459207277507,
          -71.14690739568448,
          -70.87955271887495,
          -71.02821498603856,
          -71.11441155138579,
          -71.05865560485466,
          -71.10580776951713,
          -71.03195665403791,
          -71.06497337241484,
          -70.87951225390577,
          -71.07850521214704,
          -71.06007938536698,
          -71.119677277128,
          -71.05946107561675,
          -71.08009051470742,
          -71.10915783545272,
          -71.11716148178346,
          -71.11996126734232,
          -71.11636019035012,
          -71.02169167918231,
          -71.08215301005254,
          -71.10220450741502,
          -70.87973561981863,
          -70.87973561981863,
          -70.87973561981863,
          -70.87973561981863,
          -70.87973561981863,
          -70.87973561981863,
          -71.10762308660668,
          -71.14062766942976,
          -71.05555728644288,
          -71.10663119539407,
          -71.05402126263004,
          -71.0518409205751,
          -71.05950030191781,
          -71.05937370784136,
          -71.11840888121947,
          -70.87969515428324,
          -70.99878539000247,
          -71.1663165596363,
          -71.05278831785023,
          -71.04688668772411,
          -71.00877265296344,
          -71.08720985374924,
          -71.11021255871054,
          -71.05703680547452,
          -71.13870616301386,
          -71.05719970057697,
          -71.03917378493242,
          -71.10051630922396,
          -70.87955110214068,
          -71.01264391328328,
          -71.11660127360028,
          -71.13289924826404,
          -71.09313059662361
         ],
         "marker": {
          "color": "red",
          "size": 15
         },
         "text": [
          "bright-aquamarine-seal",
          "sweet-citron-stork",
          "cheesy-brick-mustang",
          "dandy-ruby-yeti",
          "gorgeous-chambray-turtle",
          "hidden-pastel-wasp",
          "mini-cloth-ape",
          "fierce-tan-mongoose",
          "bent-ceramic-chipmunk",
          "muscular-pastel-squid",
          "late-mint-gazelle",
          "cheery-cloud-guppy",
          "short-shadow-panda",
          "innocent-tweed-wolverine",
          "daring-caramel-shark",
          "virtual-cornflower-mammoth",
          "creamy-fern-coyote",
          "fit-myrtle-gibbon",
          "upbeat-currant-mouse",
          "proper-carob-giraffe",
          "salty-scarlet-finch",
          "sunny-pearl-badger",
          "nice-iris-gerbil",
          "fluffy-aqua-stallion",
          "perfect-chartreuse-butterfly",
          "loud-seafoam-mink",
          "hollow-jade-hare",
          "damp-scarlet-squirrel",
          "custom-tartan-sparrow",
          "unique-cobalt-stallion",
          "broad-holographic-beetle",
          "real-gauze-loris",
          "acrobatic-golden-parakeet",
          "amusing-topaz-dalmatian",
          "scrawny-sable-cat",
          "straight-ginger-tadpole",
          "chilly-azure-scorpion",
          "soft-clay-tiger",
          "spicy-opaque-sloth",
          "small-chili-leopard",
          "short-amber-cricket",
          "fun-pink-kangaroo",
          "vast-lead-chipmunk",
          "stable-currant-hornet",
          "crazy-zinc-rook",
          "interesting-tortilla-armadillo",
          "stale-arctic-panther",
          "immense-paisley-moose",
          "rural-rosewood-wallaby",
          "short-graphite-terrier",
          "innocent-chili-toad",
          "slow-flaxen-locust",
          "massive-pastel-pheasant",
          "high-cloud-elk",
          "stale-citron-stork",
          "harsh-citron-spider",
          "old-gingham-llama",
          "original-sandstone-elephant",
          "fit-cornflower-turkey"
         ],
         "type": "scattermapbox"
        },
        {
         "lat": [
          42.3364329096909,
          42.350143266630866
         ],
         "line": {
          "color": "blue",
          "width": 6
         },
         "lon": [
          -71.04835325355748,
          -71.05703680547452
         ],
         "mode": "lines",
         "opacity": 0.0005065856129685917,
         "type": "scattermapbox"
        },
        {
         "lat": [
          42.3364329096909,
          42.33561081380296
         ],
         "line": {
          "color": "blue",
          "width": 6
         },
         "lon": [
          -71.04835325355748,
          -71.04688668772411
         ],
         "mode": "lines",
         "opacity": 0.031914893617021274,
         "type": "scattermapbox"
        },
        {
         "lat": [
          42.3364329096909,
          42.33077904779031
         ],
         "line": {
          "color": "blue",
          "width": 6
         },
         "lon": [
          -71.04835325355748,
          -71.05555728644288
         ],
         "mode": "lines",
         "opacity": 0.0010131712259371835,
         "type": "scattermapbox"
        },
        {
         "lat": [
          42.34564071980456,
          42.356122370504096
         ],
         "line": {
          "color": "blue",
          "width": 6
         },
         "lon": [
          -71.06326905318093,
          -71.05937370784136
         ],
         "mode": "lines",
         "opacity": 0.008611955420466059,
         "type": "scattermapbox"
        },
        {
         "lat": [
          42.34564071980456,
          42.33561081380296
         ],
         "line": {
          "color": "blue",
          "width": 6
         },
         "lon": [
          -71.06326905318093,
          -71.04688668772411
         ],
         "mode": "lines",
         "opacity": 0.0005065856129685917,
         "type": "scattermapbox"
        },
        {
         "lat": [
          42.34564071980456,
          42.33077904779031
         ],
         "line": {
          "color": "blue",
          "width": 6
         },
         "lon": [
          -71.06326905318093,
          -71.05555728644288
         ],
         "mode": "lines",
         "opacity": 0.0010131712259371835,
         "type": "scattermapbox"
        },
        {
         "lat": [
          42.34564071980456,
          42.350143266630866
         ],
         "line": {
          "color": "blue",
          "width": 6
         },
         "lon": [
          -71.06326905318093,
          -71.05703680547452
         ],
         "mode": "lines",
         "opacity": 0.3601823708206687,
         "type": "scattermapbox"
        },
        {
         "lat": [
          42.34564071980456,
          42.33893588934812
         ],
         "line": {
          "color": "blue",
          "width": 6
         },
         "lon": [
          -71.06326905318093,
          -71.08009051470742
         ],
         "mode": "lines",
         "opacity": 0.0005065856129685917,
         "type": "scattermapbox"
        },
        {
         "lat": [
          42.34564071980456,
          42.35074534382176
         ],
         "line": {
          "color": "blue",
          "width": 6
         },
         "lon": [
          -71.06326905318093,
          -71.05950030191781
         ],
         "mode": "lines",
         "opacity": 0.031408308004052685,
         "type": "scattermapbox"
        },
        {
         "lat": [
          42.34564071980456,
          42.354092679541026
         ],
         "line": {
          "color": "blue",
          "width": 6
         },
         "lon": [
          -71.06326905318093,
          -71.05865560485466
         ],
         "mode": "lines",
         "opacity": 0.025329280648429583,
         "type": "scattermapbox"
        },
        {
         "lat": [
          42.33789357023185,
          42.34210116337201
         ],
         "line": {
          "color": "blue",
          "width": 6
         },
         "lon": [
          -71.13407166420512,
          -71.14690739568448
         ],
         "mode": "lines",
         "opacity": 0.0005065856129685917,
         "type": "scattermapbox"
        },
        {
         "lat": [
          42.33789357023185,
          42.356122370504096
         ],
         "line": {
          "color": "blue",
          "width": 6
         },
         "lon": [
          -71.13407166420512,
          -71.05937370784136
         ],
         "mode": "lines",
         "opacity": 0.0005065856129685917,
         "type": "scattermapbox"
        },
        {
         "lat": [
          42.33789357023185,
          42.354092679541026
         ],
         "line": {
          "color": "blue",
          "width": 6
         },
         "lon": [
          -71.13407166420512,
          -71.05865560485466
         ],
         "mode": "lines",
         "opacity": 0.0005065856129685917,
         "type": "scattermapbox"
        },
        {
         "lat": [
          42.34593746797057,
          42.26072214523669
         ],
         "line": {
          "color": "blue",
          "width": 6
         },
         "lon": [
          -71.14997780376456,
          -71.02169167918231
         ],
         "mode": "lines",
         "opacity": 0.0547112462006079,
         "type": "scattermapbox"
        },
        {
         "lat": [
          42.34593746797057,
          42.26483535919734
         ],
         "line": {
          "color": "blue",
          "width": 6
         },
         "lon": [
          -71.14997780376456,
          -71.01264391328328
         ],
         "mode": "lines",
         "opacity": 0.002026342451874367,
         "type": "scattermapbox"
        },
        {
         "lat": [
          42.34593746797057,
          42.334739570392436
         ],
         "line": {
          "color": "blue",
          "width": 6
         },
         "lon": [
          -71.14997780376456,
          -71.03195665403791
         ],
         "mode": "lines",
         "opacity": 0.0010131712259371835,
         "type": "scattermapbox"
        },
        {
         "lat": [
          42.34593746797057,
          42.350143266630866
         ],
         "line": {
          "color": "blue",
          "width": 6
         },
         "lon": [
          -71.14997780376456,
          -71.05703680547452
         ],
         "mode": "lines",
         "opacity": 0.06281661600810537,
         "type": "scattermapbox"
        },
        {
         "lat": [
          42.38249268945399,
          42.387646861728214
         ],
         "line": {
          "color": "blue",
          "width": 6
         },
         "lon": [
          -71.09459207277507,
          -71.10051630922396
         ],
         "mode": "lines",
         "opacity": 0.303951367781155,
         "type": "scattermapbox"
        },
        {
         "lat": [
          42.38249268945399,
          42.38692828289797
         ],
         "line": {
          "color": "blue",
          "width": 6
         },
         "lon": [
          -71.09459207277507,
          -71.10580776951713
         ],
         "mode": "lines",
         "opacity": 0.004559270516717325,
         "type": "scattermapbox"
        },
        {
         "lat": [
          42.28496167876716,
          42.28479719228265
         ],
         "line": {
          "color": "blue",
          "width": 6
         },
         "lon": [
          -70.87955271887495,
          -70.87951225390577
         ],
         "mode": "lines",
         "opacity": 0.24417426545086118,
         "type": "scattermapbox"
        },
        {
         "lat": [
          42.28496167876716,
          42.28666100376121
         ],
         "line": {
          "color": "blue",
          "width": 6
         },
         "lon": [
          -70.87955271887495,
          -70.87955110214068
         ],
         "mode": "lines",
         "opacity": 0.24012158054711247,
         "type": "scattermapbox"
        },
        {
         "lat": [
          42.33490544089794,
          42.334739570392436
         ],
         "line": {
          "color": "blue",
          "width": 6
         },
         "lon": [
          -71.02821498603856,
          -71.03195665403791
         ],
         "mode": "lines",
         "opacity": 0.10840932117527863,
         "type": "scattermapbox"
        },
        {
         "lat": [
          42.399380571985986,
          42.39290080439988
         ],
         "line": {
          "color": "blue",
          "width": 6
         },
         "lon": [
          -71.11441155138579,
          -71.11636019035012
         ],
         "mode": "lines",
         "opacity": 0.13171225937183384,
         "type": "scattermapbox"
        },
        {
         "lat": [
          42.399380571985986,
          42.401900351632094
         ],
         "line": {
          "color": "blue",
          "width": 6
         },
         "lon": [
          -71.11441155138579,
          -71.119677277128
         ],
         "mode": "lines",
         "opacity": 0.5182370820668692,
         "type": "scattermapbox"
        },
        {
         "lat": [
          42.399380571985986,
          42.41024687459465
         ],
         "line": {
          "color": "blue",
          "width": 6
         },
         "lon": [
          -71.11441155138579,
          -71.11840888121947
         ],
         "mode": "lines",
         "opacity": 0.018743667679837893,
         "type": "scattermapbox"
        },
        {
         "lat": [
          42.399380571985986,
          42.39356586810918
         ],
         "line": {
          "color": "blue",
          "width": 6
         },
         "lon": [
          -71.11441155138579,
          -71.11021255871054
         ],
         "mode": "lines",
         "opacity": 0.008611955420466059,
         "type": "scattermapbox"
        },
        {
         "lat": [
          42.399380571985986,
          42.39943258898299
         ],
         "line": {
          "color": "blue",
          "width": 6
         },
         "lon": [
          -71.11441155138579,
          -71.11716148178346
         ],
         "mode": "lines",
         "opacity": 0.6175278622087133,
         "type": "scattermapbox"
        },
        {
         "lat": [
          42.354092679541026,
          42.356122370504096
         ],
         "line": {
          "color": "blue",
          "width": 6
         },
         "lon": [
          -71.05865560485466,
          -71.05937370784136
         ],
         "mode": "lines",
         "opacity": 0.1347517730496454,
         "type": "scattermapbox"
        },
        {
         "lat": [
          42.354092679541026,
          42.387646861728214
         ],
         "line": {
          "color": "blue",
          "width": 6
         },
         "lon": [
          -71.05865560485466,
          -71.10051630922396
         ],
         "mode": "lines",
         "opacity": 0.0010131712259371835,
         "type": "scattermapbox"
        },
        {
         "lat": [
          42.354092679541026,
          42.35815247910236
         ],
         "line": {
          "color": "blue",
          "width": 6
         },
         "lon": [
          -71.05865560485466,
          -71.05946107561675
         ],
         "mode": "lines",
         "opacity": 0.12056737588652482,
         "type": "scattermapbox"
        },
        {
         "lat": [
          42.354092679541026,
          42.35074534382176
         ],
         "line": {
          "color": "blue",
          "width": 6
         },
         "lon": [
          -71.05865560485466,
          -71.05950030191781
         ],
         "mode": "lines",
         "opacity": 0.2198581560283688,
         "type": "scattermapbox"
        },
        {
         "lat": [
          42.354092679541026,
          42.36424454107258
         ],
         "line": {
          "color": "blue",
          "width": 6
         },
         "lon": [
          -71.05865560485466,
          -71.05719970057697
         ],
         "mode": "lines",
         "opacity": 0.0182370820668693,
         "type": "scattermapbox"
        },
        {
         "lat": [
          42.354092679541026,
          42.2844350221873
         ],
         "line": {
          "color": "blue",
          "width": 6
         },
         "lon": [
          -71.05865560485466,
          -71.06497337241484
         ],
         "mode": "lines",
         "opacity": 0.001519756838905775,
         "type": "scattermapbox"
        },
        {
         "lat": [
          42.354092679541026,
          42.36594803677225
         ],
         "line": {
          "color": "blue",
          "width": 6
         },
         "lon": [
          -71.05865560485466,
          -71.05278831785023
         ],
         "mode": "lines",
         "opacity": 0.0005065856129685917,
         "type": "scattermapbox"
        },
        {
         "lat": [
          42.354092679541026,
          42.35459026182861
         ],
         "line": {
          "color": "blue",
          "width": 6
         },
         "lon": [
          -71.05865560485466,
          -71.0518409205751
         ],
         "mode": "lines",
         "opacity": 0.09979736575481256,
         "type": "scattermapbox"
        },
        {
         "lat": [
          42.354092679541026,
          42.35838943093695
         ],
         "line": {
          "color": "blue",
          "width": 6
         },
         "lon": [
          -71.05865560485466,
          -71.10663119539407
         ],
         "mode": "lines",
         "opacity": 0.004559270516717325,
         "type": "scattermapbox"
        },
        {
         "lat": [
          42.354092679541026,
          42.33077904779031
         ],
         "line": {
          "color": "blue",
          "width": 6
         },
         "lon": [
          -71.05865560485466,
          -71.05555728644288
         ],
         "mode": "lines",
         "opacity": 0.002026342451874367,
         "type": "scattermapbox"
        },
        {
         "lat": [
          42.354092679541026,
          42.35574132001731
         ],
         "line": {
          "color": "blue",
          "width": 6
         },
         "lon": [
          -71.05865560485466,
          -71.05402126263004
         ],
         "mode": "lines",
         "opacity": 0.001519756838905775,
         "type": "scattermapbox"
        },
        {
         "lat": [
          42.354092679541026,
          42.350143266630866
         ],
         "line": {
          "color": "blue",
          "width": 6
         },
         "lon": [
          -71.05865560485466,
          -71.05703680547452
         ],
         "mode": "lines",
         "opacity": 0.41084093211752787,
         "type": "scattermapbox"
        },
        {
         "lat": [
          42.38692828289797,
          42.387646861728214
         ],
         "line": {
          "color": "blue",
          "width": 6
         },
         "lon": [
          -71.10580776951713,
          -71.10051630922396
         ],
         "mode": "lines",
         "opacity": 0.006585612968591692,
         "type": "scattermapbox"
        },
        {
         "lat": [
          42.38692828289797,
          42.39943258898299
         ],
         "line": {
          "color": "blue",
          "width": 6
         },
         "lon": [
          -71.10580776951713,
          -71.11716148178346
         ],
         "mode": "lines",
         "opacity": 0.0005065856129685917,
         "type": "scattermapbox"
        },
        {
         "lat": [
          42.38692828289797,
          42.372381899935945
         ],
         "line": {
          "color": "blue",
          "width": 6
         },
         "lon": [
          -71.10580776951713,
          -71.10762308660668
         ],
         "mode": "lines",
         "opacity": 0.0005065856129685917,
         "type": "scattermapbox"
        },
        {
         "lat": [
          42.334739570392436,
          42.350143266630866
         ],
         "line": {
          "color": "blue",
          "width": 6
         },
         "lon": [
          -71.03195665403791,
          -71.05703680547452
         ],
         "mode": "lines",
         "opacity": 0.0005065856129685917,
         "type": "scattermapbox"
        },
        {
         "lat": [
          42.334739570392436,
          42.257711401594214
         ],
         "line": {
          "color": "blue",
          "width": 6
         },
         "lon": [
          -71.03195665403791,
          -71.00877265296344
         ],
         "mode": "lines",
         "opacity": 0.0121580547112462,
         "type": "scattermapbox"
        },
        {
         "lat": [
          42.2844350221873,
          42.356122370504096
         ],
         "line": {
          "color": "blue",
          "width": 6
         },
         "lon": [
          -71.06497337241484,
          -71.05937370784136
         ],
         "mode": "lines",
         "opacity": 0.0025329280648429585,
         "type": "scattermapbox"
        },
        {
         "lat": [
          42.2844350221873,
          42.350143266630866
         ],
         "line": {
          "color": "blue",
          "width": 6
         },
         "lon": [
          -71.06497337241484,
          -71.05703680547452
         ],
         "mode": "lines",
         "opacity": 0.0005065856129685917,
         "type": "scattermapbox"
        },
        {
         "lat": [
          42.2844350221873,
          42.278298298912006
         ],
         "line": {
          "color": "blue",
          "width": 6
         },
         "lon": [
          -71.06497337241484,
          -71.06007938536698
         ],
         "mode": "lines",
         "opacity": 0.002026342451874367,
         "type": "scattermapbox"
        },
        {
         "lat": [
          42.28479719228265,
          42.284687728152626
         ],
         "line": {
          "color": "blue",
          "width": 6
         },
         "lon": [
          -70.87951225390577,
          -70.87969515428324
         ],
         "mode": "lines",
         "opacity": 0.12563323201621074,
         "type": "scattermapbox"
        },
        {
         "lat": [
          42.28479719228265,
          42.284852214384
         ],
         "line": {
          "color": "blue",
          "width": 6
         },
         "lon": [
          -70.87951225390577,
          -70.87973561981863
         ],
         "mode": "lines",
         "opacity": 0.12968591691995948,
         "type": "scattermapbox"
        },
        {
         "lat": [
          42.28479719228265,
          42.284852214384
         ],
         "line": {
          "color": "blue",
          "width": 6
         },
         "lon": [
          -70.87951225390577,
          -70.87973561981863
         ],
         "mode": "lines",
         "opacity": 0.15501519756838905,
         "type": "scattermapbox"
        },
        {
         "lat": [
          42.28479719228265,
          42.284852214384
         ],
         "line": {
          "color": "blue",
          "width": 6
         },
         "lon": [
          -70.87951225390577,
          -70.87973561981863
         ],
         "mode": "lines",
         "opacity": 0.1469098277608916,
         "type": "scattermapbox"
        },
        {
         "lat": [
          42.28479719228265,
          42.284852214384
         ],
         "line": {
          "color": "blue",
          "width": 6
         },
         "lon": [
          -70.87951225390577,
          -70.87973561981863
         ],
         "mode": "lines",
         "opacity": 0.12158054711246201,
         "type": "scattermapbox"
        },
        {
         "lat": [
          42.28479719228265,
          42.284852214384
         ],
         "line": {
          "color": "blue",
          "width": 6
         },
         "lon": [
          -70.87951225390577,
          -70.87973561981863
         ],
         "mode": "lines",
         "opacity": 0.1474164133738602,
         "type": "scattermapbox"
        },
        {
         "lat": [
          42.28479719228265,
          42.284852214384
         ],
         "line": {
          "color": "blue",
          "width": 6
         },
         "lon": [
          -70.87951225390577,
          -70.87973561981863
         ],
         "mode": "lines",
         "opacity": 0.1524822695035461,
         "type": "scattermapbox"
        },
        {
         "lat": [
          42.28479719228265,
          42.356122370504096
         ],
         "line": {
          "color": "blue",
          "width": 6
         },
         "lon": [
          -70.87951225390577,
          -71.05937370784136
         ],
         "mode": "lines",
         "opacity": 0.0005065856129685917,
         "type": "scattermapbox"
        },
        {
         "lat": [
          42.28479719228265,
          42.28666100376121
         ],
         "line": {
          "color": "blue",
          "width": 6
         },
         "lon": [
          -70.87951225390577,
          -70.87955110214068
         ],
         "mode": "lines",
         "opacity": 0.2375886524822695,
         "type": "scattermapbox"
        },
        {
         "lat": [
          42.39386778194585,
          42.38924526303799
         ],
         "line": {
          "color": "blue",
          "width": 6
         },
         "lon": [
          -71.07850521214704,
          -71.09313059662361
         ],
         "mode": "lines",
         "opacity": 0.00303951367781155,
         "type": "scattermapbox"
        },
        {
         "lat": [
          42.39386778194585,
          42.387646861728214
         ],
         "line": {
          "color": "blue",
          "width": 6
         },
         "lon": [
          -71.07850521214704,
          -71.10051630922396
         ],
         "mode": "lines",
         "opacity": 0.028875379939209727,
         "type": "scattermapbox"
        },
        {
         "lat": [
          42.39386778194585,
          42.40839032224402
         ],
         "line": {
          "color": "blue",
          "width": 6
         },
         "lon": [
          -71.07850521214704,
          -70.99878539000247
         ],
         "mode": "lines",
         "opacity": 0.0010131712259371835,
         "type": "scattermapbox"
        },
        {
         "lat": [
          42.39386778194585,
          42.416453257988366
         ],
         "line": {
          "color": "blue",
          "width": 6
         },
         "lon": [
          -71.07850521214704,
          -71.11660127360028
         ],
         "mode": "lines",
         "opacity": 0.001519756838905775,
         "type": "scattermapbox"
        },
        {
         "lat": [
          42.401900351632094,
          42.39943258898299
         ],
         "line": {
          "color": "blue",
          "width": 6
         },
         "lon": [
          -71.119677277128,
          -71.11716148178346
         ],
         "mode": "lines",
         "opacity": 0.1833839918946302,
         "type": "scattermapbox"
        },
        {
         "lat": [
          42.35815247910236,
          42.36594803677225
         ],
         "line": {
          "color": "blue",
          "width": 6
         },
         "lon": [
          -71.05946107561675,
          -71.05278831785023
         ],
         "mode": "lines",
         "opacity": 0.002026342451874367,
         "type": "scattermapbox"
        },
        {
         "lat": [
          42.35815247910236,
          42.356122370504096
         ],
         "line": {
          "color": "blue",
          "width": 6
         },
         "lon": [
          -71.05946107561675,
          -71.05937370784136
         ],
         "mode": "lines",
         "opacity": 0.12462006079027356,
         "type": "scattermapbox"
        },
        {
         "lat": [
          42.35815247910236,
          42.36424454107258
         ],
         "line": {
          "color": "blue",
          "width": 6
         },
         "lon": [
          -71.05946107561675,
          -71.05719970057697
         ],
         "mode": "lines",
         "opacity": 0.0790273556231003,
         "type": "scattermapbox"
        },
        {
         "lat": [
          42.35815247910236,
          42.35074534382176
         ],
         "line": {
          "color": "blue",
          "width": 6
         },
         "lon": [
          -71.05946107561675,
          -71.05950030191781
         ],
         "mode": "lines",
         "opacity": 0.004052684903748734,
         "type": "scattermapbox"
        },
        {
         "lat": [
          42.35815247910236,
          42.35574132001731
         ],
         "line": {
          "color": "blue",
          "width": 6
         },
         "lon": [
          -71.05946107561675,
          -71.05402126263004
         ],
         "mode": "lines",
         "opacity": 0.0005065856129685917,
         "type": "scattermapbox"
        },
        {
         "lat": [
          42.35815247910236,
          42.350143266630866
         ],
         "line": {
          "color": "blue",
          "width": 6
         },
         "lon": [
          -71.05946107561675,
          -71.05703680547452
         ],
         "mode": "lines",
         "opacity": 0.054204660587639314,
         "type": "scattermapbox"
        },
        {
         "lat": [
          42.33893588934812,
          42.341293212365024
         ],
         "line": {
          "color": "blue",
          "width": 6
         },
         "lon": [
          -71.08009051470742,
          -71.08215301005254
         ],
         "mode": "lines",
         "opacity": 0.10233029381965553,
         "type": "scattermapbox"
        },
        {
         "lat": [
          42.36425838174556,
          42.360863024211085
         ],
         "line": {
          "color": "blue",
          "width": 6
         },
         "lon": [
          -71.10915783545272,
          -71.10220450741502
         ],
         "mode": "lines",
         "opacity": 0.2502532928064843,
         "type": "scattermapbox"
        },
        {
         "lat": [
          42.36425838174556,
          42.35838943093695
         ],
         "line": {
          "color": "blue",
          "width": 6
         },
         "lon": [
          -71.10915783545272,
          -71.10663119539407
         ],
         "mode": "lines",
         "opacity": 0.019756838905775075,
         "type": "scattermapbox"
        },
        {
         "lat": [
          42.36425838174556,
          42.37291776022968
         ],
         "line": {
          "color": "blue",
          "width": 6
         },
         "lon": [
          -71.10915783545272,
          -71.11996126734232
         ],
         "mode": "lines",
         "opacity": 0.0005065856129685917,
         "type": "scattermapbox"
        },
        {
         "lat": [
          42.39943258898299,
          42.387646861728214
         ],
         "line": {
          "color": "blue",
          "width": 6
         },
         "lon": [
          -71.11716148178346,
          -71.10051630922396
         ],
         "mode": "lines",
         "opacity": 0.004052684903748734,
         "type": "scattermapbox"
        },
        {
         "lat": [
          42.39943258898299,
          42.39290080439988
         ],
         "line": {
          "color": "blue",
          "width": 6
         },
         "lon": [
          -71.11716148178346,
          -71.11636019035012
         ],
         "mode": "lines",
         "opacity": 0.06940222897669707,
         "type": "scattermapbox"
        },
        {
         "lat": [
          42.39943258898299,
          42.384822692554906
         ],
         "line": {
          "color": "blue",
          "width": 6
         },
         "lon": [
          -71.11716148178346,
          -71.1663165596363
         ],
         "mode": "lines",
         "opacity": 0.0010131712259371835,
         "type": "scattermapbox"
        },
        {
         "lat": [
          42.39943258898299,
          42.37810709017599
         ],
         "line": {
          "color": "blue",
          "width": 6
         },
         "lon": [
          -71.11716148178346,
          -71.14062766942976
         ],
         "mode": "lines",
         "opacity": 0.0005065856129685917,
         "type": "scattermapbox"
        },
        {
         "lat": [
          42.39943258898299,
          42.39356586810918
         ],
         "line": {
          "color": "blue",
          "width": 6
         },
         "lon": [
          -71.11716148178346,
          -71.11021255871054
         ],
         "mode": "lines",
         "opacity": 0.0005065856129685917,
         "type": "scattermapbox"
        },
        {
         "lat": [
          42.39943258898299,
          42.39337618115969
         ],
         "line": {
          "color": "blue",
          "width": 6
         },
         "lon": [
          -71.11716148178346,
          -71.13289924826404
         ],
         "mode": "lines",
         "opacity": 0.03900709219858156,
         "type": "scattermapbox"
        },
        {
         "lat": [
          42.37291776022968,
          42.37810709017599
         ],
         "line": {
          "color": "blue",
          "width": 6
         },
         "lon": [
          -71.11996126734232,
          -71.14062766942976
         ],
         "mode": "lines",
         "opacity": 0.0010131712259371835,
         "type": "scattermapbox"
        },
        {
         "lat": [
          42.37291776022968,
          42.354621663299945
         ],
         "line": {
          "color": "blue",
          "width": 6
         },
         "lon": [
          -71.11996126734232,
          -71.13870616301386
         ],
         "mode": "lines",
         "opacity": 0.00303951367781155,
         "type": "scattermapbox"
        },
        {
         "lat": [
          42.37291776022968,
          42.360863024211085
         ],
         "line": {
          "color": "blue",
          "width": 6
         },
         "lon": [
          -71.11996126734232,
          -71.10220450741502
         ],
         "mode": "lines",
         "opacity": 0.02330293819655522,
         "type": "scattermapbox"
        },
        {
         "lat": [
          42.39290080439988,
          42.39337618115969
         ],
         "line": {
          "color": "blue",
          "width": 6
         },
         "lon": [
          -71.11636019035012,
          -71.13289924826404
         ],
         "mode": "lines",
         "opacity": 0.002026342451874367,
         "type": "scattermapbox"
        },
        {
         "lat": [
          42.26072214523669,
          42.350143266630866
         ],
         "line": {
          "color": "blue",
          "width": 6
         },
         "lon": [
          -71.02169167918231,
          -71.05703680547452
         ],
         "mode": "lines",
         "opacity": 0.3677811550151976,
         "type": "scattermapbox"
        },
        {
         "lat": [
          42.26072214523669,
          42.26483535919734
         ],
         "line": {
          "color": "blue",
          "width": 6
         },
         "lon": [
          -71.02169167918231,
          -71.01264391328328
         ],
         "mode": "lines",
         "opacity": 0.1160081053698075,
         "type": "scattermapbox"
        },
        {
         "lat": [
          42.341293212365024,
          42.350143266630866
         ],
         "line": {
          "color": "blue",
          "width": 6
         },
         "lon": [
          -71.08215301005254,
          -71.05703680547452
         ],
         "mode": "lines",
         "opacity": 0.001519756838905775,
         "type": "scattermapbox"
        },
        {
         "lat": [
          42.360863024211085,
          42.35838943093695
         ],
         "line": {
          "color": "blue",
          "width": 6
         },
         "lon": [
          -71.10220450741502,
          -71.10663119539407
         ],
         "mode": "lines",
         "opacity": 1,
         "type": "scattermapbox"
        },
        {
         "lat": [
          42.284852214384,
          42.284687728152626
         ],
         "line": {
          "color": "blue",
          "width": 6
         },
         "lon": [
          -70.87973561981863,
          -70.87969515428324
         ],
         "mode": "lines",
         "opacity": 0.12462006079027356,
         "type": "scattermapbox"
        },
        {
         "lat": [
          42.284852214384,
          42.284852214384
         ],
         "line": {
          "color": "blue",
          "width": 6
         },
         "lon": [
          -70.87973561981863,
          -70.87973561981863
         ],
         "mode": "lines",
         "opacity": 0.12411347517730496,
         "type": "scattermapbox"
        },
        {
         "lat": [
          42.284852214384,
          42.284852214384
         ],
         "line": {
          "color": "blue",
          "width": 6
         },
         "lon": [
          -70.87973561981863,
          -70.87973561981863
         ],
         "mode": "lines",
         "opacity": 0.1474164133738602,
         "type": "scattermapbox"
        },
        {
         "lat": [
          42.284852214384,
          42.284852214384
         ],
         "line": {
          "color": "blue",
          "width": 6
         },
         "lon": [
          -70.87973561981863,
          -70.87973561981863
         ],
         "mode": "lines",
         "opacity": 0.12462006079027356,
         "type": "scattermapbox"
        },
        {
         "lat": [
          42.284852214384,
          42.284852214384
         ],
         "line": {
          "color": "blue",
          "width": 6
         },
         "lon": [
          -70.87973561981863,
          -70.87973561981863
         ],
         "mode": "lines",
         "opacity": 0.13728470111448834,
         "type": "scattermapbox"
        },
        {
         "lat": [
          42.284852214384,
          42.284852214384
         ],
         "line": {
          "color": "blue",
          "width": 6
         },
         "lon": [
          -70.87973561981863,
          -70.87973561981863
         ],
         "mode": "lines",
         "opacity": 0.1398176291793313,
         "type": "scattermapbox"
        },
        {
         "lat": [
          42.284852214384,
          42.284687728152626
         ],
         "line": {
          "color": "blue",
          "width": 6
         },
         "lon": [
          -70.87973561981863,
          -70.87969515428324
         ],
         "mode": "lines",
         "opacity": 0.11955420466058764,
         "type": "scattermapbox"
        },
        {
         "lat": [
          42.284852214384,
          42.284852214384
         ],
         "line": {
          "color": "blue",
          "width": 6
         },
         "lon": [
          -70.87973561981863,
          -70.87973561981863
         ],
         "mode": "lines",
         "opacity": 0.1474164133738602,
         "type": "scattermapbox"
        },
        {
         "lat": [
          42.284852214384,
          42.284852214384
         ],
         "line": {
          "color": "blue",
          "width": 6
         },
         "lon": [
          -70.87973561981863,
          -70.87973561981863
         ],
         "mode": "lines",
         "opacity": 0.15045592705167174,
         "type": "scattermapbox"
        },
        {
         "lat": [
          42.284852214384,
          42.284852214384
         ],
         "line": {
          "color": "blue",
          "width": 6
         },
         "lon": [
          -70.87973561981863,
          -70.87973561981863
         ],
         "mode": "lines",
         "opacity": 0.14387031408308004,
         "type": "scattermapbox"
        },
        {
         "lat": [
          42.284852214384,
          42.284852214384
         ],
         "line": {
          "color": "blue",
          "width": 6
         },
         "lon": [
          -70.87973561981863,
          -70.87973561981863
         ],
         "mode": "lines",
         "opacity": 0.1585612968591692,
         "type": "scattermapbox"
        },
        {
         "lat": [
          42.284852214384,
          42.284687728152626
         ],
         "line": {
          "color": "blue",
          "width": 6
         },
         "lon": [
          -70.87973561981863,
          -70.87969515428324
         ],
         "mode": "lines",
         "opacity": 0.13576494427558258,
         "type": "scattermapbox"
        },
        {
         "lat": [
          42.284852214384,
          42.284852214384
         ],
         "line": {
          "color": "blue",
          "width": 6
         },
         "lon": [
          -70.87973561981863,
          -70.87973561981863
         ],
         "mode": "lines",
         "opacity": 0.135258358662614,
         "type": "scattermapbox"
        },
        {
         "lat": [
          42.284852214384,
          42.284852214384
         ],
         "line": {
          "color": "blue",
          "width": 6
         },
         "lon": [
          -70.87973561981863,
          -70.87973561981863
         ],
         "mode": "lines",
         "opacity": 0.1540020263424519,
         "type": "scattermapbox"
        },
        {
         "lat": [
          42.284852214384,
          42.284852214384
         ],
         "line": {
          "color": "blue",
          "width": 6
         },
         "lon": [
          -70.87973561981863,
          -70.87973561981863
         ],
         "mode": "lines",
         "opacity": 0.14437689969604864,
         "type": "scattermapbox"
        },
        {
         "lat": [
          42.284852214384,
          42.284687728152626
         ],
         "line": {
          "color": "blue",
          "width": 6
         },
         "lon": [
          -70.87973561981863,
          -70.87969515428324
         ],
         "mode": "lines",
         "opacity": 0.12006079027355623,
         "type": "scattermapbox"
        },
        {
         "lat": [
          42.284852214384,
          42.284852214384
         ],
         "line": {
          "color": "blue",
          "width": 6
         },
         "lon": [
          -70.87973561981863,
          -70.87973561981863
         ],
         "mode": "lines",
         "opacity": 0.10840932117527863,
         "type": "scattermapbox"
        },
        {
         "lat": [
          42.284852214384,
          42.284852214384
         ],
         "line": {
          "color": "blue",
          "width": 6
         },
         "lon": [
          -70.87973561981863,
          -70.87973561981863
         ],
         "mode": "lines",
         "opacity": 0.13221884498480244,
         "type": "scattermapbox"
        },
        {
         "lat": [
          42.284852214384,
          42.284687728152626
         ],
         "line": {
          "color": "blue",
          "width": 6
         },
         "lon": [
          -70.87973561981863,
          -70.87969515428324
         ],
         "mode": "lines",
         "opacity": 0.13272543059777103,
         "type": "scattermapbox"
        },
        {
         "lat": [
          42.284852214384,
          42.284852214384
         ],
         "line": {
          "color": "blue",
          "width": 6
         },
         "lon": [
          -70.87973561981863,
          -70.87973561981863
         ],
         "mode": "lines",
         "opacity": 0.13627152988855115,
         "type": "scattermapbox"
        },
        {
         "lat": [
          42.284852214384,
          42.284687728152626
         ],
         "line": {
          "color": "blue",
          "width": 6
         },
         "lon": [
          -70.87973561981863,
          -70.87969515428324
         ],
         "mode": "lines",
         "opacity": 0.1160081053698075,
         "type": "scattermapbox"
        },
        {
         "lat": [
          42.33077904779031,
          42.350143266630866
         ],
         "line": {
          "color": "blue",
          "width": 6
         },
         "lon": [
          -71.05555728644288,
          -71.05703680547452
         ],
         "mode": "lines",
         "opacity": 0.017223910840932118,
         "type": "scattermapbox"
        },
        {
         "lat": [
          42.35838943093695,
          42.387646861728214
         ],
         "line": {
          "color": "blue",
          "width": 6
         },
         "lon": [
          -71.10663119539407,
          -71.10051630922396
         ],
         "mode": "lines",
         "opacity": 0.0005065856129685917,
         "type": "scattermapbox"
        },
        {
         "lat": [
          42.35838943093695,
          42.356122370504096
         ],
         "line": {
          "color": "blue",
          "width": 6
         },
         "lon": [
          -71.10663119539407,
          -71.05937370784136
         ],
         "mode": "lines",
         "opacity": 0.002026342451874367,
         "type": "scattermapbox"
        },
        {
         "lat": [
          42.35574132001731,
          42.356122370504096
         ],
         "line": {
          "color": "blue",
          "width": 6
         },
         "lon": [
          -71.05402126263004,
          -71.05937370784136
         ],
         "mode": "lines",
         "opacity": 0.00911854103343465,
         "type": "scattermapbox"
        },
        {
         "lat": [
          42.35574132001731,
          42.35459026182861
         ],
         "line": {
          "color": "blue",
          "width": 6
         },
         "lon": [
          -71.05402126263004,
          -71.0518409205751
         ],
         "mode": "lines",
         "opacity": 0.005065856129685917,
         "type": "scattermapbox"
        },
        {
         "lat": [
          42.35459026182861,
          42.356122370504096
         ],
         "line": {
          "color": "blue",
          "width": 6
         },
         "lon": [
          -71.0518409205751,
          -71.05937370784136
         ],
         "mode": "lines",
         "opacity": 0.009625126646403243,
         "type": "scattermapbox"
        },
        {
         "lat": [
          42.35459026182861,
          42.35074534382176
         ],
         "line": {
          "color": "blue",
          "width": 6
         },
         "lon": [
          -71.0518409205751,
          -71.05950030191781
         ],
         "mode": "lines",
         "opacity": 0.022796352583586626,
         "type": "scattermapbox"
        },
        {
         "lat": [
          42.35459026182861,
          42.350143266630866
         ],
         "line": {
          "color": "blue",
          "width": 6
         },
         "lon": [
          -71.0518409205751,
          -71.05703680547452
         ],
         "mode": "lines",
         "opacity": 0.14994934143870314,
         "type": "scattermapbox"
        },
        {
         "lat": [
          42.35074534382176,
          42.356122370504096
         ],
         "line": {
          "color": "blue",
          "width": 6
         },
         "lon": [
          -71.05950030191781,
          -71.05937370784136
         ],
         "mode": "lines",
         "opacity": 0.03242147922998987,
         "type": "scattermapbox"
        },
        {
         "lat": [
          42.35074534382176,
          42.350143266630866
         ],
         "line": {
          "color": "blue",
          "width": 6
         },
         "lon": [
          -71.05950030191781,
          -71.05703680547452
         ],
         "mode": "lines",
         "opacity": 0.31661600810536983,
         "type": "scattermapbox"
        },
        {
         "lat": [
          42.356122370504096,
          42.36594803677225
         ],
         "line": {
          "color": "blue",
          "width": 6
         },
         "lon": [
          -71.05937370784136,
          -71.05278831785023
         ],
         "mode": "lines",
         "opacity": 0.04204660587639311,
         "type": "scattermapbox"
        },
        {
         "lat": [
          42.356122370504096,
          42.36424454107258
         ],
         "line": {
          "color": "blue",
          "width": 6
         },
         "lon": [
          -71.05937370784136,
          -71.05719970057697
         ],
         "mode": "lines",
         "opacity": 0.07750759878419453,
         "type": "scattermapbox"
        },
        {
         "lat": [
          42.356122370504096,
          42.350143266630866
         ],
         "line": {
          "color": "blue",
          "width": 6
         },
         "lon": [
          -71.05937370784136,
          -71.05703680547452
         ],
         "mode": "lines",
         "opacity": 0.1403242147922999,
         "type": "scattermapbox"
        },
        {
         "lat": [
          42.356122370504096,
          42.36617386761112
         ],
         "line": {
          "color": "blue",
          "width": 6
         },
         "lon": [
          -71.05937370784136,
          -71.03917378493242
         ],
         "mode": "lines",
         "opacity": 0.0005065856129685917,
         "type": "scattermapbox"
        },
        {
         "lat": [
          42.41024687459465,
          42.387646861728214
         ],
         "line": {
          "color": "blue",
          "width": 6
         },
         "lon": [
          -71.11840888121947,
          -71.10051630922396
         ],
         "mode": "lines",
         "opacity": 0.0010131712259371835,
         "type": "scattermapbox"
        },
        {
         "lat": [
          42.41024687459465,
          42.416453257988366
         ],
         "line": {
          "color": "blue",
          "width": 6
         },
         "lon": [
          -71.11840888121947,
          -71.11660127360028
         ],
         "mode": "lines",
         "opacity": 0.32776089159067884,
         "type": "scattermapbox"
        },
        {
         "lat": [
          42.36594803677225,
          42.36424454107258
         ],
         "line": {
          "color": "blue",
          "width": 6
         },
         "lon": [
          -71.05278831785023,
          -71.05719970057697
         ],
         "mode": "lines",
         "opacity": 0.04002026342451875,
         "type": "scattermapbox"
        },
        {
         "lat": [
          42.33561081380296,
          42.350143266630866
         ],
         "line": {
          "color": "blue",
          "width": 6
         },
         "lon": [
          -71.04688668772411,
          -71.05703680547452
         ],
         "mode": "lines",
         "opacity": 0.05217831813576494,
         "type": "scattermapbox"
        },
        {
         "lat": [
          42.257711401594214,
          42.26483535919734
         ],
         "line": {
          "color": "blue",
          "width": 6
         },
         "lon": [
          -71.00877265296344,
          -71.01264391328328
         ],
         "mode": "lines",
         "opacity": 0.04559270516717325,
         "type": "scattermapbox"
        },
        {
         "lat": [
          42.257711401594214,
          42.350143266630866
         ],
         "line": {
          "color": "blue",
          "width": 6
         },
         "lon": [
          -71.00877265296344,
          -71.05703680547452
         ],
         "mode": "lines",
         "opacity": 0.0010131712259371835,
         "type": "scattermapbox"
        },
        {
         "lat": [
          42.41933538851051,
          42.387646861728214
         ],
         "line": {
          "color": "blue",
          "width": 6
         },
         "lon": [
          -71.08720985374924,
          -71.10051630922396
         ],
         "mode": "lines",
         "opacity": 0.0035460992907801418,
         "type": "scattermapbox"
        },
        {
         "lat": [
          42.350143266630866,
          42.36424454107258
         ],
         "line": {
          "color": "blue",
          "width": 6
         },
         "lon": [
          -71.05703680547452,
          -71.05719970057697
         ],
         "mode": "lines",
         "opacity": 0.0025329280648429585,
         "type": "scattermapbox"
        },
        {
         "lat": [
          42.350143266630866,
          42.36617386761112
         ],
         "line": {
          "color": "blue",
          "width": 6
         },
         "lon": [
          -71.05703680547452,
          -71.03917378493242
         ],
         "mode": "lines",
         "opacity": 0.0005065856129685917,
         "type": "scattermapbox"
        },
        {
         "lat": [
          42.350143266630866,
          42.28666100376121
         ],
         "line": {
          "color": "blue",
          "width": 6
         },
         "lon": [
          -71.05703680547452,
          -70.87955110214068
         ],
         "mode": "lines",
         "opacity": 0.001519756838905775,
         "type": "scattermapbox"
        },
        {
         "lat": [
          42.36424454107258,
          42.36617386761112
         ],
         "line": {
          "color": "blue",
          "width": 6
         },
         "lon": [
          -71.05719970057697,
          -71.03917378493242
         ],
         "mode": "lines",
         "opacity": 0.006585612968591692,
         "type": "scattermapbox"
        },
        {
         "lat": [
          42.387646861728214,
          42.38924526303799
         ],
         "line": {
          "color": "blue",
          "width": 6
         },
         "lon": [
          -71.10051630922396,
          -71.09313059662361
         ],
         "mode": "lines",
         "opacity": 0.5319148936170213,
         "type": "scattermapbox"
        }
       ],
       "layout": {
        "mapbox": {
         "accesstoken": "pk.eyJ1IjoidmlodTg5IiwiYSI6ImNrNmdhajRlMTAzbmgza2xxcG9wa3pyZnUifQ.yN92eb4doELCwzwLeqEDuQ\n",
         "bearing": 0,
         "center": {
          "lat": 42.3364329096909,
          "lon": -71.04835325355748
         },
         "pitch": 0,
         "zoom": 9
        },
        "showlegend": false,
        "template": {
         "data": {
          "bar": [
           {
            "error_x": {
             "color": "#2a3f5f"
            },
            "error_y": {
             "color": "#2a3f5f"
            },
            "marker": {
             "line": {
              "color": "#E5ECF6",
              "width": 0.5
             }
            },
            "type": "bar"
           }
          ],
          "barpolar": [
           {
            "marker": {
             "line": {
              "color": "#E5ECF6",
              "width": 0.5
             }
            },
            "type": "barpolar"
           }
          ],
          "carpet": [
           {
            "aaxis": {
             "endlinecolor": "#2a3f5f",
             "gridcolor": "white",
             "linecolor": "white",
             "minorgridcolor": "white",
             "startlinecolor": "#2a3f5f"
            },
            "baxis": {
             "endlinecolor": "#2a3f5f",
             "gridcolor": "white",
             "linecolor": "white",
             "minorgridcolor": "white",
             "startlinecolor": "#2a3f5f"
            },
            "type": "carpet"
           }
          ],
          "choropleth": [
           {
            "colorbar": {
             "outlinewidth": 0,
             "ticks": ""
            },
            "type": "choropleth"
           }
          ],
          "contour": [
           {
            "colorbar": {
             "outlinewidth": 0,
             "ticks": ""
            },
            "colorscale": [
             [
              0,
              "#0d0887"
             ],
             [
              0.1111111111111111,
              "#46039f"
             ],
             [
              0.2222222222222222,
              "#7201a8"
             ],
             [
              0.3333333333333333,
              "#9c179e"
             ],
             [
              0.4444444444444444,
              "#bd3786"
             ],
             [
              0.5555555555555556,
              "#d8576b"
             ],
             [
              0.6666666666666666,
              "#ed7953"
             ],
             [
              0.7777777777777778,
              "#fb9f3a"
             ],
             [
              0.8888888888888888,
              "#fdca26"
             ],
             [
              1,
              "#f0f921"
             ]
            ],
            "type": "contour"
           }
          ],
          "contourcarpet": [
           {
            "colorbar": {
             "outlinewidth": 0,
             "ticks": ""
            },
            "type": "contourcarpet"
           }
          ],
          "heatmap": [
           {
            "colorbar": {
             "outlinewidth": 0,
             "ticks": ""
            },
            "colorscale": [
             [
              0,
              "#0d0887"
             ],
             [
              0.1111111111111111,
              "#46039f"
             ],
             [
              0.2222222222222222,
              "#7201a8"
             ],
             [
              0.3333333333333333,
              "#9c179e"
             ],
             [
              0.4444444444444444,
              "#bd3786"
             ],
             [
              0.5555555555555556,
              "#d8576b"
             ],
             [
              0.6666666666666666,
              "#ed7953"
             ],
             [
              0.7777777777777778,
              "#fb9f3a"
             ],
             [
              0.8888888888888888,
              "#fdca26"
             ],
             [
              1,
              "#f0f921"
             ]
            ],
            "type": "heatmap"
           }
          ],
          "heatmapgl": [
           {
            "colorbar": {
             "outlinewidth": 0,
             "ticks": ""
            },
            "colorscale": [
             [
              0,
              "#0d0887"
             ],
             [
              0.1111111111111111,
              "#46039f"
             ],
             [
              0.2222222222222222,
              "#7201a8"
             ],
             [
              0.3333333333333333,
              "#9c179e"
             ],
             [
              0.4444444444444444,
              "#bd3786"
             ],
             [
              0.5555555555555556,
              "#d8576b"
             ],
             [
              0.6666666666666666,
              "#ed7953"
             ],
             [
              0.7777777777777778,
              "#fb9f3a"
             ],
             [
              0.8888888888888888,
              "#fdca26"
             ],
             [
              1,
              "#f0f921"
             ]
            ],
            "type": "heatmapgl"
           }
          ],
          "histogram": [
           {
            "marker": {
             "colorbar": {
              "outlinewidth": 0,
              "ticks": ""
             }
            },
            "type": "histogram"
           }
          ],
          "histogram2d": [
           {
            "colorbar": {
             "outlinewidth": 0,
             "ticks": ""
            },
            "colorscale": [
             [
              0,
              "#0d0887"
             ],
             [
              0.1111111111111111,
              "#46039f"
             ],
             [
              0.2222222222222222,
              "#7201a8"
             ],
             [
              0.3333333333333333,
              "#9c179e"
             ],
             [
              0.4444444444444444,
              "#bd3786"
             ],
             [
              0.5555555555555556,
              "#d8576b"
             ],
             [
              0.6666666666666666,
              "#ed7953"
             ],
             [
              0.7777777777777778,
              "#fb9f3a"
             ],
             [
              0.8888888888888888,
              "#fdca26"
             ],
             [
              1,
              "#f0f921"
             ]
            ],
            "type": "histogram2d"
           }
          ],
          "histogram2dcontour": [
           {
            "colorbar": {
             "outlinewidth": 0,
             "ticks": ""
            },
            "colorscale": [
             [
              0,
              "#0d0887"
             ],
             [
              0.1111111111111111,
              "#46039f"
             ],
             [
              0.2222222222222222,
              "#7201a8"
             ],
             [
              0.3333333333333333,
              "#9c179e"
             ],
             [
              0.4444444444444444,
              "#bd3786"
             ],
             [
              0.5555555555555556,
              "#d8576b"
             ],
             [
              0.6666666666666666,
              "#ed7953"
             ],
             [
              0.7777777777777778,
              "#fb9f3a"
             ],
             [
              0.8888888888888888,
              "#fdca26"
             ],
             [
              1,
              "#f0f921"
             ]
            ],
            "type": "histogram2dcontour"
           }
          ],
          "mesh3d": [
           {
            "colorbar": {
             "outlinewidth": 0,
             "ticks": ""
            },
            "type": "mesh3d"
           }
          ],
          "parcoords": [
           {
            "line": {
             "colorbar": {
              "outlinewidth": 0,
              "ticks": ""
             }
            },
            "type": "parcoords"
           }
          ],
          "scatter": [
           {
            "marker": {
             "colorbar": {
              "outlinewidth": 0,
              "ticks": ""
             }
            },
            "type": "scatter"
           }
          ],
          "scatter3d": [
           {
            "line": {
             "colorbar": {
              "outlinewidth": 0,
              "ticks": ""
             }
            },
            "marker": {
             "colorbar": {
              "outlinewidth": 0,
              "ticks": ""
             }
            },
            "type": "scatter3d"
           }
          ],
          "scattercarpet": [
           {
            "marker": {
             "colorbar": {
              "outlinewidth": 0,
              "ticks": ""
             }
            },
            "type": "scattercarpet"
           }
          ],
          "scattergeo": [
           {
            "marker": {
             "colorbar": {
              "outlinewidth": 0,
              "ticks": ""
             }
            },
            "type": "scattergeo"
           }
          ],
          "scattergl": [
           {
            "marker": {
             "colorbar": {
              "outlinewidth": 0,
              "ticks": ""
             }
            },
            "type": "scattergl"
           }
          ],
          "scattermapbox": [
           {
            "marker": {
             "colorbar": {
              "outlinewidth": 0,
              "ticks": ""
             }
            },
            "type": "scattermapbox"
           }
          ],
          "scatterpolar": [
           {
            "marker": {
             "colorbar": {
              "outlinewidth": 0,
              "ticks": ""
             }
            },
            "type": "scatterpolar"
           }
          ],
          "scatterpolargl": [
           {
            "marker": {
             "colorbar": {
              "outlinewidth": 0,
              "ticks": ""
             }
            },
            "type": "scatterpolargl"
           }
          ],
          "scatterternary": [
           {
            "marker": {
             "colorbar": {
              "outlinewidth": 0,
              "ticks": ""
             }
            },
            "type": "scatterternary"
           }
          ],
          "surface": [
           {
            "colorbar": {
             "outlinewidth": 0,
             "ticks": ""
            },
            "colorscale": [
             [
              0,
              "#0d0887"
             ],
             [
              0.1111111111111111,
              "#46039f"
             ],
             [
              0.2222222222222222,
              "#7201a8"
             ],
             [
              0.3333333333333333,
              "#9c179e"
             ],
             [
              0.4444444444444444,
              "#bd3786"
             ],
             [
              0.5555555555555556,
              "#d8576b"
             ],
             [
              0.6666666666666666,
              "#ed7953"
             ],
             [
              0.7777777777777778,
              "#fb9f3a"
             ],
             [
              0.8888888888888888,
              "#fdca26"
             ],
             [
              1,
              "#f0f921"
             ]
            ],
            "type": "surface"
           }
          ],
          "table": [
           {
            "cells": {
             "fill": {
              "color": "#EBF0F8"
             },
             "line": {
              "color": "white"
             }
            },
            "header": {
             "fill": {
              "color": "#C8D4E3"
             },
             "line": {
              "color": "white"
             }
            },
            "type": "table"
           }
          ]
         },
         "layout": {
          "annotationdefaults": {
           "arrowcolor": "#2a3f5f",
           "arrowhead": 0,
           "arrowwidth": 1
          },
          "colorscale": {
           "diverging": [
            [
             0,
             "#8e0152"
            ],
            [
             0.1,
             "#c51b7d"
            ],
            [
             0.2,
             "#de77ae"
            ],
            [
             0.3,
             "#f1b6da"
            ],
            [
             0.4,
             "#fde0ef"
            ],
            [
             0.5,
             "#f7f7f7"
            ],
            [
             0.6,
             "#e6f5d0"
            ],
            [
             0.7,
             "#b8e186"
            ],
            [
             0.8,
             "#7fbc41"
            ],
            [
             0.9,
             "#4d9221"
            ],
            [
             1,
             "#276419"
            ]
           ],
           "sequential": [
            [
             0,
             "#0d0887"
            ],
            [
             0.1111111111111111,
             "#46039f"
            ],
            [
             0.2222222222222222,
             "#7201a8"
            ],
            [
             0.3333333333333333,
             "#9c179e"
            ],
            [
             0.4444444444444444,
             "#bd3786"
            ],
            [
             0.5555555555555556,
             "#d8576b"
            ],
            [
             0.6666666666666666,
             "#ed7953"
            ],
            [
             0.7777777777777778,
             "#fb9f3a"
            ],
            [
             0.8888888888888888,
             "#fdca26"
            ],
            [
             1,
             "#f0f921"
            ]
           ],
           "sequentialminus": [
            [
             0,
             "#0d0887"
            ],
            [
             0.1111111111111111,
             "#46039f"
            ],
            [
             0.2222222222222222,
             "#7201a8"
            ],
            [
             0.3333333333333333,
             "#9c179e"
            ],
            [
             0.4444444444444444,
             "#bd3786"
            ],
            [
             0.5555555555555556,
             "#d8576b"
            ],
            [
             0.6666666666666666,
             "#ed7953"
            ],
            [
             0.7777777777777778,
             "#fb9f3a"
            ],
            [
             0.8888888888888888,
             "#fdca26"
            ],
            [
             1,
             "#f0f921"
            ]
           ]
          },
          "colorway": [
           "#636efa",
           "#EF553B",
           "#00cc96",
           "#ab63fa",
           "#FFA15A",
           "#19d3f3",
           "#FF6692",
           "#B6E880",
           "#FF97FF",
           "#FECB52"
          ],
          "font": {
           "color": "#2a3f5f"
          },
          "geo": {
           "bgcolor": "white",
           "lakecolor": "white",
           "landcolor": "#E5ECF6",
           "showlakes": true,
           "showland": true,
           "subunitcolor": "white"
          },
          "hoverlabel": {
           "align": "left"
          },
          "hovermode": "closest",
          "mapbox": {
           "style": "light"
          },
          "paper_bgcolor": "white",
          "plot_bgcolor": "#E5ECF6",
          "polar": {
           "angularaxis": {
            "gridcolor": "white",
            "linecolor": "white",
            "ticks": ""
           },
           "bgcolor": "#E5ECF6",
           "radialaxis": {
            "gridcolor": "white",
            "linecolor": "white",
            "ticks": ""
           }
          },
          "scene": {
           "xaxis": {
            "backgroundcolor": "#E5ECF6",
            "gridcolor": "white",
            "gridwidth": 2,
            "linecolor": "white",
            "showbackground": true,
            "ticks": "",
            "zerolinecolor": "white"
           },
           "yaxis": {
            "backgroundcolor": "#E5ECF6",
            "gridcolor": "white",
            "gridwidth": 2,
            "linecolor": "white",
            "showbackground": true,
            "ticks": "",
            "zerolinecolor": "white"
           },
           "zaxis": {
            "backgroundcolor": "#E5ECF6",
            "gridcolor": "white",
            "gridwidth": 2,
            "linecolor": "white",
            "showbackground": true,
            "ticks": "",
            "zerolinecolor": "white"
           }
          },
          "shapedefaults": {
           "line": {
            "color": "#2a3f5f"
           }
          },
          "ternary": {
           "aaxis": {
            "gridcolor": "white",
            "linecolor": "white",
            "ticks": ""
           },
           "baxis": {
            "gridcolor": "white",
            "linecolor": "white",
            "ticks": ""
           },
           "bgcolor": "#E5ECF6",
           "caxis": {
            "gridcolor": "white",
            "linecolor": "white",
            "ticks": ""
           }
          },
          "title": {
           "x": 0.05
          },
          "xaxis": {
           "automargin": true,
           "gridcolor": "white",
           "linecolor": "white",
           "ticks": "",
           "zerolinecolor": "white",
           "zerolinewidth": 2
          },
          "yaxis": {
           "automargin": true,
           "gridcolor": "white",
           "linecolor": "white",
           "ticks": "",
           "zerolinecolor": "white",
           "zerolinewidth": 2
          }
         }
        },
        "title": {
         "text": "Connectivity for boston"
        }
       }
      },
      "text/html": [
       "<div>\n",
       "        \n",
       "        \n",
       "            <div id=\"d0ade54b-ee91-46fa-a922-4ecd722729a0\" class=\"plotly-graph-div\" style=\"height:525px; width:100%;\"></div>\n",
       "            <script type=\"text/javascript\">\n",
       "                require([\"plotly\"], function(Plotly) {\n",
       "                    window.PLOTLYENV=window.PLOTLYENV || {};\n",
       "                    \n",
       "                if (document.getElementById(\"d0ade54b-ee91-46fa-a922-4ecd722729a0\")) {\n",
       "                    Plotly.newPlot(\n",
       "                        'd0ade54b-ee91-46fa-a922-4ecd722729a0',\n",
       "                        [{\"hoverinfo\": \"text\", \"lat\": [42.3364329096909, 42.34564071980456, 42.33789357023185, 42.34593746797057, 42.38249268945399, 42.34210116337201, 42.28496167876716, 42.33490544089794, 42.399380571985986, 42.354092679541026, 42.38692828289797, 42.334739570392436, 42.2844350221873, 42.28479719228265, 42.39386778194585, 42.278298298912006, 42.401900351632094, 42.35815247910236, 42.33893588934812, 42.36425838174556, 42.39943258898299, 42.37291776022968, 42.39290080439988, 42.26072214523669, 42.341293212365024, 42.360863024211085, 42.284852214384, 42.284852214384, 42.284852214384, 42.284852214384, 42.284852214384, 42.284852214384, 42.372381899935945, 42.37810709017599, 42.33077904779031, 42.35838943093695, 42.35574132001731, 42.35459026182861, 42.35074534382176, 42.356122370504096, 42.41024687459465, 42.284687728152626, 42.40839032224402, 42.384822692554906, 42.36594803677225, 42.33561081380296, 42.257711401594214, 42.41933538851051, 42.39356586810918, 42.350143266630866, 42.354621663299945, 42.36424454107258, 42.36617386761112, 42.387646861728214, 42.28666100376121, 42.26483535919734, 42.416453257988366, 42.39337618115969, 42.38924526303799], \"lon\": [-71.04835325355748, -71.06326905318093, -71.13407166420512, -71.14997780376456, -71.09459207277507, -71.14690739568448, -70.87955271887495, -71.02821498603856, -71.11441155138579, -71.05865560485466, -71.10580776951713, -71.03195665403791, -71.06497337241484, -70.87951225390577, -71.07850521214704, -71.06007938536698, -71.119677277128, -71.05946107561675, -71.08009051470742, -71.10915783545272, -71.11716148178346, -71.11996126734232, -71.11636019035012, -71.02169167918231, -71.08215301005254, -71.10220450741502, -70.87973561981863, -70.87973561981863, -70.87973561981863, -70.87973561981863, -70.87973561981863, -70.87973561981863, -71.10762308660668, -71.14062766942976, -71.05555728644288, -71.10663119539407, -71.05402126263004, -71.0518409205751, -71.05950030191781, -71.05937370784136, -71.11840888121947, -70.87969515428324, -70.99878539000247, -71.1663165596363, -71.05278831785023, -71.04688668772411, -71.00877265296344, -71.08720985374924, -71.11021255871054, -71.05703680547452, -71.13870616301386, -71.05719970057697, -71.03917378493242, -71.10051630922396, -70.87955110214068, -71.01264391328328, -71.11660127360028, -71.13289924826404, -71.09313059662361], \"marker\": {\"color\": \"red\", \"size\": 15}, \"text\": [\"bright-aquamarine-seal\", \"sweet-citron-stork\", \"cheesy-brick-mustang\", \"dandy-ruby-yeti\", \"gorgeous-chambray-turtle\", \"hidden-pastel-wasp\", \"mini-cloth-ape\", \"fierce-tan-mongoose\", \"bent-ceramic-chipmunk\", \"muscular-pastel-squid\", \"late-mint-gazelle\", \"cheery-cloud-guppy\", \"short-shadow-panda\", \"innocent-tweed-wolverine\", \"daring-caramel-shark\", \"virtual-cornflower-mammoth\", \"creamy-fern-coyote\", \"fit-myrtle-gibbon\", \"upbeat-currant-mouse\", \"proper-carob-giraffe\", \"salty-scarlet-finch\", \"sunny-pearl-badger\", \"nice-iris-gerbil\", \"fluffy-aqua-stallion\", \"perfect-chartreuse-butterfly\", \"loud-seafoam-mink\", \"hollow-jade-hare\", \"damp-scarlet-squirrel\", \"custom-tartan-sparrow\", \"unique-cobalt-stallion\", \"broad-holographic-beetle\", \"real-gauze-loris\", \"acrobatic-golden-parakeet\", \"amusing-topaz-dalmatian\", \"scrawny-sable-cat\", \"straight-ginger-tadpole\", \"chilly-azure-scorpion\", \"soft-clay-tiger\", \"spicy-opaque-sloth\", \"small-chili-leopard\", \"short-amber-cricket\", \"fun-pink-kangaroo\", \"vast-lead-chipmunk\", \"stable-currant-hornet\", \"crazy-zinc-rook\", \"interesting-tortilla-armadillo\", \"stale-arctic-panther\", \"immense-paisley-moose\", \"rural-rosewood-wallaby\", \"short-graphite-terrier\", \"innocent-chili-toad\", \"slow-flaxen-locust\", \"massive-pastel-pheasant\", \"high-cloud-elk\", \"stale-citron-stork\", \"harsh-citron-spider\", \"old-gingham-llama\", \"original-sandstone-elephant\", \"fit-cornflower-turkey\"], \"type\": \"scattermapbox\"}, {\"lat\": [42.3364329096909, 42.350143266630866], \"line\": {\"color\": \"blue\", \"width\": 6}, \"lon\": [-71.04835325355748, -71.05703680547452], \"mode\": \"lines\", \"opacity\": 0.0005065856129685917, \"type\": \"scattermapbox\"}, {\"lat\": [42.3364329096909, 42.33561081380296], \"line\": {\"color\": \"blue\", \"width\": 6}, \"lon\": [-71.04835325355748, -71.04688668772411], \"mode\": \"lines\", \"opacity\": 0.031914893617021274, \"type\": \"scattermapbox\"}, {\"lat\": [42.3364329096909, 42.33077904779031], \"line\": {\"color\": \"blue\", \"width\": 6}, \"lon\": [-71.04835325355748, -71.05555728644288], \"mode\": \"lines\", \"opacity\": 0.0010131712259371835, \"type\": \"scattermapbox\"}, {\"lat\": [42.34564071980456, 42.356122370504096], \"line\": {\"color\": \"blue\", \"width\": 6}, \"lon\": [-71.06326905318093, -71.05937370784136], \"mode\": \"lines\", \"opacity\": 0.008611955420466059, \"type\": \"scattermapbox\"}, {\"lat\": [42.34564071980456, 42.33561081380296], \"line\": {\"color\": \"blue\", \"width\": 6}, \"lon\": [-71.06326905318093, -71.04688668772411], \"mode\": \"lines\", \"opacity\": 0.0005065856129685917, \"type\": \"scattermapbox\"}, {\"lat\": [42.34564071980456, 42.33077904779031], \"line\": {\"color\": \"blue\", \"width\": 6}, \"lon\": [-71.06326905318093, -71.05555728644288], \"mode\": \"lines\", \"opacity\": 0.0010131712259371835, \"type\": \"scattermapbox\"}, {\"lat\": [42.34564071980456, 42.350143266630866], \"line\": {\"color\": \"blue\", \"width\": 6}, \"lon\": [-71.06326905318093, -71.05703680547452], \"mode\": \"lines\", \"opacity\": 0.3601823708206687, \"type\": \"scattermapbox\"}, {\"lat\": [42.34564071980456, 42.33893588934812], \"line\": {\"color\": \"blue\", \"width\": 6}, \"lon\": [-71.06326905318093, -71.08009051470742], \"mode\": \"lines\", \"opacity\": 0.0005065856129685917, \"type\": \"scattermapbox\"}, {\"lat\": [42.34564071980456, 42.35074534382176], \"line\": {\"color\": \"blue\", \"width\": 6}, \"lon\": [-71.06326905318093, -71.05950030191781], \"mode\": \"lines\", \"opacity\": 0.031408308004052685, \"type\": \"scattermapbox\"}, {\"lat\": [42.34564071980456, 42.354092679541026], \"line\": {\"color\": \"blue\", \"width\": 6}, \"lon\": [-71.06326905318093, -71.05865560485466], \"mode\": \"lines\", \"opacity\": 0.025329280648429583, \"type\": \"scattermapbox\"}, {\"lat\": [42.33789357023185, 42.34210116337201], \"line\": {\"color\": \"blue\", \"width\": 6}, \"lon\": [-71.13407166420512, -71.14690739568448], \"mode\": \"lines\", \"opacity\": 0.0005065856129685917, \"type\": \"scattermapbox\"}, {\"lat\": [42.33789357023185, 42.356122370504096], \"line\": {\"color\": \"blue\", \"width\": 6}, \"lon\": [-71.13407166420512, -71.05937370784136], \"mode\": \"lines\", \"opacity\": 0.0005065856129685917, \"type\": \"scattermapbox\"}, {\"lat\": [42.33789357023185, 42.354092679541026], \"line\": {\"color\": \"blue\", \"width\": 6}, \"lon\": [-71.13407166420512, -71.05865560485466], \"mode\": \"lines\", \"opacity\": 0.0005065856129685917, \"type\": \"scattermapbox\"}, {\"lat\": [42.34593746797057, 42.26072214523669], \"line\": {\"color\": \"blue\", \"width\": 6}, \"lon\": [-71.14997780376456, -71.02169167918231], \"mode\": \"lines\", \"opacity\": 0.0547112462006079, \"type\": \"scattermapbox\"}, {\"lat\": [42.34593746797057, 42.26483535919734], \"line\": {\"color\": \"blue\", \"width\": 6}, \"lon\": [-71.14997780376456, -71.01264391328328], \"mode\": \"lines\", \"opacity\": 0.002026342451874367, \"type\": \"scattermapbox\"}, {\"lat\": [42.34593746797057, 42.334739570392436], \"line\": {\"color\": \"blue\", \"width\": 6}, \"lon\": [-71.14997780376456, -71.03195665403791], \"mode\": \"lines\", \"opacity\": 0.0010131712259371835, \"type\": \"scattermapbox\"}, {\"lat\": [42.34593746797057, 42.350143266630866], \"line\": {\"color\": \"blue\", \"width\": 6}, \"lon\": [-71.14997780376456, -71.05703680547452], \"mode\": \"lines\", \"opacity\": 0.06281661600810537, \"type\": \"scattermapbox\"}, {\"lat\": [42.38249268945399, 42.387646861728214], \"line\": {\"color\": \"blue\", \"width\": 6}, \"lon\": [-71.09459207277507, -71.10051630922396], \"mode\": \"lines\", \"opacity\": 0.303951367781155, \"type\": \"scattermapbox\"}, {\"lat\": [42.38249268945399, 42.38692828289797], \"line\": {\"color\": \"blue\", \"width\": 6}, \"lon\": [-71.09459207277507, -71.10580776951713], \"mode\": \"lines\", \"opacity\": 0.004559270516717325, \"type\": \"scattermapbox\"}, {\"lat\": [42.28496167876716, 42.28479719228265], \"line\": {\"color\": \"blue\", \"width\": 6}, \"lon\": [-70.87955271887495, -70.87951225390577], \"mode\": \"lines\", \"opacity\": 0.24417426545086118, \"type\": \"scattermapbox\"}, {\"lat\": [42.28496167876716, 42.28666100376121], \"line\": {\"color\": \"blue\", \"width\": 6}, \"lon\": [-70.87955271887495, -70.87955110214068], \"mode\": \"lines\", \"opacity\": 0.24012158054711247, \"type\": \"scattermapbox\"}, {\"lat\": [42.33490544089794, 42.334739570392436], \"line\": {\"color\": \"blue\", \"width\": 6}, \"lon\": [-71.02821498603856, -71.03195665403791], \"mode\": \"lines\", \"opacity\": 0.10840932117527863, \"type\": \"scattermapbox\"}, {\"lat\": [42.399380571985986, 42.39290080439988], \"line\": {\"color\": \"blue\", \"width\": 6}, \"lon\": [-71.11441155138579, -71.11636019035012], \"mode\": \"lines\", \"opacity\": 0.13171225937183384, \"type\": \"scattermapbox\"}, {\"lat\": [42.399380571985986, 42.401900351632094], \"line\": {\"color\": \"blue\", \"width\": 6}, \"lon\": [-71.11441155138579, -71.119677277128], \"mode\": \"lines\", \"opacity\": 0.5182370820668692, \"type\": \"scattermapbox\"}, {\"lat\": [42.399380571985986, 42.41024687459465], \"line\": {\"color\": \"blue\", \"width\": 6}, \"lon\": [-71.11441155138579, -71.11840888121947], \"mode\": \"lines\", \"opacity\": 0.018743667679837893, \"type\": \"scattermapbox\"}, {\"lat\": [42.399380571985986, 42.39356586810918], \"line\": {\"color\": \"blue\", \"width\": 6}, \"lon\": [-71.11441155138579, -71.11021255871054], \"mode\": \"lines\", \"opacity\": 0.008611955420466059, \"type\": \"scattermapbox\"}, {\"lat\": [42.399380571985986, 42.39943258898299], \"line\": {\"color\": \"blue\", \"width\": 6}, \"lon\": [-71.11441155138579, -71.11716148178346], \"mode\": \"lines\", \"opacity\": 0.6175278622087133, \"type\": \"scattermapbox\"}, {\"lat\": [42.354092679541026, 42.356122370504096], \"line\": {\"color\": \"blue\", \"width\": 6}, \"lon\": [-71.05865560485466, -71.05937370784136], \"mode\": \"lines\", \"opacity\": 0.1347517730496454, \"type\": \"scattermapbox\"}, {\"lat\": [42.354092679541026, 42.387646861728214], \"line\": {\"color\": \"blue\", \"width\": 6}, \"lon\": [-71.05865560485466, -71.10051630922396], \"mode\": \"lines\", \"opacity\": 0.0010131712259371835, \"type\": \"scattermapbox\"}, {\"lat\": [42.354092679541026, 42.35815247910236], \"line\": {\"color\": \"blue\", \"width\": 6}, \"lon\": [-71.05865560485466, -71.05946107561675], \"mode\": \"lines\", \"opacity\": 0.12056737588652482, \"type\": \"scattermapbox\"}, {\"lat\": [42.354092679541026, 42.35074534382176], \"line\": {\"color\": \"blue\", \"width\": 6}, \"lon\": [-71.05865560485466, -71.05950030191781], \"mode\": \"lines\", \"opacity\": 0.2198581560283688, \"type\": \"scattermapbox\"}, {\"lat\": [42.354092679541026, 42.36424454107258], \"line\": {\"color\": \"blue\", \"width\": 6}, \"lon\": [-71.05865560485466, -71.05719970057697], \"mode\": \"lines\", \"opacity\": 0.0182370820668693, \"type\": \"scattermapbox\"}, {\"lat\": [42.354092679541026, 42.2844350221873], \"line\": {\"color\": \"blue\", \"width\": 6}, \"lon\": [-71.05865560485466, -71.06497337241484], \"mode\": \"lines\", \"opacity\": 0.001519756838905775, \"type\": \"scattermapbox\"}, {\"lat\": [42.354092679541026, 42.36594803677225], \"line\": {\"color\": \"blue\", \"width\": 6}, \"lon\": [-71.05865560485466, -71.05278831785023], \"mode\": \"lines\", \"opacity\": 0.0005065856129685917, \"type\": \"scattermapbox\"}, {\"lat\": [42.354092679541026, 42.35459026182861], \"line\": {\"color\": \"blue\", \"width\": 6}, \"lon\": [-71.05865560485466, -71.0518409205751], \"mode\": \"lines\", \"opacity\": 0.09979736575481256, \"type\": \"scattermapbox\"}, {\"lat\": [42.354092679541026, 42.35838943093695], \"line\": {\"color\": \"blue\", \"width\": 6}, \"lon\": [-71.05865560485466, -71.10663119539407], \"mode\": \"lines\", \"opacity\": 0.004559270516717325, \"type\": \"scattermapbox\"}, {\"lat\": [42.354092679541026, 42.33077904779031], \"line\": {\"color\": \"blue\", \"width\": 6}, \"lon\": [-71.05865560485466, -71.05555728644288], \"mode\": \"lines\", \"opacity\": 0.002026342451874367, \"type\": \"scattermapbox\"}, {\"lat\": [42.354092679541026, 42.35574132001731], \"line\": {\"color\": \"blue\", \"width\": 6}, \"lon\": [-71.05865560485466, -71.05402126263004], \"mode\": \"lines\", \"opacity\": 0.001519756838905775, \"type\": \"scattermapbox\"}, {\"lat\": [42.354092679541026, 42.350143266630866], \"line\": {\"color\": \"blue\", \"width\": 6}, \"lon\": [-71.05865560485466, -71.05703680547452], \"mode\": \"lines\", \"opacity\": 0.41084093211752787, \"type\": \"scattermapbox\"}, {\"lat\": [42.38692828289797, 42.387646861728214], \"line\": {\"color\": \"blue\", \"width\": 6}, \"lon\": [-71.10580776951713, -71.10051630922396], \"mode\": \"lines\", \"opacity\": 0.006585612968591692, \"type\": \"scattermapbox\"}, {\"lat\": [42.38692828289797, 42.39943258898299], \"line\": {\"color\": \"blue\", \"width\": 6}, \"lon\": [-71.10580776951713, -71.11716148178346], \"mode\": \"lines\", \"opacity\": 0.0005065856129685917, \"type\": \"scattermapbox\"}, {\"lat\": [42.38692828289797, 42.372381899935945], \"line\": {\"color\": \"blue\", \"width\": 6}, \"lon\": [-71.10580776951713, -71.10762308660668], \"mode\": \"lines\", \"opacity\": 0.0005065856129685917, \"type\": \"scattermapbox\"}, {\"lat\": [42.334739570392436, 42.350143266630866], \"line\": {\"color\": \"blue\", \"width\": 6}, \"lon\": [-71.03195665403791, -71.05703680547452], \"mode\": \"lines\", \"opacity\": 0.0005065856129685917, \"type\": \"scattermapbox\"}, {\"lat\": [42.334739570392436, 42.257711401594214], \"line\": {\"color\": \"blue\", \"width\": 6}, \"lon\": [-71.03195665403791, -71.00877265296344], \"mode\": \"lines\", \"opacity\": 0.0121580547112462, \"type\": \"scattermapbox\"}, {\"lat\": [42.2844350221873, 42.356122370504096], \"line\": {\"color\": \"blue\", \"width\": 6}, \"lon\": [-71.06497337241484, -71.05937370784136], \"mode\": \"lines\", \"opacity\": 0.0025329280648429585, \"type\": \"scattermapbox\"}, {\"lat\": [42.2844350221873, 42.350143266630866], \"line\": {\"color\": \"blue\", \"width\": 6}, \"lon\": [-71.06497337241484, -71.05703680547452], \"mode\": \"lines\", \"opacity\": 0.0005065856129685917, \"type\": \"scattermapbox\"}, {\"lat\": [42.2844350221873, 42.278298298912006], \"line\": {\"color\": \"blue\", \"width\": 6}, \"lon\": [-71.06497337241484, -71.06007938536698], \"mode\": \"lines\", \"opacity\": 0.002026342451874367, \"type\": \"scattermapbox\"}, {\"lat\": [42.28479719228265, 42.284687728152626], \"line\": {\"color\": \"blue\", \"width\": 6}, \"lon\": [-70.87951225390577, -70.87969515428324], \"mode\": \"lines\", \"opacity\": 0.12563323201621074, \"type\": \"scattermapbox\"}, {\"lat\": [42.28479719228265, 42.284852214384], \"line\": {\"color\": \"blue\", \"width\": 6}, \"lon\": [-70.87951225390577, -70.87973561981863], \"mode\": \"lines\", \"opacity\": 0.12968591691995948, \"type\": \"scattermapbox\"}, {\"lat\": [42.28479719228265, 42.284852214384], \"line\": {\"color\": \"blue\", \"width\": 6}, \"lon\": [-70.87951225390577, -70.87973561981863], \"mode\": \"lines\", \"opacity\": 0.15501519756838905, \"type\": \"scattermapbox\"}, {\"lat\": [42.28479719228265, 42.284852214384], \"line\": {\"color\": \"blue\", \"width\": 6}, \"lon\": [-70.87951225390577, -70.87973561981863], \"mode\": \"lines\", \"opacity\": 0.1469098277608916, \"type\": \"scattermapbox\"}, {\"lat\": [42.28479719228265, 42.284852214384], \"line\": {\"color\": \"blue\", \"width\": 6}, \"lon\": [-70.87951225390577, -70.87973561981863], \"mode\": \"lines\", \"opacity\": 0.12158054711246201, \"type\": \"scattermapbox\"}, {\"lat\": [42.28479719228265, 42.284852214384], \"line\": {\"color\": \"blue\", \"width\": 6}, \"lon\": [-70.87951225390577, -70.87973561981863], \"mode\": \"lines\", \"opacity\": 0.1474164133738602, \"type\": \"scattermapbox\"}, {\"lat\": [42.28479719228265, 42.284852214384], \"line\": {\"color\": \"blue\", \"width\": 6}, \"lon\": [-70.87951225390577, -70.87973561981863], \"mode\": \"lines\", \"opacity\": 0.1524822695035461, \"type\": \"scattermapbox\"}, {\"lat\": [42.28479719228265, 42.356122370504096], \"line\": {\"color\": \"blue\", \"width\": 6}, \"lon\": [-70.87951225390577, -71.05937370784136], \"mode\": \"lines\", \"opacity\": 0.0005065856129685917, \"type\": \"scattermapbox\"}, {\"lat\": [42.28479719228265, 42.28666100376121], \"line\": {\"color\": \"blue\", \"width\": 6}, \"lon\": [-70.87951225390577, -70.87955110214068], \"mode\": \"lines\", \"opacity\": 0.2375886524822695, \"type\": \"scattermapbox\"}, {\"lat\": [42.39386778194585, 42.38924526303799], \"line\": {\"color\": \"blue\", \"width\": 6}, \"lon\": [-71.07850521214704, -71.09313059662361], \"mode\": \"lines\", \"opacity\": 0.00303951367781155, \"type\": \"scattermapbox\"}, {\"lat\": [42.39386778194585, 42.387646861728214], \"line\": {\"color\": \"blue\", \"width\": 6}, \"lon\": [-71.07850521214704, -71.10051630922396], \"mode\": \"lines\", \"opacity\": 0.028875379939209727, \"type\": \"scattermapbox\"}, {\"lat\": [42.39386778194585, 42.40839032224402], \"line\": {\"color\": \"blue\", \"width\": 6}, \"lon\": [-71.07850521214704, -70.99878539000247], \"mode\": \"lines\", \"opacity\": 0.0010131712259371835, \"type\": \"scattermapbox\"}, {\"lat\": [42.39386778194585, 42.416453257988366], \"line\": {\"color\": \"blue\", \"width\": 6}, \"lon\": [-71.07850521214704, -71.11660127360028], \"mode\": \"lines\", \"opacity\": 0.001519756838905775, \"type\": \"scattermapbox\"}, {\"lat\": [42.401900351632094, 42.39943258898299], \"line\": {\"color\": \"blue\", \"width\": 6}, \"lon\": [-71.119677277128, -71.11716148178346], \"mode\": \"lines\", \"opacity\": 0.1833839918946302, \"type\": \"scattermapbox\"}, {\"lat\": [42.35815247910236, 42.36594803677225], \"line\": {\"color\": \"blue\", \"width\": 6}, \"lon\": [-71.05946107561675, -71.05278831785023], \"mode\": \"lines\", \"opacity\": 0.002026342451874367, \"type\": \"scattermapbox\"}, {\"lat\": [42.35815247910236, 42.356122370504096], \"line\": {\"color\": \"blue\", \"width\": 6}, \"lon\": [-71.05946107561675, -71.05937370784136], \"mode\": \"lines\", \"opacity\": 0.12462006079027356, \"type\": \"scattermapbox\"}, {\"lat\": [42.35815247910236, 42.36424454107258], \"line\": {\"color\": \"blue\", \"width\": 6}, \"lon\": [-71.05946107561675, -71.05719970057697], \"mode\": \"lines\", \"opacity\": 0.0790273556231003, \"type\": \"scattermapbox\"}, {\"lat\": [42.35815247910236, 42.35074534382176], \"line\": {\"color\": \"blue\", \"width\": 6}, \"lon\": [-71.05946107561675, -71.05950030191781], \"mode\": \"lines\", \"opacity\": 0.004052684903748734, \"type\": \"scattermapbox\"}, {\"lat\": [42.35815247910236, 42.35574132001731], \"line\": {\"color\": \"blue\", \"width\": 6}, \"lon\": [-71.05946107561675, -71.05402126263004], \"mode\": \"lines\", \"opacity\": 0.0005065856129685917, \"type\": \"scattermapbox\"}, {\"lat\": [42.35815247910236, 42.350143266630866], \"line\": {\"color\": \"blue\", \"width\": 6}, \"lon\": [-71.05946107561675, -71.05703680547452], \"mode\": \"lines\", \"opacity\": 0.054204660587639314, \"type\": \"scattermapbox\"}, {\"lat\": [42.33893588934812, 42.341293212365024], \"line\": {\"color\": \"blue\", \"width\": 6}, \"lon\": [-71.08009051470742, -71.08215301005254], \"mode\": \"lines\", \"opacity\": 0.10233029381965553, \"type\": \"scattermapbox\"}, {\"lat\": [42.36425838174556, 42.360863024211085], \"line\": {\"color\": \"blue\", \"width\": 6}, \"lon\": [-71.10915783545272, -71.10220450741502], \"mode\": \"lines\", \"opacity\": 0.2502532928064843, \"type\": \"scattermapbox\"}, {\"lat\": [42.36425838174556, 42.35838943093695], \"line\": {\"color\": \"blue\", \"width\": 6}, \"lon\": [-71.10915783545272, -71.10663119539407], \"mode\": \"lines\", \"opacity\": 0.019756838905775075, \"type\": \"scattermapbox\"}, {\"lat\": [42.36425838174556, 42.37291776022968], \"line\": {\"color\": \"blue\", \"width\": 6}, \"lon\": [-71.10915783545272, -71.11996126734232], \"mode\": \"lines\", \"opacity\": 0.0005065856129685917, \"type\": \"scattermapbox\"}, {\"lat\": [42.39943258898299, 42.387646861728214], \"line\": {\"color\": \"blue\", \"width\": 6}, \"lon\": [-71.11716148178346, -71.10051630922396], \"mode\": \"lines\", \"opacity\": 0.004052684903748734, \"type\": \"scattermapbox\"}, {\"lat\": [42.39943258898299, 42.39290080439988], \"line\": {\"color\": \"blue\", \"width\": 6}, \"lon\": [-71.11716148178346, -71.11636019035012], \"mode\": \"lines\", \"opacity\": 0.06940222897669707, \"type\": \"scattermapbox\"}, {\"lat\": [42.39943258898299, 42.384822692554906], \"line\": {\"color\": \"blue\", \"width\": 6}, \"lon\": [-71.11716148178346, -71.1663165596363], \"mode\": \"lines\", \"opacity\": 0.0010131712259371835, \"type\": \"scattermapbox\"}, {\"lat\": [42.39943258898299, 42.37810709017599], \"line\": {\"color\": \"blue\", \"width\": 6}, \"lon\": [-71.11716148178346, -71.14062766942976], \"mode\": \"lines\", \"opacity\": 0.0005065856129685917, \"type\": \"scattermapbox\"}, {\"lat\": [42.39943258898299, 42.39356586810918], \"line\": {\"color\": \"blue\", \"width\": 6}, \"lon\": [-71.11716148178346, -71.11021255871054], \"mode\": \"lines\", \"opacity\": 0.0005065856129685917, \"type\": \"scattermapbox\"}, {\"lat\": [42.39943258898299, 42.39337618115969], \"line\": {\"color\": \"blue\", \"width\": 6}, \"lon\": [-71.11716148178346, -71.13289924826404], \"mode\": \"lines\", \"opacity\": 0.03900709219858156, \"type\": \"scattermapbox\"}, {\"lat\": [42.37291776022968, 42.37810709017599], \"line\": {\"color\": \"blue\", \"width\": 6}, \"lon\": [-71.11996126734232, -71.14062766942976], \"mode\": \"lines\", \"opacity\": 0.0010131712259371835, \"type\": \"scattermapbox\"}, {\"lat\": [42.37291776022968, 42.354621663299945], \"line\": {\"color\": \"blue\", \"width\": 6}, \"lon\": [-71.11996126734232, -71.13870616301386], \"mode\": \"lines\", \"opacity\": 0.00303951367781155, \"type\": \"scattermapbox\"}, {\"lat\": [42.37291776022968, 42.360863024211085], \"line\": {\"color\": \"blue\", \"width\": 6}, \"lon\": [-71.11996126734232, -71.10220450741502], \"mode\": \"lines\", \"opacity\": 0.02330293819655522, \"type\": \"scattermapbox\"}, {\"lat\": [42.39290080439988, 42.39337618115969], \"line\": {\"color\": \"blue\", \"width\": 6}, \"lon\": [-71.11636019035012, -71.13289924826404], \"mode\": \"lines\", \"opacity\": 0.002026342451874367, \"type\": \"scattermapbox\"}, {\"lat\": [42.26072214523669, 42.350143266630866], \"line\": {\"color\": \"blue\", \"width\": 6}, \"lon\": [-71.02169167918231, -71.05703680547452], \"mode\": \"lines\", \"opacity\": 0.3677811550151976, \"type\": \"scattermapbox\"}, {\"lat\": [42.26072214523669, 42.26483535919734], \"line\": {\"color\": \"blue\", \"width\": 6}, \"lon\": [-71.02169167918231, -71.01264391328328], \"mode\": \"lines\", \"opacity\": 0.1160081053698075, \"type\": \"scattermapbox\"}, {\"lat\": [42.341293212365024, 42.350143266630866], \"line\": {\"color\": \"blue\", \"width\": 6}, \"lon\": [-71.08215301005254, -71.05703680547452], \"mode\": \"lines\", \"opacity\": 0.001519756838905775, \"type\": \"scattermapbox\"}, {\"lat\": [42.360863024211085, 42.35838943093695], \"line\": {\"color\": \"blue\", \"width\": 6}, \"lon\": [-71.10220450741502, -71.10663119539407], \"mode\": \"lines\", \"opacity\": 1.0, \"type\": \"scattermapbox\"}, {\"lat\": [42.284852214384, 42.284687728152626], \"line\": {\"color\": \"blue\", \"width\": 6}, \"lon\": [-70.87973561981863, -70.87969515428324], \"mode\": \"lines\", \"opacity\": 0.12462006079027356, \"type\": \"scattermapbox\"}, {\"lat\": [42.284852214384, 42.284852214384], \"line\": {\"color\": \"blue\", \"width\": 6}, \"lon\": [-70.87973561981863, -70.87973561981863], \"mode\": \"lines\", \"opacity\": 0.12411347517730496, \"type\": \"scattermapbox\"}, {\"lat\": [42.284852214384, 42.284852214384], \"line\": {\"color\": \"blue\", \"width\": 6}, \"lon\": [-70.87973561981863, -70.87973561981863], \"mode\": \"lines\", \"opacity\": 0.1474164133738602, \"type\": \"scattermapbox\"}, {\"lat\": [42.284852214384, 42.284852214384], \"line\": {\"color\": \"blue\", \"width\": 6}, \"lon\": [-70.87973561981863, -70.87973561981863], \"mode\": \"lines\", \"opacity\": 0.12462006079027356, \"type\": \"scattermapbox\"}, {\"lat\": [42.284852214384, 42.284852214384], \"line\": {\"color\": \"blue\", \"width\": 6}, \"lon\": [-70.87973561981863, -70.87973561981863], \"mode\": \"lines\", \"opacity\": 0.13728470111448834, \"type\": \"scattermapbox\"}, {\"lat\": [42.284852214384, 42.284852214384], \"line\": {\"color\": \"blue\", \"width\": 6}, \"lon\": [-70.87973561981863, -70.87973561981863], \"mode\": \"lines\", \"opacity\": 0.1398176291793313, \"type\": \"scattermapbox\"}, {\"lat\": [42.284852214384, 42.284687728152626], \"line\": {\"color\": \"blue\", \"width\": 6}, \"lon\": [-70.87973561981863, -70.87969515428324], \"mode\": \"lines\", \"opacity\": 0.11955420466058764, \"type\": \"scattermapbox\"}, {\"lat\": [42.284852214384, 42.284852214384], \"line\": {\"color\": \"blue\", \"width\": 6}, \"lon\": [-70.87973561981863, -70.87973561981863], \"mode\": \"lines\", \"opacity\": 0.1474164133738602, \"type\": \"scattermapbox\"}, {\"lat\": [42.284852214384, 42.284852214384], \"line\": {\"color\": \"blue\", \"width\": 6}, \"lon\": [-70.87973561981863, -70.87973561981863], \"mode\": \"lines\", \"opacity\": 0.15045592705167174, \"type\": \"scattermapbox\"}, {\"lat\": [42.284852214384, 42.284852214384], \"line\": {\"color\": \"blue\", \"width\": 6}, \"lon\": [-70.87973561981863, -70.87973561981863], \"mode\": \"lines\", \"opacity\": 0.14387031408308004, \"type\": \"scattermapbox\"}, {\"lat\": [42.284852214384, 42.284852214384], \"line\": {\"color\": \"blue\", \"width\": 6}, \"lon\": [-70.87973561981863, -70.87973561981863], \"mode\": \"lines\", \"opacity\": 0.1585612968591692, \"type\": \"scattermapbox\"}, {\"lat\": [42.284852214384, 42.284687728152626], \"line\": {\"color\": \"blue\", \"width\": 6}, \"lon\": [-70.87973561981863, -70.87969515428324], \"mode\": \"lines\", \"opacity\": 0.13576494427558258, \"type\": \"scattermapbox\"}, {\"lat\": [42.284852214384, 42.284852214384], \"line\": {\"color\": \"blue\", \"width\": 6}, \"lon\": [-70.87973561981863, -70.87973561981863], \"mode\": \"lines\", \"opacity\": 0.135258358662614, \"type\": \"scattermapbox\"}, {\"lat\": [42.284852214384, 42.284852214384], \"line\": {\"color\": \"blue\", \"width\": 6}, \"lon\": [-70.87973561981863, -70.87973561981863], \"mode\": \"lines\", \"opacity\": 0.1540020263424519, \"type\": \"scattermapbox\"}, {\"lat\": [42.284852214384, 42.284852214384], \"line\": {\"color\": \"blue\", \"width\": 6}, \"lon\": [-70.87973561981863, -70.87973561981863], \"mode\": \"lines\", \"opacity\": 0.14437689969604864, \"type\": \"scattermapbox\"}, {\"lat\": [42.284852214384, 42.284687728152626], \"line\": {\"color\": \"blue\", \"width\": 6}, \"lon\": [-70.87973561981863, -70.87969515428324], \"mode\": \"lines\", \"opacity\": 0.12006079027355623, \"type\": \"scattermapbox\"}, {\"lat\": [42.284852214384, 42.284852214384], \"line\": {\"color\": \"blue\", \"width\": 6}, \"lon\": [-70.87973561981863, -70.87973561981863], \"mode\": \"lines\", \"opacity\": 0.10840932117527863, \"type\": \"scattermapbox\"}, {\"lat\": [42.284852214384, 42.284852214384], \"line\": {\"color\": \"blue\", \"width\": 6}, \"lon\": [-70.87973561981863, -70.87973561981863], \"mode\": \"lines\", \"opacity\": 0.13221884498480244, \"type\": \"scattermapbox\"}, {\"lat\": [42.284852214384, 42.284687728152626], \"line\": {\"color\": \"blue\", \"width\": 6}, \"lon\": [-70.87973561981863, -70.87969515428324], \"mode\": \"lines\", \"opacity\": 0.13272543059777103, \"type\": \"scattermapbox\"}, {\"lat\": [42.284852214384, 42.284852214384], \"line\": {\"color\": \"blue\", \"width\": 6}, \"lon\": [-70.87973561981863, -70.87973561981863], \"mode\": \"lines\", \"opacity\": 0.13627152988855115, \"type\": \"scattermapbox\"}, {\"lat\": [42.284852214384, 42.284687728152626], \"line\": {\"color\": \"blue\", \"width\": 6}, \"lon\": [-70.87973561981863, -70.87969515428324], \"mode\": \"lines\", \"opacity\": 0.1160081053698075, \"type\": \"scattermapbox\"}, {\"lat\": [42.33077904779031, 42.350143266630866], \"line\": {\"color\": \"blue\", \"width\": 6}, \"lon\": [-71.05555728644288, -71.05703680547452], \"mode\": \"lines\", \"opacity\": 0.017223910840932118, \"type\": \"scattermapbox\"}, {\"lat\": [42.35838943093695, 42.387646861728214], \"line\": {\"color\": \"blue\", \"width\": 6}, \"lon\": [-71.10663119539407, -71.10051630922396], \"mode\": \"lines\", \"opacity\": 0.0005065856129685917, \"type\": \"scattermapbox\"}, {\"lat\": [42.35838943093695, 42.356122370504096], \"line\": {\"color\": \"blue\", \"width\": 6}, \"lon\": [-71.10663119539407, -71.05937370784136], \"mode\": \"lines\", \"opacity\": 0.002026342451874367, \"type\": \"scattermapbox\"}, {\"lat\": [42.35574132001731, 42.356122370504096], \"line\": {\"color\": \"blue\", \"width\": 6}, \"lon\": [-71.05402126263004, -71.05937370784136], \"mode\": \"lines\", \"opacity\": 0.00911854103343465, \"type\": \"scattermapbox\"}, {\"lat\": [42.35574132001731, 42.35459026182861], \"line\": {\"color\": \"blue\", \"width\": 6}, \"lon\": [-71.05402126263004, -71.0518409205751], \"mode\": \"lines\", \"opacity\": 0.005065856129685917, \"type\": \"scattermapbox\"}, {\"lat\": [42.35459026182861, 42.356122370504096], \"line\": {\"color\": \"blue\", \"width\": 6}, \"lon\": [-71.0518409205751, -71.05937370784136], \"mode\": \"lines\", \"opacity\": 0.009625126646403243, \"type\": \"scattermapbox\"}, {\"lat\": [42.35459026182861, 42.35074534382176], \"line\": {\"color\": \"blue\", \"width\": 6}, \"lon\": [-71.0518409205751, -71.05950030191781], \"mode\": \"lines\", \"opacity\": 0.022796352583586626, \"type\": \"scattermapbox\"}, {\"lat\": [42.35459026182861, 42.350143266630866], \"line\": {\"color\": \"blue\", \"width\": 6}, \"lon\": [-71.0518409205751, -71.05703680547452], \"mode\": \"lines\", \"opacity\": 0.14994934143870314, \"type\": \"scattermapbox\"}, {\"lat\": [42.35074534382176, 42.356122370504096], \"line\": {\"color\": \"blue\", \"width\": 6}, \"lon\": [-71.05950030191781, -71.05937370784136], \"mode\": \"lines\", \"opacity\": 0.03242147922998987, \"type\": \"scattermapbox\"}, {\"lat\": [42.35074534382176, 42.350143266630866], \"line\": {\"color\": \"blue\", \"width\": 6}, \"lon\": [-71.05950030191781, -71.05703680547452], \"mode\": \"lines\", \"opacity\": 0.31661600810536983, \"type\": \"scattermapbox\"}, {\"lat\": [42.356122370504096, 42.36594803677225], \"line\": {\"color\": \"blue\", \"width\": 6}, \"lon\": [-71.05937370784136, -71.05278831785023], \"mode\": \"lines\", \"opacity\": 0.04204660587639311, \"type\": \"scattermapbox\"}, {\"lat\": [42.356122370504096, 42.36424454107258], \"line\": {\"color\": \"blue\", \"width\": 6}, \"lon\": [-71.05937370784136, -71.05719970057697], \"mode\": \"lines\", \"opacity\": 0.07750759878419453, \"type\": \"scattermapbox\"}, {\"lat\": [42.356122370504096, 42.350143266630866], \"line\": {\"color\": \"blue\", \"width\": 6}, \"lon\": [-71.05937370784136, -71.05703680547452], \"mode\": \"lines\", \"opacity\": 0.1403242147922999, \"type\": \"scattermapbox\"}, {\"lat\": [42.356122370504096, 42.36617386761112], \"line\": {\"color\": \"blue\", \"width\": 6}, \"lon\": [-71.05937370784136, -71.03917378493242], \"mode\": \"lines\", \"opacity\": 0.0005065856129685917, \"type\": \"scattermapbox\"}, {\"lat\": [42.41024687459465, 42.387646861728214], \"line\": {\"color\": \"blue\", \"width\": 6}, \"lon\": [-71.11840888121947, -71.10051630922396], \"mode\": \"lines\", \"opacity\": 0.0010131712259371835, \"type\": \"scattermapbox\"}, {\"lat\": [42.41024687459465, 42.416453257988366], \"line\": {\"color\": \"blue\", \"width\": 6}, \"lon\": [-71.11840888121947, -71.11660127360028], \"mode\": \"lines\", \"opacity\": 0.32776089159067884, \"type\": \"scattermapbox\"}, {\"lat\": [42.36594803677225, 42.36424454107258], \"line\": {\"color\": \"blue\", \"width\": 6}, \"lon\": [-71.05278831785023, -71.05719970057697], \"mode\": \"lines\", \"opacity\": 0.04002026342451875, \"type\": \"scattermapbox\"}, {\"lat\": [42.33561081380296, 42.350143266630866], \"line\": {\"color\": \"blue\", \"width\": 6}, \"lon\": [-71.04688668772411, -71.05703680547452], \"mode\": \"lines\", \"opacity\": 0.05217831813576494, \"type\": \"scattermapbox\"}, {\"lat\": [42.257711401594214, 42.26483535919734], \"line\": {\"color\": \"blue\", \"width\": 6}, \"lon\": [-71.00877265296344, -71.01264391328328], \"mode\": \"lines\", \"opacity\": 0.04559270516717325, \"type\": \"scattermapbox\"}, {\"lat\": [42.257711401594214, 42.350143266630866], \"line\": {\"color\": \"blue\", \"width\": 6}, \"lon\": [-71.00877265296344, -71.05703680547452], \"mode\": \"lines\", \"opacity\": 0.0010131712259371835, \"type\": \"scattermapbox\"}, {\"lat\": [42.41933538851051, 42.387646861728214], \"line\": {\"color\": \"blue\", \"width\": 6}, \"lon\": [-71.08720985374924, -71.10051630922396], \"mode\": \"lines\", \"opacity\": 0.0035460992907801418, \"type\": \"scattermapbox\"}, {\"lat\": [42.350143266630866, 42.36424454107258], \"line\": {\"color\": \"blue\", \"width\": 6}, \"lon\": [-71.05703680547452, -71.05719970057697], \"mode\": \"lines\", \"opacity\": 0.0025329280648429585, \"type\": \"scattermapbox\"}, {\"lat\": [42.350143266630866, 42.36617386761112], \"line\": {\"color\": \"blue\", \"width\": 6}, \"lon\": [-71.05703680547452, -71.03917378493242], \"mode\": \"lines\", \"opacity\": 0.0005065856129685917, \"type\": \"scattermapbox\"}, {\"lat\": [42.350143266630866, 42.28666100376121], \"line\": {\"color\": \"blue\", \"width\": 6}, \"lon\": [-71.05703680547452, -70.87955110214068], \"mode\": \"lines\", \"opacity\": 0.001519756838905775, \"type\": \"scattermapbox\"}, {\"lat\": [42.36424454107258, 42.36617386761112], \"line\": {\"color\": \"blue\", \"width\": 6}, \"lon\": [-71.05719970057697, -71.03917378493242], \"mode\": \"lines\", \"opacity\": 0.006585612968591692, \"type\": \"scattermapbox\"}, {\"lat\": [42.387646861728214, 42.38924526303799], \"line\": {\"color\": \"blue\", \"width\": 6}, \"lon\": [-71.10051630922396, -71.09313059662361], \"mode\": \"lines\", \"opacity\": 0.5319148936170213, \"type\": \"scattermapbox\"}],\n",
       "                        {\"mapbox\": {\"accesstoken\": \"pk.eyJ1IjoidmlodTg5IiwiYSI6ImNrNmdhajRlMTAzbmgza2xxcG9wa3pyZnUifQ.yN92eb4doELCwzwLeqEDuQ\\n\", \"bearing\": 0, \"center\": {\"lat\": 42.3364329096909, \"lon\": -71.04835325355748}, \"pitch\": 0, \"zoom\": 9}, \"showlegend\": false, \"template\": {\"data\": {\"bar\": [{\"error_x\": {\"color\": \"#2a3f5f\"}, \"error_y\": {\"color\": \"#2a3f5f\"}, \"marker\": {\"line\": {\"color\": \"#E5ECF6\", \"width\": 0.5}}, \"type\": \"bar\"}], \"barpolar\": [{\"marker\": {\"line\": {\"color\": \"#E5ECF6\", \"width\": 0.5}}, \"type\": \"barpolar\"}], \"carpet\": [{\"aaxis\": {\"endlinecolor\": \"#2a3f5f\", \"gridcolor\": \"white\", \"linecolor\": \"white\", \"minorgridcolor\": \"white\", \"startlinecolor\": \"#2a3f5f\"}, \"baxis\": {\"endlinecolor\": \"#2a3f5f\", \"gridcolor\": \"white\", \"linecolor\": \"white\", \"minorgridcolor\": \"white\", \"startlinecolor\": \"#2a3f5f\"}, \"type\": \"carpet\"}], \"choropleth\": [{\"colorbar\": {\"outlinewidth\": 0, \"ticks\": \"\"}, \"type\": \"choropleth\"}], \"contour\": [{\"colorbar\": {\"outlinewidth\": 0, \"ticks\": \"\"}, \"colorscale\": [[0.0, \"#0d0887\"], [0.1111111111111111, \"#46039f\"], [0.2222222222222222, \"#7201a8\"], [0.3333333333333333, \"#9c179e\"], [0.4444444444444444, \"#bd3786\"], [0.5555555555555556, \"#d8576b\"], [0.6666666666666666, \"#ed7953\"], [0.7777777777777778, \"#fb9f3a\"], [0.8888888888888888, \"#fdca26\"], [1.0, \"#f0f921\"]], \"type\": \"contour\"}], \"contourcarpet\": [{\"colorbar\": {\"outlinewidth\": 0, \"ticks\": \"\"}, \"type\": \"contourcarpet\"}], \"heatmap\": [{\"colorbar\": {\"outlinewidth\": 0, \"ticks\": \"\"}, \"colorscale\": [[0.0, \"#0d0887\"], [0.1111111111111111, \"#46039f\"], [0.2222222222222222, \"#7201a8\"], [0.3333333333333333, \"#9c179e\"], [0.4444444444444444, \"#bd3786\"], [0.5555555555555556, \"#d8576b\"], [0.6666666666666666, \"#ed7953\"], [0.7777777777777778, \"#fb9f3a\"], [0.8888888888888888, \"#fdca26\"], [1.0, \"#f0f921\"]], \"type\": \"heatmap\"}], \"heatmapgl\": [{\"colorbar\": {\"outlinewidth\": 0, \"ticks\": \"\"}, \"colorscale\": [[0.0, \"#0d0887\"], [0.1111111111111111, \"#46039f\"], [0.2222222222222222, \"#7201a8\"], [0.3333333333333333, \"#9c179e\"], [0.4444444444444444, \"#bd3786\"], [0.5555555555555556, \"#d8576b\"], [0.6666666666666666, \"#ed7953\"], [0.7777777777777778, \"#fb9f3a\"], [0.8888888888888888, \"#fdca26\"], [1.0, \"#f0f921\"]], \"type\": \"heatmapgl\"}], \"histogram\": [{\"marker\": {\"colorbar\": {\"outlinewidth\": 0, \"ticks\": \"\"}}, \"type\": \"histogram\"}], \"histogram2d\": [{\"colorbar\": {\"outlinewidth\": 0, \"ticks\": \"\"}, \"colorscale\": [[0.0, \"#0d0887\"], [0.1111111111111111, \"#46039f\"], [0.2222222222222222, \"#7201a8\"], [0.3333333333333333, \"#9c179e\"], [0.4444444444444444, \"#bd3786\"], [0.5555555555555556, \"#d8576b\"], [0.6666666666666666, \"#ed7953\"], [0.7777777777777778, \"#fb9f3a\"], [0.8888888888888888, \"#fdca26\"], [1.0, \"#f0f921\"]], \"type\": \"histogram2d\"}], \"histogram2dcontour\": [{\"colorbar\": {\"outlinewidth\": 0, \"ticks\": \"\"}, \"colorscale\": [[0.0, \"#0d0887\"], [0.1111111111111111, \"#46039f\"], [0.2222222222222222, \"#7201a8\"], [0.3333333333333333, \"#9c179e\"], [0.4444444444444444, \"#bd3786\"], [0.5555555555555556, \"#d8576b\"], [0.6666666666666666, \"#ed7953\"], [0.7777777777777778, \"#fb9f3a\"], [0.8888888888888888, \"#fdca26\"], [1.0, \"#f0f921\"]], \"type\": \"histogram2dcontour\"}], \"mesh3d\": [{\"colorbar\": {\"outlinewidth\": 0, \"ticks\": \"\"}, \"type\": \"mesh3d\"}], \"parcoords\": [{\"line\": {\"colorbar\": {\"outlinewidth\": 0, \"ticks\": \"\"}}, \"type\": \"parcoords\"}], \"scatter\": [{\"marker\": {\"colorbar\": {\"outlinewidth\": 0, \"ticks\": \"\"}}, \"type\": \"scatter\"}], \"scatter3d\": [{\"line\": {\"colorbar\": {\"outlinewidth\": 0, \"ticks\": \"\"}}, \"marker\": {\"colorbar\": {\"outlinewidth\": 0, \"ticks\": \"\"}}, \"type\": \"scatter3d\"}], \"scattercarpet\": [{\"marker\": {\"colorbar\": {\"outlinewidth\": 0, \"ticks\": \"\"}}, \"type\": \"scattercarpet\"}], \"scattergeo\": [{\"marker\": {\"colorbar\": {\"outlinewidth\": 0, \"ticks\": \"\"}}, \"type\": \"scattergeo\"}], \"scattergl\": [{\"marker\": {\"colorbar\": {\"outlinewidth\": 0, \"ticks\": \"\"}}, \"type\": \"scattergl\"}], \"scattermapbox\": [{\"marker\": {\"colorbar\": {\"outlinewidth\": 0, \"ticks\": \"\"}}, \"type\": \"scattermapbox\"}], \"scatterpolar\": [{\"marker\": {\"colorbar\": {\"outlinewidth\": 0, \"ticks\": \"\"}}, \"type\": \"scatterpolar\"}], \"scatterpolargl\": [{\"marker\": {\"colorbar\": {\"outlinewidth\": 0, \"ticks\": \"\"}}, \"type\": \"scatterpolargl\"}], \"scatterternary\": [{\"marker\": {\"colorbar\": {\"outlinewidth\": 0, \"ticks\": \"\"}}, \"type\": \"scatterternary\"}], \"surface\": [{\"colorbar\": {\"outlinewidth\": 0, \"ticks\": \"\"}, \"colorscale\": [[0.0, \"#0d0887\"], [0.1111111111111111, \"#46039f\"], [0.2222222222222222, \"#7201a8\"], [0.3333333333333333, \"#9c179e\"], [0.4444444444444444, \"#bd3786\"], [0.5555555555555556, \"#d8576b\"], [0.6666666666666666, \"#ed7953\"], [0.7777777777777778, \"#fb9f3a\"], [0.8888888888888888, \"#fdca26\"], [1.0, \"#f0f921\"]], \"type\": \"surface\"}], \"table\": [{\"cells\": {\"fill\": {\"color\": \"#EBF0F8\"}, \"line\": {\"color\": \"white\"}}, \"header\": {\"fill\": {\"color\": \"#C8D4E3\"}, \"line\": {\"color\": \"white\"}}, \"type\": \"table\"}]}, \"layout\": {\"annotationdefaults\": {\"arrowcolor\": \"#2a3f5f\", \"arrowhead\": 0, \"arrowwidth\": 1}, \"colorscale\": {\"diverging\": [[0, \"#8e0152\"], [0.1, \"#c51b7d\"], [0.2, \"#de77ae\"], [0.3, \"#f1b6da\"], [0.4, \"#fde0ef\"], [0.5, \"#f7f7f7\"], [0.6, \"#e6f5d0\"], [0.7, \"#b8e186\"], [0.8, \"#7fbc41\"], [0.9, \"#4d9221\"], [1, \"#276419\"]], \"sequential\": [[0.0, \"#0d0887\"], [0.1111111111111111, \"#46039f\"], [0.2222222222222222, \"#7201a8\"], [0.3333333333333333, \"#9c179e\"], [0.4444444444444444, \"#bd3786\"], [0.5555555555555556, \"#d8576b\"], [0.6666666666666666, \"#ed7953\"], [0.7777777777777778, \"#fb9f3a\"], [0.8888888888888888, \"#fdca26\"], [1.0, \"#f0f921\"]], \"sequentialminus\": [[0.0, \"#0d0887\"], [0.1111111111111111, \"#46039f\"], [0.2222222222222222, \"#7201a8\"], [0.3333333333333333, \"#9c179e\"], [0.4444444444444444, \"#bd3786\"], [0.5555555555555556, \"#d8576b\"], [0.6666666666666666, \"#ed7953\"], [0.7777777777777778, \"#fb9f3a\"], [0.8888888888888888, \"#fdca26\"], [1.0, \"#f0f921\"]]}, \"colorway\": [\"#636efa\", \"#EF553B\", \"#00cc96\", \"#ab63fa\", \"#FFA15A\", \"#19d3f3\", \"#FF6692\", \"#B6E880\", \"#FF97FF\", \"#FECB52\"], \"font\": {\"color\": \"#2a3f5f\"}, \"geo\": {\"bgcolor\": \"white\", \"lakecolor\": \"white\", \"landcolor\": \"#E5ECF6\", \"showlakes\": true, \"showland\": true, \"subunitcolor\": \"white\"}, \"hoverlabel\": {\"align\": \"left\"}, \"hovermode\": \"closest\", \"mapbox\": {\"style\": \"light\"}, \"paper_bgcolor\": \"white\", \"plot_bgcolor\": \"#E5ECF6\", \"polar\": {\"angularaxis\": {\"gridcolor\": \"white\", \"linecolor\": \"white\", \"ticks\": \"\"}, \"bgcolor\": \"#E5ECF6\", \"radialaxis\": {\"gridcolor\": \"white\", \"linecolor\": \"white\", \"ticks\": \"\"}}, \"scene\": {\"xaxis\": {\"backgroundcolor\": \"#E5ECF6\", \"gridcolor\": \"white\", \"gridwidth\": 2, \"linecolor\": \"white\", \"showbackground\": true, \"ticks\": \"\", \"zerolinecolor\": \"white\"}, \"yaxis\": {\"backgroundcolor\": \"#E5ECF6\", \"gridcolor\": \"white\", \"gridwidth\": 2, \"linecolor\": \"white\", \"showbackground\": true, \"ticks\": \"\", \"zerolinecolor\": \"white\"}, \"zaxis\": {\"backgroundcolor\": \"#E5ECF6\", \"gridcolor\": \"white\", \"gridwidth\": 2, \"linecolor\": \"white\", \"showbackground\": true, \"ticks\": \"\", \"zerolinecolor\": \"white\"}}, \"shapedefaults\": {\"line\": {\"color\": \"#2a3f5f\"}}, \"ternary\": {\"aaxis\": {\"gridcolor\": \"white\", \"linecolor\": \"white\", \"ticks\": \"\"}, \"baxis\": {\"gridcolor\": \"white\", \"linecolor\": \"white\", \"ticks\": \"\"}, \"bgcolor\": \"#E5ECF6\", \"caxis\": {\"gridcolor\": \"white\", \"linecolor\": \"white\", \"ticks\": \"\"}}, \"title\": {\"x\": 0.05}, \"xaxis\": {\"automargin\": true, \"gridcolor\": \"white\", \"linecolor\": \"white\", \"ticks\": \"\", \"zerolinecolor\": \"white\", \"zerolinewidth\": 2}, \"yaxis\": {\"automargin\": true, \"gridcolor\": \"white\", \"linecolor\": \"white\", \"ticks\": \"\", \"zerolinecolor\": \"white\", \"zerolinewidth\": 2}}}, \"title\": {\"text\": \"Connectivity for boston\"}},\n",
       "                        {\"responsive\": true}\n",
       "                    ).then(function(){\n",
       "                            \n",
       "var gd = document.getElementById('d0ade54b-ee91-46fa-a922-4ecd722729a0');\n",
       "var x = new MutationObserver(function (mutations, observer) {{\n",
       "        var display = window.getComputedStyle(gd).display;\n",
       "        if (!display || display === 'none') {{\n",
       "            console.log([gd, 'removed!']);\n",
       "            Plotly.purge(gd);\n",
       "            observer.disconnect();\n",
       "        }}\n",
       "}});\n",
       "\n",
       "// Listen for the removal of the full notebook cells\n",
       "var notebookContainer = gd.closest('#notebook-container');\n",
       "if (notebookContainer) {{\n",
       "    x.observe(notebookContainer, {childList: true});\n",
       "}}\n",
       "\n",
       "// Listen for the clearing of the current output cell\n",
       "var outputEl = gd.closest('.output');\n",
       "if (outputEl) {{\n",
       "    x.observe(outputEl, {childList: true});\n",
       "}}\n",
       "\n",
       "                        })\n",
       "                };\n",
       "                });\n",
       "            </script>\n",
       "        </div>"
      ]
     },
     "metadata": {},
     "output_type": "display_data"
    }
   ],
   "source": [
    "G = subgraph(KEEP, SCC, 6)\n",
    "df_nodes = create_node_df(G)\n",
    "df_edges = create_edges_df(G)\n",
    "\n",
    "city = 'boston'\n",
    "\n",
    "rando_center = df_nodes.iloc[0]\n",
    "center_lat = rando_center['lat']\n",
    "center_lng = rando_center['lng']\n",
    "\n",
    "mapbox_access_token = open(\".mapbox_token\").read()\n",
    "\n",
    "fig = go.Figure()\n",
    "fig.data = []\n",
    "\n",
    "node_trace = go.Scattermapbox(\n",
    "    lon = df_nodes.lng,\n",
    "    lat = df_nodes.lat,   \n",
    "#     text = list(df_nodes.name.values),\n",
    "    text = df_nodes.name,\n",
    "    hoverinfo = 'text',\n",
    "    marker = go.scattermapbox.Marker(size=15, color='red')\n",
    ")\n",
    "\n",
    "fig.add_trace(node_trace)\n",
    "\n",
    "edges = []\n",
    "for i in range(len(df_edges)):\n",
    "    edge_trace = go.Scattermapbox(\n",
    "        lon = [df_edges['start_lng'][i], df_edges['end_lng'][i]],\n",
    "        lat = [df_edges['start_lat'][i], df_edges['end_lat'][i]],\n",
    "        mode = 'lines',\n",
    "        line = dict(width = 6, color = 'blue'),\n",
    "        opacity = float(df_edges['cnt'][i]) / float(df_edges['cnt'].max())\n",
    "    )\n",
    "\n",
    "    fig.add_trace(edge_trace)\n",
    "\n",
    "fig.update_layout(\n",
    "    title_text = 'Connectivity for {}'.format(city),\n",
    "    showlegend = False,\n",
    "    mapbox = go.layout.Mapbox(\n",
    "        accesstoken=mapbox_access_token,\n",
    "        bearing=0,\n",
    "        center=go.layout.mapbox.Center(\n",
    "            lat=center_lat,\n",
    "            lon=center_lng\n",
    "        ),\n",
    "        pitch=0,\n",
    "        zoom=9\n",
    "    ),\n",
    ")\n",
    "fig.show()"
   ]
  },
  {
   "cell_type": "code",
   "execution_count": null,
   "metadata": {},
   "outputs": [],
   "source": []
  }
 ],
 "metadata": {
  "kernelspec": {
   "display_name": "Python 3",
   "language": "python",
   "name": "python3"
  },
  "language_info": {
   "codemirror_mode": {
    "name": "ipython",
    "version": 3
   },
   "file_extension": ".py",
   "mimetype": "text/x-python",
   "name": "python",
   "nbconvert_exporter": "python",
   "pygments_lexer": "ipython3",
   "version": "3.7.5"
  }
 },
 "nbformat": 4,
 "nbformat_minor": 2
}
