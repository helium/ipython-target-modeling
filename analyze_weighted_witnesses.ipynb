{
 "cells": [
  {
   "cell_type": "markdown",
   "metadata": {},
   "source": [
    "### Imports"
   ]
  },
  {
   "cell_type": "code",
   "execution_count": 1,
   "metadata": {},
   "outputs": [],
   "source": [
    "import requests\n",
    "import pandas as pd\n",
    "import pickle\n",
    "import copy\n",
    "import random\n",
    "\n",
    "import networkx as nx\n",
    "import matplotlib.pyplot as plt\n",
    "import pydot\n",
    "import plotly.graph_objects as go\n",
    "\n",
    "from os import path\n",
    "from networkx.drawing.nx_pydot import graphviz_layout\n",
    "from dataclasses import dataclass\n",
    "from joblib import Parallel, delayed\n",
    "\n",
    "pd.set_option('display.max_colwidth', -1)"
   ]
  },
  {
   "cell_type": "markdown",
   "metadata": {},
   "source": [
    "### Constants"
   ]
  },
  {
   "cell_type": "code",
   "execution_count": 2,
   "metadata": {},
   "outputs": [],
   "source": [
    "API = \"https://explorer.helium.foundation/api\""
   ]
  },
  {
   "cell_type": "code",
   "execution_count": 3,
   "metadata": {},
   "outputs": [],
   "source": [
    "def dashed(name):\n",
    "    ''' Convert title name to lower dashed name '''\n",
    "    return \"-\".join(name.lower().split(\" \"))\n",
    "\n",
    "def get_hotspot(hotspots, name):\n",
    "    ''' Get hotspot by name (lower dashed) '''\n",
    "    return next(x for x in hotspots if x['name'] == name) "
   ]
  },
  {
   "cell_type": "code",
   "execution_count": 4,
   "metadata": {},
   "outputs": [],
   "source": [
    "# get hotspots once\n",
    "hr = requests.get(\"{}/hotspots\".format(API))\n",
    "assert(hr.status_code == 200)\n",
    "hotspots0 = hr.json()['data']\n",
    "HOTSPOTS = []\n",
    "for h in hotspots0:\n",
    "    old_name = h['name']\n",
    "    h['name'] = dashed(old_name)\n",
    "    HOTSPOTS.append(h)"
   ]
  },
  {
   "cell_type": "markdown",
   "metadata": {},
   "source": [
    "### Hotspots dataframe"
   ]
  },
  {
   "cell_type": "code",
   "execution_count": 5,
   "metadata": {},
   "outputs": [],
   "source": [
    "df = pd.DataFrame(HOTSPOTS)"
   ]
  },
  {
   "cell_type": "markdown",
   "metadata": {},
   "source": [
    "### Dataframe helpers"
   ]
  },
  {
   "cell_type": "code",
   "execution_count": 6,
   "metadata": {},
   "outputs": [],
   "source": [
    "def get_b58(hdf, name):\n",
    "    ''' Get b58 address for given hotspot name '''\n",
    "    return hdf[hdf['name'] == name].iloc[0]['address']\n",
    "\n",
    "def get_loc_details(hdf, name):\n",
    "    ''' Get location details for a given hotspot name '''\n",
    "    h = hdf[hdf['name'] == name].iloc[0]\n",
    "    return (h['location'], h['long_city'], h['lat'], h['lng'])"
   ]
  },
  {
   "cell_type": "markdown",
   "metadata": {},
   "source": [
    "### Classes"
   ]
  },
  {
   "cell_type": "code",
   "execution_count": 7,
   "metadata": {},
   "outputs": [],
   "source": [
    "@dataclass\n",
    "class Witness:\n",
    "    ''' Dataclass for holding witness information '''\n",
    "    name: str\n",
    "    address: str\n",
    "    cnt: int\n",
    "\n",
    "    def __eq__(self, other):\n",
    "        return self.name == other.name and self.address == other.address\n",
    "    def __hash__(self):\n",
    "        return self.address\n",
    "    def to_dict(self):\n",
    "        return {\n",
    "            'name': self.name,\n",
    "            'address': self.address,\n",
    "            'cnt': self.cnt\n",
    "        }\n",
    "\n",
    "@dataclass\n",
    "class Node:\n",
    "    ''' Class to represent a graph node '''\n",
    "    loc: str\n",
    "    name: str\n",
    "    city: str\n",
    "    lat: float\n",
    "    lng: float\n",
    "\n",
    "    # to make this class hashable\n",
    "    def __eq__(self, other):\n",
    "        return self.loc == other.loc and self.name == other.name\n",
    "    def __hash__(self):\n",
    "        return int(self.loc, 16)\n",
    "    def to_dict(self):\n",
    "        return {\n",
    "            'name': self.name,\n",
    "            'loc': self.loc,\n",
    "            'lat': self.lat,\n",
    "            'lng': self.lng,\n",
    "            'city': self.city\n",
    "        }\n",
    "\n",
    "def new_node(hdf, name):\n",
    "    (h_loc, h_city, h_lat, h_lng) = get_loc_details(hdf, name)\n",
    "    return Node(name=name, loc=h_loc, city=h_city, lat=h_lat, lng=h_lng)"
   ]
  },
  {
   "cell_type": "markdown",
   "metadata": {},
   "source": [
    "### Functions"
   ]
  },
  {
   "cell_type": "code",
   "execution_count": 8,
   "metadata": {},
   "outputs": [],
   "source": [
    "def get_witnesses(hdf, hname):\n",
    "    ''' Get witnesses for given hotspot name '''\n",
    "    b58 = get_b58(hdf, hname)\n",
    "    r = requests.get(\"{}/witnesses/{}\".format(API, b58))\n",
    "    assert(r.status_code == 200)\n",
    "    witnesses_data = r.json()['data']\n",
    "    witnesses = []\n",
    "    for w in witnesses_data:\n",
    "        hist = w['hist']\n",
    "        cnt = sum(hist.values())\n",
    "        w_name = dashed(w['name'])\n",
    "        w_address = w['address']\n",
    "        witnesses.append(Witness(name=w_name, address=w_address, cnt=cnt))\n",
    "    return {\"name\": hname, \"witnesses\": witnesses}\n",
    "\n",
    "def create_or_fetch_weighted_witness_list(hdf, witness_list_pickle_path):\n",
    "    ''' Check if we already have a pickled object for getting witness list faster '''\n",
    "    if path.exists(witness_list_pickle_path):\n",
    "        with open(witness_list_pickle_path, 'rb') as handle:\n",
    "            witness_list = pickle.load(handle)\n",
    "    else:\n",
    "        # make the witness fetching marginally faster by parallelizing requests\n",
    "        witness_list = Parallel(n_jobs=8)(delayed(get_witnesses)(hdf, n) for n in [i for i in hdf.name])\n",
    "        with open(witness_list_pickle_path, 'wb') as handle:\n",
    "            pickle.dump(witness_list, handle, protocol=pickle.HIGHEST_PROTOCOL)\n",
    "    return witness_list\n",
    "\n",
    "def create_or_fetch_weighted_witness_dict(hdf, witness_list, witness_dict_pickle_path):\n",
    "    ''' Check if we already have a pickled object for getting witness dict faster '''\n",
    "    if path.exists(witness_dict_pickle_path):\n",
    "        with open(witness_dict_pickle_path, 'rb') as handle:\n",
    "            witness_dict = pickle.load(handle)\n",
    "    else:\n",
    "        # make the witness fetching marginally faster by parallelizing requests\n",
    "        witness_dict = create_witness_dict(hdf, witness_list)\n",
    "        with open(witness_dict_pickle_path, 'wb') as handle:\n",
    "            pickle.dump(witness_dict, handle, protocol=pickle.HIGHEST_PROTOCOL)\n",
    "    return witness_dict\n",
    "\n",
    "def create_witness_dict(hdf, witness_list):\n",
    "    ''' Create witness dictionary from list of witnesses '''\n",
    "    witnesses = {}\n",
    "    for d in witness_list:\n",
    "        h = d['name']\n",
    "        ws = d['witnesses']\n",
    "        (h_loc, h_city, h_lat, h_lng) = get_loc_details(hdf, h)\n",
    "        if h_loc:\n",
    "            key = Node(name=h, loc=h_loc, city=h_city, lat= h_lat, lng= h_lng)\n",
    "            if len(ws) > 0:\n",
    "                nodes = []\n",
    "                for w in ws:\n",
    "                    (w_loc, w_city, w_lat, w_lng) = get_loc_details(hdf, w.name)\n",
    "                    node = Node(name=w.name, loc=w_loc, city=w_city, lat= w_lat, lng= w_lng)\n",
    "                    nodes.append((node, w.cnt))\n",
    "                witnesses[key] = nodes\n",
    "            else:\n",
    "                witnesses[key] = []\n",
    "    return witnesses\n",
    "\n",
    "def create_or_fetch_graph(witness_dict, graph_pickle_path):\n",
    "    ''' Check if we already have a pickled graph '''\n",
    "    if path.exists(graph_pickle_path):\n",
    "        return nx.read_gpickle(graph_pickle_path)\n",
    "    else:\n",
    "        G = nx.Graph()\n",
    "        G.add_nodes_from(witness_dict.keys())\n",
    "        for k, v in witness_dict.items():\n",
    "            G.add_weighted_edges_from([(k, t, w) for (t, w) in v])\n",
    "        nx.write_gpickle(G, graph_pickle_path, protocol=pickle.HIGHEST_PROTOCOL)\n",
    "    return G\n",
    "\n",
    "def subgraph(big_graph, scc, rank=0):\n",
    "    return big_graph.subgraph(scc[rank])\n",
    "\n",
    "def create_node_df(graph):\n",
    "    return pd.DataFrame.from_records([n.to_dict() for n in list(graph.nodes())])\n",
    "\n",
    "def create_edges_df(graph):\n",
    "    conns = []\n",
    "    for (start, end, data) in graph.edges(data=True):\n",
    "        conns.append({\n",
    "            'from': start.name,\n",
    "            'to': end.name,\n",
    "            'start_lat': start.lat,\n",
    "            'start_lng': start.lng,\n",
    "            'end_lat': end.lat,\n",
    "            'end_lng': end.lng,\n",
    "            'cnt': data['weight']\n",
    "        })\n",
    "    return pd.DataFrame(conns)\n",
    "\n",
    "def plot(graph, city):\n",
    "    df_nodes = create_node_df(graph)\n",
    "    df_edges = create_edges_df(graph)\n",
    "\n",
    "    rando_center = df_nodes.iloc[0]\n",
    "    center_lat = rando_center['lat']\n",
    "    center_lng = rando_center['lng']\n",
    "\n",
    "    mapbox_access_token = open(\".mapbox_token\").read()\n",
    "\n",
    "    fig = go.Figure()\n",
    "    fig.data = []\n",
    "\n",
    "    node_trace = go.Scattermapbox(\n",
    "        lon = df_nodes.lng,\n",
    "        lat = df_nodes.lat,   \n",
    "        textfont = {'size': 8},\n",
    "        text = df_nodes.name.values,\n",
    "        mode = \"lines+markers+text\",\n",
    "        textposition='top center',\n",
    "        line = dict(width = 1, color = 'green'),\n",
    "        hoverinfo = 'text',\n",
    "        marker = go.scattermapbox.Marker(size=15, color='red')\n",
    "    )\n",
    "\n",
    "    fig.add_trace(node_trace)\n",
    "\n",
    "    edges = []\n",
    "    for i in range(len(df_edges)):\n",
    "#         xi = float(df_edges['cnt'][i])\n",
    "#         maxi = float(df_edges['cnt'].max())\n",
    "#         mini = float(df_edges['cnt'].min())\n",
    "#         op = (xi - mini)/(maxi - mini)\n",
    "        \n",
    "        edge_trace = go.Scattermapbox(\n",
    "            lon = [df_edges['start_lng'][i], df_edges['end_lng'][i]],\n",
    "            lat = [df_edges['start_lat'][i], df_edges['end_lat'][i]],\n",
    "            mode = 'lines+text',\n",
    "            hoverinfo = 'text',\n",
    "            text = \"cnt: {}<br>from:{}<br>to:{}\".format(df_edges['cnt'][i],\n",
    "                                      df_edges['from'][i],\n",
    "                                      df_edges['to'][i]),\n",
    "            line = dict(width = 3, color = 'blue'),\n",
    "#             opacity = op\n",
    "            opacity = float(df_edges['cnt'][i]) / float(df_edges['cnt'].max())\n",
    "        )\n",
    "\n",
    "        fig.add_trace(edge_trace)\n",
    "\n",
    "    fig.update_layout(\n",
    "        title_text = 'Connectivity for {}'.format(city),\n",
    "        showlegend = False,\n",
    "        mapbox = go.layout.Mapbox(\n",
    "            accesstoken=mapbox_access_token,\n",
    "            bearing=0,\n",
    "            center=go.layout.mapbox.Center(\n",
    "                lat=center_lat,\n",
    "                lon=center_lng\n",
    "            ),\n",
    "            pitch=0,\n",
    "            zoom=9\n",
    "        ),\n",
    "    )\n",
    "    fig.show()"
   ]
  },
  {
   "cell_type": "markdown",
   "metadata": {},
   "source": [
    "### Do the thing here in order"
   ]
  },
  {
   "cell_type": "code",
   "execution_count": 9,
   "metadata": {},
   "outputs": [],
   "source": [
    "witness_list = create_or_fetch_weighted_witness_list(df, 'files/weighted_witness_list.pickle')\n",
    "witness_dict = create_or_fetch_weighted_witness_dict(df, witness_list, 'files/weighted_witness_dict.pickle')\n",
    "G = create_or_fetch_graph(witness_dict, 'files/weighted_witness_graph.gpickle')\n",
    "# Keep a copy of G for safekeeping, DONT modify it\n",
    "_G = copy.deepcopy(G)"
   ]
  },
  {
   "cell_type": "code",
   "execution_count": 10,
   "metadata": {},
   "outputs": [
    {
     "data": {
      "text/plain": [
       "True"
      ]
     },
     "execution_count": 10,
     "metadata": {},
     "output_type": "execute_result"
    }
   ],
   "source": [
    "nx.is_weighted(G)"
   ]
  },
  {
   "cell_type": "code",
   "execution_count": 11,
   "metadata": {},
   "outputs": [
    {
     "data": {
      "text/plain": [
       "False"
      ]
     },
     "execution_count": 11,
     "metadata": {},
     "output_type": "execute_result"
    }
   ],
   "source": [
    "nx.is_connected(G)"
   ]
  },
  {
   "cell_type": "code",
   "execution_count": 12,
   "metadata": {},
   "outputs": [
    {
     "data": {
      "text/plain": [
       "0.4045180395173635"
      ]
     },
     "execution_count": 12,
     "metadata": {},
     "output_type": "execute_result"
    }
   ],
   "source": [
    "nx.algorithms.cluster.average_clustering(G)"
   ]
  },
  {
   "cell_type": "code",
   "execution_count": 13,
   "metadata": {},
   "outputs": [
    {
     "name": "stdout",
     "output_type": "stream",
     "text": [
      "Total connected components (sub-graphs): 1226\n",
      "Top 20 sub components\n"
     ]
    },
    {
     "data": {
      "text/html": [
       "<div>\n",
       "<style scoped>\n",
       "    .dataframe tbody tr th:only-of-type {\n",
       "        vertical-align: middle;\n",
       "    }\n",
       "\n",
       "    .dataframe tbody tr th {\n",
       "        vertical-align: top;\n",
       "    }\n",
       "\n",
       "    .dataframe thead th {\n",
       "        text-align: right;\n",
       "    }\n",
       "</style>\n",
       "<table border=\"1\" class=\"dataframe\">\n",
       "  <thead>\n",
       "    <tr style=\"text-align: right;\">\n",
       "      <th></th>\n",
       "      <th>city</th>\n",
       "      <th>cnt</th>\n",
       "    </tr>\n",
       "  </thead>\n",
       "  <tbody>\n",
       "    <tr>\n",
       "      <th>0</th>\n",
       "      <td>Menlo Park</td>\n",
       "      <td>350</td>\n",
       "    </tr>\n",
       "    <tr>\n",
       "      <th>1</th>\n",
       "      <td>Brooklyn</td>\n",
       "      <td>287</td>\n",
       "    </tr>\n",
       "    <tr>\n",
       "      <th>2</th>\n",
       "      <td>Modesto</td>\n",
       "      <td>146</td>\n",
       "    </tr>\n",
       "    <tr>\n",
       "      <th>3</th>\n",
       "      <td>Austin</td>\n",
       "      <td>111</td>\n",
       "    </tr>\n",
       "    <tr>\n",
       "      <th>4</th>\n",
       "      <td>Los Angeles</td>\n",
       "      <td>95</td>\n",
       "    </tr>\n",
       "    <tr>\n",
       "      <th>5</th>\n",
       "      <td>Chicago</td>\n",
       "      <td>80</td>\n",
       "    </tr>\n",
       "    <tr>\n",
       "      <th>6</th>\n",
       "      <td>Hull</td>\n",
       "      <td>59</td>\n",
       "    </tr>\n",
       "    <tr>\n",
       "      <th>7</th>\n",
       "      <td>Baltimore</td>\n",
       "      <td>55</td>\n",
       "    </tr>\n",
       "    <tr>\n",
       "      <th>8</th>\n",
       "      <td>Turlock</td>\n",
       "      <td>35</td>\n",
       "    </tr>\n",
       "    <tr>\n",
       "      <th>9</th>\n",
       "      <td>Etna</td>\n",
       "      <td>33</td>\n",
       "    </tr>\n",
       "    <tr>\n",
       "      <th>10</th>\n",
       "      <td>Atlanta</td>\n",
       "      <td>31</td>\n",
       "    </tr>\n",
       "    <tr>\n",
       "      <th>11</th>\n",
       "      <td>Fort Lauderdale</td>\n",
       "      <td>27</td>\n",
       "    </tr>\n",
       "    <tr>\n",
       "      <th>12</th>\n",
       "      <td>Arlington</td>\n",
       "      <td>26</td>\n",
       "    </tr>\n",
       "    <tr>\n",
       "      <th>13</th>\n",
       "      <td>Minneapolis</td>\n",
       "      <td>22</td>\n",
       "    </tr>\n",
       "    <tr>\n",
       "      <th>14</th>\n",
       "      <td>Portland</td>\n",
       "      <td>22</td>\n",
       "    </tr>\n",
       "    <tr>\n",
       "      <th>15</th>\n",
       "      <td>Port Huron</td>\n",
       "      <td>20</td>\n",
       "    </tr>\n",
       "    <tr>\n",
       "      <th>16</th>\n",
       "      <td>Denver</td>\n",
       "      <td>20</td>\n",
       "    </tr>\n",
       "    <tr>\n",
       "      <th>17</th>\n",
       "      <td>Seattle</td>\n",
       "      <td>20</td>\n",
       "    </tr>\n",
       "    <tr>\n",
       "      <th>18</th>\n",
       "      <td>Modesto</td>\n",
       "      <td>17</td>\n",
       "    </tr>\n",
       "    <tr>\n",
       "      <th>19</th>\n",
       "      <td>Modesto</td>\n",
       "      <td>14</td>\n",
       "    </tr>\n",
       "  </tbody>\n",
       "</table>\n",
       "</div>"
      ],
      "text/plain": [
       "               city  cnt\n",
       "0   Menlo Park       350\n",
       "1   Brooklyn         287\n",
       "2   Modesto          146\n",
       "3   Austin           111\n",
       "4   Los Angeles      95 \n",
       "5   Chicago          80 \n",
       "6   Hull             59 \n",
       "7   Baltimore        55 \n",
       "8   Turlock          35 \n",
       "9   Etna             33 \n",
       "10  Atlanta          31 \n",
       "11  Fort Lauderdale  27 \n",
       "12  Arlington        26 \n",
       "13  Minneapolis      22 \n",
       "14  Portland         22 \n",
       "15  Port Huron       20 \n",
       "16  Denver           20 \n",
       "17  Seattle          20 \n",
       "18  Modesto          17 \n",
       "19  Modesto          14 "
      ]
     },
     "execution_count": 13,
     "metadata": {},
     "output_type": "execute_result"
    }
   ],
   "source": [
    "CC = list(nx.connected_components(_G))\n",
    "SCC = sorted(CC, key=len, reverse=True)\n",
    "print('Total connected components (sub-graphs): {}'.format(len(SCC)))\n",
    "\n",
    "sub_components = []\n",
    "for i in SCC:\n",
    "    # we'll use this as the city, whatever\n",
    "    rand_node = random.sample(i, 1)[0]\n",
    "    sub_components.append({\n",
    "        'city': rand_node.city,\n",
    "        'cnt': len(i)\n",
    "    })\n",
    "rank_df = pd.DataFrame(sub_components)\n",
    "TOP = 20\n",
    "print('Top {} sub components'.format(TOP))\n",
    "rank_df.head(TOP)"
   ]
  },
  {
   "cell_type": "code",
   "execution_count": 16,
   "metadata": {},
   "outputs": [
    {
     "data": {
      "application/vnd.plotly.v1+json": {
       "config": {
        "plotlyServerURL": "https://plot.ly"
       },
       "data": [
        {
         "hoverinfo": "text",
         "lat": [
          38.904971314938045,
          38.86230487726764,
          38.918963526013314,
          38.88397201383353,
          38.929282522250865,
          38.90883024283532,
          38.88247211568556,
          38.9062714955744,
          38.91151611337361,
          38.90432317962426,
          38.8618690417563,
          38.85669110234461,
          38.84777939112491,
          38.92178516120459,
          38.91529325927145,
          38.90244206418685,
          38.909575175221995,
          38.88130323357744,
          38.84230256309786,
          38.89336481046152,
          38.830403520319855,
          38.909765932760614,
          38.91134185650309,
          38.914451274411824,
          38.91480831982787,
          38.91082027514493
         ],
         "line": {
          "color": "green",
          "width": 1
         },
         "lon": [
          -76.99637099113846,
          -77.0875149679286,
          -77.03173058756636,
          -77.11040666695618,
          -76.99825996486925,
          -77.03831820880794,
          -77.11463110252146,
          -77.03776010538417,
          -77.01996559087524,
          -77.02984808753871,
          -77.06262801970223,
          -77.06946057626573,
          -77.06054136975598,
          -77.01182792412794,
          -77.01558966510896,
          -77.03433239826876,
          -77.02263258959618,
          -77.11379295737464,
          -77.13442986176688,
          -77.10675204189977,
          -77.08870634851496,
          -76.99955701513557,
          -77.0183040412823,
          -77.04281618758199,
          -76.9814841543024,
          -77.0298828747255
         ],
         "marker": {
          "color": "red",
          "size": 15
         },
         "mode": "lines+markers+text",
         "text": [
          "precise-gunmetal-mule",
          "fresh-rusty-wolf",
          "narrow-ultraviolet-stallion",
          "ripe-orange-beaver",
          "kind-parchment-squid",
          "winning-citron-skunk",
          "low-mercurial-rattlesnake",
          "joyful-holographic-tarantula",
          "jumpy-ivory-wren",
          "powerful-dijon-leopard",
          "amateur-rouge-chipmunk",
          "colossal-laurel-unicorn",
          "harsh-cloud-python",
          "fancy-alabaster-deer",
          "tangy-eggshell-halibut",
          "ambitious-sapphire-boa",
          "gorgeous-honey-moose",
          "special-glossy-trout",
          "orbiting-flint-shark",
          "wild-oily-fox",
          "rare-navy-puma",
          "digital-crepe-scorpion",
          "bouncy-ruby-goose",
          "puny-rouge-dragonfly",
          "broad-wooden-woodpecker",
          "lively-latte-barbel"
         ],
         "textfont": {
          "size": 8
         },
         "textposition": "top center",
         "type": "scattermapbox"
        },
        {
         "hoverinfo": "text",
         "lat": [
          38.904971314938045,
          38.909765932760614
         ],
         "line": {
          "color": "blue",
          "width": 3
         },
         "lon": [
          -76.99637099113846,
          -76.99955701513557
         ],
         "mode": "lines+text",
         "opacity": 0.002136752136752137,
         "text": "cnt: 1<br>from:precise-gunmetal-mule<br>to:digital-crepe-scorpion",
         "type": "scattermapbox"
        },
        {
         "hoverinfo": "text",
         "lat": [
          38.86230487726764,
          38.88130323357744
         ],
         "line": {
          "color": "blue",
          "width": 3
         },
         "lon": [
          -77.0875149679286,
          -77.11379295737464
         ],
         "mode": "lines+text",
         "opacity": 0.017094017094017096,
         "text": "cnt: 8<br>from:fresh-rusty-wolf<br>to:special-glossy-trout",
         "type": "scattermapbox"
        },
        {
         "hoverinfo": "text",
         "lat": [
          38.918963526013314,
          38.909765932760614
         ],
         "line": {
          "color": "blue",
          "width": 3
         },
         "lon": [
          -77.03173058756636,
          -76.99955701513557
         ],
         "mode": "lines+text",
         "opacity": 0.03418803418803419,
         "text": "cnt: 16<br>from:narrow-ultraviolet-stallion<br>to:digital-crepe-scorpion",
         "type": "scattermapbox"
        },
        {
         "hoverinfo": "text",
         "lat": [
          38.918963526013314,
          38.92178516120459
         ],
         "line": {
          "color": "blue",
          "width": 3
         },
         "lon": [
          -77.03173058756636,
          -77.01182792412794
         ],
         "mode": "lines+text",
         "opacity": 0.002136752136752137,
         "text": "cnt: 1<br>from:narrow-ultraviolet-stallion<br>to:fancy-alabaster-deer",
         "type": "scattermapbox"
        },
        {
         "hoverinfo": "text",
         "lat": [
          38.918963526013314,
          38.909575175221995
         ],
         "line": {
          "color": "blue",
          "width": 3
         },
         "lon": [
          -77.03173058756636,
          -77.02263258959618
         ],
         "mode": "lines+text",
         "opacity": 0.8269230769230769,
         "text": "cnt: 387<br>from:narrow-ultraviolet-stallion<br>to:gorgeous-honey-moose",
         "type": "scattermapbox"
        },
        {
         "hoverinfo": "text",
         "lat": [
          38.918963526013314,
          38.91151611337361
         ],
         "line": {
          "color": "blue",
          "width": 3
         },
         "lon": [
          -77.03173058756636,
          -77.01996559087524
         ],
         "mode": "lines+text",
         "opacity": 0.01282051282051282,
         "text": "cnt: 6<br>from:narrow-ultraviolet-stallion<br>to:jumpy-ivory-wren",
         "type": "scattermapbox"
        },
        {
         "hoverinfo": "text",
         "lat": [
          38.918963526013314,
          38.90432317962426
         ],
         "line": {
          "color": "blue",
          "width": 3
         },
         "lon": [
          -77.03173058756636,
          -77.02984808753871
         ],
         "mode": "lines+text",
         "opacity": 0.00641025641025641,
         "text": "cnt: 3<br>from:narrow-ultraviolet-stallion<br>to:powerful-dijon-leopard",
         "type": "scattermapbox"
        },
        {
         "hoverinfo": "text",
         "lat": [
          38.88397201383353,
          38.88247211568556
         ],
         "line": {
          "color": "blue",
          "width": 3
         },
         "lon": [
          -77.11040666695618,
          -77.11463110252146
         ],
         "mode": "lines+text",
         "opacity": 0.0811965811965812,
         "text": "cnt: 38<br>from:ripe-orange-beaver<br>to:low-mercurial-rattlesnake",
         "type": "scattermapbox"
        },
        {
         "hoverinfo": "text",
         "lat": [
          38.88397201383353,
          38.89336481046152
         ],
         "line": {
          "color": "blue",
          "width": 3
         },
         "lon": [
          -77.11040666695618,
          -77.10675204189977
         ],
         "mode": "lines+text",
         "opacity": 0.04700854700854701,
         "text": "cnt: 22<br>from:ripe-orange-beaver<br>to:wild-oily-fox",
         "type": "scattermapbox"
        },
        {
         "hoverinfo": "text",
         "lat": [
          38.929282522250865,
          38.909765932760614
         ],
         "line": {
          "color": "blue",
          "width": 3
         },
         "lon": [
          -76.99825996486925,
          -76.99955701513557
         ],
         "mode": "lines+text",
         "opacity": 0.1794871794871795,
         "text": "cnt: 84<br>from:kind-parchment-squid<br>to:digital-crepe-scorpion",
         "type": "scattermapbox"
        },
        {
         "hoverinfo": "text",
         "lat": [
          38.929282522250865,
          38.909575175221995
         ],
         "line": {
          "color": "blue",
          "width": 3
         },
         "lon": [
          -76.99825996486925,
          -77.02263258959618
         ],
         "mode": "lines+text",
         "opacity": 0.00641025641025641,
         "text": "cnt: 3<br>from:kind-parchment-squid<br>to:gorgeous-honey-moose",
         "type": "scattermapbox"
        },
        {
         "hoverinfo": "text",
         "lat": [
          38.929282522250865,
          38.91151611337361
         ],
         "line": {
          "color": "blue",
          "width": 3
         },
         "lon": [
          -76.99825996486925,
          -77.01996559087524
         ],
         "mode": "lines+text",
         "opacity": 0.09615384615384616,
         "text": "cnt: 45<br>from:kind-parchment-squid<br>to:jumpy-ivory-wren",
         "type": "scattermapbox"
        },
        {
         "hoverinfo": "text",
         "lat": [
          38.929282522250865,
          38.92178516120459
         ],
         "line": {
          "color": "blue",
          "width": 3
         },
         "lon": [
          -76.99825996486925,
          -77.01182792412794
         ],
         "mode": "lines+text",
         "opacity": 0.03418803418803419,
         "text": "cnt: 16<br>from:kind-parchment-squid<br>to:fancy-alabaster-deer",
         "type": "scattermapbox"
        },
        {
         "hoverinfo": "text",
         "lat": [
          38.929282522250865,
          38.9062714955744
         ],
         "line": {
          "color": "blue",
          "width": 3
         },
         "lon": [
          -76.99825996486925,
          -77.03776010538417
         ],
         "mode": "lines+text",
         "opacity": 0.014957264957264958,
         "text": "cnt: 7<br>from:kind-parchment-squid<br>to:joyful-holographic-tarantula",
         "type": "scattermapbox"
        },
        {
         "hoverinfo": "text",
         "lat": [
          38.929282522250865,
          38.84777939112491
         ],
         "line": {
          "color": "blue",
          "width": 3
         },
         "lon": [
          -76.99825996486925,
          -77.06054136975598
         ],
         "mode": "lines+text",
         "opacity": 0.021367521367521368,
         "text": "cnt: 10<br>from:kind-parchment-squid<br>to:harsh-cloud-python",
         "type": "scattermapbox"
        },
        {
         "hoverinfo": "text",
         "lat": [
          38.929282522250865,
          38.91480831982787
         ],
         "line": {
          "color": "blue",
          "width": 3
         },
         "lon": [
          -76.99825996486925,
          -76.9814841543024
         ],
         "mode": "lines+text",
         "opacity": 0.01282051282051282,
         "text": "cnt: 6<br>from:kind-parchment-squid<br>to:broad-wooden-woodpecker",
         "type": "scattermapbox"
        },
        {
         "hoverinfo": "text",
         "lat": [
          38.929282522250865,
          38.91082027514493
         ],
         "line": {
          "color": "blue",
          "width": 3
         },
         "lon": [
          -76.99825996486925,
          -77.0298828747255
         ],
         "mode": "lines+text",
         "opacity": 0.07692307692307693,
         "text": "cnt: 36<br>from:kind-parchment-squid<br>to:lively-latte-barbel",
         "type": "scattermapbox"
        },
        {
         "hoverinfo": "text",
         "lat": [
          38.929282522250865,
          38.8618690417563
         ],
         "line": {
          "color": "blue",
          "width": 3
         },
         "lon": [
          -76.99825996486925,
          -77.06262801970223
         ],
         "mode": "lines+text",
         "opacity": 0.002136752136752137,
         "text": "cnt: 1<br>from:kind-parchment-squid<br>to:amateur-rouge-chipmunk",
         "type": "scattermapbox"
        },
        {
         "hoverinfo": "text",
         "lat": [
          38.929282522250865,
          38.90432317962426
         ],
         "line": {
          "color": "blue",
          "width": 3
         },
         "lon": [
          -76.99825996486925,
          -77.02984808753871
         ],
         "mode": "lines+text",
         "opacity": 0.06837606837606838,
         "text": "cnt: 32<br>from:kind-parchment-squid<br>to:powerful-dijon-leopard",
         "type": "scattermapbox"
        },
        {
         "hoverinfo": "text",
         "lat": [
          38.90883024283532,
          38.9062714955744
         ],
         "line": {
          "color": "blue",
          "width": 3
         },
         "lon": [
          -77.03831820880794,
          -77.03776010538417
         ],
         "mode": "lines+text",
         "opacity": 0.01282051282051282,
         "text": "cnt: 6<br>from:winning-citron-skunk<br>to:joyful-holographic-tarantula",
         "type": "scattermapbox"
        },
        {
         "hoverinfo": "text",
         "lat": [
          38.88247211568556,
          38.88130323357744
         ],
         "line": {
          "color": "blue",
          "width": 3
         },
         "lon": [
          -77.11463110252146,
          -77.11379295737464
         ],
         "mode": "lines+text",
         "opacity": 0.1752136752136752,
         "text": "cnt: 82<br>from:low-mercurial-rattlesnake<br>to:special-glossy-trout",
         "type": "scattermapbox"
        },
        {
         "hoverinfo": "text",
         "lat": [
          38.88247211568556,
          38.92178516120459
         ],
         "line": {
          "color": "blue",
          "width": 3
         },
         "lon": [
          -77.11463110252146,
          -77.01182792412794
         ],
         "mode": "lines+text",
         "opacity": 0.002136752136752137,
         "text": "cnt: 1<br>from:low-mercurial-rattlesnake<br>to:fancy-alabaster-deer",
         "type": "scattermapbox"
        },
        {
         "hoverinfo": "text",
         "lat": [
          38.88247211568556,
          38.89336481046152
         ],
         "line": {
          "color": "blue",
          "width": 3
         },
         "lon": [
          -77.11463110252146,
          -77.10675204189977
         ],
         "mode": "lines+text",
         "opacity": 0.027777777777777776,
         "text": "cnt: 13<br>from:low-mercurial-rattlesnake<br>to:wild-oily-fox",
         "type": "scattermapbox"
        },
        {
         "hoverinfo": "text",
         "lat": [
          38.9062714955744,
          38.914451274411824
         ],
         "line": {
          "color": "blue",
          "width": 3
         },
         "lon": [
          -77.03776010538417,
          -77.04281618758199
         ],
         "mode": "lines+text",
         "opacity": 0.03418803418803419,
         "text": "cnt: 16<br>from:joyful-holographic-tarantula<br>to:puny-rouge-dragonfly",
         "type": "scattermapbox"
        },
        {
         "hoverinfo": "text",
         "lat": [
          38.9062714955744,
          38.92178516120459
         ],
         "line": {
          "color": "blue",
          "width": 3
         },
         "lon": [
          -77.03776010538417,
          -77.01182792412794
         ],
         "mode": "lines+text",
         "opacity": 0.04700854700854701,
         "text": "cnt: 22<br>from:joyful-holographic-tarantula<br>to:fancy-alabaster-deer",
         "type": "scattermapbox"
        },
        {
         "hoverinfo": "text",
         "lat": [
          38.9062714955744,
          38.90244206418685
         ],
         "line": {
          "color": "blue",
          "width": 3
         },
         "lon": [
          -77.03776010538417,
          -77.03433239826876
         ],
         "mode": "lines+text",
         "opacity": 1,
         "text": "cnt: 468<br>from:joyful-holographic-tarantula<br>to:ambitious-sapphire-boa",
         "type": "scattermapbox"
        },
        {
         "hoverinfo": "text",
         "lat": [
          38.9062714955744,
          38.8618690417563
         ],
         "line": {
          "color": "blue",
          "width": 3
         },
         "lon": [
          -77.03776010538417,
          -77.06262801970223
         ],
         "mode": "lines+text",
         "opacity": 0.00641025641025641,
         "text": "cnt: 3<br>from:joyful-holographic-tarantula<br>to:amateur-rouge-chipmunk",
         "type": "scattermapbox"
        },
        {
         "hoverinfo": "text",
         "lat": [
          38.9062714955744,
          38.90432317962426
         ],
         "line": {
          "color": "blue",
          "width": 3
         },
         "lon": [
          -77.03776010538417,
          -77.02984808753871
         ],
         "mode": "lines+text",
         "opacity": 0.03632478632478633,
         "text": "cnt: 17<br>from:joyful-holographic-tarantula<br>to:powerful-dijon-leopard",
         "type": "scattermapbox"
        },
        {
         "hoverinfo": "text",
         "lat": [
          38.9062714955744,
          38.909575175221995
         ],
         "line": {
          "color": "blue",
          "width": 3
         },
         "lon": [
          -77.03776010538417,
          -77.02263258959618
         ],
         "mode": "lines+text",
         "opacity": 0.03418803418803419,
         "text": "cnt: 16<br>from:joyful-holographic-tarantula<br>to:gorgeous-honey-moose",
         "type": "scattermapbox"
        },
        {
         "hoverinfo": "text",
         "lat": [
          38.91151611337361,
          38.909765932760614
         ],
         "line": {
          "color": "blue",
          "width": 3
         },
         "lon": [
          -77.01996559087524,
          -76.99955701513557
         ],
         "mode": "lines+text",
         "opacity": 0.008547008547008548,
         "text": "cnt: 4<br>from:jumpy-ivory-wren<br>to:digital-crepe-scorpion",
         "type": "scattermapbox"
        },
        {
         "hoverinfo": "text",
         "lat": [
          38.91151611337361,
          38.92178516120459
         ],
         "line": {
          "color": "blue",
          "width": 3
         },
         "lon": [
          -77.01996559087524,
          -77.01182792412794
         ],
         "mode": "lines+text",
         "opacity": 0.03205128205128205,
         "text": "cnt: 15<br>from:jumpy-ivory-wren<br>to:fancy-alabaster-deer",
         "type": "scattermapbox"
        },
        {
         "hoverinfo": "text",
         "lat": [
          38.91151611337361,
          38.91134185650309
         ],
         "line": {
          "color": "blue",
          "width": 3
         },
         "lon": [
          -77.01996559087524,
          -77.0183040412823
         ],
         "mode": "lines+text",
         "opacity": 0.3803418803418803,
         "text": "cnt: 178<br>from:jumpy-ivory-wren<br>to:bouncy-ruby-goose",
         "type": "scattermapbox"
        },
        {
         "hoverinfo": "text",
         "lat": [
          38.91151611337361,
          38.91529325927145
         ],
         "line": {
          "color": "blue",
          "width": 3
         },
         "lon": [
          -77.01996559087524,
          -77.01558966510896
         ],
         "mode": "lines+text",
         "opacity": 0.002136752136752137,
         "text": "cnt: 1<br>from:jumpy-ivory-wren<br>to:tangy-eggshell-halibut",
         "type": "scattermapbox"
        },
        {
         "hoverinfo": "text",
         "lat": [
          38.91151611337361,
          38.909575175221995
         ],
         "line": {
          "color": "blue",
          "width": 3
         },
         "lon": [
          -77.01996559087524,
          -77.02263258959618
         ],
         "mode": "lines+text",
         "opacity": 0.43803418803418803,
         "text": "cnt: 205<br>from:jumpy-ivory-wren<br>to:gorgeous-honey-moose",
         "type": "scattermapbox"
        },
        {
         "hoverinfo": "text",
         "lat": [
          38.90432317962426,
          38.909765932760614
         ],
         "line": {
          "color": "blue",
          "width": 3
         },
         "lon": [
          -77.02984808753871,
          -76.99955701513557
         ],
         "mode": "lines+text",
         "opacity": 0.019230769230769232,
         "text": "cnt: 9<br>from:powerful-dijon-leopard<br>to:digital-crepe-scorpion",
         "type": "scattermapbox"
        },
        {
         "hoverinfo": "text",
         "lat": [
          38.90432317962426,
          38.914451274411824
         ],
         "line": {
          "color": "blue",
          "width": 3
         },
         "lon": [
          -77.02984808753871,
          -77.04281618758199
         ],
         "mode": "lines+text",
         "opacity": 0.004273504273504274,
         "text": "cnt: 2<br>from:powerful-dijon-leopard<br>to:puny-rouge-dragonfly",
         "type": "scattermapbox"
        },
        {
         "hoverinfo": "text",
         "lat": [
          38.90432317962426,
          38.92178516120459
         ],
         "line": {
          "color": "blue",
          "width": 3
         },
         "lon": [
          -77.02984808753871,
          -77.01182792412794
         ],
         "mode": "lines+text",
         "opacity": 0.2564102564102564,
         "text": "cnt: 120<br>from:powerful-dijon-leopard<br>to:fancy-alabaster-deer",
         "type": "scattermapbox"
        },
        {
         "hoverinfo": "text",
         "lat": [
          38.90432317962426,
          38.91082027514493
         ],
         "line": {
          "color": "blue",
          "width": 3
         },
         "lon": [
          -77.02984808753871,
          -77.0298828747255
         ],
         "mode": "lines+text",
         "opacity": 0.28205128205128205,
         "text": "cnt: 132<br>from:powerful-dijon-leopard<br>to:lively-latte-barbel",
         "type": "scattermapbox"
        },
        {
         "hoverinfo": "text",
         "lat": [
          38.90432317962426,
          38.909575175221995
         ],
         "line": {
          "color": "blue",
          "width": 3
         },
         "lon": [
          -77.02984808753871,
          -77.02263258959618
         ],
         "mode": "lines+text",
         "opacity": 0.17307692307692307,
         "text": "cnt: 81<br>from:powerful-dijon-leopard<br>to:gorgeous-honey-moose",
         "type": "scattermapbox"
        },
        {
         "hoverinfo": "text",
         "lat": [
          38.8618690417563,
          38.84777939112491
         ],
         "line": {
          "color": "blue",
          "width": 3
         },
         "lon": [
          -77.06262801970223,
          -77.06054136975598
         ],
         "mode": "lines+text",
         "opacity": 0.09188034188034189,
         "text": "cnt: 43<br>from:amateur-rouge-chipmunk<br>to:harsh-cloud-python",
         "type": "scattermapbox"
        },
        {
         "hoverinfo": "text",
         "lat": [
          38.8618690417563,
          38.85669110234461
         ],
         "line": {
          "color": "blue",
          "width": 3
         },
         "lon": [
          -77.06262801970223,
          -77.06946057626573
         ],
         "mode": "lines+text",
         "opacity": 0.04700854700854701,
         "text": "cnt: 22<br>from:amateur-rouge-chipmunk<br>to:colossal-laurel-unicorn",
         "type": "scattermapbox"
        },
        {
         "hoverinfo": "text",
         "lat": [
          38.85669110234461,
          38.84777939112491
         ],
         "line": {
          "color": "blue",
          "width": 3
         },
         "lon": [
          -77.06946057626573,
          -77.06054136975598
         ],
         "mode": "lines+text",
         "opacity": 0.023504273504273504,
         "text": "cnt: 11<br>from:colossal-laurel-unicorn<br>to:harsh-cloud-python",
         "type": "scattermapbox"
        },
        {
         "hoverinfo": "text",
         "lat": [
          38.84777939112491,
          38.830403520319855
         ],
         "line": {
          "color": "blue",
          "width": 3
         },
         "lon": [
          -77.06054136975598,
          -77.08870634851496
         ],
         "mode": "lines+text",
         "opacity": 0.01282051282051282,
         "text": "cnt: 6<br>from:harsh-cloud-python<br>to:rare-navy-puma",
         "type": "scattermapbox"
        },
        {
         "hoverinfo": "text",
         "lat": [
          38.92178516120459,
          38.909765932760614
         ],
         "line": {
          "color": "blue",
          "width": 3
         },
         "lon": [
          -77.01182792412794,
          -76.99955701513557
         ],
         "mode": "lines+text",
         "opacity": 0.01282051282051282,
         "text": "cnt: 6<br>from:fancy-alabaster-deer<br>to:digital-crepe-scorpion",
         "type": "scattermapbox"
        },
        {
         "hoverinfo": "text",
         "lat": [
          38.92178516120459,
          38.909575175221995
         ],
         "line": {
          "color": "blue",
          "width": 3
         },
         "lon": [
          -77.01182792412794,
          -77.02263258959618
         ],
         "mode": "lines+text",
         "opacity": 0.13247863247863248,
         "text": "cnt: 62<br>from:fancy-alabaster-deer<br>to:gorgeous-honey-moose",
         "type": "scattermapbox"
        },
        {
         "hoverinfo": "text",
         "lat": [
          38.92178516120459,
          38.91529325927145
         ],
         "line": {
          "color": "blue",
          "width": 3
         },
         "lon": [
          -77.01182792412794,
          -77.01558966510896
         ],
         "mode": "lines+text",
         "opacity": 0.017094017094017096,
         "text": "cnt: 8<br>from:fancy-alabaster-deer<br>to:tangy-eggshell-halibut",
         "type": "scattermapbox"
        },
        {
         "hoverinfo": "text",
         "lat": [
          38.92178516120459,
          38.91082027514493
         ],
         "line": {
          "color": "blue",
          "width": 3
         },
         "lon": [
          -77.01182792412794,
          -77.0298828747255
         ],
         "mode": "lines+text",
         "opacity": 0.002136752136752137,
         "text": "cnt: 1<br>from:fancy-alabaster-deer<br>to:lively-latte-barbel",
         "type": "scattermapbox"
        },
        {
         "hoverinfo": "text",
         "lat": [
          38.92178516120459,
          38.90244206418685
         ],
         "line": {
          "color": "blue",
          "width": 3
         },
         "lon": [
          -77.01182792412794,
          -77.03433239826876
         ],
         "mode": "lines+text",
         "opacity": 0.01282051282051282,
         "text": "cnt: 6<br>from:fancy-alabaster-deer<br>to:ambitious-sapphire-boa",
         "type": "scattermapbox"
        },
        {
         "hoverinfo": "text",
         "lat": [
          38.91529325927145,
          38.909765932760614
         ],
         "line": {
          "color": "blue",
          "width": 3
         },
         "lon": [
          -77.01558966510896,
          -76.99955701513557
         ],
         "mode": "lines+text",
         "opacity": 0.004273504273504274,
         "text": "cnt: 2<br>from:tangy-eggshell-halibut<br>to:digital-crepe-scorpion",
         "type": "scattermapbox"
        },
        {
         "hoverinfo": "text",
         "lat": [
          38.91529325927145,
          38.909575175221995
         ],
         "line": {
          "color": "blue",
          "width": 3
         },
         "lon": [
          -77.01558966510896,
          -77.02263258959618
         ],
         "mode": "lines+text",
         "opacity": 0.00641025641025641,
         "text": "cnt: 3<br>from:tangy-eggshell-halibut<br>to:gorgeous-honey-moose",
         "type": "scattermapbox"
        },
        {
         "hoverinfo": "text",
         "lat": [
          38.909575175221995,
          38.91134185650309
         ],
         "line": {
          "color": "blue",
          "width": 3
         },
         "lon": [
          -77.02263258959618,
          -77.0183040412823
         ],
         "mode": "lines+text",
         "opacity": 0.01282051282051282,
         "text": "cnt: 6<br>from:gorgeous-honey-moose<br>to:bouncy-ruby-goose",
         "type": "scattermapbox"
        },
        {
         "hoverinfo": "text",
         "lat": [
          38.909575175221995,
          38.91082027514493
         ],
         "line": {
          "color": "blue",
          "width": 3
         },
         "lon": [
          -77.02263258959618,
          -77.0298828747255
         ],
         "mode": "lines+text",
         "opacity": 0.4658119658119658,
         "text": "cnt: 218<br>from:gorgeous-honey-moose<br>to:lively-latte-barbel",
         "type": "scattermapbox"
        },
        {
         "hoverinfo": "text",
         "lat": [
          38.909575175221995,
          38.909765932760614
         ],
         "line": {
          "color": "blue",
          "width": 3
         },
         "lon": [
          -77.02263258959618,
          -76.99955701513557
         ],
         "mode": "lines+text",
         "opacity": 0.00641025641025641,
         "text": "cnt: 3<br>from:gorgeous-honey-moose<br>to:digital-crepe-scorpion",
         "type": "scattermapbox"
        },
        {
         "hoverinfo": "text",
         "lat": [
          38.88130323357744,
          38.89336481046152
         ],
         "line": {
          "color": "blue",
          "width": 3
         },
         "lon": [
          -77.11379295737464,
          -77.10675204189977
         ],
         "mode": "lines+text",
         "opacity": 0.03205128205128205,
         "text": "cnt: 15<br>from:special-glossy-trout<br>to:wild-oily-fox",
         "type": "scattermapbox"
        },
        {
         "hoverinfo": "text",
         "lat": [
          38.88130323357744,
          38.84230256309786
         ],
         "line": {
          "color": "blue",
          "width": 3
         },
         "lon": [
          -77.11379295737464,
          -77.13442986176688
         ],
         "mode": "lines+text",
         "opacity": 0.00641025641025641,
         "text": "cnt: 3<br>from:special-glossy-trout<br>to:orbiting-flint-shark",
         "type": "scattermapbox"
        }
       ],
       "layout": {
        "mapbox": {
         "accesstoken": "pk.eyJ1IjoidmlodTg5IiwiYSI6ImNrNmdhajRlMTAzbmgza2xxcG9wa3pyZnUifQ.yN92eb4doELCwzwLeqEDuQ\n",
         "bearing": 0,
         "center": {
          "lat": 38.904971314938045,
          "lon": -76.99637099113846
         },
         "pitch": 0,
         "zoom": 9
        },
        "showlegend": false,
        "template": {
         "data": {
          "bar": [
           {
            "error_x": {
             "color": "#2a3f5f"
            },
            "error_y": {
             "color": "#2a3f5f"
            },
            "marker": {
             "line": {
              "color": "#E5ECF6",
              "width": 0.5
             }
            },
            "type": "bar"
           }
          ],
          "barpolar": [
           {
            "marker": {
             "line": {
              "color": "#E5ECF6",
              "width": 0.5
             }
            },
            "type": "barpolar"
           }
          ],
          "carpet": [
           {
            "aaxis": {
             "endlinecolor": "#2a3f5f",
             "gridcolor": "white",
             "linecolor": "white",
             "minorgridcolor": "white",
             "startlinecolor": "#2a3f5f"
            },
            "baxis": {
             "endlinecolor": "#2a3f5f",
             "gridcolor": "white",
             "linecolor": "white",
             "minorgridcolor": "white",
             "startlinecolor": "#2a3f5f"
            },
            "type": "carpet"
           }
          ],
          "choropleth": [
           {
            "colorbar": {
             "outlinewidth": 0,
             "ticks": ""
            },
            "type": "choropleth"
           }
          ],
          "contour": [
           {
            "colorbar": {
             "outlinewidth": 0,
             "ticks": ""
            },
            "colorscale": [
             [
              0,
              "#0d0887"
             ],
             [
              0.1111111111111111,
              "#46039f"
             ],
             [
              0.2222222222222222,
              "#7201a8"
             ],
             [
              0.3333333333333333,
              "#9c179e"
             ],
             [
              0.4444444444444444,
              "#bd3786"
             ],
             [
              0.5555555555555556,
              "#d8576b"
             ],
             [
              0.6666666666666666,
              "#ed7953"
             ],
             [
              0.7777777777777778,
              "#fb9f3a"
             ],
             [
              0.8888888888888888,
              "#fdca26"
             ],
             [
              1,
              "#f0f921"
             ]
            ],
            "type": "contour"
           }
          ],
          "contourcarpet": [
           {
            "colorbar": {
             "outlinewidth": 0,
             "ticks": ""
            },
            "type": "contourcarpet"
           }
          ],
          "heatmap": [
           {
            "colorbar": {
             "outlinewidth": 0,
             "ticks": ""
            },
            "colorscale": [
             [
              0,
              "#0d0887"
             ],
             [
              0.1111111111111111,
              "#46039f"
             ],
             [
              0.2222222222222222,
              "#7201a8"
             ],
             [
              0.3333333333333333,
              "#9c179e"
             ],
             [
              0.4444444444444444,
              "#bd3786"
             ],
             [
              0.5555555555555556,
              "#d8576b"
             ],
             [
              0.6666666666666666,
              "#ed7953"
             ],
             [
              0.7777777777777778,
              "#fb9f3a"
             ],
             [
              0.8888888888888888,
              "#fdca26"
             ],
             [
              1,
              "#f0f921"
             ]
            ],
            "type": "heatmap"
           }
          ],
          "heatmapgl": [
           {
            "colorbar": {
             "outlinewidth": 0,
             "ticks": ""
            },
            "colorscale": [
             [
              0,
              "#0d0887"
             ],
             [
              0.1111111111111111,
              "#46039f"
             ],
             [
              0.2222222222222222,
              "#7201a8"
             ],
             [
              0.3333333333333333,
              "#9c179e"
             ],
             [
              0.4444444444444444,
              "#bd3786"
             ],
             [
              0.5555555555555556,
              "#d8576b"
             ],
             [
              0.6666666666666666,
              "#ed7953"
             ],
             [
              0.7777777777777778,
              "#fb9f3a"
             ],
             [
              0.8888888888888888,
              "#fdca26"
             ],
             [
              1,
              "#f0f921"
             ]
            ],
            "type": "heatmapgl"
           }
          ],
          "histogram": [
           {
            "marker": {
             "colorbar": {
              "outlinewidth": 0,
              "ticks": ""
             }
            },
            "type": "histogram"
           }
          ],
          "histogram2d": [
           {
            "colorbar": {
             "outlinewidth": 0,
             "ticks": ""
            },
            "colorscale": [
             [
              0,
              "#0d0887"
             ],
             [
              0.1111111111111111,
              "#46039f"
             ],
             [
              0.2222222222222222,
              "#7201a8"
             ],
             [
              0.3333333333333333,
              "#9c179e"
             ],
             [
              0.4444444444444444,
              "#bd3786"
             ],
             [
              0.5555555555555556,
              "#d8576b"
             ],
             [
              0.6666666666666666,
              "#ed7953"
             ],
             [
              0.7777777777777778,
              "#fb9f3a"
             ],
             [
              0.8888888888888888,
              "#fdca26"
             ],
             [
              1,
              "#f0f921"
             ]
            ],
            "type": "histogram2d"
           }
          ],
          "histogram2dcontour": [
           {
            "colorbar": {
             "outlinewidth": 0,
             "ticks": ""
            },
            "colorscale": [
             [
              0,
              "#0d0887"
             ],
             [
              0.1111111111111111,
              "#46039f"
             ],
             [
              0.2222222222222222,
              "#7201a8"
             ],
             [
              0.3333333333333333,
              "#9c179e"
             ],
             [
              0.4444444444444444,
              "#bd3786"
             ],
             [
              0.5555555555555556,
              "#d8576b"
             ],
             [
              0.6666666666666666,
              "#ed7953"
             ],
             [
              0.7777777777777778,
              "#fb9f3a"
             ],
             [
              0.8888888888888888,
              "#fdca26"
             ],
             [
              1,
              "#f0f921"
             ]
            ],
            "type": "histogram2dcontour"
           }
          ],
          "mesh3d": [
           {
            "colorbar": {
             "outlinewidth": 0,
             "ticks": ""
            },
            "type": "mesh3d"
           }
          ],
          "parcoords": [
           {
            "line": {
             "colorbar": {
              "outlinewidth": 0,
              "ticks": ""
             }
            },
            "type": "parcoords"
           }
          ],
          "scatter": [
           {
            "marker": {
             "colorbar": {
              "outlinewidth": 0,
              "ticks": ""
             }
            },
            "type": "scatter"
           }
          ],
          "scatter3d": [
           {
            "line": {
             "colorbar": {
              "outlinewidth": 0,
              "ticks": ""
             }
            },
            "marker": {
             "colorbar": {
              "outlinewidth": 0,
              "ticks": ""
             }
            },
            "type": "scatter3d"
           }
          ],
          "scattercarpet": [
           {
            "marker": {
             "colorbar": {
              "outlinewidth": 0,
              "ticks": ""
             }
            },
            "type": "scattercarpet"
           }
          ],
          "scattergeo": [
           {
            "marker": {
             "colorbar": {
              "outlinewidth": 0,
              "ticks": ""
             }
            },
            "type": "scattergeo"
           }
          ],
          "scattergl": [
           {
            "marker": {
             "colorbar": {
              "outlinewidth": 0,
              "ticks": ""
             }
            },
            "type": "scattergl"
           }
          ],
          "scattermapbox": [
           {
            "marker": {
             "colorbar": {
              "outlinewidth": 0,
              "ticks": ""
             }
            },
            "type": "scattermapbox"
           }
          ],
          "scatterpolar": [
           {
            "marker": {
             "colorbar": {
              "outlinewidth": 0,
              "ticks": ""
             }
            },
            "type": "scatterpolar"
           }
          ],
          "scatterpolargl": [
           {
            "marker": {
             "colorbar": {
              "outlinewidth": 0,
              "ticks": ""
             }
            },
            "type": "scatterpolargl"
           }
          ],
          "scatterternary": [
           {
            "marker": {
             "colorbar": {
              "outlinewidth": 0,
              "ticks": ""
             }
            },
            "type": "scatterternary"
           }
          ],
          "surface": [
           {
            "colorbar": {
             "outlinewidth": 0,
             "ticks": ""
            },
            "colorscale": [
             [
              0,
              "#0d0887"
             ],
             [
              0.1111111111111111,
              "#46039f"
             ],
             [
              0.2222222222222222,
              "#7201a8"
             ],
             [
              0.3333333333333333,
              "#9c179e"
             ],
             [
              0.4444444444444444,
              "#bd3786"
             ],
             [
              0.5555555555555556,
              "#d8576b"
             ],
             [
              0.6666666666666666,
              "#ed7953"
             ],
             [
              0.7777777777777778,
              "#fb9f3a"
             ],
             [
              0.8888888888888888,
              "#fdca26"
             ],
             [
              1,
              "#f0f921"
             ]
            ],
            "type": "surface"
           }
          ],
          "table": [
           {
            "cells": {
             "fill": {
              "color": "#EBF0F8"
             },
             "line": {
              "color": "white"
             }
            },
            "header": {
             "fill": {
              "color": "#C8D4E3"
             },
             "line": {
              "color": "white"
             }
            },
            "type": "table"
           }
          ]
         },
         "layout": {
          "annotationdefaults": {
           "arrowcolor": "#2a3f5f",
           "arrowhead": 0,
           "arrowwidth": 1
          },
          "colorscale": {
           "diverging": [
            [
             0,
             "#8e0152"
            ],
            [
             0.1,
             "#c51b7d"
            ],
            [
             0.2,
             "#de77ae"
            ],
            [
             0.3,
             "#f1b6da"
            ],
            [
             0.4,
             "#fde0ef"
            ],
            [
             0.5,
             "#f7f7f7"
            ],
            [
             0.6,
             "#e6f5d0"
            ],
            [
             0.7,
             "#b8e186"
            ],
            [
             0.8,
             "#7fbc41"
            ],
            [
             0.9,
             "#4d9221"
            ],
            [
             1,
             "#276419"
            ]
           ],
           "sequential": [
            [
             0,
             "#0d0887"
            ],
            [
             0.1111111111111111,
             "#46039f"
            ],
            [
             0.2222222222222222,
             "#7201a8"
            ],
            [
             0.3333333333333333,
             "#9c179e"
            ],
            [
             0.4444444444444444,
             "#bd3786"
            ],
            [
             0.5555555555555556,
             "#d8576b"
            ],
            [
             0.6666666666666666,
             "#ed7953"
            ],
            [
             0.7777777777777778,
             "#fb9f3a"
            ],
            [
             0.8888888888888888,
             "#fdca26"
            ],
            [
             1,
             "#f0f921"
            ]
           ],
           "sequentialminus": [
            [
             0,
             "#0d0887"
            ],
            [
             0.1111111111111111,
             "#46039f"
            ],
            [
             0.2222222222222222,
             "#7201a8"
            ],
            [
             0.3333333333333333,
             "#9c179e"
            ],
            [
             0.4444444444444444,
             "#bd3786"
            ],
            [
             0.5555555555555556,
             "#d8576b"
            ],
            [
             0.6666666666666666,
             "#ed7953"
            ],
            [
             0.7777777777777778,
             "#fb9f3a"
            ],
            [
             0.8888888888888888,
             "#fdca26"
            ],
            [
             1,
             "#f0f921"
            ]
           ]
          },
          "colorway": [
           "#636efa",
           "#EF553B",
           "#00cc96",
           "#ab63fa",
           "#FFA15A",
           "#19d3f3",
           "#FF6692",
           "#B6E880",
           "#FF97FF",
           "#FECB52"
          ],
          "font": {
           "color": "#2a3f5f"
          },
          "geo": {
           "bgcolor": "white",
           "lakecolor": "white",
           "landcolor": "#E5ECF6",
           "showlakes": true,
           "showland": true,
           "subunitcolor": "white"
          },
          "hoverlabel": {
           "align": "left"
          },
          "hovermode": "closest",
          "mapbox": {
           "style": "light"
          },
          "paper_bgcolor": "white",
          "plot_bgcolor": "#E5ECF6",
          "polar": {
           "angularaxis": {
            "gridcolor": "white",
            "linecolor": "white",
            "ticks": ""
           },
           "bgcolor": "#E5ECF6",
           "radialaxis": {
            "gridcolor": "white",
            "linecolor": "white",
            "ticks": ""
           }
          },
          "scene": {
           "xaxis": {
            "backgroundcolor": "#E5ECF6",
            "gridcolor": "white",
            "gridwidth": 2,
            "linecolor": "white",
            "showbackground": true,
            "ticks": "",
            "zerolinecolor": "white"
           },
           "yaxis": {
            "backgroundcolor": "#E5ECF6",
            "gridcolor": "white",
            "gridwidth": 2,
            "linecolor": "white",
            "showbackground": true,
            "ticks": "",
            "zerolinecolor": "white"
           },
           "zaxis": {
            "backgroundcolor": "#E5ECF6",
            "gridcolor": "white",
            "gridwidth": 2,
            "linecolor": "white",
            "showbackground": true,
            "ticks": "",
            "zerolinecolor": "white"
           }
          },
          "shapedefaults": {
           "line": {
            "color": "#2a3f5f"
           }
          },
          "ternary": {
           "aaxis": {
            "gridcolor": "white",
            "linecolor": "white",
            "ticks": ""
           },
           "baxis": {
            "gridcolor": "white",
            "linecolor": "white",
            "ticks": ""
           },
           "bgcolor": "#E5ECF6",
           "caxis": {
            "gridcolor": "white",
            "linecolor": "white",
            "ticks": ""
           }
          },
          "title": {
           "x": 0.05
          },
          "xaxis": {
           "automargin": true,
           "gridcolor": "white",
           "linecolor": "white",
           "ticks": "",
           "zerolinecolor": "white",
           "zerolinewidth": 2
          },
          "yaxis": {
           "automargin": true,
           "gridcolor": "white",
           "linecolor": "white",
           "ticks": "",
           "zerolinecolor": "white",
           "zerolinewidth": 2
          }
         }
        },
        "title": {
         "text": "Connectivity for Arlington"
        }
       }
      },
      "text/html": [
       "<div>\n",
       "        \n",
       "        \n",
       "            <div id=\"c0e6a2eb-a68c-441a-ade4-c2df75b841b7\" class=\"plotly-graph-div\" style=\"height:525px; width:100%;\"></div>\n",
       "            <script type=\"text/javascript\">\n",
       "                require([\"plotly\"], function(Plotly) {\n",
       "                    window.PLOTLYENV=window.PLOTLYENV || {};\n",
       "                    \n",
       "                if (document.getElementById(\"c0e6a2eb-a68c-441a-ade4-c2df75b841b7\")) {\n",
       "                    Plotly.newPlot(\n",
       "                        'c0e6a2eb-a68c-441a-ade4-c2df75b841b7',\n",
       "                        [{\"hoverinfo\": \"text\", \"lat\": [38.904971314938045, 38.86230487726764, 38.918963526013314, 38.88397201383353, 38.929282522250865, 38.90883024283532, 38.88247211568556, 38.9062714955744, 38.91151611337361, 38.90432317962426, 38.8618690417563, 38.85669110234461, 38.84777939112491, 38.92178516120459, 38.91529325927145, 38.90244206418685, 38.909575175221995, 38.88130323357744, 38.84230256309786, 38.89336481046152, 38.830403520319855, 38.909765932760614, 38.91134185650309, 38.914451274411824, 38.91480831982787, 38.91082027514493], \"line\": {\"color\": \"green\", \"width\": 1}, \"lon\": [-76.99637099113846, -77.0875149679286, -77.03173058756636, -77.11040666695618, -76.99825996486925, -77.03831820880794, -77.11463110252146, -77.03776010538417, -77.01996559087524, -77.02984808753871, -77.06262801970223, -77.06946057626573, -77.06054136975598, -77.01182792412794, -77.01558966510896, -77.03433239826876, -77.02263258959618, -77.11379295737464, -77.13442986176688, -77.10675204189977, -77.08870634851496, -76.99955701513557, -77.0183040412823, -77.04281618758199, -76.9814841543024, -77.0298828747255], \"marker\": {\"color\": \"red\", \"size\": 15}, \"mode\": \"lines+markers+text\", \"text\": [\"precise-gunmetal-mule\", \"fresh-rusty-wolf\", \"narrow-ultraviolet-stallion\", \"ripe-orange-beaver\", \"kind-parchment-squid\", \"winning-citron-skunk\", \"low-mercurial-rattlesnake\", \"joyful-holographic-tarantula\", \"jumpy-ivory-wren\", \"powerful-dijon-leopard\", \"amateur-rouge-chipmunk\", \"colossal-laurel-unicorn\", \"harsh-cloud-python\", \"fancy-alabaster-deer\", \"tangy-eggshell-halibut\", \"ambitious-sapphire-boa\", \"gorgeous-honey-moose\", \"special-glossy-trout\", \"orbiting-flint-shark\", \"wild-oily-fox\", \"rare-navy-puma\", \"digital-crepe-scorpion\", \"bouncy-ruby-goose\", \"puny-rouge-dragonfly\", \"broad-wooden-woodpecker\", \"lively-latte-barbel\"], \"textfont\": {\"size\": 8}, \"textposition\": \"top center\", \"type\": \"scattermapbox\"}, {\"hoverinfo\": \"text\", \"lat\": [38.904971314938045, 38.909765932760614], \"line\": {\"color\": \"blue\", \"width\": 3}, \"lon\": [-76.99637099113846, -76.99955701513557], \"mode\": \"lines+text\", \"opacity\": 0.002136752136752137, \"text\": \"cnt: 1<br>from:precise-gunmetal-mule<br>to:digital-crepe-scorpion\", \"type\": \"scattermapbox\"}, {\"hoverinfo\": \"text\", \"lat\": [38.86230487726764, 38.88130323357744], \"line\": {\"color\": \"blue\", \"width\": 3}, \"lon\": [-77.0875149679286, -77.11379295737464], \"mode\": \"lines+text\", \"opacity\": 0.017094017094017096, \"text\": \"cnt: 8<br>from:fresh-rusty-wolf<br>to:special-glossy-trout\", \"type\": \"scattermapbox\"}, {\"hoverinfo\": \"text\", \"lat\": [38.918963526013314, 38.909765932760614], \"line\": {\"color\": \"blue\", \"width\": 3}, \"lon\": [-77.03173058756636, -76.99955701513557], \"mode\": \"lines+text\", \"opacity\": 0.03418803418803419, \"text\": \"cnt: 16<br>from:narrow-ultraviolet-stallion<br>to:digital-crepe-scorpion\", \"type\": \"scattermapbox\"}, {\"hoverinfo\": \"text\", \"lat\": [38.918963526013314, 38.92178516120459], \"line\": {\"color\": \"blue\", \"width\": 3}, \"lon\": [-77.03173058756636, -77.01182792412794], \"mode\": \"lines+text\", \"opacity\": 0.002136752136752137, \"text\": \"cnt: 1<br>from:narrow-ultraviolet-stallion<br>to:fancy-alabaster-deer\", \"type\": \"scattermapbox\"}, {\"hoverinfo\": \"text\", \"lat\": [38.918963526013314, 38.909575175221995], \"line\": {\"color\": \"blue\", \"width\": 3}, \"lon\": [-77.03173058756636, -77.02263258959618], \"mode\": \"lines+text\", \"opacity\": 0.8269230769230769, \"text\": \"cnt: 387<br>from:narrow-ultraviolet-stallion<br>to:gorgeous-honey-moose\", \"type\": \"scattermapbox\"}, {\"hoverinfo\": \"text\", \"lat\": [38.918963526013314, 38.91151611337361], \"line\": {\"color\": \"blue\", \"width\": 3}, \"lon\": [-77.03173058756636, -77.01996559087524], \"mode\": \"lines+text\", \"opacity\": 0.01282051282051282, \"text\": \"cnt: 6<br>from:narrow-ultraviolet-stallion<br>to:jumpy-ivory-wren\", \"type\": \"scattermapbox\"}, {\"hoverinfo\": \"text\", \"lat\": [38.918963526013314, 38.90432317962426], \"line\": {\"color\": \"blue\", \"width\": 3}, \"lon\": [-77.03173058756636, -77.02984808753871], \"mode\": \"lines+text\", \"opacity\": 0.00641025641025641, \"text\": \"cnt: 3<br>from:narrow-ultraviolet-stallion<br>to:powerful-dijon-leopard\", \"type\": \"scattermapbox\"}, {\"hoverinfo\": \"text\", \"lat\": [38.88397201383353, 38.88247211568556], \"line\": {\"color\": \"blue\", \"width\": 3}, \"lon\": [-77.11040666695618, -77.11463110252146], \"mode\": \"lines+text\", \"opacity\": 0.0811965811965812, \"text\": \"cnt: 38<br>from:ripe-orange-beaver<br>to:low-mercurial-rattlesnake\", \"type\": \"scattermapbox\"}, {\"hoverinfo\": \"text\", \"lat\": [38.88397201383353, 38.89336481046152], \"line\": {\"color\": \"blue\", \"width\": 3}, \"lon\": [-77.11040666695618, -77.10675204189977], \"mode\": \"lines+text\", \"opacity\": 0.04700854700854701, \"text\": \"cnt: 22<br>from:ripe-orange-beaver<br>to:wild-oily-fox\", \"type\": \"scattermapbox\"}, {\"hoverinfo\": \"text\", \"lat\": [38.929282522250865, 38.909765932760614], \"line\": {\"color\": \"blue\", \"width\": 3}, \"lon\": [-76.99825996486925, -76.99955701513557], \"mode\": \"lines+text\", \"opacity\": 0.1794871794871795, \"text\": \"cnt: 84<br>from:kind-parchment-squid<br>to:digital-crepe-scorpion\", \"type\": \"scattermapbox\"}, {\"hoverinfo\": \"text\", \"lat\": [38.929282522250865, 38.909575175221995], \"line\": {\"color\": \"blue\", \"width\": 3}, \"lon\": [-76.99825996486925, -77.02263258959618], \"mode\": \"lines+text\", \"opacity\": 0.00641025641025641, \"text\": \"cnt: 3<br>from:kind-parchment-squid<br>to:gorgeous-honey-moose\", \"type\": \"scattermapbox\"}, {\"hoverinfo\": \"text\", \"lat\": [38.929282522250865, 38.91151611337361], \"line\": {\"color\": \"blue\", \"width\": 3}, \"lon\": [-76.99825996486925, -77.01996559087524], \"mode\": \"lines+text\", \"opacity\": 0.09615384615384616, \"text\": \"cnt: 45<br>from:kind-parchment-squid<br>to:jumpy-ivory-wren\", \"type\": \"scattermapbox\"}, {\"hoverinfo\": \"text\", \"lat\": [38.929282522250865, 38.92178516120459], \"line\": {\"color\": \"blue\", \"width\": 3}, \"lon\": [-76.99825996486925, -77.01182792412794], \"mode\": \"lines+text\", \"opacity\": 0.03418803418803419, \"text\": \"cnt: 16<br>from:kind-parchment-squid<br>to:fancy-alabaster-deer\", \"type\": \"scattermapbox\"}, {\"hoverinfo\": \"text\", \"lat\": [38.929282522250865, 38.9062714955744], \"line\": {\"color\": \"blue\", \"width\": 3}, \"lon\": [-76.99825996486925, -77.03776010538417], \"mode\": \"lines+text\", \"opacity\": 0.014957264957264958, \"text\": \"cnt: 7<br>from:kind-parchment-squid<br>to:joyful-holographic-tarantula\", \"type\": \"scattermapbox\"}, {\"hoverinfo\": \"text\", \"lat\": [38.929282522250865, 38.84777939112491], \"line\": {\"color\": \"blue\", \"width\": 3}, \"lon\": [-76.99825996486925, -77.06054136975598], \"mode\": \"lines+text\", \"opacity\": 0.021367521367521368, \"text\": \"cnt: 10<br>from:kind-parchment-squid<br>to:harsh-cloud-python\", \"type\": \"scattermapbox\"}, {\"hoverinfo\": \"text\", \"lat\": [38.929282522250865, 38.91480831982787], \"line\": {\"color\": \"blue\", \"width\": 3}, \"lon\": [-76.99825996486925, -76.9814841543024], \"mode\": \"lines+text\", \"opacity\": 0.01282051282051282, \"text\": \"cnt: 6<br>from:kind-parchment-squid<br>to:broad-wooden-woodpecker\", \"type\": \"scattermapbox\"}, {\"hoverinfo\": \"text\", \"lat\": [38.929282522250865, 38.91082027514493], \"line\": {\"color\": \"blue\", \"width\": 3}, \"lon\": [-76.99825996486925, -77.0298828747255], \"mode\": \"lines+text\", \"opacity\": 0.07692307692307693, \"text\": \"cnt: 36<br>from:kind-parchment-squid<br>to:lively-latte-barbel\", \"type\": \"scattermapbox\"}, {\"hoverinfo\": \"text\", \"lat\": [38.929282522250865, 38.8618690417563], \"line\": {\"color\": \"blue\", \"width\": 3}, \"lon\": [-76.99825996486925, -77.06262801970223], \"mode\": \"lines+text\", \"opacity\": 0.002136752136752137, \"text\": \"cnt: 1<br>from:kind-parchment-squid<br>to:amateur-rouge-chipmunk\", \"type\": \"scattermapbox\"}, {\"hoverinfo\": \"text\", \"lat\": [38.929282522250865, 38.90432317962426], \"line\": {\"color\": \"blue\", \"width\": 3}, \"lon\": [-76.99825996486925, -77.02984808753871], \"mode\": \"lines+text\", \"opacity\": 0.06837606837606838, \"text\": \"cnt: 32<br>from:kind-parchment-squid<br>to:powerful-dijon-leopard\", \"type\": \"scattermapbox\"}, {\"hoverinfo\": \"text\", \"lat\": [38.90883024283532, 38.9062714955744], \"line\": {\"color\": \"blue\", \"width\": 3}, \"lon\": [-77.03831820880794, -77.03776010538417], \"mode\": \"lines+text\", \"opacity\": 0.01282051282051282, \"text\": \"cnt: 6<br>from:winning-citron-skunk<br>to:joyful-holographic-tarantula\", \"type\": \"scattermapbox\"}, {\"hoverinfo\": \"text\", \"lat\": [38.88247211568556, 38.88130323357744], \"line\": {\"color\": \"blue\", \"width\": 3}, \"lon\": [-77.11463110252146, -77.11379295737464], \"mode\": \"lines+text\", \"opacity\": 0.1752136752136752, \"text\": \"cnt: 82<br>from:low-mercurial-rattlesnake<br>to:special-glossy-trout\", \"type\": \"scattermapbox\"}, {\"hoverinfo\": \"text\", \"lat\": [38.88247211568556, 38.92178516120459], \"line\": {\"color\": \"blue\", \"width\": 3}, \"lon\": [-77.11463110252146, -77.01182792412794], \"mode\": \"lines+text\", \"opacity\": 0.002136752136752137, \"text\": \"cnt: 1<br>from:low-mercurial-rattlesnake<br>to:fancy-alabaster-deer\", \"type\": \"scattermapbox\"}, {\"hoverinfo\": \"text\", \"lat\": [38.88247211568556, 38.89336481046152], \"line\": {\"color\": \"blue\", \"width\": 3}, \"lon\": [-77.11463110252146, -77.10675204189977], \"mode\": \"lines+text\", \"opacity\": 0.027777777777777776, \"text\": \"cnt: 13<br>from:low-mercurial-rattlesnake<br>to:wild-oily-fox\", \"type\": \"scattermapbox\"}, {\"hoverinfo\": \"text\", \"lat\": [38.9062714955744, 38.914451274411824], \"line\": {\"color\": \"blue\", \"width\": 3}, \"lon\": [-77.03776010538417, -77.04281618758199], \"mode\": \"lines+text\", \"opacity\": 0.03418803418803419, \"text\": \"cnt: 16<br>from:joyful-holographic-tarantula<br>to:puny-rouge-dragonfly\", \"type\": \"scattermapbox\"}, {\"hoverinfo\": \"text\", \"lat\": [38.9062714955744, 38.92178516120459], \"line\": {\"color\": \"blue\", \"width\": 3}, \"lon\": [-77.03776010538417, -77.01182792412794], \"mode\": \"lines+text\", \"opacity\": 0.04700854700854701, \"text\": \"cnt: 22<br>from:joyful-holographic-tarantula<br>to:fancy-alabaster-deer\", \"type\": \"scattermapbox\"}, {\"hoverinfo\": \"text\", \"lat\": [38.9062714955744, 38.90244206418685], \"line\": {\"color\": \"blue\", \"width\": 3}, \"lon\": [-77.03776010538417, -77.03433239826876], \"mode\": \"lines+text\", \"opacity\": 1.0, \"text\": \"cnt: 468<br>from:joyful-holographic-tarantula<br>to:ambitious-sapphire-boa\", \"type\": \"scattermapbox\"}, {\"hoverinfo\": \"text\", \"lat\": [38.9062714955744, 38.8618690417563], \"line\": {\"color\": \"blue\", \"width\": 3}, \"lon\": [-77.03776010538417, -77.06262801970223], \"mode\": \"lines+text\", \"opacity\": 0.00641025641025641, \"text\": \"cnt: 3<br>from:joyful-holographic-tarantula<br>to:amateur-rouge-chipmunk\", \"type\": \"scattermapbox\"}, {\"hoverinfo\": \"text\", \"lat\": [38.9062714955744, 38.90432317962426], \"line\": {\"color\": \"blue\", \"width\": 3}, \"lon\": [-77.03776010538417, -77.02984808753871], \"mode\": \"lines+text\", \"opacity\": 0.03632478632478633, \"text\": \"cnt: 17<br>from:joyful-holographic-tarantula<br>to:powerful-dijon-leopard\", \"type\": \"scattermapbox\"}, {\"hoverinfo\": \"text\", \"lat\": [38.9062714955744, 38.909575175221995], \"line\": {\"color\": \"blue\", \"width\": 3}, \"lon\": [-77.03776010538417, -77.02263258959618], \"mode\": \"lines+text\", \"opacity\": 0.03418803418803419, \"text\": \"cnt: 16<br>from:joyful-holographic-tarantula<br>to:gorgeous-honey-moose\", \"type\": \"scattermapbox\"}, {\"hoverinfo\": \"text\", \"lat\": [38.91151611337361, 38.909765932760614], \"line\": {\"color\": \"blue\", \"width\": 3}, \"lon\": [-77.01996559087524, -76.99955701513557], \"mode\": \"lines+text\", \"opacity\": 0.008547008547008548, \"text\": \"cnt: 4<br>from:jumpy-ivory-wren<br>to:digital-crepe-scorpion\", \"type\": \"scattermapbox\"}, {\"hoverinfo\": \"text\", \"lat\": [38.91151611337361, 38.92178516120459], \"line\": {\"color\": \"blue\", \"width\": 3}, \"lon\": [-77.01996559087524, -77.01182792412794], \"mode\": \"lines+text\", \"opacity\": 0.03205128205128205, \"text\": \"cnt: 15<br>from:jumpy-ivory-wren<br>to:fancy-alabaster-deer\", \"type\": \"scattermapbox\"}, {\"hoverinfo\": \"text\", \"lat\": [38.91151611337361, 38.91134185650309], \"line\": {\"color\": \"blue\", \"width\": 3}, \"lon\": [-77.01996559087524, -77.0183040412823], \"mode\": \"lines+text\", \"opacity\": 0.3803418803418803, \"text\": \"cnt: 178<br>from:jumpy-ivory-wren<br>to:bouncy-ruby-goose\", \"type\": \"scattermapbox\"}, {\"hoverinfo\": \"text\", \"lat\": [38.91151611337361, 38.91529325927145], \"line\": {\"color\": \"blue\", \"width\": 3}, \"lon\": [-77.01996559087524, -77.01558966510896], \"mode\": \"lines+text\", \"opacity\": 0.002136752136752137, \"text\": \"cnt: 1<br>from:jumpy-ivory-wren<br>to:tangy-eggshell-halibut\", \"type\": \"scattermapbox\"}, {\"hoverinfo\": \"text\", \"lat\": [38.91151611337361, 38.909575175221995], \"line\": {\"color\": \"blue\", \"width\": 3}, \"lon\": [-77.01996559087524, -77.02263258959618], \"mode\": \"lines+text\", \"opacity\": 0.43803418803418803, \"text\": \"cnt: 205<br>from:jumpy-ivory-wren<br>to:gorgeous-honey-moose\", \"type\": \"scattermapbox\"}, {\"hoverinfo\": \"text\", \"lat\": [38.90432317962426, 38.909765932760614], \"line\": {\"color\": \"blue\", \"width\": 3}, \"lon\": [-77.02984808753871, -76.99955701513557], \"mode\": \"lines+text\", \"opacity\": 0.019230769230769232, \"text\": \"cnt: 9<br>from:powerful-dijon-leopard<br>to:digital-crepe-scorpion\", \"type\": \"scattermapbox\"}, {\"hoverinfo\": \"text\", \"lat\": [38.90432317962426, 38.914451274411824], \"line\": {\"color\": \"blue\", \"width\": 3}, \"lon\": [-77.02984808753871, -77.04281618758199], \"mode\": \"lines+text\", \"opacity\": 0.004273504273504274, \"text\": \"cnt: 2<br>from:powerful-dijon-leopard<br>to:puny-rouge-dragonfly\", \"type\": \"scattermapbox\"}, {\"hoverinfo\": \"text\", \"lat\": [38.90432317962426, 38.92178516120459], \"line\": {\"color\": \"blue\", \"width\": 3}, \"lon\": [-77.02984808753871, -77.01182792412794], \"mode\": \"lines+text\", \"opacity\": 0.2564102564102564, \"text\": \"cnt: 120<br>from:powerful-dijon-leopard<br>to:fancy-alabaster-deer\", \"type\": \"scattermapbox\"}, {\"hoverinfo\": \"text\", \"lat\": [38.90432317962426, 38.91082027514493], \"line\": {\"color\": \"blue\", \"width\": 3}, \"lon\": [-77.02984808753871, -77.0298828747255], \"mode\": \"lines+text\", \"opacity\": 0.28205128205128205, \"text\": \"cnt: 132<br>from:powerful-dijon-leopard<br>to:lively-latte-barbel\", \"type\": \"scattermapbox\"}, {\"hoverinfo\": \"text\", \"lat\": [38.90432317962426, 38.909575175221995], \"line\": {\"color\": \"blue\", \"width\": 3}, \"lon\": [-77.02984808753871, -77.02263258959618], \"mode\": \"lines+text\", \"opacity\": 0.17307692307692307, \"text\": \"cnt: 81<br>from:powerful-dijon-leopard<br>to:gorgeous-honey-moose\", \"type\": \"scattermapbox\"}, {\"hoverinfo\": \"text\", \"lat\": [38.8618690417563, 38.84777939112491], \"line\": {\"color\": \"blue\", \"width\": 3}, \"lon\": [-77.06262801970223, -77.06054136975598], \"mode\": \"lines+text\", \"opacity\": 0.09188034188034189, \"text\": \"cnt: 43<br>from:amateur-rouge-chipmunk<br>to:harsh-cloud-python\", \"type\": \"scattermapbox\"}, {\"hoverinfo\": \"text\", \"lat\": [38.8618690417563, 38.85669110234461], \"line\": {\"color\": \"blue\", \"width\": 3}, \"lon\": [-77.06262801970223, -77.06946057626573], \"mode\": \"lines+text\", \"opacity\": 0.04700854700854701, \"text\": \"cnt: 22<br>from:amateur-rouge-chipmunk<br>to:colossal-laurel-unicorn\", \"type\": \"scattermapbox\"}, {\"hoverinfo\": \"text\", \"lat\": [38.85669110234461, 38.84777939112491], \"line\": {\"color\": \"blue\", \"width\": 3}, \"lon\": [-77.06946057626573, -77.06054136975598], \"mode\": \"lines+text\", \"opacity\": 0.023504273504273504, \"text\": \"cnt: 11<br>from:colossal-laurel-unicorn<br>to:harsh-cloud-python\", \"type\": \"scattermapbox\"}, {\"hoverinfo\": \"text\", \"lat\": [38.84777939112491, 38.830403520319855], \"line\": {\"color\": \"blue\", \"width\": 3}, \"lon\": [-77.06054136975598, -77.08870634851496], \"mode\": \"lines+text\", \"opacity\": 0.01282051282051282, \"text\": \"cnt: 6<br>from:harsh-cloud-python<br>to:rare-navy-puma\", \"type\": \"scattermapbox\"}, {\"hoverinfo\": \"text\", \"lat\": [38.92178516120459, 38.909765932760614], \"line\": {\"color\": \"blue\", \"width\": 3}, \"lon\": [-77.01182792412794, -76.99955701513557], \"mode\": \"lines+text\", \"opacity\": 0.01282051282051282, \"text\": \"cnt: 6<br>from:fancy-alabaster-deer<br>to:digital-crepe-scorpion\", \"type\": \"scattermapbox\"}, {\"hoverinfo\": \"text\", \"lat\": [38.92178516120459, 38.909575175221995], \"line\": {\"color\": \"blue\", \"width\": 3}, \"lon\": [-77.01182792412794, -77.02263258959618], \"mode\": \"lines+text\", \"opacity\": 0.13247863247863248, \"text\": \"cnt: 62<br>from:fancy-alabaster-deer<br>to:gorgeous-honey-moose\", \"type\": \"scattermapbox\"}, {\"hoverinfo\": \"text\", \"lat\": [38.92178516120459, 38.91529325927145], \"line\": {\"color\": \"blue\", \"width\": 3}, \"lon\": [-77.01182792412794, -77.01558966510896], \"mode\": \"lines+text\", \"opacity\": 0.017094017094017096, \"text\": \"cnt: 8<br>from:fancy-alabaster-deer<br>to:tangy-eggshell-halibut\", \"type\": \"scattermapbox\"}, {\"hoverinfo\": \"text\", \"lat\": [38.92178516120459, 38.91082027514493], \"line\": {\"color\": \"blue\", \"width\": 3}, \"lon\": [-77.01182792412794, -77.0298828747255], \"mode\": \"lines+text\", \"opacity\": 0.002136752136752137, \"text\": \"cnt: 1<br>from:fancy-alabaster-deer<br>to:lively-latte-barbel\", \"type\": \"scattermapbox\"}, {\"hoverinfo\": \"text\", \"lat\": [38.92178516120459, 38.90244206418685], \"line\": {\"color\": \"blue\", \"width\": 3}, \"lon\": [-77.01182792412794, -77.03433239826876], \"mode\": \"lines+text\", \"opacity\": 0.01282051282051282, \"text\": \"cnt: 6<br>from:fancy-alabaster-deer<br>to:ambitious-sapphire-boa\", \"type\": \"scattermapbox\"}, {\"hoverinfo\": \"text\", \"lat\": [38.91529325927145, 38.909765932760614], \"line\": {\"color\": \"blue\", \"width\": 3}, \"lon\": [-77.01558966510896, -76.99955701513557], \"mode\": \"lines+text\", \"opacity\": 0.004273504273504274, \"text\": \"cnt: 2<br>from:tangy-eggshell-halibut<br>to:digital-crepe-scorpion\", \"type\": \"scattermapbox\"}, {\"hoverinfo\": \"text\", \"lat\": [38.91529325927145, 38.909575175221995], \"line\": {\"color\": \"blue\", \"width\": 3}, \"lon\": [-77.01558966510896, -77.02263258959618], \"mode\": \"lines+text\", \"opacity\": 0.00641025641025641, \"text\": \"cnt: 3<br>from:tangy-eggshell-halibut<br>to:gorgeous-honey-moose\", \"type\": \"scattermapbox\"}, {\"hoverinfo\": \"text\", \"lat\": [38.909575175221995, 38.91134185650309], \"line\": {\"color\": \"blue\", \"width\": 3}, \"lon\": [-77.02263258959618, -77.0183040412823], \"mode\": \"lines+text\", \"opacity\": 0.01282051282051282, \"text\": \"cnt: 6<br>from:gorgeous-honey-moose<br>to:bouncy-ruby-goose\", \"type\": \"scattermapbox\"}, {\"hoverinfo\": \"text\", \"lat\": [38.909575175221995, 38.91082027514493], \"line\": {\"color\": \"blue\", \"width\": 3}, \"lon\": [-77.02263258959618, -77.0298828747255], \"mode\": \"lines+text\", \"opacity\": 0.4658119658119658, \"text\": \"cnt: 218<br>from:gorgeous-honey-moose<br>to:lively-latte-barbel\", \"type\": \"scattermapbox\"}, {\"hoverinfo\": \"text\", \"lat\": [38.909575175221995, 38.909765932760614], \"line\": {\"color\": \"blue\", \"width\": 3}, \"lon\": [-77.02263258959618, -76.99955701513557], \"mode\": \"lines+text\", \"opacity\": 0.00641025641025641, \"text\": \"cnt: 3<br>from:gorgeous-honey-moose<br>to:digital-crepe-scorpion\", \"type\": \"scattermapbox\"}, {\"hoverinfo\": \"text\", \"lat\": [38.88130323357744, 38.89336481046152], \"line\": {\"color\": \"blue\", \"width\": 3}, \"lon\": [-77.11379295737464, -77.10675204189977], \"mode\": \"lines+text\", \"opacity\": 0.03205128205128205, \"text\": \"cnt: 15<br>from:special-glossy-trout<br>to:wild-oily-fox\", \"type\": \"scattermapbox\"}, {\"hoverinfo\": \"text\", \"lat\": [38.88130323357744, 38.84230256309786], \"line\": {\"color\": \"blue\", \"width\": 3}, \"lon\": [-77.11379295737464, -77.13442986176688], \"mode\": \"lines+text\", \"opacity\": 0.00641025641025641, \"text\": \"cnt: 3<br>from:special-glossy-trout<br>to:orbiting-flint-shark\", \"type\": \"scattermapbox\"}],\n",
       "                        {\"mapbox\": {\"accesstoken\": \"pk.eyJ1IjoidmlodTg5IiwiYSI6ImNrNmdhajRlMTAzbmgza2xxcG9wa3pyZnUifQ.yN92eb4doELCwzwLeqEDuQ\\n\", \"bearing\": 0, \"center\": {\"lat\": 38.904971314938045, \"lon\": -76.99637099113846}, \"pitch\": 0, \"zoom\": 9}, \"showlegend\": false, \"template\": {\"data\": {\"bar\": [{\"error_x\": {\"color\": \"#2a3f5f\"}, \"error_y\": {\"color\": \"#2a3f5f\"}, \"marker\": {\"line\": {\"color\": \"#E5ECF6\", \"width\": 0.5}}, \"type\": \"bar\"}], \"barpolar\": [{\"marker\": {\"line\": {\"color\": \"#E5ECF6\", \"width\": 0.5}}, \"type\": \"barpolar\"}], \"carpet\": [{\"aaxis\": {\"endlinecolor\": \"#2a3f5f\", \"gridcolor\": \"white\", \"linecolor\": \"white\", \"minorgridcolor\": \"white\", \"startlinecolor\": \"#2a3f5f\"}, \"baxis\": {\"endlinecolor\": \"#2a3f5f\", \"gridcolor\": \"white\", \"linecolor\": \"white\", \"minorgridcolor\": \"white\", \"startlinecolor\": \"#2a3f5f\"}, \"type\": \"carpet\"}], \"choropleth\": [{\"colorbar\": {\"outlinewidth\": 0, \"ticks\": \"\"}, \"type\": \"choropleth\"}], \"contour\": [{\"colorbar\": {\"outlinewidth\": 0, \"ticks\": \"\"}, \"colorscale\": [[0.0, \"#0d0887\"], [0.1111111111111111, \"#46039f\"], [0.2222222222222222, \"#7201a8\"], [0.3333333333333333, \"#9c179e\"], [0.4444444444444444, \"#bd3786\"], [0.5555555555555556, \"#d8576b\"], [0.6666666666666666, \"#ed7953\"], [0.7777777777777778, \"#fb9f3a\"], [0.8888888888888888, \"#fdca26\"], [1.0, \"#f0f921\"]], \"type\": \"contour\"}], \"contourcarpet\": [{\"colorbar\": {\"outlinewidth\": 0, \"ticks\": \"\"}, \"type\": \"contourcarpet\"}], \"heatmap\": [{\"colorbar\": {\"outlinewidth\": 0, \"ticks\": \"\"}, \"colorscale\": [[0.0, \"#0d0887\"], [0.1111111111111111, \"#46039f\"], [0.2222222222222222, \"#7201a8\"], [0.3333333333333333, \"#9c179e\"], [0.4444444444444444, \"#bd3786\"], [0.5555555555555556, \"#d8576b\"], [0.6666666666666666, \"#ed7953\"], [0.7777777777777778, \"#fb9f3a\"], [0.8888888888888888, \"#fdca26\"], [1.0, \"#f0f921\"]], \"type\": \"heatmap\"}], \"heatmapgl\": [{\"colorbar\": {\"outlinewidth\": 0, \"ticks\": \"\"}, \"colorscale\": [[0.0, \"#0d0887\"], [0.1111111111111111, \"#46039f\"], [0.2222222222222222, \"#7201a8\"], [0.3333333333333333, \"#9c179e\"], [0.4444444444444444, \"#bd3786\"], [0.5555555555555556, \"#d8576b\"], [0.6666666666666666, \"#ed7953\"], [0.7777777777777778, \"#fb9f3a\"], [0.8888888888888888, \"#fdca26\"], [1.0, \"#f0f921\"]], \"type\": \"heatmapgl\"}], \"histogram\": [{\"marker\": {\"colorbar\": {\"outlinewidth\": 0, \"ticks\": \"\"}}, \"type\": \"histogram\"}], \"histogram2d\": [{\"colorbar\": {\"outlinewidth\": 0, \"ticks\": \"\"}, \"colorscale\": [[0.0, \"#0d0887\"], [0.1111111111111111, \"#46039f\"], [0.2222222222222222, \"#7201a8\"], [0.3333333333333333, \"#9c179e\"], [0.4444444444444444, \"#bd3786\"], [0.5555555555555556, \"#d8576b\"], [0.6666666666666666, \"#ed7953\"], [0.7777777777777778, \"#fb9f3a\"], [0.8888888888888888, \"#fdca26\"], [1.0, \"#f0f921\"]], \"type\": \"histogram2d\"}], \"histogram2dcontour\": [{\"colorbar\": {\"outlinewidth\": 0, \"ticks\": \"\"}, \"colorscale\": [[0.0, \"#0d0887\"], [0.1111111111111111, \"#46039f\"], [0.2222222222222222, \"#7201a8\"], [0.3333333333333333, \"#9c179e\"], [0.4444444444444444, \"#bd3786\"], [0.5555555555555556, \"#d8576b\"], [0.6666666666666666, \"#ed7953\"], [0.7777777777777778, \"#fb9f3a\"], [0.8888888888888888, \"#fdca26\"], [1.0, \"#f0f921\"]], \"type\": \"histogram2dcontour\"}], \"mesh3d\": [{\"colorbar\": {\"outlinewidth\": 0, \"ticks\": \"\"}, \"type\": \"mesh3d\"}], \"parcoords\": [{\"line\": {\"colorbar\": {\"outlinewidth\": 0, \"ticks\": \"\"}}, \"type\": \"parcoords\"}], \"scatter\": [{\"marker\": {\"colorbar\": {\"outlinewidth\": 0, \"ticks\": \"\"}}, \"type\": \"scatter\"}], \"scatter3d\": [{\"line\": {\"colorbar\": {\"outlinewidth\": 0, \"ticks\": \"\"}}, \"marker\": {\"colorbar\": {\"outlinewidth\": 0, \"ticks\": \"\"}}, \"type\": \"scatter3d\"}], \"scattercarpet\": [{\"marker\": {\"colorbar\": {\"outlinewidth\": 0, \"ticks\": \"\"}}, \"type\": \"scattercarpet\"}], \"scattergeo\": [{\"marker\": {\"colorbar\": {\"outlinewidth\": 0, \"ticks\": \"\"}}, \"type\": \"scattergeo\"}], \"scattergl\": [{\"marker\": {\"colorbar\": {\"outlinewidth\": 0, \"ticks\": \"\"}}, \"type\": \"scattergl\"}], \"scattermapbox\": [{\"marker\": {\"colorbar\": {\"outlinewidth\": 0, \"ticks\": \"\"}}, \"type\": \"scattermapbox\"}], \"scatterpolar\": [{\"marker\": {\"colorbar\": {\"outlinewidth\": 0, \"ticks\": \"\"}}, \"type\": \"scatterpolar\"}], \"scatterpolargl\": [{\"marker\": {\"colorbar\": {\"outlinewidth\": 0, \"ticks\": \"\"}}, \"type\": \"scatterpolargl\"}], \"scatterternary\": [{\"marker\": {\"colorbar\": {\"outlinewidth\": 0, \"ticks\": \"\"}}, \"type\": \"scatterternary\"}], \"surface\": [{\"colorbar\": {\"outlinewidth\": 0, \"ticks\": \"\"}, \"colorscale\": [[0.0, \"#0d0887\"], [0.1111111111111111, \"#46039f\"], [0.2222222222222222, \"#7201a8\"], [0.3333333333333333, \"#9c179e\"], [0.4444444444444444, \"#bd3786\"], [0.5555555555555556, \"#d8576b\"], [0.6666666666666666, \"#ed7953\"], [0.7777777777777778, \"#fb9f3a\"], [0.8888888888888888, \"#fdca26\"], [1.0, \"#f0f921\"]], \"type\": \"surface\"}], \"table\": [{\"cells\": {\"fill\": {\"color\": \"#EBF0F8\"}, \"line\": {\"color\": \"white\"}}, \"header\": {\"fill\": {\"color\": \"#C8D4E3\"}, \"line\": {\"color\": \"white\"}}, \"type\": \"table\"}]}, \"layout\": {\"annotationdefaults\": {\"arrowcolor\": \"#2a3f5f\", \"arrowhead\": 0, \"arrowwidth\": 1}, \"colorscale\": {\"diverging\": [[0, \"#8e0152\"], [0.1, \"#c51b7d\"], [0.2, \"#de77ae\"], [0.3, \"#f1b6da\"], [0.4, \"#fde0ef\"], [0.5, \"#f7f7f7\"], [0.6, \"#e6f5d0\"], [0.7, \"#b8e186\"], [0.8, \"#7fbc41\"], [0.9, \"#4d9221\"], [1, \"#276419\"]], \"sequential\": [[0.0, \"#0d0887\"], [0.1111111111111111, \"#46039f\"], [0.2222222222222222, \"#7201a8\"], [0.3333333333333333, \"#9c179e\"], [0.4444444444444444, \"#bd3786\"], [0.5555555555555556, \"#d8576b\"], [0.6666666666666666, \"#ed7953\"], [0.7777777777777778, \"#fb9f3a\"], [0.8888888888888888, \"#fdca26\"], [1.0, \"#f0f921\"]], \"sequentialminus\": [[0.0, \"#0d0887\"], [0.1111111111111111, \"#46039f\"], [0.2222222222222222, \"#7201a8\"], [0.3333333333333333, \"#9c179e\"], [0.4444444444444444, \"#bd3786\"], [0.5555555555555556, \"#d8576b\"], [0.6666666666666666, \"#ed7953\"], [0.7777777777777778, \"#fb9f3a\"], [0.8888888888888888, \"#fdca26\"], [1.0, \"#f0f921\"]]}, \"colorway\": [\"#636efa\", \"#EF553B\", \"#00cc96\", \"#ab63fa\", \"#FFA15A\", \"#19d3f3\", \"#FF6692\", \"#B6E880\", \"#FF97FF\", \"#FECB52\"], \"font\": {\"color\": \"#2a3f5f\"}, \"geo\": {\"bgcolor\": \"white\", \"lakecolor\": \"white\", \"landcolor\": \"#E5ECF6\", \"showlakes\": true, \"showland\": true, \"subunitcolor\": \"white\"}, \"hoverlabel\": {\"align\": \"left\"}, \"hovermode\": \"closest\", \"mapbox\": {\"style\": \"light\"}, \"paper_bgcolor\": \"white\", \"plot_bgcolor\": \"#E5ECF6\", \"polar\": {\"angularaxis\": {\"gridcolor\": \"white\", \"linecolor\": \"white\", \"ticks\": \"\"}, \"bgcolor\": \"#E5ECF6\", \"radialaxis\": {\"gridcolor\": \"white\", \"linecolor\": \"white\", \"ticks\": \"\"}}, \"scene\": {\"xaxis\": {\"backgroundcolor\": \"#E5ECF6\", \"gridcolor\": \"white\", \"gridwidth\": 2, \"linecolor\": \"white\", \"showbackground\": true, \"ticks\": \"\", \"zerolinecolor\": \"white\"}, \"yaxis\": {\"backgroundcolor\": \"#E5ECF6\", \"gridcolor\": \"white\", \"gridwidth\": 2, \"linecolor\": \"white\", \"showbackground\": true, \"ticks\": \"\", \"zerolinecolor\": \"white\"}, \"zaxis\": {\"backgroundcolor\": \"#E5ECF6\", \"gridcolor\": \"white\", \"gridwidth\": 2, \"linecolor\": \"white\", \"showbackground\": true, \"ticks\": \"\", \"zerolinecolor\": \"white\"}}, \"shapedefaults\": {\"line\": {\"color\": \"#2a3f5f\"}}, \"ternary\": {\"aaxis\": {\"gridcolor\": \"white\", \"linecolor\": \"white\", \"ticks\": \"\"}, \"baxis\": {\"gridcolor\": \"white\", \"linecolor\": \"white\", \"ticks\": \"\"}, \"bgcolor\": \"#E5ECF6\", \"caxis\": {\"gridcolor\": \"white\", \"linecolor\": \"white\", \"ticks\": \"\"}}, \"title\": {\"x\": 0.05}, \"xaxis\": {\"automargin\": true, \"gridcolor\": \"white\", \"linecolor\": \"white\", \"ticks\": \"\", \"zerolinecolor\": \"white\", \"zerolinewidth\": 2}, \"yaxis\": {\"automargin\": true, \"gridcolor\": \"white\", \"linecolor\": \"white\", \"ticks\": \"\", \"zerolinecolor\": \"white\", \"zerolinewidth\": 2}}}, \"title\": {\"text\": \"Connectivity for Arlington\"}},\n",
       "                        {\"responsive\": true}\n",
       "                    ).then(function(){\n",
       "                            \n",
       "var gd = document.getElementById('c0e6a2eb-a68c-441a-ade4-c2df75b841b7');\n",
       "var x = new MutationObserver(function (mutations, observer) {{\n",
       "        var display = window.getComputedStyle(gd).display;\n",
       "        if (!display || display === 'none') {{\n",
       "            console.log([gd, 'removed!']);\n",
       "            Plotly.purge(gd);\n",
       "            observer.disconnect();\n",
       "        }}\n",
       "}});\n",
       "\n",
       "// Listen for the removal of the full notebook cells\n",
       "var notebookContainer = gd.closest('#notebook-container');\n",
       "if (notebookContainer) {{\n",
       "    x.observe(notebookContainer, {childList: true});\n",
       "}}\n",
       "\n",
       "// Listen for the clearing of the current output cell\n",
       "var outputEl = gd.closest('.output');\n",
       "if (outputEl) {{\n",
       "    x.observe(outputEl, {childList: true});\n",
       "}}\n",
       "\n",
       "                        })\n",
       "                };\n",
       "                });\n",
       "            </script>\n",
       "        </div>"
      ]
     },
     "metadata": {},
     "output_type": "display_data"
    }
   ],
   "source": [
    "# _G: big graph, don't plot that\n",
    "# SCC: sorted sub-components\n",
    "# index = index from rank_df\n",
    "index = 12\n",
    "city = sub_components[index]['city']\n",
    "G = subgraph(_G, SCC, index)\n",
    "plot(G, city)"
   ]
  },
  {
   "cell_type": "code",
   "execution_count": 15,
   "metadata": {
    "scrolled": false
   },
   "outputs": [],
   "source": [
    "# for i in range(11, 15):\n",
    "#     G = subgraph(_G, SCC, i)\n",
    "#     plot(G, sub_components[i]['city'])"
   ]
  }
 ],
 "metadata": {
  "kernelspec": {
   "display_name": "Python 3",
   "language": "python",
   "name": "python3"
  },
  "language_info": {
   "codemirror_mode": {
    "name": "ipython",
    "version": 3
   },
   "file_extension": ".py",
   "mimetype": "text/x-python",
   "name": "python",
   "nbconvert_exporter": "python",
   "pygments_lexer": "ipython3",
   "version": "3.7.5"
  }
 },
 "nbformat": 4,
 "nbformat_minor": 2
}
