{
 "cells": [
  {
   "cell_type": "markdown",
   "metadata": {},
   "source": [
    "### Imports"
   ]
  },
  {
   "cell_type": "code",
   "execution_count": 1,
   "metadata": {},
   "outputs": [],
   "source": [
    "import requests\n",
    "import pandas as pd\n",
    "import pickle\n",
    "import copy\n",
    "import random\n",
    "\n",
    "import networkx as nx\n",
    "import matplotlib.pyplot as plt\n",
    "import pydot\n",
    "import plotly.graph_objects as go\n",
    "\n",
    "from os import path\n",
    "from networkx.drawing.nx_pydot import graphviz_layout\n",
    "from dataclasses import dataclass\n",
    "from joblib import Parallel, delayed\n",
    "\n",
    "pd.set_option('display.max_colwidth', -1)"
   ]
  },
  {
   "cell_type": "markdown",
   "metadata": {},
   "source": [
    "### Constants"
   ]
  },
  {
   "cell_type": "code",
   "execution_count": 2,
   "metadata": {},
   "outputs": [],
   "source": [
    "API = \"https://explorer.helium.foundation/api\""
   ]
  },
  {
   "cell_type": "code",
   "execution_count": 3,
   "metadata": {},
   "outputs": [],
   "source": [
    "def dashed(name):\n",
    "    ''' Convert title name to lower dashed name '''\n",
    "    return \"-\".join(name.lower().split(\" \"))\n",
    "\n",
    "def get_hotspot(hotspots, name):\n",
    "    ''' Get hotspot by name (lower dashed) '''\n",
    "    return next(x for x in hotspots if x['name'] == name) "
   ]
  },
  {
   "cell_type": "code",
   "execution_count": 4,
   "metadata": {},
   "outputs": [],
   "source": [
    "# get hotspots once\n",
    "hr = requests.get(\"{}/hotspots\".format(API))\n",
    "assert(hr.status_code == 200)\n",
    "hotspots0 = hr.json()['data']\n",
    "HOTSPOTS = []\n",
    "for h in hotspots0:\n",
    "    old_name = h['name']\n",
    "    h['name'] = dashed(old_name)\n",
    "    HOTSPOTS.append(h)"
   ]
  },
  {
   "cell_type": "markdown",
   "metadata": {},
   "source": [
    "### Hotspots dataframe"
   ]
  },
  {
   "cell_type": "code",
   "execution_count": 5,
   "metadata": {},
   "outputs": [],
   "source": [
    "df = pd.DataFrame(HOTSPOTS)"
   ]
  },
  {
   "cell_type": "markdown",
   "metadata": {},
   "source": [
    "### Dataframe helpers"
   ]
  },
  {
   "cell_type": "code",
   "execution_count": 6,
   "metadata": {},
   "outputs": [],
   "source": [
    "def get_b58(hdf, name):\n",
    "    ''' Get b58 address for given hotspot name '''\n",
    "    return hdf[hdf['name'] == name].iloc[0]['address']\n",
    "\n",
    "def get_loc_details(hdf, name):\n",
    "    ''' Get location details for a given hotspot name '''\n",
    "    h = hdf[hdf['name'] == name].iloc[0]\n",
    "    return (h['location'], h['long_city'], h['lat'], h['lng'])"
   ]
  },
  {
   "cell_type": "markdown",
   "metadata": {},
   "source": [
    "### Classes"
   ]
  },
  {
   "cell_type": "code",
   "execution_count": 7,
   "metadata": {},
   "outputs": [],
   "source": [
    "@dataclass\n",
    "class Witness:\n",
    "    ''' Dataclass for holding witness information '''\n",
    "    name: str\n",
    "    address: str\n",
    "    cnt: int\n",
    "\n",
    "    def __eq__(self, other):\n",
    "        return self.name == other.name and self.address == other.address\n",
    "    def __hash__(self):\n",
    "        return self.address\n",
    "    def to_dict(self):\n",
    "        return {\n",
    "            'name': self.name,\n",
    "            'address': self.address,\n",
    "            'cnt': self.cnt\n",
    "        }\n",
    "\n",
    "@dataclass\n",
    "class Node:\n",
    "    ''' Class to represent a graph node '''\n",
    "    loc: str\n",
    "    name: str\n",
    "    city: str\n",
    "    lat: float\n",
    "    lng: float\n",
    "\n",
    "    # to make this class hashable\n",
    "    def __eq__(self, other):\n",
    "        return self.loc == other.loc and self.name == other.name\n",
    "    def __hash__(self):\n",
    "        return int(self.loc, 16)\n",
    "    def to_dict(self):\n",
    "        return {\n",
    "            'name': self.name,\n",
    "            'loc': self.loc,\n",
    "            'lat': self.lat,\n",
    "            'lng': self.lng,\n",
    "            'city': self.city\n",
    "        }\n",
    "\n",
    "def new_node(hdf, name):\n",
    "    (h_loc, h_city, h_lat, h_lng) = get_loc_details(hdf, name)\n",
    "    return Node(name=name, loc=h_loc, city=h_city, lat=h_lat, lng=h_lng)"
   ]
  },
  {
   "cell_type": "markdown",
   "metadata": {},
   "source": [
    "### Functions"
   ]
  },
  {
   "cell_type": "code",
   "execution_count": 8,
   "metadata": {},
   "outputs": [],
   "source": [
    "def get_witnesses(hdf, hname):\n",
    "    ''' Get witnesses for given hotspot name '''\n",
    "    b58 = get_b58(hdf, hname)\n",
    "    r = requests.get(\"{}/witnesses/{}\".format(API, b58))\n",
    "    assert(r.status_code == 200)\n",
    "    witnesses_data = r.json()['data']\n",
    "    witnesses = []\n",
    "    for w in witnesses_data:\n",
    "        hist = w['hist']\n",
    "        cnt = sum(hist.values())\n",
    "        w_name = dashed(w['name'])\n",
    "        w_address = w['address']\n",
    "        witnesses.append(Witness(name=w_name, address=w_address, cnt=cnt))\n",
    "    return {\"name\": hname, \"witnesses\": witnesses}\n",
    "\n",
    "def create_or_fetch_weighted_witness_list(hdf, witness_list_pickle_path):\n",
    "    ''' Check if we already have a pickled object for getting witness list faster '''\n",
    "    if path.exists(witness_list_pickle_path):\n",
    "        with open(witness_list_pickle_path, 'rb') as handle:\n",
    "            witness_list = pickle.load(handle)\n",
    "    else:\n",
    "        # make the witness fetching marginally faster by parallelizing requests\n",
    "        witness_list = Parallel(n_jobs=8)(delayed(get_witnesses)(hdf, n) for n in [i for i in hdf.name])\n",
    "        with open(witness_list_pickle_path, 'wb') as handle:\n",
    "            pickle.dump(witness_list, handle, protocol=pickle.HIGHEST_PROTOCOL)\n",
    "    return witness_list\n",
    "\n",
    "def create_or_fetch_weighted_witness_dict(hdf, witness_list, witness_dict_pickle_path):\n",
    "    ''' Check if we already have a pickled object for getting witness dict faster '''\n",
    "    if path.exists(witness_dict_pickle_path):\n",
    "        with open(witness_dict_pickle_path, 'rb') as handle:\n",
    "            witness_dict = pickle.load(handle)\n",
    "    else:\n",
    "        # make the witness fetching marginally faster by parallelizing requests\n",
    "        witness_dict = create_witness_dict(hdf, witness_list)\n",
    "        with open(witness_dict_pickle_path, 'wb') as handle:\n",
    "            pickle.dump(witness_dict, handle, protocol=pickle.HIGHEST_PROTOCOL)\n",
    "    return witness_dict\n",
    "\n",
    "def create_witness_dict(hdf, witness_list):\n",
    "    ''' Create witness dictionary from list of witnesses '''\n",
    "    witnesses = {}\n",
    "    for d in witness_list:\n",
    "        h = d['name']\n",
    "        ws = d['witnesses']\n",
    "        (h_loc, h_city, h_lat, h_lng) = get_loc_details(hdf, h)\n",
    "        if h_loc:\n",
    "            key = Node(name=h, loc=h_loc, city=h_city, lat= h_lat, lng= h_lng)\n",
    "            if len(ws) > 0:\n",
    "                nodes = []\n",
    "                for w in ws:\n",
    "                    (w_loc, w_city, w_lat, w_lng) = get_loc_details(hdf, w.name)\n",
    "                    node = Node(name=w.name, loc=w_loc, city=w_city, lat= w_lat, lng= w_lng)\n",
    "                    nodes.append((node, w.cnt))\n",
    "                witnesses[key] = nodes\n",
    "            else:\n",
    "                witnesses[key] = []\n",
    "    return witnesses\n",
    "\n",
    "def create_or_fetch_graph(witness_dict, graph_pickle_path):\n",
    "    ''' Check if we already have a pickled graph '''\n",
    "    if path.exists(graph_pickle_path):\n",
    "        return nx.read_gpickle(graph_pickle_path)\n",
    "    else:\n",
    "        G = nx.Graph()\n",
    "        G.add_nodes_from(witness_dict.keys())\n",
    "        for k, v in witness_dict.items():\n",
    "            G.add_weighted_edges_from([(k, t, w) for (t, w) in v])\n",
    "        nx.write_gpickle(G, graph_pickle_path, protocol=pickle.HIGHEST_PROTOCOL)\n",
    "    return G\n",
    "\n",
    "def subgraph(big_graph, scc, rank=0):\n",
    "    return big_graph.subgraph(scc[rank])\n",
    "\n",
    "def create_node_df(graph):\n",
    "    return pd.DataFrame.from_records([n.to_dict() for n in list(graph.nodes())])\n",
    "\n",
    "def create_edges_df(graph):\n",
    "    conns = []\n",
    "    for (start, end, data) in graph.edges(data=True):\n",
    "        conns.append({\n",
    "            'from': start.name,\n",
    "            'to': end.name,\n",
    "            'start_lat': start.lat,\n",
    "            'start_lng': start.lng,\n",
    "            'end_lat': end.lat,\n",
    "            'end_lng': end.lng,\n",
    "            'cnt': data['weight']\n",
    "        })\n",
    "    return pd.DataFrame(conns)\n",
    "\n",
    "def plot(graph, city):\n",
    "    df_nodes = create_node_df(graph)\n",
    "    df_edges = create_edges_df(graph)\n",
    "\n",
    "    rando_center = df_nodes.iloc[0]\n",
    "    center_lat = rando_center['lat']\n",
    "    center_lng = rando_center['lng']\n",
    "\n",
    "    mapbox_access_token = open(\".mapbox_token\").read()\n",
    "\n",
    "    fig = go.Figure()\n",
    "    fig.data = []\n",
    "\n",
    "    node_trace = go.Scattermapbox(\n",
    "        lon = df_nodes.lng,\n",
    "        lat = df_nodes.lat,   \n",
    "        textfont = {'size': 8},\n",
    "        text = df_nodes.name.values,\n",
    "        mode = \"markers+text\",\n",
    "        textposition='top center',\n",
    "#         line = dict(width = 1, color = 'green'),\n",
    "        hoverinfo = 'text',\n",
    "        marker = go.scattermapbox.Marker(size=15, color='red')\n",
    "    )\n",
    "\n",
    "    fig.add_trace(node_trace)\n",
    "\n",
    "    edges = []\n",
    "    for i in range(len(df_edges)):\n",
    "        \n",
    "        edge_trace = go.Scattermapbox(\n",
    "            lon = [df_edges['start_lng'][i], df_edges['end_lng'][i]],\n",
    "            lat = [df_edges['start_lat'][i], df_edges['end_lat'][i]],\n",
    "            mode = 'lines+text',\n",
    "            hoverinfo = 'text',\n",
    "            text = \"cnt: {}<br>from:{}<br>to:{}\".format(df_edges['cnt'][i],\n",
    "                                      df_edges['from'][i],\n",
    "                                      df_edges['to'][i]),\n",
    "            line = dict(width = 3, color = 'blue'),\n",
    "            opacity = float(df_edges['cnt'][i]) / float(df_edges['cnt'].max())\n",
    "        )\n",
    "\n",
    "        fig.add_trace(edge_trace)\n",
    "\n",
    "    fig.update_layout(\n",
    "        title_text = 'Connectivity for {}'.format(city),\n",
    "        showlegend = False,\n",
    "        mapbox = go.layout.Mapbox(\n",
    "            accesstoken=mapbox_access_token,\n",
    "            bearing=0,\n",
    "            center=go.layout.mapbox.Center(\n",
    "                lat=center_lat,\n",
    "                lon=center_lng\n",
    "            ),\n",
    "            pitch=0,\n",
    "            zoom=9\n",
    "        ),\n",
    "    )\n",
    "    fig.show()"
   ]
  },
  {
   "cell_type": "markdown",
   "metadata": {},
   "source": [
    "### Do the thing here in order"
   ]
  },
  {
   "cell_type": "code",
   "execution_count": 9,
   "metadata": {},
   "outputs": [],
   "source": [
    "witness_list = create_or_fetch_weighted_witness_list(df, 'files/weighted_witness_list.pickle')\n",
    "witness_dict = create_or_fetch_weighted_witness_dict(df, witness_list, 'files/weighted_witness_dict.pickle')\n",
    "G = create_or_fetch_graph(witness_dict, 'files/weighted_witness_graph.gpickle')\n",
    "# Keep a copy of G for safekeeping, DONT modify it\n",
    "_G = copy.deepcopy(G)"
   ]
  },
  {
   "cell_type": "code",
   "execution_count": 10,
   "metadata": {},
   "outputs": [
    {
     "data": {
      "text/plain": [
       "True"
      ]
     },
     "execution_count": 10,
     "metadata": {},
     "output_type": "execute_result"
    }
   ],
   "source": [
    "nx.is_weighted(G)"
   ]
  },
  {
   "cell_type": "code",
   "execution_count": 11,
   "metadata": {},
   "outputs": [
    {
     "data": {
      "text/plain": [
       "False"
      ]
     },
     "execution_count": 11,
     "metadata": {},
     "output_type": "execute_result"
    }
   ],
   "source": [
    "nx.is_connected(G)"
   ]
  },
  {
   "cell_type": "code",
   "execution_count": 12,
   "metadata": {},
   "outputs": [
    {
     "data": {
      "text/plain": [
       "0.4045180395173635"
      ]
     },
     "execution_count": 12,
     "metadata": {},
     "output_type": "execute_result"
    }
   ],
   "source": [
    "nx.algorithms.cluster.average_clustering(G)"
   ]
  },
  {
   "cell_type": "code",
   "execution_count": 13,
   "metadata": {},
   "outputs": [
    {
     "name": "stdout",
     "output_type": "stream",
     "text": [
      "Total connected components (sub-graphs): 1226\n",
      "Top 20 sub components\n"
     ]
    },
    {
     "data": {
      "text/html": [
       "<div>\n",
       "<style scoped>\n",
       "    .dataframe tbody tr th:only-of-type {\n",
       "        vertical-align: middle;\n",
       "    }\n",
       "\n",
       "    .dataframe tbody tr th {\n",
       "        vertical-align: top;\n",
       "    }\n",
       "\n",
       "    .dataframe thead th {\n",
       "        text-align: right;\n",
       "    }\n",
       "</style>\n",
       "<table border=\"1\" class=\"dataframe\">\n",
       "  <thead>\n",
       "    <tr style=\"text-align: right;\">\n",
       "      <th></th>\n",
       "      <th>city</th>\n",
       "      <th>cnt</th>\n",
       "    </tr>\n",
       "  </thead>\n",
       "  <tbody>\n",
       "    <tr>\n",
       "      <th>0</th>\n",
       "      <td>Union City</td>\n",
       "      <td>350</td>\n",
       "    </tr>\n",
       "    <tr>\n",
       "      <th>1</th>\n",
       "      <td>Edgewater</td>\n",
       "      <td>287</td>\n",
       "    </tr>\n",
       "    <tr>\n",
       "      <th>2</th>\n",
       "      <td>Modesto</td>\n",
       "      <td>146</td>\n",
       "    </tr>\n",
       "    <tr>\n",
       "      <th>3</th>\n",
       "      <td>Austin</td>\n",
       "      <td>111</td>\n",
       "    </tr>\n",
       "    <tr>\n",
       "      <th>4</th>\n",
       "      <td>San Diego</td>\n",
       "      <td>95</td>\n",
       "    </tr>\n",
       "    <tr>\n",
       "      <th>5</th>\n",
       "      <td>Chicago</td>\n",
       "      <td>80</td>\n",
       "    </tr>\n",
       "    <tr>\n",
       "      <th>6</th>\n",
       "      <td>Boston</td>\n",
       "      <td>59</td>\n",
       "    </tr>\n",
       "    <tr>\n",
       "      <th>7</th>\n",
       "      <td>Baltimore</td>\n",
       "      <td>55</td>\n",
       "    </tr>\n",
       "    <tr>\n",
       "      <th>8</th>\n",
       "      <td>Turlock</td>\n",
       "      <td>35</td>\n",
       "    </tr>\n",
       "    <tr>\n",
       "      <th>9</th>\n",
       "      <td>Oakdale</td>\n",
       "      <td>33</td>\n",
       "    </tr>\n",
       "    <tr>\n",
       "      <th>10</th>\n",
       "      <td>Atlanta</td>\n",
       "      <td>31</td>\n",
       "    </tr>\n",
       "    <tr>\n",
       "      <th>11</th>\n",
       "      <td>Miami</td>\n",
       "      <td>27</td>\n",
       "    </tr>\n",
       "    <tr>\n",
       "      <th>12</th>\n",
       "      <td>Washington</td>\n",
       "      <td>26</td>\n",
       "    </tr>\n",
       "    <tr>\n",
       "      <th>13</th>\n",
       "      <td>Minneapolis</td>\n",
       "      <td>22</td>\n",
       "    </tr>\n",
       "    <tr>\n",
       "      <th>14</th>\n",
       "      <td>Portland</td>\n",
       "      <td>22</td>\n",
       "    </tr>\n",
       "    <tr>\n",
       "      <th>15</th>\n",
       "      <td>Port Huron</td>\n",
       "      <td>20</td>\n",
       "    </tr>\n",
       "    <tr>\n",
       "      <th>16</th>\n",
       "      <td>Parker</td>\n",
       "      <td>20</td>\n",
       "    </tr>\n",
       "    <tr>\n",
       "      <th>17</th>\n",
       "      <td>Seattle</td>\n",
       "      <td>20</td>\n",
       "    </tr>\n",
       "    <tr>\n",
       "      <th>18</th>\n",
       "      <td>Modesto</td>\n",
       "      <td>17</td>\n",
       "    </tr>\n",
       "    <tr>\n",
       "      <th>19</th>\n",
       "      <td>Modesto</td>\n",
       "      <td>14</td>\n",
       "    </tr>\n",
       "  </tbody>\n",
       "</table>\n",
       "</div>"
      ],
      "text/plain": [
       "           city  cnt\n",
       "0   Union City   350\n",
       "1   Edgewater    287\n",
       "2   Modesto      146\n",
       "3   Austin       111\n",
       "4   San Diego    95 \n",
       "5   Chicago      80 \n",
       "6   Boston       59 \n",
       "7   Baltimore    55 \n",
       "8   Turlock      35 \n",
       "9   Oakdale      33 \n",
       "10  Atlanta      31 \n",
       "11  Miami        27 \n",
       "12  Washington   26 \n",
       "13  Minneapolis  22 \n",
       "14  Portland     22 \n",
       "15  Port Huron   20 \n",
       "16  Parker       20 \n",
       "17  Seattle      20 \n",
       "18  Modesto      17 \n",
       "19  Modesto      14 "
      ]
     },
     "execution_count": 13,
     "metadata": {},
     "output_type": "execute_result"
    }
   ],
   "source": [
    "CC = list(nx.connected_components(_G))\n",
    "SCC = sorted(CC, key=len, reverse=True)\n",
    "print('Total connected components (sub-graphs): {}'.format(len(SCC)))\n",
    "\n",
    "sub_components = []\n",
    "for i in SCC:\n",
    "    # we'll use this as the city, whatever\n",
    "    rand_node = random.sample(i, 1)[0]\n",
    "    sub_components.append({\n",
    "        'city': rand_node.city,\n",
    "        'cnt': len(i)\n",
    "    })\n",
    "rank_df = pd.DataFrame(sub_components)\n",
    "TOP = 20\n",
    "print('Top {} sub components'.format(TOP))\n",
    "rank_df.head(TOP)"
   ]
  },
  {
   "cell_type": "code",
   "execution_count": 14,
   "metadata": {},
   "outputs": [],
   "source": [
    "# # _G: big graph, don't plot that\n",
    "# # SCC: sorted sub-components\n",
    "# # index = index from rank_df\n",
    "# index = 12\n",
    "# city = sub_components[index]['city']\n",
    "# G = subgraph(_G, SCC, index)\n",
    "# plot(G, city)"
   ]
  },
  {
   "cell_type": "markdown",
   "metadata": {},
   "source": [
    "### Gephi dataframe"
   ]
  },
  {
   "cell_type": "code",
   "execution_count": 23,
   "metadata": {},
   "outputs": [],
   "source": [
    "df_nodes = create_node_df(_G)"
   ]
  },
  {
   "cell_type": "code",
   "execution_count": 24,
   "metadata": {},
   "outputs": [],
   "source": [
    "df_nodes = df_nodes.drop(columns=['loc', 'city'])"
   ]
  },
  {
   "cell_type": "code",
   "execution_count": 25,
   "metadata": {},
   "outputs": [],
   "source": [
    "df_nodes = df_nodes.rename(columns={'lat': 'latitude', 'lng': 'longitude', 'name': 'label'})"
   ]
  },
  {
   "cell_type": "code",
   "execution_count": 26,
   "metadata": {},
   "outputs": [
    {
     "data": {
      "text/html": [
       "<div>\n",
       "<style scoped>\n",
       "    .dataframe tbody tr th:only-of-type {\n",
       "        vertical-align: middle;\n",
       "    }\n",
       "\n",
       "    .dataframe tbody tr th {\n",
       "        vertical-align: top;\n",
       "    }\n",
       "\n",
       "    .dataframe thead th {\n",
       "        text-align: right;\n",
       "    }\n",
       "</style>\n",
       "<table border=\"1\" class=\"dataframe\">\n",
       "  <thead>\n",
       "    <tr style=\"text-align: right;\">\n",
       "      <th></th>\n",
       "      <th>label</th>\n",
       "      <th>latitude</th>\n",
       "      <th>longitude</th>\n",
       "    </tr>\n",
       "  </thead>\n",
       "  <tbody>\n",
       "    <tr>\n",
       "      <th>0</th>\n",
       "      <td>little-candy-jellyfish</td>\n",
       "      <td>33.162353</td>\n",
       "      <td>-95.945712</td>\n",
       "    </tr>\n",
       "    <tr>\n",
       "      <th>1</th>\n",
       "      <td>dandy-wooden-lemur</td>\n",
       "      <td>30.293851</td>\n",
       "      <td>-97.857293</td>\n",
       "    </tr>\n",
       "    <tr>\n",
       "      <th>2</th>\n",
       "      <td>long-eggshell-skunk</td>\n",
       "      <td>47.332995</td>\n",
       "      <td>-122.264164</td>\n",
       "    </tr>\n",
       "    <tr>\n",
       "      <th>3</th>\n",
       "      <td>witty-basil-panther</td>\n",
       "      <td>40.785371</td>\n",
       "      <td>-73.949920</td>\n",
       "    </tr>\n",
       "    <tr>\n",
       "      <th>4</th>\n",
       "      <td>rich-pineapple-dinosaur</td>\n",
       "      <td>41.896940</td>\n",
       "      <td>-87.632206</td>\n",
       "    </tr>\n",
       "    <tr>\n",
       "      <th>...</th>\n",
       "      <td>...</td>\n",
       "      <td>...</td>\n",
       "      <td>...</td>\n",
       "    </tr>\n",
       "    <tr>\n",
       "      <th>2976</th>\n",
       "      <td>sparkly-aqua-wren</td>\n",
       "      <td>37.875836</td>\n",
       "      <td>-122.291543</td>\n",
       "    </tr>\n",
       "    <tr>\n",
       "      <th>2977</th>\n",
       "      <td>mini-currant-lizard</td>\n",
       "      <td>37.786621</td>\n",
       "      <td>-122.392090</td>\n",
       "    </tr>\n",
       "    <tr>\n",
       "      <th>2978</th>\n",
       "      <td>prehistoric-mossy-snail</td>\n",
       "      <td>37.852768</td>\n",
       "      <td>-122.282166</td>\n",
       "    </tr>\n",
       "    <tr>\n",
       "      <th>2979</th>\n",
       "      <td>mythical-tin-hawk</td>\n",
       "      <td>37.852817</td>\n",
       "      <td>-122.281954</td>\n",
       "    </tr>\n",
       "    <tr>\n",
       "      <th>2980</th>\n",
       "      <td>mean-alabaster-piranha</td>\n",
       "      <td>37.852242</td>\n",
       "      <td>-122.281777</td>\n",
       "    </tr>\n",
       "  </tbody>\n",
       "</table>\n",
       "<p>2981 rows × 3 columns</p>\n",
       "</div>"
      ],
      "text/plain": [
       "                        label   latitude   longitude\n",
       "0     little-candy-jellyfish   33.162353 -95.945712 \n",
       "1     dandy-wooden-lemur       30.293851 -97.857293 \n",
       "2     long-eggshell-skunk      47.332995 -122.264164\n",
       "3     witty-basil-panther      40.785371 -73.949920 \n",
       "4     rich-pineapple-dinosaur  41.896940 -87.632206 \n",
       "...                       ...        ...        ... \n",
       "2976  sparkly-aqua-wren        37.875836 -122.291543\n",
       "2977  mini-currant-lizard      37.786621 -122.392090\n",
       "2978  prehistoric-mossy-snail  37.852768 -122.282166\n",
       "2979  mythical-tin-hawk        37.852817 -122.281954\n",
       "2980  mean-alabaster-piranha   37.852242 -122.281777\n",
       "\n",
       "[2981 rows x 3 columns]"
      ]
     },
     "execution_count": 26,
     "metadata": {},
     "output_type": "execute_result"
    }
   ],
   "source": [
    "df_nodes"
   ]
  },
  {
   "cell_type": "code",
   "execution_count": null,
   "metadata": {},
   "outputs": [],
   "source": []
  }
 ],
 "metadata": {
  "kernelspec": {
   "display_name": "Python 3",
   "language": "python",
   "name": "python3"
  },
  "language_info": {
   "codemirror_mode": {
    "name": "ipython",
    "version": 3
   },
   "file_extension": ".py",
   "mimetype": "text/x-python",
   "name": "python",
   "nbconvert_exporter": "python",
   "pygments_lexer": "ipython3",
   "version": "3.7.5"
  }
 },
 "nbformat": 4,
 "nbformat_minor": 2
}
