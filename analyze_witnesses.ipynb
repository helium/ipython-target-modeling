{
 "cells": [
  {
   "cell_type": "markdown",
   "metadata": {},
   "source": [
    "#### Imports"
   ]
  },
  {
   "cell_type": "code",
   "execution_count": 1,
   "metadata": {},
   "outputs": [],
   "source": [
    "import requests\n",
    "import pandas as pd\n",
    "import pickle\n",
    "from os import path\n",
    "import networkx as nx\n",
    "import matplotlib.pyplot as plt\n",
    "import pydot\n",
    "from networkx.drawing.nx_pydot import graphviz_layout\n",
    "from dataclasses import dataclass\n",
    "from joblib import Parallel, delayed\n",
    "pd.set_option('display.max_colwidth', -1)\n",
    "import plotly.graph_objects as go"
   ]
  },
  {
   "cell_type": "markdown",
   "metadata": {},
   "source": [
    "#### Constants"
   ]
  },
  {
   "cell_type": "code",
   "execution_count": 2,
   "metadata": {},
   "outputs": [],
   "source": [
    "API = \"https://explorer.helium.foundation/api\""
   ]
  },
  {
   "cell_type": "markdown",
   "metadata": {},
   "source": [
    "#### Helpers"
   ]
  },
  {
   "cell_type": "code",
   "execution_count": 68,
   "metadata": {},
   "outputs": [],
   "source": [
    "def dashed(name):\n",
    "    ''' Convert title name to lower dashed name '''\n",
    "    return \"-\".join(name.lower().split(\" \"))\n",
    "\n",
    "def get_loc_details(hotspots, name):\n",
    "    ''' Get h3 str and city of given hotspot name '''\n",
    "    h = next(x for x in hotspots if x['name'] == name)\n",
    "    return (h['location'], h['long_city'], h['lat'], h['lng'])\n",
    "\n",
    "def get_witnesses(hname, b58):\n",
    "    ''' Get witnesses for given hotspot name and b58 addr '''\n",
    "    r = requests.get(\"{}/witnesses/{}\".format(API, b58))\n",
    "    assert(r.status_code == 200)\n",
    "    witnesses = r.json()['data']\n",
    "    if len(witnesses) > 0:\n",
    "        witnesses = [w['name'] for w in witnesses]\n",
    "    else:\n",
    "        witnesses = []\n",
    "    return {\"name\": hname, \"witnesses\": witnesses}\n",
    "\n",
    "@dataclass\n",
    "class Node:\n",
    "    ''' Class to represent a graph node '''\n",
    "    loc: str\n",
    "    name: str\n",
    "    city: str\n",
    "    lat: float\n",
    "    lng: float\n",
    "\n",
    "    # to make this class hashable\n",
    "    def __eq__(self, other):\n",
    "        return self.loc == other.loc and self.name == other.name\n",
    "    def __hash__(self):\n",
    "        return int(self.loc, 16)\n",
    "    def to_dict(self):\n",
    "        return {\n",
    "            'name': self.name,\n",
    "            'loc': self.loc,\n",
    "            'lat': self.lat,\n",
    "            'lng': self.lng,\n",
    "            'city': self.city\n",
    "        }\n",
    "\n",
    "def create_or_fetch_witness_list(witness_list_pickle):\n",
    "    ''' Check if we already have a pickled object for getting witness list faster '''\n",
    "    if path.exists(witness_list_pickle):\n",
    "        with open(witness_list_pickle, 'rb') as handle:\n",
    "            witness_list = pickle.load(handle)\n",
    "    else:\n",
    "        # make the witness fetching marginally faster by parallelizing requests\n",
    "        witness_list = Parallel(n_jobs=8)(delayed(get_witnesses)(n, a) for (n, a) in [(x['name'], x['address']) for x in hotspots])\n",
    "        with open(witness_list_pickle, 'wb') as handle:\n",
    "            pickle.dump(witness_list, handle, protocol=pickle.HIGHEST_PROTOCOL)\n",
    "    return witness_list\n",
    "\n",
    "def create_or_fetch_witness_dict(witness_list, witness_dict_pickle):\n",
    "    ''' Check if we already have a pickled object for getting witness dict faster '''\n",
    "    if path.exists(witness_dict_pickle):\n",
    "        with open(witness_dict_pickle, 'rb') as handle:\n",
    "            witness_dict = pickle.load(handle)\n",
    "    else:\n",
    "        # make the witness fetching marginally faster by parallelizing requests\n",
    "        witness_dict = create_witness_dict(witness_list)\n",
    "        with open(witness_dict_pickle, 'wb') as handle:\n",
    "            pickle.dump(witness_dict, handle, protocol=pickle.HIGHEST_PROTOCOL)\n",
    "    return witness_dict\n",
    "\n",
    "def create_or_fetch_graph(graph_pickle):\n",
    "    ''' Check if we already have a pickled graph '''\n",
    "    if path.exists(graph_pickle):\n",
    "        return nx.read_gpickle(graph_pickle)\n",
    "    else:\n",
    "        G = nx.Graph()\n",
    "        G.add_nodes_from(witnesses.keys())\n",
    "        for k, v in witnesses.items():\n",
    "            G.add_edges_from([(k, t) for t in v])\n",
    "        nx.write_gpickle(G, graph_pickle, protocol=pickle.HIGHEST_PROTOCOL)\n",
    "    return G\n",
    "\n",
    "def create_witness_dict(witness_list):\n",
    "    ''' Create witness dictionary from list of witnesses '''\n",
    "    witnesses = {}\n",
    "    for d in witness_list:\n",
    "        h = d['name']\n",
    "        ws = d['witnesses']\n",
    "        (h_loc, h_city, h_lat, h_lng) = get_loc_details(hotspots, h)\n",
    "        if h_loc:\n",
    "            key = Node(name=h, loc=h_loc, city=h_city, lat= h_lat, lng= h_lng)\n",
    "            if len(ws) > 0:\n",
    "                nodes = []\n",
    "                for w in ws:\n",
    "                    (w_loc, w_city, w_lat, w_lng) = get_loc_details(hotspots, w)\n",
    "                    node = Node(name=w, loc=w_loc, city=w_city, lat= w_lat, lng= w_lng)\n",
    "                    nodes.append(node)\n",
    "                witnesses[key] = nodes\n",
    "            else:\n",
    "                witnesses[key] = []\n",
    "    return witnesses\n",
    "\n",
    "def create_edges_df(sub_g):\n",
    "    conns = []\n",
    "    for (start, end) in list(sub_g.edges()):\n",
    "        conns.append({\n",
    "            'from': start.name,\n",
    "            'to': end.name,\n",
    "            'start_lat': start.lat,\n",
    "            'start_lng': start.lng,\n",
    "            'end_lat': end.lat,\n",
    "            'end_lng': end.lng\n",
    "        })\n",
    "    return pd.DataFrame(conns)\n",
    "\n",
    "def create_node_df(graph):\n",
    "    return pd.DataFrame.from_records([n.to_dict() for n in list(graph.nodes())])\n",
    "\n",
    "def plot(big_g, scc, index, city):\n",
    "    sub_g = big_g.subgraph(scc[index])\n",
    "    df = create_node_df(sub_g)\n",
    "    df_edges = create_edges_df(sub_g)\n",
    "\n",
    "    fig = go.Figure()\n",
    "    fig.data = []\n",
    "\n",
    "    node_trace = go.Scattergeo(\n",
    "        locationmode = 'USA-states',\n",
    "        lon = df.lng,\n",
    "        lat = df.lat,   \n",
    "        text = df.name,\n",
    "        hoverinfo = 'text',\n",
    "        mode = 'markers',\n",
    "        marker = dict(size = 10, color = 'red', symbol='hexagon-dot')\n",
    "    )\n",
    "    \n",
    "    fig.add_trace(node_trace)\n",
    "\n",
    "    edges = []\n",
    "    for i in range(len(df_edges)):\n",
    "        edge_trace = go.Scattergeo(\n",
    "            lon = [df_edges['start_lng'][i], df_edges['end_lng'][i]],\n",
    "            lat = [df_edges['start_lat'][i], df_edges['end_lat'][i]],\n",
    "            mode = 'lines',\n",
    "            line = dict(width = 1, color = 'blue')\n",
    "        )\n",
    "        \n",
    "        fig.add_trace(edge_trace)\n",
    "\n",
    "    fig.update_layout(\n",
    "        title_text = 'Connectivity for {}'.format(city),\n",
    "        showlegend = False,\n",
    "        geo = go.layout.Geo(\n",
    "            scope = 'north america',\n",
    "            projection_type = 'azimuthal equal area',\n",
    "            showland = True,\n",
    "            landcolor = 'rgb(243, 243, 243)',\n",
    "            countrycolor = 'rgb(204, 204, 204)',\n",
    "        ),\n",
    "    )\n",
    "    fig.show()"
   ]
  },
  {
   "cell_type": "markdown",
   "metadata": {},
   "source": [
    "#### Hotspots"
   ]
  },
  {
   "cell_type": "code",
   "execution_count": 50,
   "metadata": {},
   "outputs": [],
   "source": [
    "hr = requests.get(\"{}/hotspots\".format(API))\n",
    "assert(hr.status_code == 200)\n",
    "hotspots0 = hr.json()['data']\n",
    "hotspots = []\n",
    "for h in hotspots0:\n",
    "    old_name = h['name']\n",
    "    h['name'] = dashed(old_name)\n",
    "    hotspots.append(h)"
   ]
  },
  {
   "cell_type": "markdown",
   "metadata": {},
   "source": [
    "#### Witnesses file pickled 3033 hotspots @ height 198410"
   ]
  },
  {
   "cell_type": "code",
   "execution_count": 51,
   "metadata": {},
   "outputs": [],
   "source": [
    "# check if we have witnesses locally\n",
    "witness_list = create_or_fetch_witness_list('files/witnesses.pickle')\n",
    "witnesses = create_or_fetch_witness_dict(witness_list, 'files/witness_dict.pickle')\n",
    "G = create_or_fetch_graph('files/witness_graph.gpickle')"
   ]
  },
  {
   "cell_type": "markdown",
   "metadata": {},
   "source": [
    "##### Is the network connected?"
   ]
  },
  {
   "cell_type": "code",
   "execution_count": 52,
   "metadata": {},
   "outputs": [
    {
     "data": {
      "text/plain": [
       "False"
      ]
     },
     "execution_count": 52,
     "metadata": {},
     "output_type": "execute_result"
    }
   ],
   "source": [
    "nx.is_connected(G)"
   ]
  },
  {
   "cell_type": "markdown",
   "metadata": {},
   "source": [
    "##### What is the cluster average?"
   ]
  },
  {
   "cell_type": "code",
   "execution_count": 53,
   "metadata": {},
   "outputs": [
    {
     "data": {
      "text/plain": [
       "0.4062333971727669"
      ]
     },
     "execution_count": 53,
     "metadata": {},
     "output_type": "execute_result"
    }
   ],
   "source": [
    "nx.algorithms.cluster.average_clustering(G)"
   ]
  },
  {
   "cell_type": "markdown",
   "metadata": {},
   "source": [
    "#### How many total components? For example: a graph with three compents:\n",
    "<img src=\"files/3-component-graph.png\" style=\"width:400px\">"
   ]
  },
  {
   "cell_type": "code",
   "execution_count": 60,
   "metadata": {},
   "outputs": [
    {
     "name": "stdout",
     "output_type": "stream",
     "text": [
      "Total connected components (sub-graphs): 1222\n",
      "Top 50 biggest sub graphs: \n",
      "[351, 286, 154, 111, 94, 82, 62, 55, 35, 33, 31, 27, 26, 22, 22, 20, 20, 20, 17, 14, 13, 12, 12, 10, 10, 10, 10, 10, 9, 7, 6, 6, 6, 5, 5, 5, 5, 5, 4, 4, 4, 4, 4, 4, 4, 4, 4, 4, 4, 3]\n"
     ]
    }
   ],
   "source": [
    "CC = list(nx.connected_components(G))\n",
    "SCC = sorted(cc, key=len, reverse=True)\n",
    "print('Total connected components (sub-graphs): {}'.format(len(SCC)))\n",
    "print('Top 50 biggest sub graphs: \\n{}'.format([len(i) for i in SCC[:50]]))"
   ]
  },
  {
   "cell_type": "code",
   "execution_count": 69,
   "metadata": {
    "scrolled": false
   },
   "outputs": [
    {
     "data": {
      "application/vnd.plotly.v1+json": {
       "config": {
        "plotlyServerURL": "https://plot.ly"
       },
       "data": [
        {
         "hoverinfo": "text",
         "lat": [
          42.3364329096909,
          42.34564071980456,
          42.34593746797057,
          42.38249268945399,
          42.34210116337201,
          42.28496167876716,
          42.33490544089794,
          42.399380571985986,
          42.354092679541026,
          42.38692828289797,
          42.2844350221873,
          42.28479719228265,
          42.334739570392436,
          42.39386778194585,
          42.278298298912006,
          42.33772904203399,
          42.401900351632094,
          42.35815247910236,
          42.33893588934812,
          42.39943258898299,
          42.339875666956424,
          42.37291776022968,
          42.39290080439988,
          42.26072214523669,
          42.341293212365024,
          42.360863024211085,
          42.284852214384,
          42.284852214384,
          42.284852214384,
          42.284852214384,
          42.284852214384,
          42.284852214384,
          42.372381899935945,
          42.37810709017599,
          42.35574132001731,
          42.35459026182861,
          42.35838943093695,
          42.33077904779031,
          42.35074534382176,
          42.356122370504096,
          42.41024687459465,
          42.284687728152626,
          42.40839032224402,
          42.36425838174556,
          42.3292915558667,
          42.36594803677225,
          42.33561081380296,
          42.257711401594214,
          42.41933538851051,
          42.39356586810918,
          42.350143266630866,
          42.354621663299945,
          42.384822692554906,
          42.36424454107258,
          42.36617386761112,
          42.387646861728214,
          42.28666100376121,
          42.26483535919734,
          42.416453257988366,
          42.39337618115969,
          42.32080456151986,
          42.38924526303799
         ],
         "locationmode": "USA-states",
         "lon": [
          -71.04835325355748,
          -71.06326905318093,
          -71.14997780376456,
          -71.09459207277507,
          -71.14690739568448,
          -70.87955271887495,
          -71.02821498603856,
          -71.11441155138579,
          -71.05865560485466,
          -71.10580776951713,
          -71.06497337241484,
          -70.87951225390577,
          -71.03195665403791,
          -71.07850521214704,
          -71.06007938536698,
          -71.13403023078473,
          -71.119677277128,
          -71.05946107561675,
          -71.08009051470742,
          -71.11716148178346,
          -71.1282627576395,
          -71.11996126734232,
          -71.11636019035012,
          -71.02169167918231,
          -71.08215301005254,
          -71.10220450741502,
          -70.87973561981863,
          -70.87973561981863,
          -70.87973561981863,
          -70.87973561981863,
          -70.87973561981863,
          -70.87973561981863,
          -71.10762308660668,
          -71.14062766942976,
          -71.05402126263004,
          -71.0518409205751,
          -71.10663119539407,
          -71.05555728644288,
          -71.05950030191781,
          -71.05937370784136,
          -71.11840888121947,
          -70.87969515428324,
          -70.99878539000247,
          -71.10915783545272,
          -71.12538889802346,
          -71.05278831785023,
          -71.04688668772411,
          -71.00877265296344,
          -71.08720985374924,
          -71.11021255871054,
          -71.05703680547452,
          -71.13870616301386,
          -71.1663165596363,
          -71.05719970057697,
          -71.03917378493242,
          -71.10051630922396,
          -70.87955110214068,
          -71.01264391328328,
          -71.11660127360028,
          -71.13289924826404,
          -71.11211456544578,
          -71.09313059662361
         ],
         "marker": {
          "color": "red",
          "size": 10,
          "symbol": "hexagon-dot"
         },
         "mode": "markers",
         "text": [
          "bright-aquamarine-seal",
          "sweet-citron-stork",
          "dandy-ruby-yeti",
          "gorgeous-chambray-turtle",
          "hidden-pastel-wasp",
          "mini-cloth-ape",
          "fierce-tan-mongoose",
          "bent-ceramic-chipmunk",
          "muscular-pastel-squid",
          "late-mint-gazelle",
          "short-shadow-panda",
          "innocent-tweed-wolverine",
          "cheery-cloud-guppy",
          "daring-caramel-shark",
          "virtual-cornflower-mammoth",
          "cheesy-brick-mustang",
          "creamy-fern-coyote",
          "fit-myrtle-gibbon",
          "upbeat-currant-mouse",
          "salty-scarlet-finch",
          "kind-boysenberry-seahorse",
          "sunny-pearl-badger",
          "nice-iris-gerbil",
          "fluffy-aqua-stallion",
          "perfect-chartreuse-butterfly",
          "loud-seafoam-mink",
          "hollow-jade-hare",
          "damp-scarlet-squirrel",
          "custom-tartan-sparrow",
          "unique-cobalt-stallion",
          "broad-holographic-beetle",
          "real-gauze-loris",
          "acrobatic-golden-parakeet",
          "amusing-topaz-dalmatian",
          "chilly-azure-scorpion",
          "soft-clay-tiger",
          "straight-ginger-tadpole",
          "scrawny-sable-cat",
          "spicy-opaque-sloth",
          "small-chili-leopard",
          "short-amber-cricket",
          "fun-pink-kangaroo",
          "vast-lead-chipmunk",
          "proper-carob-giraffe",
          "sneaky-plum-bird",
          "crazy-zinc-rook",
          "interesting-tortilla-armadillo",
          "stale-arctic-panther",
          "immense-paisley-moose",
          "rural-rosewood-wallaby",
          "short-graphite-terrier",
          "innocent-chili-toad",
          "stable-currant-hornet",
          "slow-flaxen-locust",
          "massive-pastel-pheasant",
          "high-cloud-elk",
          "stale-citron-stork",
          "harsh-citron-spider",
          "old-gingham-llama",
          "original-sandstone-elephant",
          "blurry-velvet-shark",
          "fit-cornflower-turkey"
         ],
         "type": "scattergeo"
        },
        {
         "lat": [
          42.3364329096909,
          42.350143266630866
         ],
         "line": {
          "color": "blue",
          "width": 1
         },
         "lon": [
          -71.04835325355748,
          -71.05703680547452
         ],
         "mode": "lines",
         "type": "scattergeo"
        },
        {
         "lat": [
          42.3364329096909,
          42.33561081380296
         ],
         "line": {
          "color": "blue",
          "width": 1
         },
         "lon": [
          -71.04835325355748,
          -71.04688668772411
         ],
         "mode": "lines",
         "type": "scattergeo"
        },
        {
         "lat": [
          42.3364329096909,
          42.33077904779031
         ],
         "line": {
          "color": "blue",
          "width": 1
         },
         "lon": [
          -71.04835325355748,
          -71.05555728644288
         ],
         "mode": "lines",
         "type": "scattergeo"
        },
        {
         "lat": [
          42.34564071980456,
          42.356122370504096
         ],
         "line": {
          "color": "blue",
          "width": 1
         },
         "lon": [
          -71.06326905318093,
          -71.05937370784136
         ],
         "mode": "lines",
         "type": "scattergeo"
        },
        {
         "lat": [
          42.34564071980456,
          42.33561081380296
         ],
         "line": {
          "color": "blue",
          "width": 1
         },
         "lon": [
          -71.06326905318093,
          -71.04688668772411
         ],
         "mode": "lines",
         "type": "scattergeo"
        },
        {
         "lat": [
          42.34564071980456,
          42.33077904779031
         ],
         "line": {
          "color": "blue",
          "width": 1
         },
         "lon": [
          -71.06326905318093,
          -71.05555728644288
         ],
         "mode": "lines",
         "type": "scattergeo"
        },
        {
         "lat": [
          42.34564071980456,
          42.350143266630866
         ],
         "line": {
          "color": "blue",
          "width": 1
         },
         "lon": [
          -71.06326905318093,
          -71.05703680547452
         ],
         "mode": "lines",
         "type": "scattergeo"
        },
        {
         "lat": [
          42.34564071980456,
          42.33893588934812
         ],
         "line": {
          "color": "blue",
          "width": 1
         },
         "lon": [
          -71.06326905318093,
          -71.08009051470742
         ],
         "mode": "lines",
         "type": "scattergeo"
        },
        {
         "lat": [
          42.34564071980456,
          42.35074534382176
         ],
         "line": {
          "color": "blue",
          "width": 1
         },
         "lon": [
          -71.06326905318093,
          -71.05950030191781
         ],
         "mode": "lines",
         "type": "scattergeo"
        },
        {
         "lat": [
          42.34564071980456,
          42.354092679541026
         ],
         "line": {
          "color": "blue",
          "width": 1
         },
         "lon": [
          -71.06326905318093,
          -71.05865560485466
         ],
         "mode": "lines",
         "type": "scattergeo"
        },
        {
         "lat": [
          42.34593746797057,
          42.26072214523669
         ],
         "line": {
          "color": "blue",
          "width": 1
         },
         "lon": [
          -71.14997780376456,
          -71.02169167918231
         ],
         "mode": "lines",
         "type": "scattergeo"
        },
        {
         "lat": [
          42.34593746797057,
          42.26483535919734
         ],
         "line": {
          "color": "blue",
          "width": 1
         },
         "lon": [
          -71.14997780376456,
          -71.01264391328328
         ],
         "mode": "lines",
         "type": "scattergeo"
        },
        {
         "lat": [
          42.34593746797057,
          42.334739570392436
         ],
         "line": {
          "color": "blue",
          "width": 1
         },
         "lon": [
          -71.14997780376456,
          -71.03195665403791
         ],
         "mode": "lines",
         "type": "scattergeo"
        },
        {
         "lat": [
          42.34593746797057,
          42.350143266630866
         ],
         "line": {
          "color": "blue",
          "width": 1
         },
         "lon": [
          -71.14997780376456,
          -71.05703680547452
         ],
         "mode": "lines",
         "type": "scattergeo"
        },
        {
         "lat": [
          42.38249268945399,
          42.387646861728214
         ],
         "line": {
          "color": "blue",
          "width": 1
         },
         "lon": [
          -71.09459207277507,
          -71.10051630922396
         ],
         "mode": "lines",
         "type": "scattergeo"
        },
        {
         "lat": [
          42.38249268945399,
          42.38692828289797
         ],
         "line": {
          "color": "blue",
          "width": 1
         },
         "lon": [
          -71.09459207277507,
          -71.10580776951713
         ],
         "mode": "lines",
         "type": "scattergeo"
        },
        {
         "lat": [
          42.34210116337201,
          42.33772904203399
         ],
         "line": {
          "color": "blue",
          "width": 1
         },
         "lon": [
          -71.14690739568448,
          -71.13403023078473
         ],
         "mode": "lines",
         "type": "scattergeo"
        },
        {
         "lat": [
          42.28496167876716,
          42.28479719228265
         ],
         "line": {
          "color": "blue",
          "width": 1
         },
         "lon": [
          -70.87955271887495,
          -70.87951225390577
         ],
         "mode": "lines",
         "type": "scattergeo"
        },
        {
         "lat": [
          42.28496167876716,
          42.28666100376121
         ],
         "line": {
          "color": "blue",
          "width": 1
         },
         "lon": [
          -70.87955271887495,
          -70.87955110214068
         ],
         "mode": "lines",
         "type": "scattergeo"
        },
        {
         "lat": [
          42.33490544089794,
          42.334739570392436
         ],
         "line": {
          "color": "blue",
          "width": 1
         },
         "lon": [
          -71.02821498603856,
          -71.03195665403791
         ],
         "mode": "lines",
         "type": "scattergeo"
        },
        {
         "lat": [
          42.399380571985986,
          42.39290080439988
         ],
         "line": {
          "color": "blue",
          "width": 1
         },
         "lon": [
          -71.11441155138579,
          -71.11636019035012
         ],
         "mode": "lines",
         "type": "scattergeo"
        },
        {
         "lat": [
          42.399380571985986,
          42.401900351632094
         ],
         "line": {
          "color": "blue",
          "width": 1
         },
         "lon": [
          -71.11441155138579,
          -71.119677277128
         ],
         "mode": "lines",
         "type": "scattergeo"
        },
        {
         "lat": [
          42.399380571985986,
          42.41024687459465
         ],
         "line": {
          "color": "blue",
          "width": 1
         },
         "lon": [
          -71.11441155138579,
          -71.11840888121947
         ],
         "mode": "lines",
         "type": "scattergeo"
        },
        {
         "lat": [
          42.399380571985986,
          42.39356586810918
         ],
         "line": {
          "color": "blue",
          "width": 1
         },
         "lon": [
          -71.11441155138579,
          -71.11021255871054
         ],
         "mode": "lines",
         "type": "scattergeo"
        },
        {
         "lat": [
          42.399380571985986,
          42.39943258898299
         ],
         "line": {
          "color": "blue",
          "width": 1
         },
         "lon": [
          -71.11441155138579,
          -71.11716148178346
         ],
         "mode": "lines",
         "type": "scattergeo"
        },
        {
         "lat": [
          42.354092679541026,
          42.33772904203399
         ],
         "line": {
          "color": "blue",
          "width": 1
         },
         "lon": [
          -71.05865560485466,
          -71.13403023078473
         ],
         "mode": "lines",
         "type": "scattergeo"
        },
        {
         "lat": [
          42.354092679541026,
          42.356122370504096
         ],
         "line": {
          "color": "blue",
          "width": 1
         },
         "lon": [
          -71.05865560485466,
          -71.05937370784136
         ],
         "mode": "lines",
         "type": "scattergeo"
        },
        {
         "lat": [
          42.354092679541026,
          42.387646861728214
         ],
         "line": {
          "color": "blue",
          "width": 1
         },
         "lon": [
          -71.05865560485466,
          -71.10051630922396
         ],
         "mode": "lines",
         "type": "scattergeo"
        },
        {
         "lat": [
          42.354092679541026,
          42.35815247910236
         ],
         "line": {
          "color": "blue",
          "width": 1
         },
         "lon": [
          -71.05865560485466,
          -71.05946107561675
         ],
         "mode": "lines",
         "type": "scattergeo"
        },
        {
         "lat": [
          42.354092679541026,
          42.35074534382176
         ],
         "line": {
          "color": "blue",
          "width": 1
         },
         "lon": [
          -71.05865560485466,
          -71.05950030191781
         ],
         "mode": "lines",
         "type": "scattergeo"
        },
        {
         "lat": [
          42.354092679541026,
          42.36424454107258
         ],
         "line": {
          "color": "blue",
          "width": 1
         },
         "lon": [
          -71.05865560485466,
          -71.05719970057697
         ],
         "mode": "lines",
         "type": "scattergeo"
        },
        {
         "lat": [
          42.354092679541026,
          42.2844350221873
         ],
         "line": {
          "color": "blue",
          "width": 1
         },
         "lon": [
          -71.05865560485466,
          -71.06497337241484
         ],
         "mode": "lines",
         "type": "scattergeo"
        },
        {
         "lat": [
          42.354092679541026,
          42.36594803677225
         ],
         "line": {
          "color": "blue",
          "width": 1
         },
         "lon": [
          -71.05865560485466,
          -71.05278831785023
         ],
         "mode": "lines",
         "type": "scattergeo"
        },
        {
         "lat": [
          42.354092679541026,
          42.35459026182861
         ],
         "line": {
          "color": "blue",
          "width": 1
         },
         "lon": [
          -71.05865560485466,
          -71.0518409205751
         ],
         "mode": "lines",
         "type": "scattergeo"
        },
        {
         "lat": [
          42.354092679541026,
          42.35838943093695
         ],
         "line": {
          "color": "blue",
          "width": 1
         },
         "lon": [
          -71.05865560485466,
          -71.10663119539407
         ],
         "mode": "lines",
         "type": "scattergeo"
        },
        {
         "lat": [
          42.354092679541026,
          42.33077904779031
         ],
         "line": {
          "color": "blue",
          "width": 1
         },
         "lon": [
          -71.05865560485466,
          -71.05555728644288
         ],
         "mode": "lines",
         "type": "scattergeo"
        },
        {
         "lat": [
          42.354092679541026,
          42.35574132001731
         ],
         "line": {
          "color": "blue",
          "width": 1
         },
         "lon": [
          -71.05865560485466,
          -71.05402126263004
         ],
         "mode": "lines",
         "type": "scattergeo"
        },
        {
         "lat": [
          42.354092679541026,
          42.350143266630866
         ],
         "line": {
          "color": "blue",
          "width": 1
         },
         "lon": [
          -71.05865560485466,
          -71.05703680547452
         ],
         "mode": "lines",
         "type": "scattergeo"
        },
        {
         "lat": [
          42.38692828289797,
          42.387646861728214
         ],
         "line": {
          "color": "blue",
          "width": 1
         },
         "lon": [
          -71.10580776951713,
          -71.10051630922396
         ],
         "mode": "lines",
         "type": "scattergeo"
        },
        {
         "lat": [
          42.38692828289797,
          42.39943258898299
         ],
         "line": {
          "color": "blue",
          "width": 1
         },
         "lon": [
          -71.10580776951713,
          -71.11716148178346
         ],
         "mode": "lines",
         "type": "scattergeo"
        },
        {
         "lat": [
          42.38692828289797,
          42.372381899935945
         ],
         "line": {
          "color": "blue",
          "width": 1
         },
         "lon": [
          -71.10580776951713,
          -71.10762308660668
         ],
         "mode": "lines",
         "type": "scattergeo"
        },
        {
         "lat": [
          42.2844350221873,
          42.356122370504096
         ],
         "line": {
          "color": "blue",
          "width": 1
         },
         "lon": [
          -71.06497337241484,
          -71.05937370784136
         ],
         "mode": "lines",
         "type": "scattergeo"
        },
        {
         "lat": [
          42.2844350221873,
          42.350143266630866
         ],
         "line": {
          "color": "blue",
          "width": 1
         },
         "lon": [
          -71.06497337241484,
          -71.05703680547452
         ],
         "mode": "lines",
         "type": "scattergeo"
        },
        {
         "lat": [
          42.2844350221873,
          42.278298298912006
         ],
         "line": {
          "color": "blue",
          "width": 1
         },
         "lon": [
          -71.06497337241484,
          -71.06007938536698
         ],
         "mode": "lines",
         "type": "scattergeo"
        },
        {
         "lat": [
          42.28479719228265,
          42.284687728152626
         ],
         "line": {
          "color": "blue",
          "width": 1
         },
         "lon": [
          -70.87951225390577,
          -70.87969515428324
         ],
         "mode": "lines",
         "type": "scattergeo"
        },
        {
         "lat": [
          42.28479719228265,
          42.284852214384
         ],
         "line": {
          "color": "blue",
          "width": 1
         },
         "lon": [
          -70.87951225390577,
          -70.87973561981863
         ],
         "mode": "lines",
         "type": "scattergeo"
        },
        {
         "lat": [
          42.28479719228265,
          42.284852214384
         ],
         "line": {
          "color": "blue",
          "width": 1
         },
         "lon": [
          -70.87951225390577,
          -70.87973561981863
         ],
         "mode": "lines",
         "type": "scattergeo"
        },
        {
         "lat": [
          42.28479719228265,
          42.284852214384
         ],
         "line": {
          "color": "blue",
          "width": 1
         },
         "lon": [
          -70.87951225390577,
          -70.87973561981863
         ],
         "mode": "lines",
         "type": "scattergeo"
        },
        {
         "lat": [
          42.28479719228265,
          42.284852214384
         ],
         "line": {
          "color": "blue",
          "width": 1
         },
         "lon": [
          -70.87951225390577,
          -70.87973561981863
         ],
         "mode": "lines",
         "type": "scattergeo"
        },
        {
         "lat": [
          42.28479719228265,
          42.284852214384
         ],
         "line": {
          "color": "blue",
          "width": 1
         },
         "lon": [
          -70.87951225390577,
          -70.87973561981863
         ],
         "mode": "lines",
         "type": "scattergeo"
        },
        {
         "lat": [
          42.28479719228265,
          42.284852214384
         ],
         "line": {
          "color": "blue",
          "width": 1
         },
         "lon": [
          -70.87951225390577,
          -70.87973561981863
         ],
         "mode": "lines",
         "type": "scattergeo"
        },
        {
         "lat": [
          42.28479719228265,
          42.356122370504096
         ],
         "line": {
          "color": "blue",
          "width": 1
         },
         "lon": [
          -70.87951225390577,
          -71.05937370784136
         ],
         "mode": "lines",
         "type": "scattergeo"
        },
        {
         "lat": [
          42.28479719228265,
          42.28666100376121
         ],
         "line": {
          "color": "blue",
          "width": 1
         },
         "lon": [
          -70.87951225390577,
          -70.87955110214068
         ],
         "mode": "lines",
         "type": "scattergeo"
        },
        {
         "lat": [
          42.334739570392436,
          42.350143266630866
         ],
         "line": {
          "color": "blue",
          "width": 1
         },
         "lon": [
          -71.03195665403791,
          -71.05703680547452
         ],
         "mode": "lines",
         "type": "scattergeo"
        },
        {
         "lat": [
          42.334739570392436,
          42.257711401594214
         ],
         "line": {
          "color": "blue",
          "width": 1
         },
         "lon": [
          -71.03195665403791,
          -71.00877265296344
         ],
         "mode": "lines",
         "type": "scattergeo"
        },
        {
         "lat": [
          42.39386778194585,
          42.38924526303799
         ],
         "line": {
          "color": "blue",
          "width": 1
         },
         "lon": [
          -71.07850521214704,
          -71.09313059662361
         ],
         "mode": "lines",
         "type": "scattergeo"
        },
        {
         "lat": [
          42.39386778194585,
          42.387646861728214
         ],
         "line": {
          "color": "blue",
          "width": 1
         },
         "lon": [
          -71.07850521214704,
          -71.10051630922396
         ],
         "mode": "lines",
         "type": "scattergeo"
        },
        {
         "lat": [
          42.39386778194585,
          42.40839032224402
         ],
         "line": {
          "color": "blue",
          "width": 1
         },
         "lon": [
          -71.07850521214704,
          -70.99878539000247
         ],
         "mode": "lines",
         "type": "scattergeo"
        },
        {
         "lat": [
          42.39386778194585,
          42.416453257988366
         ],
         "line": {
          "color": "blue",
          "width": 1
         },
         "lon": [
          -71.07850521214704,
          -71.11660127360028
         ],
         "mode": "lines",
         "type": "scattergeo"
        },
        {
         "lat": [
          42.33772904203399,
          42.339875666956424
         ],
         "line": {
          "color": "blue",
          "width": 1
         },
         "lon": [
          -71.13403023078473,
          -71.1282627576395
         ],
         "mode": "lines",
         "type": "scattergeo"
        },
        {
         "lat": [
          42.33772904203399,
          42.35815247910236
         ],
         "line": {
          "color": "blue",
          "width": 1
         },
         "lon": [
          -71.13403023078473,
          -71.05946107561675
         ],
         "mode": "lines",
         "type": "scattergeo"
        },
        {
         "lat": [
          42.33772904203399,
          42.356122370504096
         ],
         "line": {
          "color": "blue",
          "width": 1
         },
         "lon": [
          -71.13403023078473,
          -71.05937370784136
         ],
         "mode": "lines",
         "type": "scattergeo"
        },
        {
         "lat": [
          42.33772904203399,
          42.36424454107258
         ],
         "line": {
          "color": "blue",
          "width": 1
         },
         "lon": [
          -71.13403023078473,
          -71.05719970057697
         ],
         "mode": "lines",
         "type": "scattergeo"
        },
        {
         "lat": [
          42.401900351632094,
          42.39943258898299
         ],
         "line": {
          "color": "blue",
          "width": 1
         },
         "lon": [
          -71.119677277128,
          -71.11716148178346
         ],
         "mode": "lines",
         "type": "scattergeo"
        },
        {
         "lat": [
          42.35815247910236,
          42.36594803677225
         ],
         "line": {
          "color": "blue",
          "width": 1
         },
         "lon": [
          -71.05946107561675,
          -71.05278831785023
         ],
         "mode": "lines",
         "type": "scattergeo"
        },
        {
         "lat": [
          42.35815247910236,
          42.356122370504096
         ],
         "line": {
          "color": "blue",
          "width": 1
         },
         "lon": [
          -71.05946107561675,
          -71.05937370784136
         ],
         "mode": "lines",
         "type": "scattergeo"
        },
        {
         "lat": [
          42.35815247910236,
          42.36424454107258
         ],
         "line": {
          "color": "blue",
          "width": 1
         },
         "lon": [
          -71.05946107561675,
          -71.05719970057697
         ],
         "mode": "lines",
         "type": "scattergeo"
        },
        {
         "lat": [
          42.35815247910236,
          42.35074534382176
         ],
         "line": {
          "color": "blue",
          "width": 1
         },
         "lon": [
          -71.05946107561675,
          -71.05950030191781
         ],
         "mode": "lines",
         "type": "scattergeo"
        },
        {
         "lat": [
          42.35815247910236,
          42.35574132001731
         ],
         "line": {
          "color": "blue",
          "width": 1
         },
         "lon": [
          -71.05946107561675,
          -71.05402126263004
         ],
         "mode": "lines",
         "type": "scattergeo"
        },
        {
         "lat": [
          42.35815247910236,
          42.350143266630866
         ],
         "line": {
          "color": "blue",
          "width": 1
         },
         "lon": [
          -71.05946107561675,
          -71.05703680547452
         ],
         "mode": "lines",
         "type": "scattergeo"
        },
        {
         "lat": [
          42.33893588934812,
          42.341293212365024
         ],
         "line": {
          "color": "blue",
          "width": 1
         },
         "lon": [
          -71.08009051470742,
          -71.08215301005254
         ],
         "mode": "lines",
         "type": "scattergeo"
        },
        {
         "lat": [
          42.39943258898299,
          42.387646861728214
         ],
         "line": {
          "color": "blue",
          "width": 1
         },
         "lon": [
          -71.11716148178346,
          -71.10051630922396
         ],
         "mode": "lines",
         "type": "scattergeo"
        },
        {
         "lat": [
          42.39943258898299,
          42.39290080439988
         ],
         "line": {
          "color": "blue",
          "width": 1
         },
         "lon": [
          -71.11716148178346,
          -71.11636019035012
         ],
         "mode": "lines",
         "type": "scattergeo"
        },
        {
         "lat": [
          42.39943258898299,
          42.384822692554906
         ],
         "line": {
          "color": "blue",
          "width": 1
         },
         "lon": [
          -71.11716148178346,
          -71.1663165596363
         ],
         "mode": "lines",
         "type": "scattergeo"
        },
        {
         "lat": [
          42.39943258898299,
          42.37810709017599
         ],
         "line": {
          "color": "blue",
          "width": 1
         },
         "lon": [
          -71.11716148178346,
          -71.14062766942976
         ],
         "mode": "lines",
         "type": "scattergeo"
        },
        {
         "lat": [
          42.39943258898299,
          42.39356586810918
         ],
         "line": {
          "color": "blue",
          "width": 1
         },
         "lon": [
          -71.11716148178346,
          -71.11021255871054
         ],
         "mode": "lines",
         "type": "scattergeo"
        },
        {
         "lat": [
          42.39943258898299,
          42.39337618115969
         ],
         "line": {
          "color": "blue",
          "width": 1
         },
         "lon": [
          -71.11716148178346,
          -71.13289924826404
         ],
         "mode": "lines",
         "type": "scattergeo"
        },
        {
         "lat": [
          42.339875666956424,
          42.32080456151986
         ],
         "line": {
          "color": "blue",
          "width": 1
         },
         "lon": [
          -71.1282627576395,
          -71.11211456544578
         ],
         "mode": "lines",
         "type": "scattergeo"
        },
        {
         "lat": [
          42.339875666956424,
          42.3292915558667
         ],
         "line": {
          "color": "blue",
          "width": 1
         },
         "lon": [
          -71.1282627576395,
          -71.12538889802346
         ],
         "mode": "lines",
         "type": "scattergeo"
        },
        {
         "lat": [
          42.37291776022968,
          42.36425838174556
         ],
         "line": {
          "color": "blue",
          "width": 1
         },
         "lon": [
          -71.11996126734232,
          -71.10915783545272
         ],
         "mode": "lines",
         "type": "scattergeo"
        },
        {
         "lat": [
          42.37291776022968,
          42.354621663299945
         ],
         "line": {
          "color": "blue",
          "width": 1
         },
         "lon": [
          -71.11996126734232,
          -71.13870616301386
         ],
         "mode": "lines",
         "type": "scattergeo"
        },
        {
         "lat": [
          42.37291776022968,
          42.360863024211085
         ],
         "line": {
          "color": "blue",
          "width": 1
         },
         "lon": [
          -71.11996126734232,
          -71.10220450741502
         ],
         "mode": "lines",
         "type": "scattergeo"
        },
        {
         "lat": [
          42.39290080439988,
          42.39337618115969
         ],
         "line": {
          "color": "blue",
          "width": 1
         },
         "lon": [
          -71.11636019035012,
          -71.13289924826404
         ],
         "mode": "lines",
         "type": "scattergeo"
        },
        {
         "lat": [
          42.26072214523669,
          42.350143266630866
         ],
         "line": {
          "color": "blue",
          "width": 1
         },
         "lon": [
          -71.02169167918231,
          -71.05703680547452
         ],
         "mode": "lines",
         "type": "scattergeo"
        },
        {
         "lat": [
          42.26072214523669,
          42.26483535919734
         ],
         "line": {
          "color": "blue",
          "width": 1
         },
         "lon": [
          -71.02169167918231,
          -71.01264391328328
         ],
         "mode": "lines",
         "type": "scattergeo"
        },
        {
         "lat": [
          42.341293212365024,
          42.350143266630866
         ],
         "line": {
          "color": "blue",
          "width": 1
         },
         "lon": [
          -71.08215301005254,
          -71.05703680547452
         ],
         "mode": "lines",
         "type": "scattergeo"
        },
        {
         "lat": [
          42.360863024211085,
          42.36425838174556
         ],
         "line": {
          "color": "blue",
          "width": 1
         },
         "lon": [
          -71.10220450741502,
          -71.10915783545272
         ],
         "mode": "lines",
         "type": "scattergeo"
        },
        {
         "lat": [
          42.360863024211085,
          42.35838943093695
         ],
         "line": {
          "color": "blue",
          "width": 1
         },
         "lon": [
          -71.10220450741502,
          -71.10663119539407
         ],
         "mode": "lines",
         "type": "scattergeo"
        },
        {
         "lat": [
          42.284852214384,
          42.284687728152626
         ],
         "line": {
          "color": "blue",
          "width": 1
         },
         "lon": [
          -70.87973561981863,
          -70.87969515428324
         ],
         "mode": "lines",
         "type": "scattergeo"
        },
        {
         "lat": [
          42.284852214384,
          42.284852214384
         ],
         "line": {
          "color": "blue",
          "width": 1
         },
         "lon": [
          -70.87973561981863,
          -70.87973561981863
         ],
         "mode": "lines",
         "type": "scattergeo"
        },
        {
         "lat": [
          42.284852214384,
          42.284852214384
         ],
         "line": {
          "color": "blue",
          "width": 1
         },
         "lon": [
          -70.87973561981863,
          -70.87973561981863
         ],
         "mode": "lines",
         "type": "scattergeo"
        },
        {
         "lat": [
          42.284852214384,
          42.284852214384
         ],
         "line": {
          "color": "blue",
          "width": 1
         },
         "lon": [
          -70.87973561981863,
          -70.87973561981863
         ],
         "mode": "lines",
         "type": "scattergeo"
        },
        {
         "lat": [
          42.284852214384,
          42.284852214384
         ],
         "line": {
          "color": "blue",
          "width": 1
         },
         "lon": [
          -70.87973561981863,
          -70.87973561981863
         ],
         "mode": "lines",
         "type": "scattergeo"
        },
        {
         "lat": [
          42.284852214384,
          42.284852214384
         ],
         "line": {
          "color": "blue",
          "width": 1
         },
         "lon": [
          -70.87973561981863,
          -70.87973561981863
         ],
         "mode": "lines",
         "type": "scattergeo"
        },
        {
         "lat": [
          42.284852214384,
          42.284687728152626
         ],
         "line": {
          "color": "blue",
          "width": 1
         },
         "lon": [
          -70.87973561981863,
          -70.87969515428324
         ],
         "mode": "lines",
         "type": "scattergeo"
        },
        {
         "lat": [
          42.284852214384,
          42.284852214384
         ],
         "line": {
          "color": "blue",
          "width": 1
         },
         "lon": [
          -70.87973561981863,
          -70.87973561981863
         ],
         "mode": "lines",
         "type": "scattergeo"
        },
        {
         "lat": [
          42.284852214384,
          42.284852214384
         ],
         "line": {
          "color": "blue",
          "width": 1
         },
         "lon": [
          -70.87973561981863,
          -70.87973561981863
         ],
         "mode": "lines",
         "type": "scattergeo"
        },
        {
         "lat": [
          42.284852214384,
          42.284852214384
         ],
         "line": {
          "color": "blue",
          "width": 1
         },
         "lon": [
          -70.87973561981863,
          -70.87973561981863
         ],
         "mode": "lines",
         "type": "scattergeo"
        },
        {
         "lat": [
          42.284852214384,
          42.284852214384
         ],
         "line": {
          "color": "blue",
          "width": 1
         },
         "lon": [
          -70.87973561981863,
          -70.87973561981863
         ],
         "mode": "lines",
         "type": "scattergeo"
        },
        {
         "lat": [
          42.284852214384,
          42.284687728152626
         ],
         "line": {
          "color": "blue",
          "width": 1
         },
         "lon": [
          -70.87973561981863,
          -70.87969515428324
         ],
         "mode": "lines",
         "type": "scattergeo"
        },
        {
         "lat": [
          42.284852214384,
          42.284852214384
         ],
         "line": {
          "color": "blue",
          "width": 1
         },
         "lon": [
          -70.87973561981863,
          -70.87973561981863
         ],
         "mode": "lines",
         "type": "scattergeo"
        },
        {
         "lat": [
          42.284852214384,
          42.284852214384
         ],
         "line": {
          "color": "blue",
          "width": 1
         },
         "lon": [
          -70.87973561981863,
          -70.87973561981863
         ],
         "mode": "lines",
         "type": "scattergeo"
        },
        {
         "lat": [
          42.284852214384,
          42.284852214384
         ],
         "line": {
          "color": "blue",
          "width": 1
         },
         "lon": [
          -70.87973561981863,
          -70.87973561981863
         ],
         "mode": "lines",
         "type": "scattergeo"
        },
        {
         "lat": [
          42.284852214384,
          42.284687728152626
         ],
         "line": {
          "color": "blue",
          "width": 1
         },
         "lon": [
          -70.87973561981863,
          -70.87969515428324
         ],
         "mode": "lines",
         "type": "scattergeo"
        },
        {
         "lat": [
          42.284852214384,
          42.284852214384
         ],
         "line": {
          "color": "blue",
          "width": 1
         },
         "lon": [
          -70.87973561981863,
          -70.87973561981863
         ],
         "mode": "lines",
         "type": "scattergeo"
        },
        {
         "lat": [
          42.284852214384,
          42.284852214384
         ],
         "line": {
          "color": "blue",
          "width": 1
         },
         "lon": [
          -70.87973561981863,
          -70.87973561981863
         ],
         "mode": "lines",
         "type": "scattergeo"
        },
        {
         "lat": [
          42.284852214384,
          42.284687728152626
         ],
         "line": {
          "color": "blue",
          "width": 1
         },
         "lon": [
          -70.87973561981863,
          -70.87969515428324
         ],
         "mode": "lines",
         "type": "scattergeo"
        },
        {
         "lat": [
          42.284852214384,
          42.284852214384
         ],
         "line": {
          "color": "blue",
          "width": 1
         },
         "lon": [
          -70.87973561981863,
          -70.87973561981863
         ],
         "mode": "lines",
         "type": "scattergeo"
        },
        {
         "lat": [
          42.284852214384,
          42.284687728152626
         ],
         "line": {
          "color": "blue",
          "width": 1
         },
         "lon": [
          -70.87973561981863,
          -70.87969515428324
         ],
         "mode": "lines",
         "type": "scattergeo"
        },
        {
         "lat": [
          42.35574132001731,
          42.356122370504096
         ],
         "line": {
          "color": "blue",
          "width": 1
         },
         "lon": [
          -71.05402126263004,
          -71.05937370784136
         ],
         "mode": "lines",
         "type": "scattergeo"
        },
        {
         "lat": [
          42.35574132001731,
          42.35459026182861
         ],
         "line": {
          "color": "blue",
          "width": 1
         },
         "lon": [
          -71.05402126263004,
          -71.0518409205751
         ],
         "mode": "lines",
         "type": "scattergeo"
        },
        {
         "lat": [
          42.35459026182861,
          42.356122370504096
         ],
         "line": {
          "color": "blue",
          "width": 1
         },
         "lon": [
          -71.0518409205751,
          -71.05937370784136
         ],
         "mode": "lines",
         "type": "scattergeo"
        },
        {
         "lat": [
          42.35459026182861,
          42.35074534382176
         ],
         "line": {
          "color": "blue",
          "width": 1
         },
         "lon": [
          -71.0518409205751,
          -71.05950030191781
         ],
         "mode": "lines",
         "type": "scattergeo"
        },
        {
         "lat": [
          42.35459026182861,
          42.350143266630866
         ],
         "line": {
          "color": "blue",
          "width": 1
         },
         "lon": [
          -71.0518409205751,
          -71.05703680547452
         ],
         "mode": "lines",
         "type": "scattergeo"
        },
        {
         "lat": [
          42.35838943093695,
          42.36425838174556
         ],
         "line": {
          "color": "blue",
          "width": 1
         },
         "lon": [
          -71.10663119539407,
          -71.10915783545272
         ],
         "mode": "lines",
         "type": "scattergeo"
        },
        {
         "lat": [
          42.35838943093695,
          42.387646861728214
         ],
         "line": {
          "color": "blue",
          "width": 1
         },
         "lon": [
          -71.10663119539407,
          -71.10051630922396
         ],
         "mode": "lines",
         "type": "scattergeo"
        },
        {
         "lat": [
          42.35838943093695,
          42.356122370504096
         ],
         "line": {
          "color": "blue",
          "width": 1
         },
         "lon": [
          -71.10663119539407,
          -71.05937370784136
         ],
         "mode": "lines",
         "type": "scattergeo"
        },
        {
         "lat": [
          42.33077904779031,
          42.350143266630866
         ],
         "line": {
          "color": "blue",
          "width": 1
         },
         "lon": [
          -71.05555728644288,
          -71.05703680547452
         ],
         "mode": "lines",
         "type": "scattergeo"
        },
        {
         "lat": [
          42.35074534382176,
          42.356122370504096
         ],
         "line": {
          "color": "blue",
          "width": 1
         },
         "lon": [
          -71.05950030191781,
          -71.05937370784136
         ],
         "mode": "lines",
         "type": "scattergeo"
        },
        {
         "lat": [
          42.35074534382176,
          42.350143266630866
         ],
         "line": {
          "color": "blue",
          "width": 1
         },
         "lon": [
          -71.05950030191781,
          -71.05703680547452
         ],
         "mode": "lines",
         "type": "scattergeo"
        },
        {
         "lat": [
          42.356122370504096,
          42.36594803677225
         ],
         "line": {
          "color": "blue",
          "width": 1
         },
         "lon": [
          -71.05937370784136,
          -71.05278831785023
         ],
         "mode": "lines",
         "type": "scattergeo"
        },
        {
         "lat": [
          42.356122370504096,
          42.36424454107258
         ],
         "line": {
          "color": "blue",
          "width": 1
         },
         "lon": [
          -71.05937370784136,
          -71.05719970057697
         ],
         "mode": "lines",
         "type": "scattergeo"
        },
        {
         "lat": [
          42.356122370504096,
          42.350143266630866
         ],
         "line": {
          "color": "blue",
          "width": 1
         },
         "lon": [
          -71.05937370784136,
          -71.05703680547452
         ],
         "mode": "lines",
         "type": "scattergeo"
        },
        {
         "lat": [
          42.356122370504096,
          42.36617386761112
         ],
         "line": {
          "color": "blue",
          "width": 1
         },
         "lon": [
          -71.05937370784136,
          -71.03917378493242
         ],
         "mode": "lines",
         "type": "scattergeo"
        },
        {
         "lat": [
          42.41024687459465,
          42.387646861728214
         ],
         "line": {
          "color": "blue",
          "width": 1
         },
         "lon": [
          -71.11840888121947,
          -71.10051630922396
         ],
         "mode": "lines",
         "type": "scattergeo"
        },
        {
         "lat": [
          42.41024687459465,
          42.416453257988366
         ],
         "line": {
          "color": "blue",
          "width": 1
         },
         "lon": [
          -71.11840888121947,
          -71.11660127360028
         ],
         "mode": "lines",
         "type": "scattergeo"
        },
        {
         "lat": [
          42.36594803677225,
          42.36424454107258
         ],
         "line": {
          "color": "blue",
          "width": 1
         },
         "lon": [
          -71.05278831785023,
          -71.05719970057697
         ],
         "mode": "lines",
         "type": "scattergeo"
        },
        {
         "lat": [
          42.33561081380296,
          42.350143266630866
         ],
         "line": {
          "color": "blue",
          "width": 1
         },
         "lon": [
          -71.04688668772411,
          -71.05703680547452
         ],
         "mode": "lines",
         "type": "scattergeo"
        },
        {
         "lat": [
          42.257711401594214,
          42.26483535919734
         ],
         "line": {
          "color": "blue",
          "width": 1
         },
         "lon": [
          -71.00877265296344,
          -71.01264391328328
         ],
         "mode": "lines",
         "type": "scattergeo"
        },
        {
         "lat": [
          42.257711401594214,
          42.350143266630866
         ],
         "line": {
          "color": "blue",
          "width": 1
         },
         "lon": [
          -71.00877265296344,
          -71.05703680547452
         ],
         "mode": "lines",
         "type": "scattergeo"
        },
        {
         "lat": [
          42.41933538851051,
          42.387646861728214
         ],
         "line": {
          "color": "blue",
          "width": 1
         },
         "lon": [
          -71.08720985374924,
          -71.10051630922396
         ],
         "mode": "lines",
         "type": "scattergeo"
        },
        {
         "lat": [
          42.350143266630866,
          42.36424454107258
         ],
         "line": {
          "color": "blue",
          "width": 1
         },
         "lon": [
          -71.05703680547452,
          -71.05719970057697
         ],
         "mode": "lines",
         "type": "scattergeo"
        },
        {
         "lat": [
          42.350143266630866,
          42.36617386761112
         ],
         "line": {
          "color": "blue",
          "width": 1
         },
         "lon": [
          -71.05703680547452,
          -71.03917378493242
         ],
         "mode": "lines",
         "type": "scattergeo"
        },
        {
         "lat": [
          42.350143266630866,
          42.28666100376121
         ],
         "line": {
          "color": "blue",
          "width": 1
         },
         "lon": [
          -71.05703680547452,
          -70.87955110214068
         ],
         "mode": "lines",
         "type": "scattergeo"
        },
        {
         "lat": [
          42.36424454107258,
          42.36617386761112
         ],
         "line": {
          "color": "blue",
          "width": 1
         },
         "lon": [
          -71.05719970057697,
          -71.03917378493242
         ],
         "mode": "lines",
         "type": "scattergeo"
        },
        {
         "lat": [
          42.387646861728214,
          42.38924526303799
         ],
         "line": {
          "color": "blue",
          "width": 1
         },
         "lon": [
          -71.10051630922396,
          -71.09313059662361
         ],
         "mode": "lines",
         "type": "scattergeo"
        }
       ],
       "layout": {
        "geo": {
         "countrycolor": "rgb(204, 204, 204)",
         "landcolor": "rgb(243, 243, 243)",
         "projection": {
          "type": "azimuthal equal area"
         },
         "scope": "north america",
         "showland": true
        },
        "showlegend": false,
        "template": {
         "data": {
          "bar": [
           {
            "error_x": {
             "color": "#2a3f5f"
            },
            "error_y": {
             "color": "#2a3f5f"
            },
            "marker": {
             "line": {
              "color": "#E5ECF6",
              "width": 0.5
             }
            },
            "type": "bar"
           }
          ],
          "barpolar": [
           {
            "marker": {
             "line": {
              "color": "#E5ECF6",
              "width": 0.5
             }
            },
            "type": "barpolar"
           }
          ],
          "carpet": [
           {
            "aaxis": {
             "endlinecolor": "#2a3f5f",
             "gridcolor": "white",
             "linecolor": "white",
             "minorgridcolor": "white",
             "startlinecolor": "#2a3f5f"
            },
            "baxis": {
             "endlinecolor": "#2a3f5f",
             "gridcolor": "white",
             "linecolor": "white",
             "minorgridcolor": "white",
             "startlinecolor": "#2a3f5f"
            },
            "type": "carpet"
           }
          ],
          "choropleth": [
           {
            "colorbar": {
             "outlinewidth": 0,
             "ticks": ""
            },
            "type": "choropleth"
           }
          ],
          "contour": [
           {
            "colorbar": {
             "outlinewidth": 0,
             "ticks": ""
            },
            "colorscale": [
             [
              0,
              "#0d0887"
             ],
             [
              0.1111111111111111,
              "#46039f"
             ],
             [
              0.2222222222222222,
              "#7201a8"
             ],
             [
              0.3333333333333333,
              "#9c179e"
             ],
             [
              0.4444444444444444,
              "#bd3786"
             ],
             [
              0.5555555555555556,
              "#d8576b"
             ],
             [
              0.6666666666666666,
              "#ed7953"
             ],
             [
              0.7777777777777778,
              "#fb9f3a"
             ],
             [
              0.8888888888888888,
              "#fdca26"
             ],
             [
              1,
              "#f0f921"
             ]
            ],
            "type": "contour"
           }
          ],
          "contourcarpet": [
           {
            "colorbar": {
             "outlinewidth": 0,
             "ticks": ""
            },
            "type": "contourcarpet"
           }
          ],
          "heatmap": [
           {
            "colorbar": {
             "outlinewidth": 0,
             "ticks": ""
            },
            "colorscale": [
             [
              0,
              "#0d0887"
             ],
             [
              0.1111111111111111,
              "#46039f"
             ],
             [
              0.2222222222222222,
              "#7201a8"
             ],
             [
              0.3333333333333333,
              "#9c179e"
             ],
             [
              0.4444444444444444,
              "#bd3786"
             ],
             [
              0.5555555555555556,
              "#d8576b"
             ],
             [
              0.6666666666666666,
              "#ed7953"
             ],
             [
              0.7777777777777778,
              "#fb9f3a"
             ],
             [
              0.8888888888888888,
              "#fdca26"
             ],
             [
              1,
              "#f0f921"
             ]
            ],
            "type": "heatmap"
           }
          ],
          "heatmapgl": [
           {
            "colorbar": {
             "outlinewidth": 0,
             "ticks": ""
            },
            "colorscale": [
             [
              0,
              "#0d0887"
             ],
             [
              0.1111111111111111,
              "#46039f"
             ],
             [
              0.2222222222222222,
              "#7201a8"
             ],
             [
              0.3333333333333333,
              "#9c179e"
             ],
             [
              0.4444444444444444,
              "#bd3786"
             ],
             [
              0.5555555555555556,
              "#d8576b"
             ],
             [
              0.6666666666666666,
              "#ed7953"
             ],
             [
              0.7777777777777778,
              "#fb9f3a"
             ],
             [
              0.8888888888888888,
              "#fdca26"
             ],
             [
              1,
              "#f0f921"
             ]
            ],
            "type": "heatmapgl"
           }
          ],
          "histogram": [
           {
            "marker": {
             "colorbar": {
              "outlinewidth": 0,
              "ticks": ""
             }
            },
            "type": "histogram"
           }
          ],
          "histogram2d": [
           {
            "colorbar": {
             "outlinewidth": 0,
             "ticks": ""
            },
            "colorscale": [
             [
              0,
              "#0d0887"
             ],
             [
              0.1111111111111111,
              "#46039f"
             ],
             [
              0.2222222222222222,
              "#7201a8"
             ],
             [
              0.3333333333333333,
              "#9c179e"
             ],
             [
              0.4444444444444444,
              "#bd3786"
             ],
             [
              0.5555555555555556,
              "#d8576b"
             ],
             [
              0.6666666666666666,
              "#ed7953"
             ],
             [
              0.7777777777777778,
              "#fb9f3a"
             ],
             [
              0.8888888888888888,
              "#fdca26"
             ],
             [
              1,
              "#f0f921"
             ]
            ],
            "type": "histogram2d"
           }
          ],
          "histogram2dcontour": [
           {
            "colorbar": {
             "outlinewidth": 0,
             "ticks": ""
            },
            "colorscale": [
             [
              0,
              "#0d0887"
             ],
             [
              0.1111111111111111,
              "#46039f"
             ],
             [
              0.2222222222222222,
              "#7201a8"
             ],
             [
              0.3333333333333333,
              "#9c179e"
             ],
             [
              0.4444444444444444,
              "#bd3786"
             ],
             [
              0.5555555555555556,
              "#d8576b"
             ],
             [
              0.6666666666666666,
              "#ed7953"
             ],
             [
              0.7777777777777778,
              "#fb9f3a"
             ],
             [
              0.8888888888888888,
              "#fdca26"
             ],
             [
              1,
              "#f0f921"
             ]
            ],
            "type": "histogram2dcontour"
           }
          ],
          "mesh3d": [
           {
            "colorbar": {
             "outlinewidth": 0,
             "ticks": ""
            },
            "type": "mesh3d"
           }
          ],
          "parcoords": [
           {
            "line": {
             "colorbar": {
              "outlinewidth": 0,
              "ticks": ""
             }
            },
            "type": "parcoords"
           }
          ],
          "scatter": [
           {
            "marker": {
             "colorbar": {
              "outlinewidth": 0,
              "ticks": ""
             }
            },
            "type": "scatter"
           }
          ],
          "scatter3d": [
           {
            "line": {
             "colorbar": {
              "outlinewidth": 0,
              "ticks": ""
             }
            },
            "marker": {
             "colorbar": {
              "outlinewidth": 0,
              "ticks": ""
             }
            },
            "type": "scatter3d"
           }
          ],
          "scattercarpet": [
           {
            "marker": {
             "colorbar": {
              "outlinewidth": 0,
              "ticks": ""
             }
            },
            "type": "scattercarpet"
           }
          ],
          "scattergeo": [
           {
            "marker": {
             "colorbar": {
              "outlinewidth": 0,
              "ticks": ""
             }
            },
            "type": "scattergeo"
           }
          ],
          "scattergl": [
           {
            "marker": {
             "colorbar": {
              "outlinewidth": 0,
              "ticks": ""
             }
            },
            "type": "scattergl"
           }
          ],
          "scattermapbox": [
           {
            "marker": {
             "colorbar": {
              "outlinewidth": 0,
              "ticks": ""
             }
            },
            "type": "scattermapbox"
           }
          ],
          "scatterpolar": [
           {
            "marker": {
             "colorbar": {
              "outlinewidth": 0,
              "ticks": ""
             }
            },
            "type": "scatterpolar"
           }
          ],
          "scatterpolargl": [
           {
            "marker": {
             "colorbar": {
              "outlinewidth": 0,
              "ticks": ""
             }
            },
            "type": "scatterpolargl"
           }
          ],
          "scatterternary": [
           {
            "marker": {
             "colorbar": {
              "outlinewidth": 0,
              "ticks": ""
             }
            },
            "type": "scatterternary"
           }
          ],
          "surface": [
           {
            "colorbar": {
             "outlinewidth": 0,
             "ticks": ""
            },
            "colorscale": [
             [
              0,
              "#0d0887"
             ],
             [
              0.1111111111111111,
              "#46039f"
             ],
             [
              0.2222222222222222,
              "#7201a8"
             ],
             [
              0.3333333333333333,
              "#9c179e"
             ],
             [
              0.4444444444444444,
              "#bd3786"
             ],
             [
              0.5555555555555556,
              "#d8576b"
             ],
             [
              0.6666666666666666,
              "#ed7953"
             ],
             [
              0.7777777777777778,
              "#fb9f3a"
             ],
             [
              0.8888888888888888,
              "#fdca26"
             ],
             [
              1,
              "#f0f921"
             ]
            ],
            "type": "surface"
           }
          ],
          "table": [
           {
            "cells": {
             "fill": {
              "color": "#EBF0F8"
             },
             "line": {
              "color": "white"
             }
            },
            "header": {
             "fill": {
              "color": "#C8D4E3"
             },
             "line": {
              "color": "white"
             }
            },
            "type": "table"
           }
          ]
         },
         "layout": {
          "annotationdefaults": {
           "arrowcolor": "#2a3f5f",
           "arrowhead": 0,
           "arrowwidth": 1
          },
          "colorscale": {
           "diverging": [
            [
             0,
             "#8e0152"
            ],
            [
             0.1,
             "#c51b7d"
            ],
            [
             0.2,
             "#de77ae"
            ],
            [
             0.3,
             "#f1b6da"
            ],
            [
             0.4,
             "#fde0ef"
            ],
            [
             0.5,
             "#f7f7f7"
            ],
            [
             0.6,
             "#e6f5d0"
            ],
            [
             0.7,
             "#b8e186"
            ],
            [
             0.8,
             "#7fbc41"
            ],
            [
             0.9,
             "#4d9221"
            ],
            [
             1,
             "#276419"
            ]
           ],
           "sequential": [
            [
             0,
             "#0d0887"
            ],
            [
             0.1111111111111111,
             "#46039f"
            ],
            [
             0.2222222222222222,
             "#7201a8"
            ],
            [
             0.3333333333333333,
             "#9c179e"
            ],
            [
             0.4444444444444444,
             "#bd3786"
            ],
            [
             0.5555555555555556,
             "#d8576b"
            ],
            [
             0.6666666666666666,
             "#ed7953"
            ],
            [
             0.7777777777777778,
             "#fb9f3a"
            ],
            [
             0.8888888888888888,
             "#fdca26"
            ],
            [
             1,
             "#f0f921"
            ]
           ],
           "sequentialminus": [
            [
             0,
             "#0d0887"
            ],
            [
             0.1111111111111111,
             "#46039f"
            ],
            [
             0.2222222222222222,
             "#7201a8"
            ],
            [
             0.3333333333333333,
             "#9c179e"
            ],
            [
             0.4444444444444444,
             "#bd3786"
            ],
            [
             0.5555555555555556,
             "#d8576b"
            ],
            [
             0.6666666666666666,
             "#ed7953"
            ],
            [
             0.7777777777777778,
             "#fb9f3a"
            ],
            [
             0.8888888888888888,
             "#fdca26"
            ],
            [
             1,
             "#f0f921"
            ]
           ]
          },
          "colorway": [
           "#636efa",
           "#EF553B",
           "#00cc96",
           "#ab63fa",
           "#FFA15A",
           "#19d3f3",
           "#FF6692",
           "#B6E880",
           "#FF97FF",
           "#FECB52"
          ],
          "font": {
           "color": "#2a3f5f"
          },
          "geo": {
           "bgcolor": "white",
           "lakecolor": "white",
           "landcolor": "#E5ECF6",
           "showlakes": true,
           "showland": true,
           "subunitcolor": "white"
          },
          "hoverlabel": {
           "align": "left"
          },
          "hovermode": "closest",
          "mapbox": {
           "style": "light"
          },
          "paper_bgcolor": "white",
          "plot_bgcolor": "#E5ECF6",
          "polar": {
           "angularaxis": {
            "gridcolor": "white",
            "linecolor": "white",
            "ticks": ""
           },
           "bgcolor": "#E5ECF6",
           "radialaxis": {
            "gridcolor": "white",
            "linecolor": "white",
            "ticks": ""
           }
          },
          "scene": {
           "xaxis": {
            "backgroundcolor": "#E5ECF6",
            "gridcolor": "white",
            "gridwidth": 2,
            "linecolor": "white",
            "showbackground": true,
            "ticks": "",
            "zerolinecolor": "white"
           },
           "yaxis": {
            "backgroundcolor": "#E5ECF6",
            "gridcolor": "white",
            "gridwidth": 2,
            "linecolor": "white",
            "showbackground": true,
            "ticks": "",
            "zerolinecolor": "white"
           },
           "zaxis": {
            "backgroundcolor": "#E5ECF6",
            "gridcolor": "white",
            "gridwidth": 2,
            "linecolor": "white",
            "showbackground": true,
            "ticks": "",
            "zerolinecolor": "white"
           }
          },
          "shapedefaults": {
           "line": {
            "color": "#2a3f5f"
           }
          },
          "ternary": {
           "aaxis": {
            "gridcolor": "white",
            "linecolor": "white",
            "ticks": ""
           },
           "baxis": {
            "gridcolor": "white",
            "linecolor": "white",
            "ticks": ""
           },
           "bgcolor": "#E5ECF6",
           "caxis": {
            "gridcolor": "white",
            "linecolor": "white",
            "ticks": ""
           }
          },
          "title": {
           "x": 0.05
          },
          "xaxis": {
           "automargin": true,
           "gridcolor": "white",
           "linecolor": "white",
           "ticks": "",
           "zerolinecolor": "white",
           "zerolinewidth": 2
          },
          "yaxis": {
           "automargin": true,
           "gridcolor": "white",
           "linecolor": "white",
           "ticks": "",
           "zerolinecolor": "white",
           "zerolinewidth": 2
          }
         }
        },
        "title": {
         "text": "Connectivity for boston"
        }
       }
      },
      "text/html": [
       "<div>\n",
       "        \n",
       "        \n",
       "            <div id=\"c0a45ff5-b0de-4937-9b7e-608de6504387\" class=\"plotly-graph-div\" style=\"height:525px; width:100%;\"></div>\n",
       "            <script type=\"text/javascript\">\n",
       "                require([\"plotly\"], function(Plotly) {\n",
       "                    window.PLOTLYENV=window.PLOTLYENV || {};\n",
       "                    \n",
       "                if (document.getElementById(\"c0a45ff5-b0de-4937-9b7e-608de6504387\")) {\n",
       "                    Plotly.newPlot(\n",
       "                        'c0a45ff5-b0de-4937-9b7e-608de6504387',\n",
       "                        [{\"hoverinfo\": \"text\", \"lat\": [42.3364329096909, 42.34564071980456, 42.34593746797057, 42.38249268945399, 42.34210116337201, 42.28496167876716, 42.33490544089794, 42.399380571985986, 42.354092679541026, 42.38692828289797, 42.2844350221873, 42.28479719228265, 42.334739570392436, 42.39386778194585, 42.278298298912006, 42.33772904203399, 42.401900351632094, 42.35815247910236, 42.33893588934812, 42.39943258898299, 42.339875666956424, 42.37291776022968, 42.39290080439988, 42.26072214523669, 42.341293212365024, 42.360863024211085, 42.284852214384, 42.284852214384, 42.284852214384, 42.284852214384, 42.284852214384, 42.284852214384, 42.372381899935945, 42.37810709017599, 42.35574132001731, 42.35459026182861, 42.35838943093695, 42.33077904779031, 42.35074534382176, 42.356122370504096, 42.41024687459465, 42.284687728152626, 42.40839032224402, 42.36425838174556, 42.3292915558667, 42.36594803677225, 42.33561081380296, 42.257711401594214, 42.41933538851051, 42.39356586810918, 42.350143266630866, 42.354621663299945, 42.384822692554906, 42.36424454107258, 42.36617386761112, 42.387646861728214, 42.28666100376121, 42.26483535919734, 42.416453257988366, 42.39337618115969, 42.32080456151986, 42.38924526303799], \"locationmode\": \"USA-states\", \"lon\": [-71.04835325355748, -71.06326905318093, -71.14997780376456, -71.09459207277507, -71.14690739568448, -70.87955271887495, -71.02821498603856, -71.11441155138579, -71.05865560485466, -71.10580776951713, -71.06497337241484, -70.87951225390577, -71.03195665403791, -71.07850521214704, -71.06007938536698, -71.13403023078473, -71.119677277128, -71.05946107561675, -71.08009051470742, -71.11716148178346, -71.1282627576395, -71.11996126734232, -71.11636019035012, -71.02169167918231, -71.08215301005254, -71.10220450741502, -70.87973561981863, -70.87973561981863, -70.87973561981863, -70.87973561981863, -70.87973561981863, -70.87973561981863, -71.10762308660668, -71.14062766942976, -71.05402126263004, -71.0518409205751, -71.10663119539407, -71.05555728644288, -71.05950030191781, -71.05937370784136, -71.11840888121947, -70.87969515428324, -70.99878539000247, -71.10915783545272, -71.12538889802346, -71.05278831785023, -71.04688668772411, -71.00877265296344, -71.08720985374924, -71.11021255871054, -71.05703680547452, -71.13870616301386, -71.1663165596363, -71.05719970057697, -71.03917378493242, -71.10051630922396, -70.87955110214068, -71.01264391328328, -71.11660127360028, -71.13289924826404, -71.11211456544578, -71.09313059662361], \"marker\": {\"color\": \"red\", \"size\": 10, \"symbol\": \"hexagon-dot\"}, \"mode\": \"markers\", \"text\": [\"bright-aquamarine-seal\", \"sweet-citron-stork\", \"dandy-ruby-yeti\", \"gorgeous-chambray-turtle\", \"hidden-pastel-wasp\", \"mini-cloth-ape\", \"fierce-tan-mongoose\", \"bent-ceramic-chipmunk\", \"muscular-pastel-squid\", \"late-mint-gazelle\", \"short-shadow-panda\", \"innocent-tweed-wolverine\", \"cheery-cloud-guppy\", \"daring-caramel-shark\", \"virtual-cornflower-mammoth\", \"cheesy-brick-mustang\", \"creamy-fern-coyote\", \"fit-myrtle-gibbon\", \"upbeat-currant-mouse\", \"salty-scarlet-finch\", \"kind-boysenberry-seahorse\", \"sunny-pearl-badger\", \"nice-iris-gerbil\", \"fluffy-aqua-stallion\", \"perfect-chartreuse-butterfly\", \"loud-seafoam-mink\", \"hollow-jade-hare\", \"damp-scarlet-squirrel\", \"custom-tartan-sparrow\", \"unique-cobalt-stallion\", \"broad-holographic-beetle\", \"real-gauze-loris\", \"acrobatic-golden-parakeet\", \"amusing-topaz-dalmatian\", \"chilly-azure-scorpion\", \"soft-clay-tiger\", \"straight-ginger-tadpole\", \"scrawny-sable-cat\", \"spicy-opaque-sloth\", \"small-chili-leopard\", \"short-amber-cricket\", \"fun-pink-kangaroo\", \"vast-lead-chipmunk\", \"proper-carob-giraffe\", \"sneaky-plum-bird\", \"crazy-zinc-rook\", \"interesting-tortilla-armadillo\", \"stale-arctic-panther\", \"immense-paisley-moose\", \"rural-rosewood-wallaby\", \"short-graphite-terrier\", \"innocent-chili-toad\", \"stable-currant-hornet\", \"slow-flaxen-locust\", \"massive-pastel-pheasant\", \"high-cloud-elk\", \"stale-citron-stork\", \"harsh-citron-spider\", \"old-gingham-llama\", \"original-sandstone-elephant\", \"blurry-velvet-shark\", \"fit-cornflower-turkey\"], \"type\": \"scattergeo\"}, {\"lat\": [42.3364329096909, 42.350143266630866], \"line\": {\"color\": \"blue\", \"width\": 1}, \"lon\": [-71.04835325355748, -71.05703680547452], \"mode\": \"lines\", \"type\": \"scattergeo\"}, {\"lat\": [42.3364329096909, 42.33561081380296], \"line\": {\"color\": \"blue\", \"width\": 1}, \"lon\": [-71.04835325355748, -71.04688668772411], \"mode\": \"lines\", \"type\": \"scattergeo\"}, {\"lat\": [42.3364329096909, 42.33077904779031], \"line\": {\"color\": \"blue\", \"width\": 1}, \"lon\": [-71.04835325355748, -71.05555728644288], \"mode\": \"lines\", \"type\": \"scattergeo\"}, {\"lat\": [42.34564071980456, 42.356122370504096], \"line\": {\"color\": \"blue\", \"width\": 1}, \"lon\": [-71.06326905318093, -71.05937370784136], \"mode\": \"lines\", \"type\": \"scattergeo\"}, {\"lat\": [42.34564071980456, 42.33561081380296], \"line\": {\"color\": \"blue\", \"width\": 1}, \"lon\": [-71.06326905318093, -71.04688668772411], \"mode\": \"lines\", \"type\": \"scattergeo\"}, {\"lat\": [42.34564071980456, 42.33077904779031], \"line\": {\"color\": \"blue\", \"width\": 1}, \"lon\": [-71.06326905318093, -71.05555728644288], \"mode\": \"lines\", \"type\": \"scattergeo\"}, {\"lat\": [42.34564071980456, 42.350143266630866], \"line\": {\"color\": \"blue\", \"width\": 1}, \"lon\": [-71.06326905318093, -71.05703680547452], \"mode\": \"lines\", \"type\": \"scattergeo\"}, {\"lat\": [42.34564071980456, 42.33893588934812], \"line\": {\"color\": \"blue\", \"width\": 1}, \"lon\": [-71.06326905318093, -71.08009051470742], \"mode\": \"lines\", \"type\": \"scattergeo\"}, {\"lat\": [42.34564071980456, 42.35074534382176], \"line\": {\"color\": \"blue\", \"width\": 1}, \"lon\": [-71.06326905318093, -71.05950030191781], \"mode\": \"lines\", \"type\": \"scattergeo\"}, {\"lat\": [42.34564071980456, 42.354092679541026], \"line\": {\"color\": \"blue\", \"width\": 1}, \"lon\": [-71.06326905318093, -71.05865560485466], \"mode\": \"lines\", \"type\": \"scattergeo\"}, {\"lat\": [42.34593746797057, 42.26072214523669], \"line\": {\"color\": \"blue\", \"width\": 1}, \"lon\": [-71.14997780376456, -71.02169167918231], \"mode\": \"lines\", \"type\": \"scattergeo\"}, {\"lat\": [42.34593746797057, 42.26483535919734], \"line\": {\"color\": \"blue\", \"width\": 1}, \"lon\": [-71.14997780376456, -71.01264391328328], \"mode\": \"lines\", \"type\": \"scattergeo\"}, {\"lat\": [42.34593746797057, 42.334739570392436], \"line\": {\"color\": \"blue\", \"width\": 1}, \"lon\": [-71.14997780376456, -71.03195665403791], \"mode\": \"lines\", \"type\": \"scattergeo\"}, {\"lat\": [42.34593746797057, 42.350143266630866], \"line\": {\"color\": \"blue\", \"width\": 1}, \"lon\": [-71.14997780376456, -71.05703680547452], \"mode\": \"lines\", \"type\": \"scattergeo\"}, {\"lat\": [42.38249268945399, 42.387646861728214], \"line\": {\"color\": \"blue\", \"width\": 1}, \"lon\": [-71.09459207277507, -71.10051630922396], \"mode\": \"lines\", \"type\": \"scattergeo\"}, {\"lat\": [42.38249268945399, 42.38692828289797], \"line\": {\"color\": \"blue\", \"width\": 1}, \"lon\": [-71.09459207277507, -71.10580776951713], \"mode\": \"lines\", \"type\": \"scattergeo\"}, {\"lat\": [42.34210116337201, 42.33772904203399], \"line\": {\"color\": \"blue\", \"width\": 1}, \"lon\": [-71.14690739568448, -71.13403023078473], \"mode\": \"lines\", \"type\": \"scattergeo\"}, {\"lat\": [42.28496167876716, 42.28479719228265], \"line\": {\"color\": \"blue\", \"width\": 1}, \"lon\": [-70.87955271887495, -70.87951225390577], \"mode\": \"lines\", \"type\": \"scattergeo\"}, {\"lat\": [42.28496167876716, 42.28666100376121], \"line\": {\"color\": \"blue\", \"width\": 1}, \"lon\": [-70.87955271887495, -70.87955110214068], \"mode\": \"lines\", \"type\": \"scattergeo\"}, {\"lat\": [42.33490544089794, 42.334739570392436], \"line\": {\"color\": \"blue\", \"width\": 1}, \"lon\": [-71.02821498603856, -71.03195665403791], \"mode\": \"lines\", \"type\": \"scattergeo\"}, {\"lat\": [42.399380571985986, 42.39290080439988], \"line\": {\"color\": \"blue\", \"width\": 1}, \"lon\": [-71.11441155138579, -71.11636019035012], \"mode\": \"lines\", \"type\": \"scattergeo\"}, {\"lat\": [42.399380571985986, 42.401900351632094], \"line\": {\"color\": \"blue\", \"width\": 1}, \"lon\": [-71.11441155138579, -71.119677277128], \"mode\": \"lines\", \"type\": \"scattergeo\"}, {\"lat\": [42.399380571985986, 42.41024687459465], \"line\": {\"color\": \"blue\", \"width\": 1}, \"lon\": [-71.11441155138579, -71.11840888121947], \"mode\": \"lines\", \"type\": \"scattergeo\"}, {\"lat\": [42.399380571985986, 42.39356586810918], \"line\": {\"color\": \"blue\", \"width\": 1}, \"lon\": [-71.11441155138579, -71.11021255871054], \"mode\": \"lines\", \"type\": \"scattergeo\"}, {\"lat\": [42.399380571985986, 42.39943258898299], \"line\": {\"color\": \"blue\", \"width\": 1}, \"lon\": [-71.11441155138579, -71.11716148178346], \"mode\": \"lines\", \"type\": \"scattergeo\"}, {\"lat\": [42.354092679541026, 42.33772904203399], \"line\": {\"color\": \"blue\", \"width\": 1}, \"lon\": [-71.05865560485466, -71.13403023078473], \"mode\": \"lines\", \"type\": \"scattergeo\"}, {\"lat\": [42.354092679541026, 42.356122370504096], \"line\": {\"color\": \"blue\", \"width\": 1}, \"lon\": [-71.05865560485466, -71.05937370784136], \"mode\": \"lines\", \"type\": \"scattergeo\"}, {\"lat\": [42.354092679541026, 42.387646861728214], \"line\": {\"color\": \"blue\", \"width\": 1}, \"lon\": [-71.05865560485466, -71.10051630922396], \"mode\": \"lines\", \"type\": \"scattergeo\"}, {\"lat\": [42.354092679541026, 42.35815247910236], \"line\": {\"color\": \"blue\", \"width\": 1}, \"lon\": [-71.05865560485466, -71.05946107561675], \"mode\": \"lines\", \"type\": \"scattergeo\"}, {\"lat\": [42.354092679541026, 42.35074534382176], \"line\": {\"color\": \"blue\", \"width\": 1}, \"lon\": [-71.05865560485466, -71.05950030191781], \"mode\": \"lines\", \"type\": \"scattergeo\"}, {\"lat\": [42.354092679541026, 42.36424454107258], \"line\": {\"color\": \"blue\", \"width\": 1}, \"lon\": [-71.05865560485466, -71.05719970057697], \"mode\": \"lines\", \"type\": \"scattergeo\"}, {\"lat\": [42.354092679541026, 42.2844350221873], \"line\": {\"color\": \"blue\", \"width\": 1}, \"lon\": [-71.05865560485466, -71.06497337241484], \"mode\": \"lines\", \"type\": \"scattergeo\"}, {\"lat\": [42.354092679541026, 42.36594803677225], \"line\": {\"color\": \"blue\", \"width\": 1}, \"lon\": [-71.05865560485466, -71.05278831785023], \"mode\": \"lines\", \"type\": \"scattergeo\"}, {\"lat\": [42.354092679541026, 42.35459026182861], \"line\": {\"color\": \"blue\", \"width\": 1}, \"lon\": [-71.05865560485466, -71.0518409205751], \"mode\": \"lines\", \"type\": \"scattergeo\"}, {\"lat\": [42.354092679541026, 42.35838943093695], \"line\": {\"color\": \"blue\", \"width\": 1}, \"lon\": [-71.05865560485466, -71.10663119539407], \"mode\": \"lines\", \"type\": \"scattergeo\"}, {\"lat\": [42.354092679541026, 42.33077904779031], \"line\": {\"color\": \"blue\", \"width\": 1}, \"lon\": [-71.05865560485466, -71.05555728644288], \"mode\": \"lines\", \"type\": \"scattergeo\"}, {\"lat\": [42.354092679541026, 42.35574132001731], \"line\": {\"color\": \"blue\", \"width\": 1}, \"lon\": [-71.05865560485466, -71.05402126263004], \"mode\": \"lines\", \"type\": \"scattergeo\"}, {\"lat\": [42.354092679541026, 42.350143266630866], \"line\": {\"color\": \"blue\", \"width\": 1}, \"lon\": [-71.05865560485466, -71.05703680547452], \"mode\": \"lines\", \"type\": \"scattergeo\"}, {\"lat\": [42.38692828289797, 42.387646861728214], \"line\": {\"color\": \"blue\", \"width\": 1}, \"lon\": [-71.10580776951713, -71.10051630922396], \"mode\": \"lines\", \"type\": \"scattergeo\"}, {\"lat\": [42.38692828289797, 42.39943258898299], \"line\": {\"color\": \"blue\", \"width\": 1}, \"lon\": [-71.10580776951713, -71.11716148178346], \"mode\": \"lines\", \"type\": \"scattergeo\"}, {\"lat\": [42.38692828289797, 42.372381899935945], \"line\": {\"color\": \"blue\", \"width\": 1}, \"lon\": [-71.10580776951713, -71.10762308660668], \"mode\": \"lines\", \"type\": \"scattergeo\"}, {\"lat\": [42.2844350221873, 42.356122370504096], \"line\": {\"color\": \"blue\", \"width\": 1}, \"lon\": [-71.06497337241484, -71.05937370784136], \"mode\": \"lines\", \"type\": \"scattergeo\"}, {\"lat\": [42.2844350221873, 42.350143266630866], \"line\": {\"color\": \"blue\", \"width\": 1}, \"lon\": [-71.06497337241484, -71.05703680547452], \"mode\": \"lines\", \"type\": \"scattergeo\"}, {\"lat\": [42.2844350221873, 42.278298298912006], \"line\": {\"color\": \"blue\", \"width\": 1}, \"lon\": [-71.06497337241484, -71.06007938536698], \"mode\": \"lines\", \"type\": \"scattergeo\"}, {\"lat\": [42.28479719228265, 42.284687728152626], \"line\": {\"color\": \"blue\", \"width\": 1}, \"lon\": [-70.87951225390577, -70.87969515428324], \"mode\": \"lines\", \"type\": \"scattergeo\"}, {\"lat\": [42.28479719228265, 42.284852214384], \"line\": {\"color\": \"blue\", \"width\": 1}, \"lon\": [-70.87951225390577, -70.87973561981863], \"mode\": \"lines\", \"type\": \"scattergeo\"}, {\"lat\": [42.28479719228265, 42.284852214384], \"line\": {\"color\": \"blue\", \"width\": 1}, \"lon\": [-70.87951225390577, -70.87973561981863], \"mode\": \"lines\", \"type\": \"scattergeo\"}, {\"lat\": [42.28479719228265, 42.284852214384], \"line\": {\"color\": \"blue\", \"width\": 1}, \"lon\": [-70.87951225390577, -70.87973561981863], \"mode\": \"lines\", \"type\": \"scattergeo\"}, {\"lat\": [42.28479719228265, 42.284852214384], \"line\": {\"color\": \"blue\", \"width\": 1}, \"lon\": [-70.87951225390577, -70.87973561981863], \"mode\": \"lines\", \"type\": \"scattergeo\"}, {\"lat\": [42.28479719228265, 42.284852214384], \"line\": {\"color\": \"blue\", \"width\": 1}, \"lon\": [-70.87951225390577, -70.87973561981863], \"mode\": \"lines\", \"type\": \"scattergeo\"}, {\"lat\": [42.28479719228265, 42.284852214384], \"line\": {\"color\": \"blue\", \"width\": 1}, \"lon\": [-70.87951225390577, -70.87973561981863], \"mode\": \"lines\", \"type\": \"scattergeo\"}, {\"lat\": [42.28479719228265, 42.356122370504096], \"line\": {\"color\": \"blue\", \"width\": 1}, \"lon\": [-70.87951225390577, -71.05937370784136], \"mode\": \"lines\", \"type\": \"scattergeo\"}, {\"lat\": [42.28479719228265, 42.28666100376121], \"line\": {\"color\": \"blue\", \"width\": 1}, \"lon\": [-70.87951225390577, -70.87955110214068], \"mode\": \"lines\", \"type\": \"scattergeo\"}, {\"lat\": [42.334739570392436, 42.350143266630866], \"line\": {\"color\": \"blue\", \"width\": 1}, \"lon\": [-71.03195665403791, -71.05703680547452], \"mode\": \"lines\", \"type\": \"scattergeo\"}, {\"lat\": [42.334739570392436, 42.257711401594214], \"line\": {\"color\": \"blue\", \"width\": 1}, \"lon\": [-71.03195665403791, -71.00877265296344], \"mode\": \"lines\", \"type\": \"scattergeo\"}, {\"lat\": [42.39386778194585, 42.38924526303799], \"line\": {\"color\": \"blue\", \"width\": 1}, \"lon\": [-71.07850521214704, -71.09313059662361], \"mode\": \"lines\", \"type\": \"scattergeo\"}, {\"lat\": [42.39386778194585, 42.387646861728214], \"line\": {\"color\": \"blue\", \"width\": 1}, \"lon\": [-71.07850521214704, -71.10051630922396], \"mode\": \"lines\", \"type\": \"scattergeo\"}, {\"lat\": [42.39386778194585, 42.40839032224402], \"line\": {\"color\": \"blue\", \"width\": 1}, \"lon\": [-71.07850521214704, -70.99878539000247], \"mode\": \"lines\", \"type\": \"scattergeo\"}, {\"lat\": [42.39386778194585, 42.416453257988366], \"line\": {\"color\": \"blue\", \"width\": 1}, \"lon\": [-71.07850521214704, -71.11660127360028], \"mode\": \"lines\", \"type\": \"scattergeo\"}, {\"lat\": [42.33772904203399, 42.339875666956424], \"line\": {\"color\": \"blue\", \"width\": 1}, \"lon\": [-71.13403023078473, -71.1282627576395], \"mode\": \"lines\", \"type\": \"scattergeo\"}, {\"lat\": [42.33772904203399, 42.35815247910236], \"line\": {\"color\": \"blue\", \"width\": 1}, \"lon\": [-71.13403023078473, -71.05946107561675], \"mode\": \"lines\", \"type\": \"scattergeo\"}, {\"lat\": [42.33772904203399, 42.356122370504096], \"line\": {\"color\": \"blue\", \"width\": 1}, \"lon\": [-71.13403023078473, -71.05937370784136], \"mode\": \"lines\", \"type\": \"scattergeo\"}, {\"lat\": [42.33772904203399, 42.36424454107258], \"line\": {\"color\": \"blue\", \"width\": 1}, \"lon\": [-71.13403023078473, -71.05719970057697], \"mode\": \"lines\", \"type\": \"scattergeo\"}, {\"lat\": [42.401900351632094, 42.39943258898299], \"line\": {\"color\": \"blue\", \"width\": 1}, \"lon\": [-71.119677277128, -71.11716148178346], \"mode\": \"lines\", \"type\": \"scattergeo\"}, {\"lat\": [42.35815247910236, 42.36594803677225], \"line\": {\"color\": \"blue\", \"width\": 1}, \"lon\": [-71.05946107561675, -71.05278831785023], \"mode\": \"lines\", \"type\": \"scattergeo\"}, {\"lat\": [42.35815247910236, 42.356122370504096], \"line\": {\"color\": \"blue\", \"width\": 1}, \"lon\": [-71.05946107561675, -71.05937370784136], \"mode\": \"lines\", \"type\": \"scattergeo\"}, {\"lat\": [42.35815247910236, 42.36424454107258], \"line\": {\"color\": \"blue\", \"width\": 1}, \"lon\": [-71.05946107561675, -71.05719970057697], \"mode\": \"lines\", \"type\": \"scattergeo\"}, {\"lat\": [42.35815247910236, 42.35074534382176], \"line\": {\"color\": \"blue\", \"width\": 1}, \"lon\": [-71.05946107561675, -71.05950030191781], \"mode\": \"lines\", \"type\": \"scattergeo\"}, {\"lat\": [42.35815247910236, 42.35574132001731], \"line\": {\"color\": \"blue\", \"width\": 1}, \"lon\": [-71.05946107561675, -71.05402126263004], \"mode\": \"lines\", \"type\": \"scattergeo\"}, {\"lat\": [42.35815247910236, 42.350143266630866], \"line\": {\"color\": \"blue\", \"width\": 1}, \"lon\": [-71.05946107561675, -71.05703680547452], \"mode\": \"lines\", \"type\": \"scattergeo\"}, {\"lat\": [42.33893588934812, 42.341293212365024], \"line\": {\"color\": \"blue\", \"width\": 1}, \"lon\": [-71.08009051470742, -71.08215301005254], \"mode\": \"lines\", \"type\": \"scattergeo\"}, {\"lat\": [42.39943258898299, 42.387646861728214], \"line\": {\"color\": \"blue\", \"width\": 1}, \"lon\": [-71.11716148178346, -71.10051630922396], \"mode\": \"lines\", \"type\": \"scattergeo\"}, {\"lat\": [42.39943258898299, 42.39290080439988], \"line\": {\"color\": \"blue\", \"width\": 1}, \"lon\": [-71.11716148178346, -71.11636019035012], \"mode\": \"lines\", \"type\": \"scattergeo\"}, {\"lat\": [42.39943258898299, 42.384822692554906], \"line\": {\"color\": \"blue\", \"width\": 1}, \"lon\": [-71.11716148178346, -71.1663165596363], \"mode\": \"lines\", \"type\": \"scattergeo\"}, {\"lat\": [42.39943258898299, 42.37810709017599], \"line\": {\"color\": \"blue\", \"width\": 1}, \"lon\": [-71.11716148178346, -71.14062766942976], \"mode\": \"lines\", \"type\": \"scattergeo\"}, {\"lat\": [42.39943258898299, 42.39356586810918], \"line\": {\"color\": \"blue\", \"width\": 1}, \"lon\": [-71.11716148178346, -71.11021255871054], \"mode\": \"lines\", \"type\": \"scattergeo\"}, {\"lat\": [42.39943258898299, 42.39337618115969], \"line\": {\"color\": \"blue\", \"width\": 1}, \"lon\": [-71.11716148178346, -71.13289924826404], \"mode\": \"lines\", \"type\": \"scattergeo\"}, {\"lat\": [42.339875666956424, 42.32080456151986], \"line\": {\"color\": \"blue\", \"width\": 1}, \"lon\": [-71.1282627576395, -71.11211456544578], \"mode\": \"lines\", \"type\": \"scattergeo\"}, {\"lat\": [42.339875666956424, 42.3292915558667], \"line\": {\"color\": \"blue\", \"width\": 1}, \"lon\": [-71.1282627576395, -71.12538889802346], \"mode\": \"lines\", \"type\": \"scattergeo\"}, {\"lat\": [42.37291776022968, 42.36425838174556], \"line\": {\"color\": \"blue\", \"width\": 1}, \"lon\": [-71.11996126734232, -71.10915783545272], \"mode\": \"lines\", \"type\": \"scattergeo\"}, {\"lat\": [42.37291776022968, 42.354621663299945], \"line\": {\"color\": \"blue\", \"width\": 1}, \"lon\": [-71.11996126734232, -71.13870616301386], \"mode\": \"lines\", \"type\": \"scattergeo\"}, {\"lat\": [42.37291776022968, 42.360863024211085], \"line\": {\"color\": \"blue\", \"width\": 1}, \"lon\": [-71.11996126734232, -71.10220450741502], \"mode\": \"lines\", \"type\": \"scattergeo\"}, {\"lat\": [42.39290080439988, 42.39337618115969], \"line\": {\"color\": \"blue\", \"width\": 1}, \"lon\": [-71.11636019035012, -71.13289924826404], \"mode\": \"lines\", \"type\": \"scattergeo\"}, {\"lat\": [42.26072214523669, 42.350143266630866], \"line\": {\"color\": \"blue\", \"width\": 1}, \"lon\": [-71.02169167918231, -71.05703680547452], \"mode\": \"lines\", \"type\": \"scattergeo\"}, {\"lat\": [42.26072214523669, 42.26483535919734], \"line\": {\"color\": \"blue\", \"width\": 1}, \"lon\": [-71.02169167918231, -71.01264391328328], \"mode\": \"lines\", \"type\": \"scattergeo\"}, {\"lat\": [42.341293212365024, 42.350143266630866], \"line\": {\"color\": \"blue\", \"width\": 1}, \"lon\": [-71.08215301005254, -71.05703680547452], \"mode\": \"lines\", \"type\": \"scattergeo\"}, {\"lat\": [42.360863024211085, 42.36425838174556], \"line\": {\"color\": \"blue\", \"width\": 1}, \"lon\": [-71.10220450741502, -71.10915783545272], \"mode\": \"lines\", \"type\": \"scattergeo\"}, {\"lat\": [42.360863024211085, 42.35838943093695], \"line\": {\"color\": \"blue\", \"width\": 1}, \"lon\": [-71.10220450741502, -71.10663119539407], \"mode\": \"lines\", \"type\": \"scattergeo\"}, {\"lat\": [42.284852214384, 42.284687728152626], \"line\": {\"color\": \"blue\", \"width\": 1}, \"lon\": [-70.87973561981863, -70.87969515428324], \"mode\": \"lines\", \"type\": \"scattergeo\"}, {\"lat\": [42.284852214384, 42.284852214384], \"line\": {\"color\": \"blue\", \"width\": 1}, \"lon\": [-70.87973561981863, -70.87973561981863], \"mode\": \"lines\", \"type\": \"scattergeo\"}, {\"lat\": [42.284852214384, 42.284852214384], \"line\": {\"color\": \"blue\", \"width\": 1}, \"lon\": [-70.87973561981863, -70.87973561981863], \"mode\": \"lines\", \"type\": \"scattergeo\"}, {\"lat\": [42.284852214384, 42.284852214384], \"line\": {\"color\": \"blue\", \"width\": 1}, \"lon\": [-70.87973561981863, -70.87973561981863], \"mode\": \"lines\", \"type\": \"scattergeo\"}, {\"lat\": [42.284852214384, 42.284852214384], \"line\": {\"color\": \"blue\", \"width\": 1}, \"lon\": [-70.87973561981863, -70.87973561981863], \"mode\": \"lines\", \"type\": \"scattergeo\"}, {\"lat\": [42.284852214384, 42.284852214384], \"line\": {\"color\": \"blue\", \"width\": 1}, \"lon\": [-70.87973561981863, -70.87973561981863], \"mode\": \"lines\", \"type\": \"scattergeo\"}, {\"lat\": [42.284852214384, 42.284687728152626], \"line\": {\"color\": \"blue\", \"width\": 1}, \"lon\": [-70.87973561981863, -70.87969515428324], \"mode\": \"lines\", \"type\": \"scattergeo\"}, {\"lat\": [42.284852214384, 42.284852214384], \"line\": {\"color\": \"blue\", \"width\": 1}, \"lon\": [-70.87973561981863, -70.87973561981863], \"mode\": \"lines\", \"type\": \"scattergeo\"}, {\"lat\": [42.284852214384, 42.284852214384], \"line\": {\"color\": \"blue\", \"width\": 1}, \"lon\": [-70.87973561981863, -70.87973561981863], \"mode\": \"lines\", \"type\": \"scattergeo\"}, {\"lat\": [42.284852214384, 42.284852214384], \"line\": {\"color\": \"blue\", \"width\": 1}, \"lon\": [-70.87973561981863, -70.87973561981863], \"mode\": \"lines\", \"type\": \"scattergeo\"}, {\"lat\": [42.284852214384, 42.284852214384], \"line\": {\"color\": \"blue\", \"width\": 1}, \"lon\": [-70.87973561981863, -70.87973561981863], \"mode\": \"lines\", \"type\": \"scattergeo\"}, {\"lat\": [42.284852214384, 42.284687728152626], \"line\": {\"color\": \"blue\", \"width\": 1}, \"lon\": [-70.87973561981863, -70.87969515428324], \"mode\": \"lines\", \"type\": \"scattergeo\"}, {\"lat\": [42.284852214384, 42.284852214384], \"line\": {\"color\": \"blue\", \"width\": 1}, \"lon\": [-70.87973561981863, -70.87973561981863], \"mode\": \"lines\", \"type\": \"scattergeo\"}, {\"lat\": [42.284852214384, 42.284852214384], \"line\": {\"color\": \"blue\", \"width\": 1}, \"lon\": [-70.87973561981863, -70.87973561981863], \"mode\": \"lines\", \"type\": \"scattergeo\"}, {\"lat\": [42.284852214384, 42.284852214384], \"line\": {\"color\": \"blue\", \"width\": 1}, \"lon\": [-70.87973561981863, -70.87973561981863], \"mode\": \"lines\", \"type\": \"scattergeo\"}, {\"lat\": [42.284852214384, 42.284687728152626], \"line\": {\"color\": \"blue\", \"width\": 1}, \"lon\": [-70.87973561981863, -70.87969515428324], \"mode\": \"lines\", \"type\": \"scattergeo\"}, {\"lat\": [42.284852214384, 42.284852214384], \"line\": {\"color\": \"blue\", \"width\": 1}, \"lon\": [-70.87973561981863, -70.87973561981863], \"mode\": \"lines\", \"type\": \"scattergeo\"}, {\"lat\": [42.284852214384, 42.284852214384], \"line\": {\"color\": \"blue\", \"width\": 1}, \"lon\": [-70.87973561981863, -70.87973561981863], \"mode\": \"lines\", \"type\": \"scattergeo\"}, {\"lat\": [42.284852214384, 42.284687728152626], \"line\": {\"color\": \"blue\", \"width\": 1}, \"lon\": [-70.87973561981863, -70.87969515428324], \"mode\": \"lines\", \"type\": \"scattergeo\"}, {\"lat\": [42.284852214384, 42.284852214384], \"line\": {\"color\": \"blue\", \"width\": 1}, \"lon\": [-70.87973561981863, -70.87973561981863], \"mode\": \"lines\", \"type\": \"scattergeo\"}, {\"lat\": [42.284852214384, 42.284687728152626], \"line\": {\"color\": \"blue\", \"width\": 1}, \"lon\": [-70.87973561981863, -70.87969515428324], \"mode\": \"lines\", \"type\": \"scattergeo\"}, {\"lat\": [42.35574132001731, 42.356122370504096], \"line\": {\"color\": \"blue\", \"width\": 1}, \"lon\": [-71.05402126263004, -71.05937370784136], \"mode\": \"lines\", \"type\": \"scattergeo\"}, {\"lat\": [42.35574132001731, 42.35459026182861], \"line\": {\"color\": \"blue\", \"width\": 1}, \"lon\": [-71.05402126263004, -71.0518409205751], \"mode\": \"lines\", \"type\": \"scattergeo\"}, {\"lat\": [42.35459026182861, 42.356122370504096], \"line\": {\"color\": \"blue\", \"width\": 1}, \"lon\": [-71.0518409205751, -71.05937370784136], \"mode\": \"lines\", \"type\": \"scattergeo\"}, {\"lat\": [42.35459026182861, 42.35074534382176], \"line\": {\"color\": \"blue\", \"width\": 1}, \"lon\": [-71.0518409205751, -71.05950030191781], \"mode\": \"lines\", \"type\": \"scattergeo\"}, {\"lat\": [42.35459026182861, 42.350143266630866], \"line\": {\"color\": \"blue\", \"width\": 1}, \"lon\": [-71.0518409205751, -71.05703680547452], \"mode\": \"lines\", \"type\": \"scattergeo\"}, {\"lat\": [42.35838943093695, 42.36425838174556], \"line\": {\"color\": \"blue\", \"width\": 1}, \"lon\": [-71.10663119539407, -71.10915783545272], \"mode\": \"lines\", \"type\": \"scattergeo\"}, {\"lat\": [42.35838943093695, 42.387646861728214], \"line\": {\"color\": \"blue\", \"width\": 1}, \"lon\": [-71.10663119539407, -71.10051630922396], \"mode\": \"lines\", \"type\": \"scattergeo\"}, {\"lat\": [42.35838943093695, 42.356122370504096], \"line\": {\"color\": \"blue\", \"width\": 1}, \"lon\": [-71.10663119539407, -71.05937370784136], \"mode\": \"lines\", \"type\": \"scattergeo\"}, {\"lat\": [42.33077904779031, 42.350143266630866], \"line\": {\"color\": \"blue\", \"width\": 1}, \"lon\": [-71.05555728644288, -71.05703680547452], \"mode\": \"lines\", \"type\": \"scattergeo\"}, {\"lat\": [42.35074534382176, 42.356122370504096], \"line\": {\"color\": \"blue\", \"width\": 1}, \"lon\": [-71.05950030191781, -71.05937370784136], \"mode\": \"lines\", \"type\": \"scattergeo\"}, {\"lat\": [42.35074534382176, 42.350143266630866], \"line\": {\"color\": \"blue\", \"width\": 1}, \"lon\": [-71.05950030191781, -71.05703680547452], \"mode\": \"lines\", \"type\": \"scattergeo\"}, {\"lat\": [42.356122370504096, 42.36594803677225], \"line\": {\"color\": \"blue\", \"width\": 1}, \"lon\": [-71.05937370784136, -71.05278831785023], \"mode\": \"lines\", \"type\": \"scattergeo\"}, {\"lat\": [42.356122370504096, 42.36424454107258], \"line\": {\"color\": \"blue\", \"width\": 1}, \"lon\": [-71.05937370784136, -71.05719970057697], \"mode\": \"lines\", \"type\": \"scattergeo\"}, {\"lat\": [42.356122370504096, 42.350143266630866], \"line\": {\"color\": \"blue\", \"width\": 1}, \"lon\": [-71.05937370784136, -71.05703680547452], \"mode\": \"lines\", \"type\": \"scattergeo\"}, {\"lat\": [42.356122370504096, 42.36617386761112], \"line\": {\"color\": \"blue\", \"width\": 1}, \"lon\": [-71.05937370784136, -71.03917378493242], \"mode\": \"lines\", \"type\": \"scattergeo\"}, {\"lat\": [42.41024687459465, 42.387646861728214], \"line\": {\"color\": \"blue\", \"width\": 1}, \"lon\": [-71.11840888121947, -71.10051630922396], \"mode\": \"lines\", \"type\": \"scattergeo\"}, {\"lat\": [42.41024687459465, 42.416453257988366], \"line\": {\"color\": \"blue\", \"width\": 1}, \"lon\": [-71.11840888121947, -71.11660127360028], \"mode\": \"lines\", \"type\": \"scattergeo\"}, {\"lat\": [42.36594803677225, 42.36424454107258], \"line\": {\"color\": \"blue\", \"width\": 1}, \"lon\": [-71.05278831785023, -71.05719970057697], \"mode\": \"lines\", \"type\": \"scattergeo\"}, {\"lat\": [42.33561081380296, 42.350143266630866], \"line\": {\"color\": \"blue\", \"width\": 1}, \"lon\": [-71.04688668772411, -71.05703680547452], \"mode\": \"lines\", \"type\": \"scattergeo\"}, {\"lat\": [42.257711401594214, 42.26483535919734], \"line\": {\"color\": \"blue\", \"width\": 1}, \"lon\": [-71.00877265296344, -71.01264391328328], \"mode\": \"lines\", \"type\": \"scattergeo\"}, {\"lat\": [42.257711401594214, 42.350143266630866], \"line\": {\"color\": \"blue\", \"width\": 1}, \"lon\": [-71.00877265296344, -71.05703680547452], \"mode\": \"lines\", \"type\": \"scattergeo\"}, {\"lat\": [42.41933538851051, 42.387646861728214], \"line\": {\"color\": \"blue\", \"width\": 1}, \"lon\": [-71.08720985374924, -71.10051630922396], \"mode\": \"lines\", \"type\": \"scattergeo\"}, {\"lat\": [42.350143266630866, 42.36424454107258], \"line\": {\"color\": \"blue\", \"width\": 1}, \"lon\": [-71.05703680547452, -71.05719970057697], \"mode\": \"lines\", \"type\": \"scattergeo\"}, {\"lat\": [42.350143266630866, 42.36617386761112], \"line\": {\"color\": \"blue\", \"width\": 1}, \"lon\": [-71.05703680547452, -71.03917378493242], \"mode\": \"lines\", \"type\": \"scattergeo\"}, {\"lat\": [42.350143266630866, 42.28666100376121], \"line\": {\"color\": \"blue\", \"width\": 1}, \"lon\": [-71.05703680547452, -70.87955110214068], \"mode\": \"lines\", \"type\": \"scattergeo\"}, {\"lat\": [42.36424454107258, 42.36617386761112], \"line\": {\"color\": \"blue\", \"width\": 1}, \"lon\": [-71.05719970057697, -71.03917378493242], \"mode\": \"lines\", \"type\": \"scattergeo\"}, {\"lat\": [42.387646861728214, 42.38924526303799], \"line\": {\"color\": \"blue\", \"width\": 1}, \"lon\": [-71.10051630922396, -71.09313059662361], \"mode\": \"lines\", \"type\": \"scattergeo\"}],\n",
       "                        {\"geo\": {\"countrycolor\": \"rgb(204, 204, 204)\", \"landcolor\": \"rgb(243, 243, 243)\", \"projection\": {\"type\": \"azimuthal equal area\"}, \"scope\": \"north america\", \"showland\": true}, \"showlegend\": false, \"template\": {\"data\": {\"bar\": [{\"error_x\": {\"color\": \"#2a3f5f\"}, \"error_y\": {\"color\": \"#2a3f5f\"}, \"marker\": {\"line\": {\"color\": \"#E5ECF6\", \"width\": 0.5}}, \"type\": \"bar\"}], \"barpolar\": [{\"marker\": {\"line\": {\"color\": \"#E5ECF6\", \"width\": 0.5}}, \"type\": \"barpolar\"}], \"carpet\": [{\"aaxis\": {\"endlinecolor\": \"#2a3f5f\", \"gridcolor\": \"white\", \"linecolor\": \"white\", \"minorgridcolor\": \"white\", \"startlinecolor\": \"#2a3f5f\"}, \"baxis\": {\"endlinecolor\": \"#2a3f5f\", \"gridcolor\": \"white\", \"linecolor\": \"white\", \"minorgridcolor\": \"white\", \"startlinecolor\": \"#2a3f5f\"}, \"type\": \"carpet\"}], \"choropleth\": [{\"colorbar\": {\"outlinewidth\": 0, \"ticks\": \"\"}, \"type\": \"choropleth\"}], \"contour\": [{\"colorbar\": {\"outlinewidth\": 0, \"ticks\": \"\"}, \"colorscale\": [[0.0, \"#0d0887\"], [0.1111111111111111, \"#46039f\"], [0.2222222222222222, \"#7201a8\"], [0.3333333333333333, \"#9c179e\"], [0.4444444444444444, \"#bd3786\"], [0.5555555555555556, \"#d8576b\"], [0.6666666666666666, \"#ed7953\"], [0.7777777777777778, \"#fb9f3a\"], [0.8888888888888888, \"#fdca26\"], [1.0, \"#f0f921\"]], \"type\": \"contour\"}], \"contourcarpet\": [{\"colorbar\": {\"outlinewidth\": 0, \"ticks\": \"\"}, \"type\": \"contourcarpet\"}], \"heatmap\": [{\"colorbar\": {\"outlinewidth\": 0, \"ticks\": \"\"}, \"colorscale\": [[0.0, \"#0d0887\"], [0.1111111111111111, \"#46039f\"], [0.2222222222222222, \"#7201a8\"], [0.3333333333333333, \"#9c179e\"], [0.4444444444444444, \"#bd3786\"], [0.5555555555555556, \"#d8576b\"], [0.6666666666666666, \"#ed7953\"], [0.7777777777777778, \"#fb9f3a\"], [0.8888888888888888, \"#fdca26\"], [1.0, \"#f0f921\"]], \"type\": \"heatmap\"}], \"heatmapgl\": [{\"colorbar\": {\"outlinewidth\": 0, \"ticks\": \"\"}, \"colorscale\": [[0.0, \"#0d0887\"], [0.1111111111111111, \"#46039f\"], [0.2222222222222222, \"#7201a8\"], [0.3333333333333333, \"#9c179e\"], [0.4444444444444444, \"#bd3786\"], [0.5555555555555556, \"#d8576b\"], [0.6666666666666666, \"#ed7953\"], [0.7777777777777778, \"#fb9f3a\"], [0.8888888888888888, \"#fdca26\"], [1.0, \"#f0f921\"]], \"type\": \"heatmapgl\"}], \"histogram\": [{\"marker\": {\"colorbar\": {\"outlinewidth\": 0, \"ticks\": \"\"}}, \"type\": \"histogram\"}], \"histogram2d\": [{\"colorbar\": {\"outlinewidth\": 0, \"ticks\": \"\"}, \"colorscale\": [[0.0, \"#0d0887\"], [0.1111111111111111, \"#46039f\"], [0.2222222222222222, \"#7201a8\"], [0.3333333333333333, \"#9c179e\"], [0.4444444444444444, \"#bd3786\"], [0.5555555555555556, \"#d8576b\"], [0.6666666666666666, \"#ed7953\"], [0.7777777777777778, \"#fb9f3a\"], [0.8888888888888888, \"#fdca26\"], [1.0, \"#f0f921\"]], \"type\": \"histogram2d\"}], \"histogram2dcontour\": [{\"colorbar\": {\"outlinewidth\": 0, \"ticks\": \"\"}, \"colorscale\": [[0.0, \"#0d0887\"], [0.1111111111111111, \"#46039f\"], [0.2222222222222222, \"#7201a8\"], [0.3333333333333333, \"#9c179e\"], [0.4444444444444444, \"#bd3786\"], [0.5555555555555556, \"#d8576b\"], [0.6666666666666666, \"#ed7953\"], [0.7777777777777778, \"#fb9f3a\"], [0.8888888888888888, \"#fdca26\"], [1.0, \"#f0f921\"]], \"type\": \"histogram2dcontour\"}], \"mesh3d\": [{\"colorbar\": {\"outlinewidth\": 0, \"ticks\": \"\"}, \"type\": \"mesh3d\"}], \"parcoords\": [{\"line\": {\"colorbar\": {\"outlinewidth\": 0, \"ticks\": \"\"}}, \"type\": \"parcoords\"}], \"scatter\": [{\"marker\": {\"colorbar\": {\"outlinewidth\": 0, \"ticks\": \"\"}}, \"type\": \"scatter\"}], \"scatter3d\": [{\"line\": {\"colorbar\": {\"outlinewidth\": 0, \"ticks\": \"\"}}, \"marker\": {\"colorbar\": {\"outlinewidth\": 0, \"ticks\": \"\"}}, \"type\": \"scatter3d\"}], \"scattercarpet\": [{\"marker\": {\"colorbar\": {\"outlinewidth\": 0, \"ticks\": \"\"}}, \"type\": \"scattercarpet\"}], \"scattergeo\": [{\"marker\": {\"colorbar\": {\"outlinewidth\": 0, \"ticks\": \"\"}}, \"type\": \"scattergeo\"}], \"scattergl\": [{\"marker\": {\"colorbar\": {\"outlinewidth\": 0, \"ticks\": \"\"}}, \"type\": \"scattergl\"}], \"scattermapbox\": [{\"marker\": {\"colorbar\": {\"outlinewidth\": 0, \"ticks\": \"\"}}, \"type\": \"scattermapbox\"}], \"scatterpolar\": [{\"marker\": {\"colorbar\": {\"outlinewidth\": 0, \"ticks\": \"\"}}, \"type\": \"scatterpolar\"}], \"scatterpolargl\": [{\"marker\": {\"colorbar\": {\"outlinewidth\": 0, \"ticks\": \"\"}}, \"type\": \"scatterpolargl\"}], \"scatterternary\": [{\"marker\": {\"colorbar\": {\"outlinewidth\": 0, \"ticks\": \"\"}}, \"type\": \"scatterternary\"}], \"surface\": [{\"colorbar\": {\"outlinewidth\": 0, \"ticks\": \"\"}, \"colorscale\": [[0.0, \"#0d0887\"], [0.1111111111111111, \"#46039f\"], [0.2222222222222222, \"#7201a8\"], [0.3333333333333333, \"#9c179e\"], [0.4444444444444444, \"#bd3786\"], [0.5555555555555556, \"#d8576b\"], [0.6666666666666666, \"#ed7953\"], [0.7777777777777778, \"#fb9f3a\"], [0.8888888888888888, \"#fdca26\"], [1.0, \"#f0f921\"]], \"type\": \"surface\"}], \"table\": [{\"cells\": {\"fill\": {\"color\": \"#EBF0F8\"}, \"line\": {\"color\": \"white\"}}, \"header\": {\"fill\": {\"color\": \"#C8D4E3\"}, \"line\": {\"color\": \"white\"}}, \"type\": \"table\"}]}, \"layout\": {\"annotationdefaults\": {\"arrowcolor\": \"#2a3f5f\", \"arrowhead\": 0, \"arrowwidth\": 1}, \"colorscale\": {\"diverging\": [[0, \"#8e0152\"], [0.1, \"#c51b7d\"], [0.2, \"#de77ae\"], [0.3, \"#f1b6da\"], [0.4, \"#fde0ef\"], [0.5, \"#f7f7f7\"], [0.6, \"#e6f5d0\"], [0.7, \"#b8e186\"], [0.8, \"#7fbc41\"], [0.9, \"#4d9221\"], [1, \"#276419\"]], \"sequential\": [[0.0, \"#0d0887\"], [0.1111111111111111, \"#46039f\"], [0.2222222222222222, \"#7201a8\"], [0.3333333333333333, \"#9c179e\"], [0.4444444444444444, \"#bd3786\"], [0.5555555555555556, \"#d8576b\"], [0.6666666666666666, \"#ed7953\"], [0.7777777777777778, \"#fb9f3a\"], [0.8888888888888888, \"#fdca26\"], [1.0, \"#f0f921\"]], \"sequentialminus\": [[0.0, \"#0d0887\"], [0.1111111111111111, \"#46039f\"], [0.2222222222222222, \"#7201a8\"], [0.3333333333333333, \"#9c179e\"], [0.4444444444444444, \"#bd3786\"], [0.5555555555555556, \"#d8576b\"], [0.6666666666666666, \"#ed7953\"], [0.7777777777777778, \"#fb9f3a\"], [0.8888888888888888, \"#fdca26\"], [1.0, \"#f0f921\"]]}, \"colorway\": [\"#636efa\", \"#EF553B\", \"#00cc96\", \"#ab63fa\", \"#FFA15A\", \"#19d3f3\", \"#FF6692\", \"#B6E880\", \"#FF97FF\", \"#FECB52\"], \"font\": {\"color\": \"#2a3f5f\"}, \"geo\": {\"bgcolor\": \"white\", \"lakecolor\": \"white\", \"landcolor\": \"#E5ECF6\", \"showlakes\": true, \"showland\": true, \"subunitcolor\": \"white\"}, \"hoverlabel\": {\"align\": \"left\"}, \"hovermode\": \"closest\", \"mapbox\": {\"style\": \"light\"}, \"paper_bgcolor\": \"white\", \"plot_bgcolor\": \"#E5ECF6\", \"polar\": {\"angularaxis\": {\"gridcolor\": \"white\", \"linecolor\": \"white\", \"ticks\": \"\"}, \"bgcolor\": \"#E5ECF6\", \"radialaxis\": {\"gridcolor\": \"white\", \"linecolor\": \"white\", \"ticks\": \"\"}}, \"scene\": {\"xaxis\": {\"backgroundcolor\": \"#E5ECF6\", \"gridcolor\": \"white\", \"gridwidth\": 2, \"linecolor\": \"white\", \"showbackground\": true, \"ticks\": \"\", \"zerolinecolor\": \"white\"}, \"yaxis\": {\"backgroundcolor\": \"#E5ECF6\", \"gridcolor\": \"white\", \"gridwidth\": 2, \"linecolor\": \"white\", \"showbackground\": true, \"ticks\": \"\", \"zerolinecolor\": \"white\"}, \"zaxis\": {\"backgroundcolor\": \"#E5ECF6\", \"gridcolor\": \"white\", \"gridwidth\": 2, \"linecolor\": \"white\", \"showbackground\": true, \"ticks\": \"\", \"zerolinecolor\": \"white\"}}, \"shapedefaults\": {\"line\": {\"color\": \"#2a3f5f\"}}, \"ternary\": {\"aaxis\": {\"gridcolor\": \"white\", \"linecolor\": \"white\", \"ticks\": \"\"}, \"baxis\": {\"gridcolor\": \"white\", \"linecolor\": \"white\", \"ticks\": \"\"}, \"bgcolor\": \"#E5ECF6\", \"caxis\": {\"gridcolor\": \"white\", \"linecolor\": \"white\", \"ticks\": \"\"}}, \"title\": {\"x\": 0.05}, \"xaxis\": {\"automargin\": true, \"gridcolor\": \"white\", \"linecolor\": \"white\", \"ticks\": \"\", \"zerolinecolor\": \"white\", \"zerolinewidth\": 2}, \"yaxis\": {\"automargin\": true, \"gridcolor\": \"white\", \"linecolor\": \"white\", \"ticks\": \"\", \"zerolinecolor\": \"white\", \"zerolinewidth\": 2}}}, \"title\": {\"text\": \"Connectivity for boston\"}},\n",
       "                        {\"responsive\": true}\n",
       "                    ).then(function(){\n",
       "                            \n",
       "var gd = document.getElementById('c0a45ff5-b0de-4937-9b7e-608de6504387');\n",
       "var x = new MutationObserver(function (mutations, observer) {{\n",
       "        var display = window.getComputedStyle(gd).display;\n",
       "        if (!display || display === 'none') {{\n",
       "            console.log([gd, 'removed!']);\n",
       "            Plotly.purge(gd);\n",
       "            observer.disconnect();\n",
       "        }}\n",
       "}});\n",
       "\n",
       "// Listen for the removal of the full notebook cells\n",
       "var notebookContainer = gd.closest('#notebook-container');\n",
       "if (notebookContainer) {{\n",
       "    x.observe(notebookContainer, {childList: true});\n",
       "}}\n",
       "\n",
       "// Listen for the clearing of the current output cell\n",
       "var outputEl = gd.closest('.output');\n",
       "if (outputEl) {{\n",
       "    x.observe(outputEl, {childList: true});\n",
       "}}\n",
       "\n",
       "                        })\n",
       "                };\n",
       "                });\n",
       "            </script>\n",
       "        </div>"
      ]
     },
     "metadata": {},
     "output_type": "display_data"
    }
   ],
   "source": [
    "# for i in range(5, 10):\n",
    "#     plot(G, SCC, i, 'foo')\n",
    "plot(G, SCC, 6, 'boston')"
   ]
  },
  {
   "cell_type": "code",
   "execution_count": null,
   "metadata": {},
   "outputs": [],
   "source": []
  }
 ],
 "metadata": {
  "kernelspec": {
   "display_name": "Python 3",
   "language": "python",
   "name": "python3"
  },
  "language_info": {
   "codemirror_mode": {
    "name": "ipython",
    "version": 3
   },
   "file_extension": ".py",
   "mimetype": "text/x-python",
   "name": "python",
   "nbconvert_exporter": "python",
   "pygments_lexer": "ipython3",
   "version": "3.7.5"
  }
 },
 "nbformat": 4,
 "nbformat_minor": 2
}
